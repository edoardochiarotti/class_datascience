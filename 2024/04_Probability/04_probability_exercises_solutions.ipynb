{
 "cells": [
  {
   "cell_type": "markdown",
   "id": "f331f3b2-fc36-46ed-96a8-66897b24749a",
   "metadata": {},
   "source": [
    "# Probability: Exercises with Solutions"
   ]
  },
  {
   "cell_type": "code",
   "execution_count": 2,
   "id": "f0326aff",
   "metadata": {},
   "outputs": [],
   "source": [
    "# PACKAGES\n",
    "%matplotlib inline\n",
    "import numpy as np\n",
    "import scipy.stats as stats\n",
    "import matplotlib.pyplot as plt\n",
    "import seaborn as sns\n",
    "import random as rd\n",
    "import statistics as st\n",
    "import pandas as pd\n",
    "\n",
    "# SEABORN THEME\n",
    "scale = 0.4\n",
    "W = 16*scale\n",
    "H = 9*scale\n",
    "sns.set(rc = {'figure.figsize':(W,H)})\n",
    "sns.set_style(\"white\")"
   ]
  },
  {
   "cell_type": "markdown",
   "id": "db9db29f-29a3-4439-9c46-25618dc1fa86",
   "metadata": {},
   "source": [
    "Main References:\n",
    "- Resources' notebook [04_Probability.ipynb](https://github.com/edoardochiarotti/class_datascience/blob/main/2023/03_EDA-Visualization/Resources/03_EDA_Data-visualization.ipynb).\n",
    "- A great source to learn probability and Statistics with Python [is this website](https://ethanweed.github.io/pythonbook/landingpage.html) by Weed ands Navarro (translation of Navarro’s book [Learning Statistics with R](https://learningstatisticswithr.com/) in Python). For this Notebook, we borrow from Weed and Navarro's chapters on Statistical Theory. \n",
    "- For more theory in statistics and econometrics, we rely on\n",
    "    - J. Wooldridge, Econometric Analysis of Cross Section and Panel Data, MIT Press, 2002\n",
    "    - William H. Greene, Econometric Analysis, sixth edition, Pearson."
   ]
  },
  {
   "cell_type": "markdown",
   "id": "a7b958ce-d6a4-4ff3-80ff-66855cf271b4",
   "metadata": {},
   "source": [
    "# Content\n",
    "- [Probability: Exercises](#Probability:-Exercises)\n",
    "    - [Exercise 1: Generate data](#Exercise-1:-Generate-data)\n",
    "    - [Exercise 2: Density functions](#Exercise-2:-Density-functions)\n",
    "    - [Exercise 3: The one-sample z-test (unknown mean and known variance)](#Exercise-3:-The-one-sample-z-test-(unknown-mean-and-known-variance))\n",
    "    - [Exercise 4: The one-sample t-test (unknown mean and variance)](#Exercise-4:-The-one-sample-t-test-(unknown-mean-and-variance))"
   ]
  },
  {
   "cell_type": "markdown",
   "id": "17bdbbf4",
   "metadata": {},
   "source": [
    "## Exercise 1: Generate data\n",
    "- As done in in the resources' notebook, generate 100 observations of CO2 emissions per capita. This variable distributes like a Normal with mean 5 tonnes and variance 2  tonnes."
   ]
  },
  {
   "cell_type": "code",
   "execution_count": 3,
   "id": "439b9e9b",
   "metadata": {},
   "outputs": [
    {
     "data": {
      "text/plain": [
       "array([ 4.59058468,  5.95788668,  3.96112257,  3.88853939,  8.93156115,\n",
       "        7.78681167,  5.18581575,  5.56349231,  6.53804514,  7.49286947,\n",
       "        7.01437872,  2.40755778,  5.54998327,  5.45782576,  7.70583367,\n",
       "        6.77285868,  0.99672538,  4.25631493,  8.33805062,  4.12286053,\n",
       "        3.92051711,  5.95397002, 11.49788784,  2.95754495,  3.84582539,\n",
       "        5.24824255,  5.60522712,  6.04754414,  5.00188056,  7.68761959,\n",
       "        3.57291203,  3.33769292,  0.25953669,  1.27847842,  3.2784852 ,\n",
       "        6.12029059,  2.46813102,  5.23965425,  2.8729751 ,  5.66576543,\n",
       "        0.28116239,  4.60091409,  1.91600894,  3.05852818,  2.3859395 ,\n",
       "        5.57269949,  5.75596822,  3.49222693,  5.6625713 ,  7.69948443,\n",
       "        5.13975338,  5.49334822,  4.9762768 ,  7.00962318,  7.65438923,\n",
       "        3.16147688,  1.90178712,  5.0443692 ,  6.51672629,  3.67895134,\n",
       "        6.72516017,  4.9799362 ,  5.10001871,  6.34043119,  6.70593006,\n",
       "        3.0882623 ,  4.95301336,  0.39153224,  3.69506232,  2.56339605,\n",
       "        2.33478058,  7.14924538,  6.44728301,  6.38000371,  7.00308688,\n",
       "        3.99382522,  3.75545155,  3.15766278,  3.54757301,  5.44579109,\n",
       "        5.1026322 ,  2.68456107,  6.63341387,  5.86721921,  7.02147389,\n",
       "        8.64975042,  3.0049635 ,  6.7011822 ,  4.7368448 ,  6.8248283 ,\n",
       "        5.37642136,  9.33892288,  4.77014359,  9.00739472,  5.0592203 ,\n",
       "        6.59050631,  5.23621951,  3.5029369 ,  6.16993948,  5.30535315])"
      ]
     },
     "execution_count": 3,
     "metadata": {},
     "output_type": "execute_result"
    }
   ],
   "source": [
    "# Your code here ...\n",
    "\n",
    "# set seed\n",
    "np.random.seed(seed=12345)\n",
    "\n",
    "# set parameters\n",
    "beta = 5\n",
    "sigma = 2\n",
    "N = 100\n",
    "\n",
    "# generate observations\n",
    "draws_co2 = np.random.normal(loc = beta, scale = sigma, size=N)\n",
    "draws_co2"
   ]
  },
  {
   "cell_type": "markdown",
   "id": "1c790e33-1c97-4ec4-856b-1a9d8a8f06bb",
   "metadata": {},
   "source": [
    "## Exercise 2: Density functions"
   ]
  },
  {
   "cell_type": "markdown",
   "id": "558015d7",
   "metadata": {},
   "source": [
    "- Use a built-in function inside `stats.norm` to obtain the values of the density function (density values) for `draws_co2`, and comment what these values mean."
   ]
  },
  {
   "cell_type": "code",
   "execution_count": 4,
   "id": "dd3f16b1",
   "metadata": {},
   "outputs": [
    {
     "data": {
      "text/plain": [
       "array([0.19533518, 0.17785635, 0.17429709, 0.17092955, 0.02889079,\n",
       "       0.07555642, 0.19861209, 0.1917091 , 0.14840896, 0.09173186,\n",
       "       0.12011557, 0.08610565, 0.1920699 , 0.19431276, 0.07987617,\n",
       "       0.13466512, 0.02690719, 0.1861469 , 0.04954329, 0.18118124,\n",
       "       0.17243307, 0.1780229 , 0.00101801, 0.11841753, 0.16887431,\n",
       "       0.19794051, 0.1905438 , 0.17390357, 0.19947105, 0.08086307,\n",
       "       0.15463957, 0.14121188, 0.01202119, 0.03532017, 0.13771935,\n",
       "       0.17050902, 0.08951216, 0.19804421, 0.11331145, 0.18871994,\n",
       "       0.01233254, 0.1955392 , 0.06075166, 0.12452487, 0.08490267,\n",
       "       0.19145858, 0.18571878, 0.15012933, 0.18882006, 0.08021957,\n",
       "       0.19898475, 0.19349381, 0.19945711, 0.12040323, 0.08267744,\n",
       "       0.1307319 , 0.06008764, 0.19942206, 0.14962202, 0.16037637,\n",
       "       0.13750322, 0.1994611 , 0.19922186, 0.15934555, 0.13864198,\n",
       "       0.12632108, 0.1994161 , 0.01402614, 0.16122675, 0.09496797,\n",
       "       0.08208418, 0.11197354, 0.15352157, 0.15721563, 0.12079863,\n",
       "       0.17576029, 0.16435964, 0.13050268, 0.15323559, 0.19457707,\n",
       "       0.19920868, 0.10205505, 0.14290277, 0.18157357, 0.1196864 ,\n",
       "       0.03773488, 0.12128562, 0.1389226 , 0.1977519 , 0.13155431,\n",
       "       0.19596928, 0.01896107, 0.19815812, 0.02679641, 0.19938372,\n",
       "       0.14539523, 0.19808468, 0.15073447, 0.16810264, 0.19715979])"
      ]
     },
     "execution_count": 4,
     "metadata": {},
     "output_type": "execute_result"
    }
   ],
   "source": [
    "# your code here ...\n",
    "# probability density function\n",
    "stats.norm.pdf(draws_co2, beta, sigma)"
   ]
  },
  {
   "cell_type": "markdown",
   "id": "0bac679a",
   "metadata": {},
   "source": [
    "Your answer here ..."
   ]
  },
  {
   "cell_type": "markdown",
   "id": "1cf2db52",
   "metadata": {},
   "source": [
    "- Use a built-in function inside `stats.norm` to obtain the values of the cumulative density function (cumulated probabilities) for `draws_co2`, and comment what these values mean."
   ]
  },
  {
   "cell_type": "code",
   "execution_count": 5,
   "id": "a3052c35",
   "metadata": {},
   "outputs": [
    {
     "data": {
      "text/plain": [
       "array([0.41890027, 0.68401053, 0.30172742, 0.28919762, 0.97533802,\n",
       "       0.91825145, 0.53701163, 0.61093092, 0.77906004, 0.89369758,\n",
       "       0.84307811, 0.09744966, 0.60833867, 0.59053168, 0.9119589 ,\n",
       "       0.81230689, 0.02266188, 0.35500505, 0.95244382, 0.33048667,\n",
       "       0.29468768, 0.6833136 , 0.99942083, 0.15357333, 0.28194024,\n",
       "       0.54939037, 0.61890781, 0.69978146, 0.50037512, 0.91049505,\n",
       "       0.2377546 , 0.20294345, 0.00888847, 0.03138898, 0.19468584,\n",
       "       0.71230983, 0.10276827, 0.54768995, 0.14377481, 0.63038859,\n",
       "       0.00915179, 0.42091902, 0.06153734, 0.1658399 , 0.09560122,\n",
       "       0.61269487, 0.6472788 , 0.22545868, 0.62978564, 0.91145066,\n",
       "       0.5278541 , 0.59741978, 0.49526802, 0.84250621, 0.90777784,\n",
       "       0.17897939, 0.06067807, 0.50884965, 0.77588319, 0.25445871,\n",
       "       0.80581581, 0.49599792, 0.51994253, 0.74863982, 0.80316065,\n",
       "       0.16956925, 0.49062838, 0.01060476, 0.25704938, 0.11155462,\n",
       "       0.09132996, 0.85872816, 0.76535707, 0.75490349, 0.84171793,\n",
       "       0.30745142, 0.26688078, 0.1784812 , 0.23385395, 0.5881916 ,\n",
       "       0.52046318, 0.12348927, 0.79295204, 0.66771402, 0.84392883,\n",
       "       0.96599007, 0.15925651, 0.80250173, 0.4476592 , 0.81922463,\n",
       "       0.57464425, 0.98497617, 0.45425101, 0.97744876, 0.51181102,\n",
       "       0.78676687, 0.54700965, 0.2270698 , 0.72071597, 0.56067333])"
      ]
     },
     "execution_count": 5,
     "metadata": {},
     "output_type": "execute_result"
    }
   ],
   "source": [
    "# your code here\n",
    "# cumulative density function\n",
    "stats.norm.cdf(draws_co2, beta, sigma)"
   ]
  },
  {
   "cell_type": "markdown",
   "id": "29237c60",
   "metadata": {},
   "source": [
    "Your answer here ..."
   ]
  },
  {
   "cell_type": "markdown",
   "id": "e5d47906",
   "metadata": {},
   "source": [
    "- Use a built-in function inside `stats.norm` to obtain the 95th quantile (or percentile) of the distribution of CO2 emissions per capita (conceptually, it's the inverse of the one above) and explain what is the 95th quantile / percentile."
   ]
  },
  {
   "cell_type": "code",
   "execution_count": 6,
   "id": "6b6bbaac",
   "metadata": {},
   "outputs": [
    {
     "data": {
      "text/plain": [
       "np.float64(8.289707253902943)"
      ]
     },
     "execution_count": 6,
     "metadata": {},
     "output_type": "execute_result"
    }
   ],
   "source": [
    "# your code here\n",
    "# Percent point function (percentiles)\n",
    "stats.norm.ppf(0.95, beta, sigma)"
   ]
  },
  {
   "cell_type": "markdown",
   "id": "6ed65842",
   "metadata": {},
   "source": [
    "Your answer here ..."
   ]
  },
  {
   "cell_type": "markdown",
   "id": "0e8b5f31",
   "metadata": {},
   "source": [
    "- Use a combination of the generated array of CO2 emissions per capita, the Cumulative Density Function, and the Percentage Point Function to re-obtain the array of CO2 emissions per capita (tip: the PPF is the inverse of the CDF)."
   ]
  },
  {
   "cell_type": "code",
   "execution_count": 7,
   "id": "eb69ca16",
   "metadata": {},
   "outputs": [
    {
     "data": {
      "text/plain": [
       "array([ 4.59058468,  5.95788668,  3.96112257,  3.88853939,  8.93156115,\n",
       "        7.78681167,  5.18581575,  5.56349231,  6.53804514,  7.49286947,\n",
       "        7.01437872,  2.40755778,  5.54998327,  5.45782576,  7.70583367,\n",
       "        6.77285868,  0.99672538,  4.25631493,  8.33805062,  4.12286053,\n",
       "        3.92051711,  5.95397002, 11.49788784,  2.95754495,  3.84582539,\n",
       "        5.24824255,  5.60522712,  6.04754414,  5.00188056,  7.68761959,\n",
       "        3.57291203,  3.33769292,  0.25953669,  1.27847842,  3.2784852 ,\n",
       "        6.12029059,  2.46813102,  5.23965425,  2.8729751 ,  5.66576543,\n",
       "        0.28116239,  4.60091409,  1.91600894,  3.05852818,  2.3859395 ,\n",
       "        5.57269949,  5.75596822,  3.49222693,  5.6625713 ,  7.69948443,\n",
       "        5.13975338,  5.49334822,  4.9762768 ,  7.00962318,  7.65438923,\n",
       "        3.16147688,  1.90178712,  5.0443692 ,  6.51672629,  3.67895134,\n",
       "        6.72516017,  4.9799362 ,  5.10001871,  6.34043119,  6.70593006,\n",
       "        3.0882623 ,  4.95301336,  0.39153224,  3.69506232,  2.56339605,\n",
       "        2.33478058,  7.14924538,  6.44728301,  6.38000371,  7.00308688,\n",
       "        3.99382522,  3.75545155,  3.15766278,  3.54757301,  5.44579109,\n",
       "        5.1026322 ,  2.68456107,  6.63341387,  5.86721921,  7.02147389,\n",
       "        8.64975042,  3.0049635 ,  6.7011822 ,  4.7368448 ,  6.8248283 ,\n",
       "        5.37642136,  9.33892288,  4.77014359,  9.00739472,  5.0592203 ,\n",
       "        6.59050631,  5.23621951,  3.5029369 ,  6.16993948,  5.30535315])"
      ]
     },
     "execution_count": 7,
     "metadata": {},
     "output_type": "execute_result"
    }
   ],
   "source": [
    "# your code here\n",
    "stats.norm.ppf(stats.norm.cdf(draws_co2, beta, sigma), beta, sigma)\n",
    "# np.testing.assert_array_almost_equal(stats.norm.ppf(stats.norm.cdf(draws_co2, beta, sigma), beta, sigma), draws_co2)"
   ]
  },
  {
   "cell_type": "markdown",
   "id": "08a72d8b",
   "metadata": {},
   "source": [
    "## Exercise 3: The one-sample z-test (unknown mean and known variance)"
   ]
  },
  {
   "cell_type": "markdown",
   "id": "b58af5eb",
   "metadata": {},
   "source": [
    "- In the resources' notebook we have run a one-sample z-test on the mean with known standard deviation $\\sigma=2$.\n",
    "- Specifically, we tested if, based on our result, the population mean equals 5 tonnes per capita ($H_0$) or if it's different than 5 tonnes per capita ($H_1$). We were not able to reject the null hypothesis that the population mean equals 5 tonnes per capita.\n",
    "- Here, use the code seen in the resources notebook to test if the population mean equals 0 tonnes per capita ($H_0$) or if it is different than 0 tonnes per capita.\n",
    "- First, compute the z-statistic and comment on whether you accept or reject the null hypothesis based on the z-statistic."
   ]
  },
  {
   "cell_type": "code",
   "execution_count": null,
   "id": "f273d016-12e1-46a2-b4cd-8bb25451ff6e",
   "metadata": {},
   "outputs": [],
   "source": []
  },
  {
   "cell_type": "code",
   "execution_count": 8,
   "id": "e75e16c2",
   "metadata": {},
   "outputs": [
    {
     "data": {
      "text/plain": [
       "np.float64(25.3361)"
      ]
     },
     "execution_count": 8,
     "metadata": {},
     "output_type": "execute_result"
    }
   ],
   "source": [
    "# your code here ...\n",
    "\n",
    "# set parameters\n",
    "beta_null = 0\n",
    "sd_true = 2\n",
    "\n",
    "# get sample mean and standard error\n",
    "beta_hat = st.mean(draws_co2)\n",
    "sem_true = sd_true / np.sqrt(N)\n",
    "\n",
    "# get z stat\n",
    "z = (beta_hat - beta_null) / sem_true\n",
    "z.round(4)"
   ]
  },
  {
   "cell_type": "code",
   "execution_count": 9,
   "id": "218d1af0-53a0-4b19-94b1-625bfb64d547",
   "metadata": {},
   "outputs": [
    {
     "data": {
      "text/plain": [
       "np.float64(5.0672287764177275)"
      ]
     },
     "execution_count": 9,
     "metadata": {},
     "output_type": "execute_result"
    }
   ],
   "source": [
    "beta_hat"
   ]
  },
  {
   "cell_type": "markdown",
   "id": "f7fc6e66",
   "metadata": {},
   "source": [
    "Your answer here ..."
   ]
  },
  {
   "cell_type": "markdown",
   "id": "54135ea9",
   "metadata": {},
   "source": [
    "- Then, compute the p value and comment on whether you accept or reject the null hypothesis based on the p value."
   ]
  },
  {
   "cell_type": "code",
   "execution_count": 12,
   "id": "2afc5176",
   "metadata": {},
   "outputs": [
    {
     "data": {
      "text/plain": [
       "0.0"
      ]
     },
     "execution_count": 12,
     "metadata": {},
     "output_type": "execute_result"
    }
   ],
   "source": [
    "# your code here ...\n",
    "lower_area = st.NormalDist().cdf(-abs(z))\n",
    "upper_area = lower_area\n",
    "p = lower_area + upper_area\n",
    "round(p,6)"
   ]
  },
  {
   "cell_type": "markdown",
   "id": "9a0bd567",
   "metadata": {},
   "source": [
    "Your answer here: ..."
   ]
  },
  {
   "cell_type": "markdown",
   "id": "20a79d41",
   "metadata": {},
   "source": [
    "- Then, as explained in the resources notebook, write down the equation of the 95% confidence interval under $H_0$ with $\\beta_0=0$ tonnes per capita and known standard deviation $\\sigma=2$ tonnes per capita."
   ]
  },
  {
   "cell_type": "markdown",
   "id": "457fca19",
   "metadata": {},
   "source": [
    "Your anser here ...\n",
    "- Under $H_0$ with $\\beta_0=0$ and known standard deviation $\\sigma=2$:\n",
    "    <br><br>\n",
    "    $$\\hat{\\beta} - (1.96 \\times SEM) \\leq \\beta_0 \\leq \\hat{\\beta} + (1.96 \\times SEM)$$\n",
    "    <br>\n",
    "    $$\\Rightarrow \\hat{\\beta} - (1.96 \\times 2/\\sqrt{100}) \\leq 0 \\leq \\hat{\\beta} + (1.96 \\times 2/\\sqrt{100})$$\n",
    "    <br>"
   ]
  },
  {
   "cell_type": "markdown",
   "id": "b2a77851",
   "metadata": {},
   "source": [
    "- Finally, use python to compute this confidence interval and use it to either accept or reject the null hypothesis."
   ]
  },
  {
   "cell_type": "code",
   "execution_count": 13,
   "id": "71749bad",
   "metadata": {},
   "outputs": [
    {
     "data": {
      "text/plain": [
       "(np.float64(4.675228776417727), np.float64(5.459228776417728))"
      ]
     },
     "execution_count": 13,
     "metadata": {},
     "output_type": "execute_result"
    }
   ],
   "source": [
    "# your code here ...\n",
    "a = 1.96\n",
    "ci = (beta_hat-(a*sem_true), beta_hat+(a*sem_true))\n",
    "ci"
   ]
  },
  {
   "cell_type": "markdown",
   "id": "b14932fe",
   "metadata": {},
   "source": [
    "Your answer here ..."
   ]
  },
  {
   "cell_type": "markdown",
   "id": "0a155987",
   "metadata": {},
   "source": [
    "## Exercise 4: The one-sample t-test (unknown mean and variance)"
   ]
  },
  {
   "cell_type": "markdown",
   "id": "c9c46784",
   "metadata": {},
   "source": [
    "- If we do not know the variance, our test statistic will be as follows:\n",
    "$$z_{\\hat{\\beta}} = \\frac{\\hat{\\beta}-\\beta_0}{\\hat{\\sigma}/\\sqrt{N}}$$\n",
    "<br>\n",
    "- If this estimate has been constructed from $N$ observations, then the sampling distribution turns into a $t$-distribution with $N-1$ **degrees of freedom** (df). The $t$ distribution is very similar to the normal distribution, but has \"heavier\" tails.\n",
    "- Similarly to what has been shown in class for the one-sample z test, run a t test with the null hypothesis $\\beta = 5$. Specifically, compute the t statistic and comment on whether you accept or reject the null hypothesis."
   ]
  },
  {
   "cell_type": "code",
   "execution_count": 10,
   "id": "44795585",
   "metadata": {},
   "outputs": [
    {
     "data": {
      "text/plain": [
       "np.float64(0.3231)"
      ]
     },
     "execution_count": 10,
     "metadata": {},
     "output_type": "execute_result"
    }
   ],
   "source": [
    "# your code here ...\n",
    "\n",
    "# set parameters\n",
    "sd_true = 2\n",
    "beta_null = 5\n",
    "degrees_freedom = N-1\n",
    "\n",
    "# get sample mean, sample variance and standard error\n",
    "beta_hat = st.mean(draws_co2)\n",
    "devs = (draws_co2 - beta_hat)\n",
    "devs2 = np.square(devs)\n",
    "sigma2_hat = np.sum(devs2)/degrees_freedom\n",
    "sigma_hat = np.sqrt(sigma2_hat)\n",
    "sem_hat = sigma_hat / np.sqrt(N)\n",
    "\n",
    "# get t stat\n",
    "t = (beta_hat - beta_null) / sem_hat\n",
    "t.round(4)"
   ]
  },
  {
   "cell_type": "markdown",
   "id": "ce7e12e7",
   "metadata": {},
   "source": [
    "Your answer here ..."
   ]
  },
  {
   "cell_type": "markdown",
   "id": "1abd6b20",
   "metadata": {},
   "source": [
    "- Use this test statistic to obtain the p value and comment on whether you accept or reject the null hypothesis based on the p value."
   ]
  },
  {
   "cell_type": "code",
   "execution_count": 11,
   "id": "55eab919",
   "metadata": {},
   "outputs": [
    {
     "data": {
      "text/plain": [
       "np.float64(0.7473)"
      ]
     },
     "execution_count": 11,
     "metadata": {},
     "output_type": "execute_result"
    }
   ],
   "source": [
    "# your code here ...\n",
    "\n",
    "lower_area = stats.t.cdf(-abs(t), df = degrees_freedom)\n",
    "upper_area = lower_area\n",
    "p = lower_area + upper_area\n",
    "p.round(4)"
   ]
  },
  {
   "cell_type": "markdown",
   "id": "7638fe37",
   "metadata": {},
   "source": [
    "Your answer here ..."
   ]
  },
  {
   "cell_type": "markdown",
   "id": "37a08ce0",
   "metadata": {},
   "source": [
    "- Use a built-in function in `scipy.stats` to check that you computed correctly t stat and p value."
   ]
  },
  {
   "cell_type": "code",
   "execution_count": 12,
   "id": "c2af741a",
   "metadata": {},
   "outputs": [
    {
     "data": {
      "text/plain": [
       "(np.float64(0.3231), np.float64(0.7473))"
      ]
     },
     "execution_count": 12,
     "metadata": {},
     "output_type": "execute_result"
    }
   ],
   "source": [
    "# your code here ...\n",
    "t, p = stats.ttest_1samp(a = draws_co2, popmean = beta_null)\n",
    "t.round(4), p.round(4)"
   ]
  },
  {
   "cell_type": "markdown",
   "id": "66596dcf",
   "metadata": {},
   "source": [
    "- Now, use a built-in function inside `stats.t` to get the the critical values for the areas with cumulative probability $0.025$ and $0.975$ of your t-student distribution."
   ]
  },
  {
   "cell_type": "code",
   "execution_count": 13,
   "id": "afb522be",
   "metadata": {},
   "outputs": [
    {
     "data": {
      "text/plain": [
       "np.float64(1.9842169515086827)"
      ]
     },
     "execution_count": 13,
     "metadata": {},
     "output_type": "execute_result"
    }
   ],
   "source": [
    "# your code here ...\n",
    "stats.t.ppf(0.975, degrees_freedom)"
   ]
  },
  {
   "cell_type": "markdown",
   "id": "cc4efcd8",
   "metadata": {},
   "source": [
    "- Use these critical values and the estimate for the standard error to write down the equation of the 95% confidence interval under $H_0$ with $\\beta_0=0$ tonnes per capita and unknown standard deviation."
   ]
  },
  {
   "cell_type": "markdown",
   "id": "c8dee80c",
   "metadata": {},
   "source": [
    "Your anser here ...\n",
    "- Under $H_0$ with $\\beta_0=0$ and unknown standard deviation:\n",
    "    <br><br>\n",
    "    $$\\hat{\\beta} - (1.98 \\times SEM) \\leq \\beta_0 \\leq \\hat{\\beta} + (1.98 \\times SEM)$$\n",
    "    <br>\n",
    "    $$\\Rightarrow \\hat{\\beta} - (1.98 \\times 2.08/\\sqrt{100}) \\leq 0 \\leq \\hat{\\beta} + (1.98 \\times 2.08/\\sqrt{100})$$\n",
    "    <br>"
   ]
  },
  {
   "cell_type": "markdown",
   "id": "fa4d39d2",
   "metadata": {},
   "source": [
    "- Compute this confidence interval via python and use it to either accept or reject the null hypothesis."
   ]
  },
  {
   "cell_type": "code",
   "execution_count": 14,
   "id": "1111a834",
   "metadata": {},
   "outputs": [
    {
     "data": {
      "text/plain": [
       "(np.float64(4.6543929122158705), np.float64(5.4800646406195845))"
      ]
     },
     "execution_count": 14,
     "metadata": {},
     "output_type": "execute_result"
    }
   ],
   "source": [
    "# your code here ...\n",
    "\n",
    "alpha = 0.05\n",
    "alpha_inv = (1.0-alpha)\n",
    "q1 = (1+alpha_inv)/2\n",
    "a = stats.t.ppf(q1, degrees_freedom)\n",
    "ci = (beta_hat-(a*sem_hat), beta_hat+(a*sem_hat))\n",
    "ci"
   ]
  },
  {
   "cell_type": "markdown",
   "id": "4f0c5608",
   "metadata": {},
   "source": [
    "- Use a built-in function in `scipy.stats` to check that you computed correctly the confidence interval."
   ]
  },
  {
   "cell_type": "code",
   "execution_count": 15,
   "id": "ef0b6ab0",
   "metadata": {},
   "outputs": [
    {
     "data": {
      "text/plain": [
       "(np.float64(4.6543929122158705), np.float64(5.4800646406195845))"
      ]
     },
     "execution_count": 15,
     "metadata": {},
     "output_type": "execute_result"
    }
   ],
   "source": [
    "# your code here ...\n",
    "\n",
    "stats.t.interval(alpha_inv, degrees_freedom, beta_hat, sem_hat)"
   ]
  },
  {
   "cell_type": "code",
   "execution_count": null,
   "id": "4aa72aef",
   "metadata": {},
   "outputs": [],
   "source": []
  }
 ],
 "metadata": {
  "kernelspec": {
   "display_name": "Python 3 (ipykernel)",
   "language": "python",
   "name": "python3"
  },
  "language_info": {
   "codemirror_mode": {
    "name": "ipython",
    "version": 3
   },
   "file_extension": ".py",
   "mimetype": "text/x-python",
   "name": "python",
   "nbconvert_exporter": "python",
   "pygments_lexer": "ipython3",
   "version": "3.12.11"
  }
 },
 "nbformat": 4,
 "nbformat_minor": 5
}
