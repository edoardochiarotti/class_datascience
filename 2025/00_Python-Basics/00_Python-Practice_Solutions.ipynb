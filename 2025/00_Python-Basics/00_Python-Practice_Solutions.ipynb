{
 "cells": [
  {
   "cell_type": "markdown",
   "id": "b86a6e96-90ac-431b-9dd6-65db5f41f233",
   "metadata": {},
   "source": [
    "<a href=\"https://colab.research.google.com/github/edoardochiarotti/class_datascience/blob/main/2024/00_Python-Basics/00_Python-Practice_Solutions.ipynb\" target=\"_blank\" rel=\"noopener\"><img src=\"https://colab.research.google.com/assets/colab-badge.svg\" alt=\"Open In Colab\"/></a>"
   ]
  },
  {
   "cell_type": "markdown",
   "id": "b2386e79-24ac-4c7a-a50f-8f3e635620d1",
   "metadata": {},
   "source": [
    "# Statistics and Data Science: Practice with Python!\n",
    "\n",
    "<img src='https://education.launchcode.org/lchs/_images/good-at-python.jpg' width=\"400\">"
   ]
  },
  {
   "cell_type": "markdown",
   "id": "65182feb-ab74-4580-b612-71d6fb965536",
   "metadata": {},
   "source": [
    "## Content\n",
    "\n",
    "The goal of this walkthough is to help you practice your python skills. Each exercise relates to concepts developed in the notebook \"01_Python-Basics\".\n",
    "\n",
    "- [Exercise 1: From strings to numbers](#ex1)\n",
    "- [Exercise 2: Combining strings and numbers](#ex2)\n",
    "- [Exercise 3: Modular exponentiation](#ex3)\n",
    "- [Exercise 4: Pro-environmental behaviors and environmental knowledge](#ex4)\n",
    "- [Exercise 5: Pro-environmental behaviors and financial incentives](#ex5)\n",
    "- [Exercise 6: Crowding out moral motives](#ex6)\n",
    "- [Exercise 7: Threshold degree of morality](#ex7)\n",
    "- [Exercise 8: GHG emissions in Europe](#ex8)\n",
    "- [Exercise 9: Data normalization](#ex9)\n",
    "- [Exercise 10: Data normalization with Euclidean norm](#ex10)\n",
    "- [Exercise 11: Data cleaning with comprehension](#ex11)\n",
    "- [Exercise 12: Data manipulation using dictionary comprehension](#ex12)\n",
    "- [Exercise 13: Green Domestic Product](#ex13)\n",
    "- [Exercise 14: Green bonds](#ex14)\n",
    "- [Exercise 15: Optimizing recursive function](#ex15)\n",
    "- [Exercise 16: Book information](#ex16)"
   ]
  },
  {
   "cell_type": "markdown",
   "id": "02f25f43-7918-4257-ae95-14051258788f",
   "metadata": {},
   "source": [
    "## Exercise 1: From strings to numbers <a name=\"ex1\"></a>\n",
    "\n",
    "**Concepts:** Variables, Data Types\n",
    "\n",
    "- Create a variable `my_float` storing the `float` number of your choice.\n",
    "- Convert your `float` into a `string`, and store this `string` into a variable `my_str`\n",
    "- Convert back your `string` into a `float`, and store it into a variable `my_float_2`\n",
    "- Print `my_float`, `my_str`, and `my_float_2`, and the types of each variable."
   ]
  },
  {
   "cell_type": "code",
   "execution_count": 1,
   "id": "30aa8097-cdf9-4c9f-b461-bd6ab88b278f",
   "metadata": {},
   "outputs": [
    {
     "name": "stdout",
     "output_type": "stream",
     "text": [
      "<class 'float'> 75.89 <class 'str'> 75.89 <class 'float'> 75.89\n"
     ]
    }
   ],
   "source": [
    "# Your code here...\n",
    "\n",
    "my_float   = 75.89\n",
    "my_str     = str(my_float)\n",
    "my_float_2 = float(my_str)\n",
    "\n",
    "print(type(my_float), my_float, type(my_str), my_str, type(my_float_2), my_float_2)"
   ]
  },
  {
   "cell_type": "markdown",
   "id": "fb4f6003-3339-4849-9606-cb0aba509010",
   "metadata": {},
   "source": [
    "## Exercise 2: Combining strings and numbers <a name=\"ex2\"></a>\n",
    "\n",
    "**Concepts:** Variables, Data Types\n",
    "\n",
    "- Create a variable `last_name` with your last name and a variable `first_name` with your first name. \n",
    "- Create a variable `age` storing your age (as an integer).\n",
    "- Create a string variable `background` with your field of study during your bachelor, e.g., economics, environmental sciences, etc.\n",
    "- Print a string where you present yourself, using the variables you previously created. You should get something like: `'My name is Adam Smith. I am 200 years old. I studied moral philosophy'`"
   ]
  },
  {
   "cell_type": "markdown",
   "id": "8592fb48-0948-4447-96d5-e795e7a0ed9d",
   "metadata": {},
   "source": [
    "*Solution 1: Basic string manipulation*"
   ]
  },
  {
   "cell_type": "code",
   "execution_count": 2,
   "id": "9274be3a-f50e-48fa-8d8e-f447622154b6",
   "metadata": {},
   "outputs": [
    {
     "name": "stdout",
     "output_type": "stream",
     "text": [
      "My name is Adam Smith. I am 200 years old. I studied moral philosophy\n"
     ]
    }
   ],
   "source": [
    "last_name = 'Smith'\n",
    "first_name = 'Adam'\n",
    "age = 200\n",
    "background = 'moral philosophy'\n",
    "\n",
    "presentation = 'My name is ' + first_name + ' ' + last_name + '. I am ' + str(age) + ' years old. I studied ' + background\n",
    "print(presentation)"
   ]
  },
  {
   "cell_type": "markdown",
   "id": "edb743d6-4063-427d-b0eb-2230e5f41c59",
   "metadata": {},
   "source": [
    "*Solution 2: with \"f-string\", more elegant!*"
   ]
  },
  {
   "cell_type": "code",
   "execution_count": 30,
   "id": "572fe098-677e-417a-bf09-d404a4c4276a",
   "metadata": {
    "tags": []
   },
   "outputs": [
    {
     "name": "stdout",
     "output_type": "stream",
     "text": [
      "My name is Smith Adam. I am 200 years old. I studied moral philosophy.\n"
     ]
    }
   ],
   "source": [
    "last_name = 'Smith'\n",
    "first_name = 'Adam'\n",
    "age = 200\n",
    "background = 'moral philosophy'\n",
    "\n",
    "print(f'My name is {last_name} {first_name}. I am {age} years old. I studied {background}.')"
   ]
  },
  {
   "cell_type": "markdown",
   "id": "7ea52912-3086-47b1-89d1-2eaae2066e0f",
   "metadata": {},
   "source": [
    "## Exercise 3: Modular exponentiation <a name=\"ex3\"></a>\n",
    "\n",
    "**Concepts:** Arithmetic Operators\n",
    "\n",
    "[Modular exponentiation](https://en.wikipedia.org/wiki/Modular_exponentiation) is exponentiation performed over a modulus. It is useful in computer science, for example in cryptography algorithms such as [Diffie-Hellman Key Exchange](https://en.wikipedia.org/wiki/Diffie%E2%80%93Hellman_key_exchange) and [RSA public/private keys](https://en.wikipedia.org/wiki/RSA_(cryptosystem)).\n",
    "\n",
    "Let's take an example: $7^{2} \\; mod \\; 9 = 49 \\; mod \\; 9 = 4$ because $49 = 9*5 + 4$\n",
    "\n",
    "- Compute $5^{13} \\; mod \\; 13$ and $10^{13} \\; mod \\; 13$. What do you observe?\n",
    "- Compute $4^{6} \\; mod \\; 7$ and $15^{6} \\; mod \\; 7$. What do you observe?\n",
    "\n",
    "If you wish to understand the general case, check [Fermat's little theorem](https://en.wikipedia.org/wiki/Fermat%27s_little_theorem)"
   ]
  },
  {
   "cell_type": "code",
   "execution_count": 4,
   "id": "0e0820a7-39f0-4ed5-83b6-8e389beaef20",
   "metadata": {},
   "outputs": [
    {
     "name": "stdout",
     "output_type": "stream",
     "text": [
      "5\n",
      "10\n"
     ]
    }
   ],
   "source": [
    "print(5**13 % 13)\n",
    "print(10**13 % 13)"
   ]
  },
  {
   "cell_type": "code",
   "execution_count": 5,
   "id": "29274dc2-0e13-406d-b475-f3b8657b97e0",
   "metadata": {
    "tags": []
   },
   "outputs": [
    {
     "name": "stdout",
     "output_type": "stream",
     "text": [
      "1\n",
      "1\n"
     ]
    }
   ],
   "source": [
    "print(4**6 % 7)\n",
    "print(15**6 % 7)"
   ]
  },
  {
   "cell_type": "markdown",
   "id": "f5cdb257-3d33-4720-aceb-fdee7277ad49",
   "metadata": {},
   "source": [
    "In our examples, $a^{p} \\; mod \\; p = a$ and $a^{p-1} \\; mod \\; p = 1$. \n",
    "This is true when $p$ is a prime number in the first case, and $a$ is not divisible by $p$ and $p$ is prime in the second case. This result is the Fermat's little theorem. "
   ]
  },
  {
   "cell_type": "markdown",
   "id": "77d74af3-be0b-468d-8b78-b5e9daa6ea90",
   "metadata": {},
   "source": [
    "## Exercise 4: Pro-environmental behaviors and environmental knowledge <a name=\"ex4\"></a>\n",
    "\n",
    "**Concepts:** Conditionals\n",
    "\n",
    "We are going to study the condition for cooperation in [collective action problem](https://en.wikipedia.org/wiki/Collective_action_problem), also called social dilemma. In such situation, all individuals would be better off cooperating but fail to do so because of conflicting interests between them, which discourage joint action (see illustration below). Many environmental issues takes the form of a social dilemma. For example, recycling requires time and efforts but decreases the consumption of materials if widely adopted. Purchasing an electric vehicle is costly but reduces air pollutants, associated with various respiratory and cardio-vascular health diseases, and greenhouse gas emissions, responsible for climate change.\n",
    "\n",
    "We will assume that individuals have *homo moralis* preferences: they consider not only their selfish payoff but also what happens when all others do the same action. The weight of selfishness and morality depends on the individual degree of morality. Recent economic literature has demonstrated that such preference provides an evolutionary advantage (see e.g., [Alger & Weibull, 2013](https://onlinelibrary.wiley.com/doi/abs/10.3982/ECTA10637)).\n",
    "\n",
    "We can demonstrate that *homo moralis* individuals cooperate in a social dilemma (e.g., perform a pro-environmental action) when their social benefit weighted by their degree of morality is greater than their individual cost of acting weighted by their degree of selfishness. \n",
    "\n",
    "<img src='https://i.postimg.cc/44HkDp79/Social-Dilemma.png' width=\"800\">\n",
    "\n",
    "However, there is a key assumption behind this result: we assume that individuals have a perfect knowledge of environmental issues, of the cost of pollution, and thus of the benefits of not polluting. Obviously, in reality, many individuals are poorly informed about environmental issues. Actually, even informed individuals do not have a full understanding of the impacts of pollution. Think about climate change: the impacts are future, there are lots of uncertainties for example regarding catastrophic events (flood, drought), and many impacts are still unknown or not measured, for instance biodiversity loss.\n",
    "\n",
    "We can update our condition for cooperation based on the (environmental) knowledge of individual. Let's call $\\Omega \\in [0,1]$ the knowledge level, $\\kappa$ the degree of morality, $SB$ the social benefit, and $IC$ the individual cost of acting. An individual will cooperate if and only if:\n",
    "\n",
    "$\\kappa * \\Omega * SB \\geq (1-\\kappa) * IC$\n",
    "\n",
    "- Consider two individuals, Jordane and Florence, involved in a social dilemma where $IC=1$, $SB=3$. They both have the same degree of morality $\\kappa = 0.3$. However, Florence's environmental-knowledge level is $\\Omega_{F}=0.9$ and Jordane's environmental-knowledge level is $\\Omega_{J}=0.7$. Write a `if` statement that prints who is performing an environmental-friendly action. The output should be: `'Florence and Jordane perform an environmental-friendly action'`, `'Only Florence performs an environmental-friendly action'`, `'Only Jordane performs an environmental-friendly action'`, and `'Neither Florence nor Jordane perform an environmental-friendly action'`.  "
   ]
  },
  {
   "cell_type": "code",
   "execution_count": 6,
   "id": "aab16f11-7610-42f7-8b04-278b941a2eea",
   "metadata": {},
   "outputs": [
    {
     "name": "stdout",
     "output_type": "stream",
     "text": [
      "Only Florence performs an environmental-friendly action.\n"
     ]
    }
   ],
   "source": [
    "cost = 1            # individual cost \n",
    "benefit = 3         # social benefit\n",
    "kappa = 0.3         # degree of morality\n",
    "omega_F = 0.9       # Florence environmental knowledge\n",
    "omega_J = 0.7       # Jordane environmental knowledge\n",
    "env = 'an environmental-friendly action.'\n",
    "\n",
    "# condition for cooperation: \n",
    "# social benefit times education level times kappa is greater than individual cost times (1-kappa)\n",
    "\n",
    "if benefit*omega_F*kappa >= cost*(1-kappa) and benefit*omega_J*kappa >= cost*(1-kappa):\n",
    "    print('Florence and Jordane perform '+env)\n",
    "elif benefit*omega_F*kappa >= cost*(1-kappa) and benefit*omega_J*kappa < cost*(1-kappa):\n",
    "    print('Only Florence performs '+env)\n",
    "elif benefit*omega_F*kappa < cost*(1-kappa) and benefit*omega_J*kappa >= cost*(1-kappa):\n",
    "    print('Only Jordane performs '+env)\n",
    "else:\n",
    "    print('Neither Florence nor Jordane perform '+env)"
   ]
  },
  {
   "cell_type": "markdown",
   "id": "95c7aa4d-9cb4-407d-bdd1-d2c512279cbf",
   "metadata": {},
   "source": [
    "## Exercise 5: Pro-environmental behaviors and financial incentives <a name=\"ex5\"></a>\n",
    "\n",
    "**Concepts:** Iteration\n",
    "\n",
    "Exercise 4 illustrated that the level of environmental knowledge plays a key role in individuals' decision-making. What can policy-makers do to promote pro-environmental behaviors? One option is to rely on financial instruments, such as fines, taxes, and subsidies. For example, in many countries, there exists subsidies to enhance energy efficiency in buildings (e.g., insulation, efficient boilers and electric appliances), renewable energy installation (e.g., photovoltaic, solar thermal, heat pump), and clean transport (e.g., electric and hybrid cars).\n",
    "\n",
    "We can update our condition for cooperation when we introduce a subsidy. Let's call $\\tau$ the subsidy, $\\Omega \\in [0,1]$ the knowledge level, $\\kappa$ the degree of morality, $SB$ the social benefit, and $IC$ the individual cost of acting. An individual will cooperate if and only if:\n",
    "\n",
    "$\\kappa * \\Omega * (SB+\\tau) \\geq (1-\\kappa) * (IC-\\tau)$\n",
    "\n",
    "- Consider the same social dilemma as before ($IC=1$, $SB=3$). Charles is an individual with degree of morality $\\kappa = 0.3$ and environmental-knowledge $\\Omega=0.5$. You are a policy-maker. Your objective is that Charles performs an pro-environmental action, but you hesitate between different level of subsidies $\\tau = (0, 0.25, 0.5, 0.75, 1)$. Write a `for` loop that prints whether of not each subsidy level is sufficient to trigger cooperation. For example, for a level of subsidy of 0.5, the output should either be `'A level of subsidy of 0.5 is not sufficient to promote pro-environmental action'` or `'A level of subsidy of 0.5 is sufficient to promote pro-environmental action'`. "
   ]
  },
  {
   "cell_type": "code",
   "execution_count": 7,
   "id": "24e616f6-dd09-448c-86ad-2cbc2732839a",
   "metadata": {},
   "outputs": [
    {
     "name": "stdout",
     "output_type": "stream",
     "text": [
      "A level of subsidy of 0 is not sufficient to promote pro-environmental action.\n",
      "A level of subsidy of 0.25 is not sufficient to promote pro-environmental action.\n",
      "A level of subsidy of 0.5 is sufficient to promote pro-environmental action.\n",
      "A level of subsidy of 0.75 is sufficient to promote pro-environmental action.\n",
      "A level of subsidy of 1 is sufficient to promote pro-environmental action.\n"
     ]
    }
   ],
   "source": [
    "cost = 1            # individual cost \n",
    "benefit = 3         # social benefit\n",
    "kappa = 0.3         # degree of morality\n",
    "omega = 0.5         # environmental knowledge\n",
    "start = 'A level of subsidy of '\n",
    "end = 'sufficient to promote pro-environmental action.'\n",
    "\n",
    "subsidy_level = (0, 0.25, 0.5, 0.75, 1)     # tuple of subsidy level\n",
    "\n",
    "for tau in subsidy_level:\n",
    "    if kappa*omega*(benefit + tau) >= (1-kappa)*(cost-tau):\n",
    "        print(start+str(tau)+' is '+end)\n",
    "    else:\n",
    "        print(start+str(tau)+' is not '+end)"
   ]
  },
  {
   "cell_type": "markdown",
   "id": "564fc588-0afb-4175-9699-91e478ff29a2",
   "metadata": {},
   "source": [
    "## Exercise 6: Crowding out moral motives <a name=\"ex6\"></a>\n",
    "\n",
    "**Concepts:** Iteration\n",
    "\n",
    "Exercise 5 illustrated how financial incentives can be effective in promoting cooperation. But (there is always a but), we made a crucial assumption to obtain our result. Can you guess what is this key assumption?\n",
    "\n",
    "We assumed that when we introduced a financial incentive, everything else remained the same. More precisely, we assumed that the implementation of financial incentives would not affect individuals' morality. In reality, many empirical studies show that the introduction of financial incentives can crowd out moral motives. One of the most famous study is from Gneezy and Rustichini (2000). In a field-study in day-care centers, they have shown that the introduction of a fine for parents arriving late to collect their children significantly increased the number of late-coming parents. Even worse, the effect was not reversible: after the fine was removed, no reduction occurred. Similar effects have been observed for environmental policy, suggesting that putting a price on Nature can lead individuals to leave the \"moral sphere\" towards the \"economic sphere\". In our model, this implies a decrease of the degree of morality. \n",
    "\n",
    "- Consider the same social dilemma as before ($IC=1$, $SB=3$), and our individual Charles with environmental-knowledge $\\Omega=0.5$. However, because we introduced a financial incentives, the degree of morality of Charles is now $\\kappa = 0.2$. Find the lowest subsidy $\\tau$ that would make Charles cooperate. \n",
    "\n",
    "Note: the condition for cooperation is still the same: \n",
    "$\\kappa * \\Omega * (SB+\\tau) \\geq (1-\\kappa) * (IC-\\tau)$"
   ]
  },
  {
   "cell_type": "code",
   "execution_count": 8,
   "id": "1de70130-5027-446d-b553-04951995e7a1",
   "metadata": {},
   "outputs": [
    {
     "name": "stdout",
     "output_type": "stream",
     "text": [
      "The lowest subsidy level allowing cooperation is 0.5600\n"
     ]
    }
   ],
   "source": [
    "cost = 1            # individual cost \n",
    "benefit = 3         # social benefit\n",
    "kappa = 0.2         # degree of morality\n",
    "omega = 0.5         # environmental knowledge\n",
    "\n",
    "# Initialize sequence index\n",
    "tau = 0               # subsidy level\n",
    "\n",
    "while kappa*omega*(benefit + tau) < (1-kappa)*(cost-tau):     # condition for not cooperating \n",
    "    tau+=0.01\n",
    "\n",
    "print(f'The lowest subsidy level allowing cooperation is {tau:.4f}')"
   ]
  },
  {
   "cell_type": "markdown",
   "id": "0358a1b3-48b4-43ee-96ff-3f272b36a791",
   "metadata": {},
   "source": [
    "## Exercise 7: Threshold degree of morality <a name=\"ex7\"></a>\n",
    " \n",
    "**Concepts:** Function\n",
    "\n",
    "Let's take a step back and look at our initial condition for cooperation, with perfect environmental knowledge and no financial incentives:\n",
    "\n",
    "$\\kappa * SB \\geq (1-\\kappa) * IC$\n",
    "\n",
    "It is possible to find analytically the minimum degree of morality allowing for cooperation. This threshold degree of morality is:\n",
    "\n",
    "$\\kappa_0 = \\frac{IC}{IC+SB}$\n",
    "\n",
    "- Define a function `'threshold_morality()'` taking as arguments the individual cost and social benefit and returning the threshold degree of morality.\n",
    "- Find the threshold degree of morality when ($IC=1$, $SB=4$), ($IC=2$, $SB=4$), and ($IC=3$, $SB=5$). \n",
    "\n",
    "*Tips:* instead of calling three times your function with different arguments, you could create two tuples, one with individual costs, the other with social benefits, and iterate over your two tuples using the function `zip()`."
   ]
  },
  {
   "cell_type": "code",
   "execution_count": 9,
   "id": "19a386d7-a0c8-45f5-a414-0ed874bc8a2d",
   "metadata": {},
   "outputs": [],
   "source": [
    "def threshold_morality(cost,benefit):\n",
    "    '''This function computes the threshold degree of morality\n",
    "    allowing for cooperation in a social dilemma, \n",
    "    with a given individual cost and social benefit.'''\n",
    "    return cost/(cost+benefit)"
   ]
  },
  {
   "cell_type": "code",
   "execution_count": 10,
   "id": "58b3a89a-8176-490d-8ab9-44c55d32803a",
   "metadata": {
    "tags": []
   },
   "outputs": [
    {
     "name": "stdout",
     "output_type": "stream",
     "text": [
      "The threshold degree of morality is 0.2000 when the individual cost is 1 and the social benefit is 4.\n",
      "The threshold degree of morality is 0.3333 when the individual cost is 2 and the social benefit is 4.\n",
      "The threshold degree of morality is 0.3750 when the individual cost is 3 and the social benefit is 5.\n"
     ]
    }
   ],
   "source": [
    "ind_cost = (1,2,3)         # individual cost\n",
    "soc_benefit = (4,4,5)      # social benefit\n",
    "\n",
    "for c,s in zip(ind_cost, soc_benefit):\n",
    "    print(f'The threshold degree of morality is {threshold_morality(c,s):.4f} when the individual cost is {c} and the social benefit is {s}.')"
   ]
  },
  {
   "cell_type": "markdown",
   "id": "e4e63021-fab6-48af-8ebc-abbbe50931a3",
   "metadata": {
    "tags": []
   },
   "source": [
    "## Exercise 8: GHG emissions in Europe <a name=\"ex8\"></a>\n",
    "\n",
    "**Concepts:** Dictionaries\n",
    "\n",
    "Here are the greenhouse gases (GHG) emissions of Switzerland, France, Germany, Italy, Austria in 2019 in thousands tonnes $CO_{2e}$: `(43981.6, 422251.6, 784842.1, 377672.5, 77111.4)`\n",
    "\n",
    "- Create a dictionary associating each country with its GHG emissions.\n",
    "- Extract the keys of your dictionary in a list.\n",
    "- Append your dictionary with the emissions of Spain: 276723.2 \n",
    "- Using a `for` loop, convert the GHG values in tonnes $CO_{2e}$ "
   ]
  },
  {
   "cell_type": "code",
   "execution_count": 11,
   "id": "ff39cb64-55ac-4c8f-81e2-1174972904bd",
   "metadata": {},
   "outputs": [
    {
     "name": "stdout",
     "output_type": "stream",
     "text": [
      "{'Switzerland': 43981.6, 'France': 422251.6, 'Germany': 784842.1, 'Italy': 377672.5, 'Austria': 77111.4}\n"
     ]
    }
   ],
   "source": [
    "countries = ('Switzerland', 'France', 'Germany', 'Italy', 'Austria')\n",
    "ghg = (43981.6, 422251.6, 784842.1, 377672.5, 77111.4)\n",
    "\n",
    "# Initialize dictionary\n",
    "countries_ghg={}\n",
    "\n",
    "# For loop to associate GHG emissions to each country (key)\n",
    "for c,e in zip(countries,ghg):\n",
    "    countries_ghg[c] = e\n",
    "    \n",
    "print(countries_ghg)"
   ]
  },
  {
   "cell_type": "code",
   "execution_count": 12,
   "id": "28e1a665-ea7c-499d-ac4b-164ae81da740",
   "metadata": {
    "tags": []
   },
   "outputs": [
    {
     "data": {
      "text/plain": [
       "['Switzerland', 'France', 'Germany', 'Italy', 'Austria']"
      ]
     },
     "execution_count": 12,
     "metadata": {},
     "output_type": "execute_result"
    }
   ],
   "source": [
    "# Extract keys in a list\n",
    "list(countries_ghg)"
   ]
  },
  {
   "cell_type": "code",
   "execution_count": 13,
   "id": "446b6c3f-9242-44da-8d34-7ae42c2f7a47",
   "metadata": {
    "tags": []
   },
   "outputs": [
    {
     "name": "stdout",
     "output_type": "stream",
     "text": [
      "{'Switzerland': 43981.6, 'France': 422251.6, 'Germany': 784842.1, 'Italy': 377672.5, 'Austria': 77111.4, 'Spain': 276723.2}\n"
     ]
    }
   ],
   "source": [
    "# Append dictionary\n",
    "countries_ghg['Spain']=276723.2\n",
    "print(countries_ghg)"
   ]
  },
  {
   "cell_type": "code",
   "execution_count": 14,
   "id": "4da206eb-074f-43bf-a1e7-824c0b6eb024",
   "metadata": {
    "tags": []
   },
   "outputs": [
    {
     "name": "stdout",
     "output_type": "stream",
     "text": [
      "{'Switzerland': 43981600.0, 'France': 422251600.0, 'Germany': 784842100.0, 'Italy': 377672500.0, 'Austria': 77111400.0, 'Spain': 276723200.0}\n"
     ]
    }
   ],
   "source": [
    "# Convert GHG values to tonnes CO2eq\n",
    "# We use a for loop\n",
    "for key, _ in countries_ghg.items():\n",
    "    countries_ghg[key] *= 1000\n",
    "\n",
    "print(countries_ghg)"
   ]
  },
  {
   "cell_type": "markdown",
   "id": "740d793c-58cf-445a-bea6-0dd33d6278c0",
   "metadata": {},
   "source": [
    "## Exercise 9: Data normalization <a name=\"ex9\"></a>\n",
    "\n",
    "**Concepts:** List comprehension\n",
    "\n",
    "A very common operation is to transform you data by normalization. Imagine you have a list of data points $x=$`[2,7,5,4,9,3]` and you want to perform a 0-1 normalization, i.e., convert the data between 0 and 1 with the following operation:\n",
    "\n",
    "$\\hat{x}_{i} = \\frac{x_{i}-min(x)}{max(x)-min(x)}$\n",
    "\n",
    "0-1 normalization is common (necessary) when you deal with several variables that have very different scales.\n",
    "\n",
    "- Create a new list that performs a 0-1 normalization on $x$. \n",
    "\n",
    "*Hint: You can use the `min()` and `max()` functions to obtain the minimum and maximum of a list* "
   ]
  },
  {
   "cell_type": "code",
   "execution_count": 15,
   "id": "ae7a5019-497b-4dea-ad45-496a787262ef",
   "metadata": {},
   "outputs": [
    {
     "name": "stdout",
     "output_type": "stream",
     "text": [
      "[0.0, 0.7142857142857143, 0.42857142857142855, 0.2857142857142857, 1.0, 0.14285714285714285]\n"
     ]
    }
   ],
   "source": [
    "x = [2,7,5,4,9,3]\n",
    "x_min = min(x)\n",
    "x_range = max(x)-x_min\n",
    "\n",
    "x_new = [(i-x_min)/(x_range) for i in x]\n",
    "print(x_new)"
   ]
  },
  {
   "cell_type": "markdown",
   "id": "a22ef852-135c-4799-8787-200b044a944c",
   "metadata": {
    "tags": []
   },
   "source": [
    "## Exercise 10: Data normalization with Euclidean norm <a name=\"ex10\"></a>\n",
    "\n",
    "**Concepts:** List Comprehension \n",
    "\n",
    "A very common operation is to transform you data by normalization. Imagine you have a list of data points $x=$`[21.4,45.7,38.5,76.4,61.9,43.4,52.6,27.2]` and you want to normalize your data using the [Euclidean norm](https://en.wikipedia.org/wiki/Norm_(mathematics)#Euclidean_norm), i.e., convert the data between 0 and 1 with the following operation:\n",
    "\n",
    "$\\hat{x}_{i} = \\frac{x_{i}}{||x||}$\n",
    "\n",
    "where: $||x||=\\sqrt{x_1^2+...+x_n^2}$\n",
    "\n",
    "Normalization is common (necessary) when you deal with several variables that have very different scales.\n",
    "\n",
    "- Using list comprehension, create a new list with normalized $x$ using the Euclidean norm. "
   ]
  },
  {
   "cell_type": "code",
   "execution_count": 16,
   "id": "27760910-045f-4f56-882f-7051439d1680",
   "metadata": {},
   "outputs": [
    {
     "name": "stdout",
     "output_type": "stream",
     "text": [
      "[0.15489594360747555, 0.33078245901222586, 0.27866793592933686, 0.5529929949350997, 0.44804013594872605, 0.3141347641385252, 0.3807255436333278, 0.19687708720202501]\n"
     ]
    }
   ],
   "source": [
    "x = [21.4,45.7,38.5,76.4,61.9,43.4,52.6,27.2]\n",
    "\n",
    "# We first compute the square of each element using comprehension\n",
    "x_square = [i**2 for i in x]\n",
    "\n",
    "# Then we compute the Euclidean norm\n",
    "x_norm = (sum(x_square))**(1/2)\n",
    "\n",
    "# Finally we normalize our list\n",
    "x_hat = [i/x_norm for i in x]\n",
    "\n",
    "print(x_hat)"
   ]
  },
  {
   "cell_type": "markdown",
   "id": "d3be169c-e730-4bad-bdcf-43624d7405ee",
   "metadata": {},
   "source": [
    "## Exercise 11: Data cleaning with comprehension <a name=\"ex11\"></a>\n",
    "\n",
    "**Concepts:** List Comprehension\n",
    "\n",
    "Suppose we have the following list: $x=$`[21.4, 'NaN', 45.7,38.5,76.4,61.9, 'NaN', 43.4,52.6,27.2]`. Unfortunately we have some `'NaN'` values (Not a Number).\n",
    "\n",
    "- Clean your list, dropping `'NaN'` values, using list comprehension"
   ]
  },
  {
   "cell_type": "code",
   "execution_count": 17,
   "id": "a7d2ec04-f204-4261-8eb5-1fe7f6bb36d8",
   "metadata": {},
   "outputs": [
    {
     "name": "stdout",
     "output_type": "stream",
     "text": [
      "[21.4, 45.7, 38.5, 76.4, 61.9, 43.4, 52.6, 27.2]\n"
     ]
    }
   ],
   "source": [
    "x=[21.4, 'NaN', 45.7,38.5,76.4,61.9, 'NaN', 43.4,52.6,27.2]\n",
    "\n",
    "x_clean = [i for i in x if i != 'NaN']\n",
    "\n",
    "print(x_clean)"
   ]
  },
  {
   "cell_type": "markdown",
   "id": "2c257931-9600-4956-a402-6eb70d0afd21",
   "metadata": {},
   "source": [
    "## Exercise 12: Data manipulation using dictionary comprehension <a name=\"ex12\"></a>\n",
    "\n",
    "**Concepts:** Dictionary Comprehension\n",
    "\n",
    "Comprehension is not only for list, dictionary too! Suppose you have the following dictionary, with the grades of some students on a 0-100 scale:\n",
    "\n",
    "`{'Adam': 72, 'Hinata': 91, 'Sergei': 87, 'Edouard': 81, 'Elena': 79}`\n",
    "\n",
    "- Use dictionary comprehension to convert the grade from the 0-100 scale to the Swiss 0-6 scale.\n",
    "- Use dictionary comprehension to round to the nearest 0.25 (for instance 4.2 should be converted to 4.25). \n",
    "\n",
    "Tips: you can use the `round()` function"
   ]
  },
  {
   "cell_type": "code",
   "execution_count": 18,
   "id": "63cc64a4-5018-47fc-9522-f20a03b59840",
   "metadata": {},
   "outputs": [
    {
     "name": "stdout",
     "output_type": "stream",
     "text": [
      "{'Adam': 4.32, 'Hinata': 5.46, 'Sergei': 5.22, 'Edouard': 4.86, 'Elena': 4.74}\n",
      "{'Adam': 4.25, 'Hinata': 5.5, 'Sergei': 5.25, 'Edouard': 4.75, 'Elena': 4.75}\n"
     ]
    }
   ],
   "source": [
    "grade_100 = {'Adam': 72, 'Hinata': 91, 'Sergei': 87, 'Edouard': 81, 'Elena': 79}\n",
    "\n",
    "# We convert the grade dividing the value by 100 and multiplying by 6\n",
    "grade_6 = {key: val*6/100 for key,val in grade_100.items()}\n",
    "\n",
    "# We round the grade\n",
    "grade_6_rounded = {key: round(val*4)/4 for key,val in grade_6.items()}\n",
    "\n",
    "print(grade_6)\n",
    "print(grade_6_rounded)"
   ]
  },
  {
   "cell_type": "markdown",
   "id": "7ee11305-12ca-4e2e-b564-47d6b86aa001",
   "metadata": {},
   "source": [
    "## Exercise 13: Green Domestic Product <a name=\"ex13\"></a>\n",
    "\n",
    "**Concepts:** String methods\n",
    "\n",
    "Here is the executive summary of a recent E4S publication, on the Green Domestic Product (GrDP) - Learn more on the [E4S website](https://e4s.center/en/resources/reports/green-domestic-product/)\n",
    "```python\n",
    "\"\"\"\n",
    "What is new?\n",
    "We propose a novel indicator, the Green Domestic Product (GrDP) to remedy some of the shortcomings of GDP. The GrGDP extends the scope of the GDP to integrate the depletion of natural, social, and human capital. Concretely, GrDP is defined as GDP minus the external costs associated with the production of goods and services, including the impacts of the emissions of greenhouse gases (GHG), air pollutants, and heavy metals.\n",
    "\n",
    "Why does it matter?\n",
    "Our decisions are influenced by what we know and by what we measure. Flawed measurements can lead to distorted decisions. By considering the economic, environmental, and social dimensions, GrGDP allows us to make more informed and sustainable policy decisions, and to move beyond the dichotomy between promoting economic growth and protecting the environment.\n",
    "\n",
    "What do we learn?\n",
    "In Switzerland, the gap between GrGDP and GDP is narrowing, the economy is growing while air pollution is decreasing. Still, external costs remain significant, about CHF 25.3 billion or 3.5% of GDP in 2019. Air pollutants and GHG both have important environmental and social impacts. However, while economic growth and air pollutant emissions are successfully decoupling, decarbonisation remains too slow. There are opportunities for the future: many decarbonisation levers have significant co-benefits by also reducing air pollutant emissions and thus enhancing GrDP growth.\n",
    "\"\"\"\n",
    "```\n",
    "\n",
    "- Count the number of times `'cost'` appears in the summary,\n",
    "- Create a new string that only contains lower cases,\n",
    "- Find the first occurrence of GrDP. Find the last one.\n",
    "- What a catastrophe, there are errors in the text! It seems like `'GrGDP'` sometimes appear instead of `'GrDP'`. Can you correct these mistakes? \n",
    "- Store a variable with the year `2019`, the country `'Switzerland'`, and the value of the external cost `25.3` billion. Using f-strings, print: `'In Switzerland, the external costs were about CHF 25.3 billion in 2019'`"
   ]
  },
  {
   "cell_type": "code",
   "execution_count": 19,
   "id": "eb3d5b76-ff61-4541-836c-4a92107c1ca0",
   "metadata": {},
   "outputs": [],
   "source": [
    "grdp_summary = \"\"\"\n",
    "What is new?\n",
    "We propose a novel indicator, the Green Domestic Product (GrDP) to remedy some of the shortcomings of GDP. The GrGDP extends the scope of the GDP to integrate the depletion of natural, social, and human capital. Concretely, GrDP is defined as GDP minus the external costs associated with the production of goods and services, including the impacts of the emissions of greenhouse gases (GHG), air pollutants, and heavy metals.\n",
    "\n",
    "Why does it matter?\n",
    "Our decisions are influenced by what we know and by what we measure. Flawed measurements can lead to distorted decisions. By considering the economic, environmental, and social dimensions, GrGDP allows us to make more informed and sustainable policy decisions, and to move beyond the dichotomy between promoting economic growth and protecting the environment.\n",
    "\n",
    "What do we learn?\n",
    "In Switzerland, the gap between GrGDP and GDP is narrowing, the economy is growing while air pollution is decreasing. Still, external costs remain significant, about CHF 25.3 billion or 3.5% of GDP in 2019. Air pollutants and GHG both have important environmental and social impacts. However, while economic growth and air pollutant emissions are successfully decoupling, decarbonisation remains too slow. There are opportunities for the future: many decarbonisation levers have significant co-benefits by also reducing air pollutant emissions and thus enhancing GrDP growth.\n",
    "\"\"\""
   ]
  },
  {
   "cell_type": "code",
   "execution_count": 20,
   "id": "2f6dacbe-58d0-4a30-8479-5128a9bcbff1",
   "metadata": {
    "tags": []
   },
   "outputs": [
    {
     "data": {
      "text/plain": [
       "2"
      ]
     },
     "execution_count": 20,
     "metadata": {},
     "output_type": "execute_result"
    }
   ],
   "source": [
    "# Count the number of times \"cost\" appears, using 'count' method\n",
    "grdp_summary.count('cost')"
   ]
  },
  {
   "cell_type": "code",
   "execution_count": 21,
   "id": "4ccd82d2-1b2d-4369-8c9d-b45a0ee03795",
   "metadata": {
    "tags": []
   },
   "outputs": [
    {
     "name": "stdout",
     "output_type": "stream",
     "text": [
      "\n",
      "what is new?\n",
      "we propose a novel indicator, the green domestic product (grdp) to remedy some of the shortcomings of gdp. the grgdp extends the scope of the gdp to integrate the depletion of natural, social, and human capital. concretely, grdp is defined as gdp minus the external costs associated with the production of goods and services, including the impacts of the emissions of greenhouse gases (ghg), air pollutants, and heavy metals.\n",
      "\n",
      "why does it matter?\n",
      "our decisions are influenced by what we know and by what we measure. flawed measurements can lead to distorted decisions. by considering the economic, environmental, and social dimensions, grgdp allows us to make more informed and sustainable policy decisions, and to move beyond the dichotomy between promoting economic growth and protecting the environment.\n",
      "\n",
      "what do we learn?\n",
      "in switzerland, the gap between grgdp and gdp is narrowing, the economy is growing while air pollution is decreasing. still, external costs remain significant, about chf 25.3 billion or 3.5% of gdp in 2019. air pollutants and ghg both have important environmental and social impacts. however, while economic growth and air pollutant emissions are successfully decoupling, decarbonisation remains too slow. there are opportunities for the future: many decarbonisation levers have significant co-benefits by also reducing air pollutant emissions and thus enhancing grdp growth.\n",
      "\n"
     ]
    }
   ],
   "source": [
    "# Lower-case using the 'lower'\n",
    "grdp_summary_l = grdp_summary.lower()\n",
    "print(grdp_summary_l)"
   ]
  },
  {
   "cell_type": "code",
   "execution_count": 22,
   "id": "0a6da8fe-cc7e-413a-9ab5-bc031a0e4616",
   "metadata": {
    "tags": []
   },
   "outputs": [
    {
     "name": "stdout",
     "output_type": "stream",
     "text": [
      "72\n",
      "1403\n"
     ]
    }
   ],
   "source": [
    "# First occurence using 'find'\n",
    "print(grdp_summary.find('GrDP'))\n",
    "\n",
    "# Last occurence using 'rfind'\n",
    "print(grdp_summary.rfind('GrDP'))"
   ]
  },
  {
   "cell_type": "code",
   "execution_count": 23,
   "id": "c965c493-c0a8-48ae-b7f6-dbf59d9a4a6b",
   "metadata": {
    "tags": []
   },
   "outputs": [
    {
     "name": "stdout",
     "output_type": "stream",
     "text": [
      "\n",
      "What is new?\n",
      "We propose a novel indicator, the Green Domestic Product (GrDP) to remedy some of the shortcomings of GDP. The GrDP extends the scope of the GDP to integrate the depletion of natural, social, and human capital. Concretely, GrDP is defined as GDP minus the external costs associated with the production of goods and services, including the impacts of the emissions of greenhouse gases (GHG), air pollutants, and heavy metals.\n",
      "\n",
      "Why does it matter?\n",
      "Our decisions are influenced by what we know and by what we measure. Flawed measurements can lead to distorted decisions. By considering the economic, environmental, and social dimensions, GrDP allows us to make more informed and sustainable policy decisions, and to move beyond the dichotomy between promoting economic growth and protecting the environment.\n",
      "\n",
      "What do we learn?\n",
      "In Switzerland, the gap between GrDP and GDP is narrowing, the economy is growing while air pollution is decreasing. Still, external costs remain significant, about CHF 25.3 billion or 3.5% of GDP in 2019. Air pollutants and GHG both have important environmental and social impacts. However, while economic growth and air pollutant emissions are successfully decoupling, decarbonisation remains too slow. There are opportunities for the future: many decarbonisation levers have significant co-benefits by also reducing air pollutant emissions and thus enhancing GrDP growth.\n",
      "\n"
     ]
    }
   ],
   "source": [
    "# Replace GrGDP by GrDP\n",
    "grdp_summary_corrected = grdp_summary.replace('GrGDP', 'GrDP')\n",
    "print(grdp_summary_corrected)"
   ]
  },
  {
   "cell_type": "code",
   "execution_count": 24,
   "id": "f988d453-b4aa-45cf-b462-e9ab5ac181fb",
   "metadata": {
    "tags": []
   },
   "outputs": [
    {
     "name": "stdout",
     "output_type": "stream",
     "text": [
      "In Switzerland, the external costs were about CHF 25.3 billion in 2019.\n"
     ]
    }
   ],
   "source": [
    "# f-string\n",
    "year = 2019\n",
    "country = 'Switzerland'\n",
    "cost = 25.3\n",
    "\n",
    "print(f'In {country}, the external costs were about CHF {cost:0.1f} billion in {year}.')"
   ]
  },
  {
   "cell_type": "markdown",
   "id": "72a66ac8-c14f-4a19-bb08-fa218c2e7644",
   "metadata": {},
   "source": [
    "## Exercise 14: Green Bonds <a name=\"ex14\"></a>"
   ]
  },
  {
   "cell_type": "markdown",
   "id": "90a45c19-6396-460c-96ff-248a7179e55f",
   "metadata": {},
   "source": [
    "**Concepts**: List Comprehension, String Methods\n",
    "\n",
    "A [Green bond](https://en.wikipedia.org/wiki/Green_bond) is a fixed-income financial instruments which is used to fund projects that have positive environmental and/or climate benefits. You have a list of green bonds identifiers: \n",
    "`gb_ID = ['CH843556=S', 'CH843556=', 'CH868037=', 'CH6YT=RR', 'CH30YT=RR', 'CH975519=', 'CH1580323=', 'CH1580323=S', 'CH2452496=S']`\n",
    "\n",
    "- Create a new list with the elements of `gb_ID` but removing the `'='` sign and what follows. For instance 'CH843556=S' should be CH843556\n",
    "- Create a new list selecting the elements of `gb_ID` with nothing after the `'='` sign, i.e. we disregard elements such as 'CH843556=S' \n",
    "\n",
    "Hints: \n",
    "- You can use list comprehension inside another list comprehension.\n",
    "- For the second question, you could use string indexing or Regular Expressions [RegEx](https://docs.python.org/3/library/re.html). See also this [tutorial](https://www.w3schools.com/python/python_regex.asp)"
   ]
  },
  {
   "cell_type": "code",
   "execution_count": 25,
   "id": "00723f2b-c16b-47a5-b692-2b60a63abb30",
   "metadata": {},
   "outputs": [
    {
     "name": "stdout",
     "output_type": "stream",
     "text": [
      "['CH843556', 'CH843556', 'CH868037', 'CH6YT', 'CH30YT', 'CH975519', 'CH1580323', 'CH1580323', 'CH2452496']\n"
     ]
    }
   ],
   "source": [
    "gb_ID = ['CH843556=S', 'CH843556=', 'CH868037=', 'CH6YT=RR', 'CH30YT=RR', 'CH975519=', 'CH1580323=', 'CH1580323=S', 'CH2452496=S']\n",
    "\n",
    "# We split each element of our list at the '=' character, and only keep the left part, indexed by 0:\n",
    "gb_clean = [i.split('=')[0] for i in gb_ID]\n",
    "\n",
    "print(gb_clean)"
   ]
  },
  {
   "cell_type": "markdown",
   "id": "cfc1c4ca-b3f6-4609-ba5f-3c708e89e98b",
   "metadata": {},
   "source": [
    "Method 1: list comprehension using string indexing"
   ]
  },
  {
   "cell_type": "code",
   "execution_count": 26,
   "id": "dbc0e177-76e2-4e3f-b752-de36dbf355be",
   "metadata": {
    "tags": []
   },
   "outputs": [
    {
     "name": "stdout",
     "output_type": "stream",
     "text": [
      "['CH843556=', 'CH868037=', 'CH975519=', 'CH1580323=']\n"
     ]
    }
   ],
   "source": [
    "# We use the fact that the last character is indexed by '-1'\n",
    "gb_clean_2 = [i for i in gb_ID if i[-1]=='=']\n",
    "\n",
    "print(gb_clean_2)"
   ]
  },
  {
   "cell_type": "markdown",
   "id": "b16ef52d-f2b3-4ea1-b8df-85342b5605ff",
   "metadata": {},
   "source": [
    "Method 2: list comprehension using RegEx"
   ]
  },
  {
   "cell_type": "code",
   "execution_count": 27,
   "id": "58f9bd7e-dfbc-4507-b2d7-f97b0785f42f",
   "metadata": {},
   "outputs": [
    {
     "name": "stdout",
     "output_type": "stream",
     "text": [
      "['CH843556=', 'CH868037=', 'CH975519=', 'CH1580323=']\n"
     ]
    }
   ],
   "source": [
    "import re\n",
    "\n",
    "# The idea is the same as before: we check if the last character is '='\n",
    "# '$' means the last character\n",
    "gb_clean_2 = [i for i in gb_ID if bool(re.search('=$',i))]\n",
    "\n",
    "print(gb_clean_2)"
   ]
  },
  {
   "cell_type": "markdown",
   "id": "2632cca8-6b81-4ce5-88d5-7e88be7f08f9",
   "metadata": {},
   "source": [
    "## Exercise 15: Optimizing recursive function <a name=\"ex15\"></a>\n",
    "\n",
    "**Concepts**: Function, Dictionaries\n",
    "\n",
    "In the \"Python-basics\" notebook, we have defined a function to calculate Fibonacci numbers: \n",
    "\n",
    "$F(0)=0$\n",
    "\n",
    "$F(1)=1$\n",
    "\n",
    "$F(n)=F(n-1)+F(n-2)$\n",
    "\n",
    "However, our function was not efficient since we needed to repeat operations. For example, to compute $F(5)$, we needed $F(4)$ and $F(3)$, but to know $F(4)$ we needed to compute $F(3)$ and $F(2)$, and so on. Since Fibonacci numbers were not stored in memory, the function calculated many identical subproblems over and over again.\n",
    "\n",
    "- Design a function that calculate Fibonacci numbers and solves the repetition issue.\n",
    "- Create a list of the first 12 Fibonacci numbers.\n",
    "\n",
    "Hint: you can use a dictionary"
   ]
  },
  {
   "cell_type": "code",
   "execution_count": 28,
   "id": "45e05963-1ef4-4920-aa68-89a55cc6de88",
   "metadata": {},
   "outputs": [
    {
     "data": {
      "text/plain": [
       "[0, 1, 1, 2, 3, 5, 8, 13, 21, 34, 55, 89]"
      ]
     },
     "execution_count": 28,
     "metadata": {},
     "output_type": "execute_result"
    }
   ],
   "source": [
    "fibonacci_number = {0: 0, 1: 1}  #Initial values\n",
    "\n",
    "def fibonacci_of(n):\n",
    "    \"\"\"This function computes Fibonacci numbers, \n",
    "    storing in a dictionary the previous calculations\"\"\"\n",
    "    if n in fibonacci_number:  # If already stored in memory\n",
    "        return fibonacci_number[n]\n",
    "    else: \n",
    "        fibonacci_number[n] = fibonacci_of(n - 1) + fibonacci_of(n - 2)  # Else, recursive case\n",
    "        return fibonacci_number[n]\n",
    "\n",
    "[fibonacci_of(n) for n in range(12)]"
   ]
  },
  {
   "cell_type": "markdown",
   "id": "a422c99d-127f-42d0-8bdd-89fb8e4420f4",
   "metadata": {},
   "source": [
    "## Exercise 16: Book information <a name=\"ex16\"></a>\n",
    "\n",
    "**Concepts**: Function, Dictionaries, kwarg\n",
    "\n",
    "We have some information about two books:\n",
    "\n",
    "`(\n",
    "Title = 'Sapiens: A Brief History of Humankind', \n",
    "Author = 'Yuval Noah Harari',\n",
    "Year = 2011,\n",
    "Language = 'Hebrew',\n",
    "ISBN = '978-0062316097')`\n",
    "\n",
    "`(\n",
    "Title = 'Les Racines du ciel',\n",
    "Author = 'Romain Gary',\n",
    "Year = 1956,\n",
    "Publisher = 'Gallimard'\n",
    ")`\n",
    "\n",
    "As you can see, the information we have differs.\n",
    "\n",
    "- Write a function that prints for each key: 'The (key) is (value).'. The key should be in lower cases, except the ISBN number.\n",
    "- Call your function with our two books.\n",
    "\n",
    "For instance, the output for the second book should look like this:\n",
    "\n",
    "The title is Les Racines du ciel.\n",
    "The author is Romain Gary.\n",
    "The year is 1956.\n",
    "The publisher is Gallimard.\n",
    "\n",
    "Hint: Try to use arbitrary keyword argument `**kwarg` and the format string method"
   ]
  },
  {
   "cell_type": "code",
   "execution_count": 29,
   "id": "f051789f-ce0f-49e5-970f-98d02018191a",
   "metadata": {},
   "outputs": [
    {
     "name": "stdout",
     "output_type": "stream",
     "text": [
      "The title is Sapiens: A Brief History of Humankind.\n",
      "The author is Yuval Noah Harari.\n",
      "The year is 2011.\n",
      "The language is Hebrew.\n",
      "The ISBN is 978-0062316097.\n",
      "\n",
      "The title is Les Racines du ciel.\n",
      "The author is Romain Gary.\n",
      "The year is 1956.\n",
      "The publisher is Gallimard.\n",
      "\n"
     ]
    }
   ],
   "source": [
    "def book_info(**book):\n",
    "    for key, value in book.items():\n",
    "        if key == 'ISBN':\n",
    "            print(\"The {} is {}.\".format(key,value))\n",
    "        else:\n",
    "            print(\"The {} is {}.\".format(key.lower(),value))\n",
    "    else:\n",
    "        print('')\n",
    "\n",
    "book_info(Title = 'Sapiens: A Brief History of Humankind', \n",
    "          Author = 'Yuval Noah Harari',\n",
    "          Year = 2011,\n",
    "          Language = 'Hebrew',\n",
    "          ISBN = '978-0062316097')\n",
    "\n",
    "book_info(Title = 'Les Racines du ciel',\n",
    "          Author= 'Romain Gary',\n",
    "          Year = 1956,\n",
    "          Publisher = 'Gallimard')"
   ]
  }
 ],
 "metadata": {
  "kernelspec": {
   "display_name": "Python 3 (ipykernel)",
   "language": "python",
   "name": "python3"
  },
  "language_info": {
   "codemirror_mode": {
    "name": "ipython",
    "version": 3
   },
   "file_extension": ".py",
   "mimetype": "text/x-python",
   "name": "python",
   "nbconvert_exporter": "python",
   "pygments_lexer": "ipython3",
   "version": "3.11.3"
  }
 },
 "nbformat": 4,
 "nbformat_minor": 5
}
