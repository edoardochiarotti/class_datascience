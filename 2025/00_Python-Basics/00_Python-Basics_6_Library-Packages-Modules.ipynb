{
 "cells": [
  {
   "cell_type": "markdown",
   "id": "1d888fa0-4629-42a3-a111-8d8a84086c18",
   "metadata": {},
   "source": [
    "<a href=\"https://colab.research.google.com/github/edoardochiarotti/class_datascience/blob/main/2024/00_Python-Basics/00_Python-Basics_6_Library-Packages-Modules.ipynb\" target=\"_blank\" rel=\"noopener\"><img src=\"https://colab.research.google.com/assets/colab-badge.svg\" alt=\"Open In Colab\"/></a>"
   ]
  },
  {
   "cell_type": "markdown",
   "id": "2bab199f-4ae1-4d52-890a-b2c9b70d06d8",
   "metadata": {
    "tags": []
   },
   "source": [
    "# Python-Basics: Library, Packages and Modules"
   ]
  },
  {
   "cell_type": "markdown",
   "id": "915dc561-8d61-4533-a745-a19e156c10ae",
   "metadata": {},
   "source": [
    "<img src='https://www.agent-x.com.au/wp-content/uploads/2011/06/Perfect-Programmer-dfe194b-e8d3b11-b960bd5.jpg' width=\"400\">\n",
    "\n",
    "Source: [Agent-X Comics - Perfect Programming](https://www.agent-x.com.au/comic/perfect-programming/)"
   ]
  },
  {
   "cell_type": "markdown",
   "id": "20d24526-076b-46a7-b8f8-c074ba76199c",
   "metadata": {},
   "source": [
    "## Content\n",
    "\n",
    "Until now, we have operated on our data using built-in functions, operators, and objects' methods. We already performed quite neat operations thanks to the Python Standard Library, which has lots of built-in modules that contain useful functions and data types for doing specific tasks. But we can also use modules from outside the standard library, and we can even write our own modules!\n",
    "\n",
    "- [Library, Packages and Modules](#Library,-Packages-and-Modules)\n",
    "   - [Import packages](#Import-packages)\n",
    "   - [Style Guide for Python Code](#Style-Guide-for-Python-Code)"
   ]
  },
  {
   "cell_type": "markdown",
   "id": "63f022b5-958b-487c-8528-4df5a81f8a15",
   "metadata": {},
   "source": [
    "## Library, Packages and Modules <a name=\"Library,-Packages-and-Modules\"></a>"
   ]
  },
  {
   "cell_type": "markdown",
   "id": "b0284ae9-62d8-403a-b4be-413786ea09c6",
   "metadata": {},
   "source": [
    "A **module** is contained in a file that ends with `.py`. This file can have **classes**, functions, and other objects. We will not discuss classes for now, just remember that a class is like an object constructor, or a \"blueprint\" for creating objects (Check the [Documentation](https://docs.python.org/3/tutorial/classes.html) to learn more and a nice introduction from [GeeksforGeeks](https://www.geeksforgeeks.org/python-classes-and-objects/)).\n",
    "\n",
    "A **package** contains several related modules that are all grouped together under one name. For instance, [Pandas](http://pandas.pydata.org) (derived from \"panel data\") is the go-to package for data analysis and manipulation. Another fundamental package for scientific computing is [NumPy](http://www.numpy.org) (Numerical Python).\n",
    "\n",
    "A **library** is an umbrella term referring to a reusable chunk of code, which usually contains a collection of related modules and packages. For instance, [Matplotlib](https://matplotlib.org/) is a comprehensive library for creating static, animated, and interactive visualizations. In practice, library and package are often used interchangeably.\n",
    "\n",
    "Standard Python installations come with the standard library. Outside of the standard library, there are several packages available such as pandas and NumPy. There are currently more than 300,000 packages available through the [Python Package Index](https://pypi.python.org/pypi), PyPI! Usually, you can ask Google about what you are trying to do, and there is often a third party module to help you do it. The most useful (for scientific computing) and thoroughly tested packages and modules are available using `conda`. Others can be installed using `pip`.\n",
    "\n",
    "We will discover several other packages along our journey, but for now let's discover how to access and use packages and modules.  "
   ]
  },
  {
   "cell_type": "markdown",
   "id": "84b4cbce-5287-400c-b841-b06ef2f33d9e",
   "metadata": {},
   "source": [
    "### Import packages <a name=\"Import-packages\"></a>\n",
    "\n",
    "To access a package, we have to `import` it. For instance, let's import the `numpy` package:"
   ]
  },
  {
   "cell_type": "code",
   "execution_count": 1,
   "id": "7d9244ec-1a27-4b55-a279-d37fed666caa",
   "metadata": {},
   "outputs": [],
   "source": [
    "import numpy"
   ]
  },
  {
   "cell_type": "markdown",
   "id": "7fff0e18-9c9f-43c6-a163-f7fd916bf5a7",
   "metadata": {},
   "source": [
    "That's it! Now we can start using the numerous functionalities offered by `numpy` such as means, medians, standard deviations, and lots and lots and lots of other numerical operations. Let's explore what is available in `numpy`. Remember, in Python everything is an object, so if we want to access the methods and attributes available in `numpy`, we use dot syntax. In Colab, we can type `numpy.` and then hit tab to discover what the module offers, Note that this technique works for all objects, so do not hesitate to use it when, for instance, you do not remember the name of a method:"
   ]
  },
  {
   "cell_type": "code",
   "execution_count": null,
   "id": "2ca52ad4-b3f2-4762-b476-b4c94a770ecf",
   "metadata": {},
   "outputs": [],
   "source": [
    "numpy."
   ]
  },
  {
   "cell_type": "markdown",
   "id": "fcac21ee-5138-4060-bf64-426022269bf6",
   "metadata": {},
   "source": [
    "That's a lot of options! Let's try the `numpy.mean()` function:"
   ]
  },
  {
   "cell_type": "code",
   "execution_count": 3,
   "id": "4d1ac695-1a71-460b-b084-fc6513693fc5",
   "metadata": {},
   "outputs": [
    {
     "data": {
      "text/plain": [
       "3.5"
      ]
     },
     "execution_count": 3,
     "metadata": {},
     "output_type": "execute_result"
    }
   ],
   "source": [
    "my_lis = [1,2,3,4,5,6]\n",
    "\n",
    "numpy.mean(my_lis)"
   ]
  },
  {
   "cell_type": "markdown",
   "id": "72697687-4bd9-442c-af2f-286191fa52a7",
   "metadata": {},
   "source": [
    "Nice! Let's try the `numpy.median()` function:"
   ]
  },
  {
   "cell_type": "code",
   "execution_count": 4,
   "id": "7a87660c-b4c4-436b-bf68-a4903fb2fa67",
   "metadata": {},
   "outputs": [
    {
     "data": {
      "text/plain": [
       "3.5"
      ]
     },
     "execution_count": 4,
     "metadata": {},
     "output_type": "execute_result"
    }
   ],
   "source": [
    "numpy.median(my_lis)"
   ]
  },
  {
   "cell_type": "markdown",
   "id": "2a90aed9-e5d5-4bf2-8996-26578b0edacd",
   "metadata": {},
   "source": [
    "This is cool. It gives the median, including when we have an even number of elements in the sequence of numbers, in which case it automatically interpolates. It is really important to know that it does this interpolation, since, if you are not expecting it, it can give unexpected results. So, here is an important piece of advice:\n",
    "\n",
    "<div style=\"color: dodgerblue; text-align: center; font-weight: bold;\">\n",
    "\n",
    "Always check the doc strings of functions.    \n",
    "\n",
    "</div>\n",
    "\n",
    "We can access the doc string of the `numpy.median()` function by typing `numpy.median?`:"
   ]
  },
  {
   "cell_type": "code",
   "execution_count": 5,
   "id": "ee6dc790-2447-4a39-a066-224432109357",
   "metadata": {},
   "outputs": [
    {
     "data": {
      "text/plain": [
       "\u001b[1;31mSignature:\u001b[0m \u001b[0mnumpy\u001b[0m\u001b[1;33m.\u001b[0m\u001b[0mmedian\u001b[0m\u001b[1;33m(\u001b[0m\u001b[0ma\u001b[0m\u001b[1;33m,\u001b[0m \u001b[0maxis\u001b[0m\u001b[1;33m=\u001b[0m\u001b[1;32mNone\u001b[0m\u001b[1;33m,\u001b[0m \u001b[0mout\u001b[0m\u001b[1;33m=\u001b[0m\u001b[1;32mNone\u001b[0m\u001b[1;33m,\u001b[0m \u001b[0moverwrite_input\u001b[0m\u001b[1;33m=\u001b[0m\u001b[1;32mFalse\u001b[0m\u001b[1;33m,\u001b[0m \u001b[0mkeepdims\u001b[0m\u001b[1;33m=\u001b[0m\u001b[1;32mFalse\u001b[0m\u001b[1;33m)\u001b[0m\u001b[1;33m\u001b[0m\u001b[1;33m\u001b[0m\u001b[0m\n",
       "\u001b[1;31mDocstring:\u001b[0m\n",
       "Compute the median along the specified axis.\n",
       "\n",
       "Returns the median of the array elements.\n",
       "\n",
       "Parameters\n",
       "----------\n",
       "a : array_like\n",
       "    Input array or object that can be converted to an array.\n",
       "axis : {int, sequence of int, None}, optional\n",
       "    Axis or axes along which the medians are computed. The default\n",
       "    is to compute the median along a flattened version of the array.\n",
       "    A sequence of axes is supported since version 1.9.0.\n",
       "out : ndarray, optional\n",
       "    Alternative output array in which to place the result. It must\n",
       "    have the same shape and buffer length as the expected output,\n",
       "    but the type (of the output) will be cast if necessary.\n",
       "overwrite_input : bool, optional\n",
       "   If True, then allow use of memory of input array `a` for\n",
       "   calculations. The input array will be modified by the call to\n",
       "   `median`. This will save memory when you do not need to preserve\n",
       "   the contents of the input array. Treat the input as undefined,\n",
       "   but it will probably be fully or partially sorted. Default is\n",
       "   False. If `overwrite_input` is ``True`` and `a` is not already an\n",
       "   `ndarray`, an error will be raised.\n",
       "keepdims : bool, optional\n",
       "    If this is set to True, the axes which are reduced are left\n",
       "    in the result as dimensions with size one. With this option,\n",
       "    the result will broadcast correctly against the original `arr`.\n",
       "\n",
       "    .. versionadded:: 1.9.0\n",
       "\n",
       "Returns\n",
       "-------\n",
       "median : ndarray\n",
       "    A new array holding the result. If the input contains integers\n",
       "    or floats smaller than ``float64``, then the output data-type is\n",
       "    ``np.float64``.  Otherwise, the data-type of the output is the\n",
       "    same as that of the input. If `out` is specified, that array is\n",
       "    returned instead.\n",
       "\n",
       "See Also\n",
       "--------\n",
       "mean, percentile\n",
       "\n",
       "Notes\n",
       "-----\n",
       "Given a vector ``V`` of length ``N``, the median of ``V`` is the\n",
       "middle value of a sorted copy of ``V``, ``V_sorted`` - i\n",
       "e., ``V_sorted[(N-1)/2]``, when ``N`` is odd, and the average of the\n",
       "two middle values of ``V_sorted`` when ``N`` is even.\n",
       "\n",
       "Examples\n",
       "--------\n",
       ">>> a = np.array([[10, 7, 4], [3, 2, 1]])\n",
       ">>> a\n",
       "array([[10,  7,  4],\n",
       "       [ 3,  2,  1]])\n",
       ">>> np.median(a)\n",
       "3.5\n",
       ">>> np.median(a, axis=0)\n",
       "array([6.5, 4.5, 2.5])\n",
       ">>> np.median(a, axis=1)\n",
       "array([7.,  2.])\n",
       ">>> m = np.median(a, axis=0)\n",
       ">>> out = np.zeros_like(m)\n",
       ">>> np.median(a, axis=0, out=m)\n",
       "array([6.5,  4.5,  2.5])\n",
       ">>> m\n",
       "array([6.5,  4.5,  2.5])\n",
       ">>> b = a.copy()\n",
       ">>> np.median(b, axis=1, overwrite_input=True)\n",
       "array([7.,  2.])\n",
       ">>> assert not np.all(a==b)\n",
       ">>> b = a.copy()\n",
       ">>> np.median(b, axis=None, overwrite_input=True)\n",
       "3.5\n",
       ">>> assert not np.all(a==b)\n",
       "\u001b[1;31mFile:\u001b[0m      c:\\users\\boris\\anaconda3\\lib\\site-packages\\numpy\\lib\\function_base.py\n",
       "\u001b[1;31mType:\u001b[0m      function"
      ]
     },
     "metadata": {},
     "output_type": "display_data"
    }
   ],
   "source": [
    "numpy.median?"
   ]
  },
  {
   "cell_type": "markdown",
   "id": "cbca8212-d085-4463-8442-9aa5c3e1a837",
   "metadata": {},
   "source": [
    "See in the output: \n",
    "\n",
    "    Notes\n",
    "    -----\n",
    "    Given a vector ``V`` of length ``N``, the median of ``V`` is the\n",
    "    middle value of a sorted copy of ``V``, ``V_sorted`` - i\n",
    "    e., ``V_sorted[(N-1)/2]``, when ``N`` is odd, and the average of the\n",
    "    two middle values of ``V_sorted`` when ``N`` is even.\n",
    "\n",
    "This is where the documentation tells you that the median will be reported as the average of two middle values when the number of elements is even. Note that you could also read the [median documentation](https://docs.scipy.org/doc/numpy/reference/generated/numpy.median.html), which is a bit easier to read. And you can check the [Numpy Documentation](https://numpy.org/doc/stable/) to discover the full extent of `numpy` power! "
   ]
  },
  {
   "cell_type": "markdown",
   "id": "88a27640-7db9-4eb9-b996-b5a26838da8c",
   "metadata": {},
   "source": [
    "As you can see, `numpy`and other modules are super useful and we will use then all the time. There is a drawback: we always have to use the dot syntax with the full name of the module to access the methods it contains, and typing `numpy` over and over again can get annoying... Wait a minute, you do not actually have to do that! We can use the `as` keyword to import a module as an **alias**. Numpy's alias is traditionally `np`, so you shall always use this alias:"
   ]
  },
  {
   "cell_type": "code",
   "execution_count": 6,
   "id": "99ac51fe-31d4-4bcb-80e5-870b5223b84c",
   "metadata": {},
   "outputs": [
    {
     "data": {
      "text/plain": [
       "6.14"
      ]
     },
     "execution_count": 6,
     "metadata": {},
     "output_type": "execute_result"
    }
   ],
   "source": [
    "import numpy as np\n",
    "\n",
    "np.mean([1.1, 8.4, 5.3, 6.7, 9.2])"
   ]
  },
  {
   "cell_type": "markdown",
   "id": "38233b5e-60e0-4a3b-9c97-cc632476c5b3",
   "metadata": {},
   "source": [
    "Finally, you do not have to import the full package/module if you want to use only a specific element. For example, suppose we need the value of pi, which can be accessed via the `math` module ([Documentation](https://docs.python.org/3/library/math.html). We could do as before, importing the full module:"
   ]
  },
  {
   "cell_type": "code",
   "execution_count": 7,
   "id": "c11167b5-040c-42cc-8c7c-91c926c31348",
   "metadata": {},
   "outputs": [
    {
     "data": {
      "text/plain": [
       "3.141592653589793"
      ]
     },
     "execution_count": 7,
     "metadata": {},
     "output_type": "execute_result"
    }
   ],
   "source": [
    "import math\n",
    "\n",
    "math.pi"
   ]
  },
  {
   "cell_type": "markdown",
   "id": "27eb7e1d-e878-411d-9d39-6fdde5cadc56",
   "metadata": {},
   "source": [
    "Alternatively, we only import `pi`:"
   ]
  },
  {
   "cell_type": "code",
   "execution_count": 8,
   "id": "52e34caa-4721-40e6-9c9e-c7a0c7e0f8c5",
   "metadata": {},
   "outputs": [
    {
     "data": {
      "text/plain": [
       "3.141592653589793"
      ]
     },
     "execution_count": 8,
     "metadata": {},
     "output_type": "execute_result"
    }
   ],
   "source": [
    "from math import pi\n",
    "\n",
    "pi"
   ]
  },
  {
   "cell_type": "markdown",
   "id": "e7b7c50d-3c6e-4df6-8ff2-252d162a0ded",
   "metadata": {},
   "source": [
    "Amazing, when using from-import, we do not need to use the dot syntax! Indeed, in this example, we did not import the full module, rather just `pi` as a variable."
   ]
  },
  {
   "cell_type": "markdown",
   "id": "9403b82e-d0a6-4c64-9123-1fdd3fde7a80",
   "metadata": {},
   "source": [
    "Packages and modules are super convenient. If you want to do something that seems really common, a good programmer (or a team of them) probably already wrote something to do that. So always check online what is there before jumping in into coding complex pieces of codes! "
   ]
  },
  {
   "cell_type": "markdown",
   "id": "06337c2f-18c9-4c25-b96d-701e4ec94ea8",
   "metadata": {},
   "source": [
    "### Style Guide for Python Code <a name=\"Style-Guide-for-Python-Code\"></a>\n",
    "\n",
    "There are some good practices when writing Python code. A great Python style guide is [PEP 8](https://www.python.org/dev/peps/pep-0008/). Here is the recommendation about importing libraries, packages, and modules:  \n",
    "\n",
    ">Imports are always put at the top of the file, just after any module comments and docstrings, and before module globals and constants.\n",
    ">\n",
    ">Imports should be grouped in the following order:\n",
    ">\n",
    ">1. standard library imports\n",
    ">2. related third party imports\n",
    ">3. local application/library specific imports\n",
    ">\n",
    ">You should put a blank line between each group of imports.\n",
    "\n",
    "Try to follow this guide!"
   ]
  }
 ],
 "metadata": {
  "kernelspec": {
   "display_name": "Python 3 (ipykernel)",
   "language": "python",
   "name": "python3"
  },
  "language_info": {
   "codemirror_mode": {
    "name": "ipython",
    "version": 3
   },
   "file_extension": ".py",
   "mimetype": "text/x-python",
   "name": "python",
   "nbconvert_exporter": "python",
   "pygments_lexer": "ipython3",
   "version": "3.11.3"
  }
 },
 "nbformat": 4,
 "nbformat_minor": 5
}
