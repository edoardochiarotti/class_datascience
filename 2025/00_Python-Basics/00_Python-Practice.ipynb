{
 "cells": [
  {
   "cell_type": "markdown",
   "id": "b86a6e96-90ac-431b-9dd6-65db5f41f233",
   "metadata": {},
   "source": [
    "<a href=\"https://colab.research.google.com/github/edoardochiarotti/class_datascience/blob/main/2024/00_Python-Basics/00_Python-Practice.ipynb\" target=\"_blank\" rel=\"noopener\"><img src=\"https://colab.research.google.com/assets/colab-badge.svg\" alt=\"Open In Colab\"/></a>"
   ]
  },
  {
   "cell_type": "markdown",
   "id": "b2386e79-24ac-4c7a-a50f-8f3e635620d1",
   "metadata": {},
   "source": [
    "# Statistics and Data Science: Practice with Python!\n",
    "\n",
    "<img src='https://education.launchcode.org/lchs/_images/good-at-python.jpg' width=\"400\">"
   ]
  },
  {
   "cell_type": "markdown",
   "id": "65182feb-ab74-4580-b612-71d6fb965536",
   "metadata": {},
   "source": [
    "## Content\n",
    "\n",
    "The goal of this walkthough is to help you practice your python skills. Each exercise relates to concepts developed in the notebook \"01_Python-Basics\".\n",
    "\n",
    "- [Exercise 1: From strings to numbers](#ex1)\n",
    "- [Exercise 2: Combining strings and numbers](#ex2)\n",
    "- [Exercise 3: Modular exponentiation](#ex3)\n",
    "- [Exercise 4: Pro-environmental behaviors and environmental knowledge](#ex4)\n",
    "- [Exercise 5: Pro-environmental behaviors and financial incentives](#ex5)\n",
    "- [Exercise 6: Crowding out moral motives](#ex6)\n",
    "- [Exercise 7: Threshold degree of morality](#ex7)\n",
    "- [Exercise 8: GHG emissions in Europe](#ex8)\n",
    "- [Exercise 9: Data normalization](#ex9)\n",
    "- [Exercise 10: Data normalization with Euclidean norm](#ex10)\n",
    "- [Exercise 11: Data cleaning with comprehension](#ex11)\n",
    "- [Exercise 12: Data manipulation using dictionary comprehension](#ex12)\n",
    "- [Exercise 13: Green Domestic Product](#ex13)\n",
    "- [Exercise 14: Green bonds](#ex14)\n",
    "- [Exercise 15: Optimizing recursive function](#ex15)\n",
    "- [Exercise 16: Book information](#ex16)"
   ]
  },
  {
   "cell_type": "markdown",
   "id": "02f25f43-7918-4257-ae95-14051258788f",
   "metadata": {},
   "source": [
    "## Exercise 1: From strings to numbers <a name=\"ex1\"></a>\n",
    "\n",
    "**Concepts:** Variables, Data Types\n",
    "\n",
    "- Create a variable `my_float` storing the `float` number of your choice.\n",
    "- Convert your `float` into a `string`, and store this `string` into a variable `my_str`\n",
    "- Convert back your `string` into a `float`, and store it into a variable `my_float_2`\n",
    "- Print `my_float`, `my_str`, and `my_float_2`, and the types of each variable."
   ]
  },
  {
   "cell_type": "code",
   "execution_count": null,
   "id": "30aa8097-cdf9-4c9f-b461-bd6ab88b278f",
   "metadata": {},
   "outputs": [],
   "source": [
    "# Your code here...\n",
    "\n"
   ]
  },
  {
   "cell_type": "markdown",
   "id": "fb4f6003-3339-4849-9606-cb0aba509010",
   "metadata": {},
   "source": [
    "## Exercise 2: Combining strings and numbers <a name=\"ex2\"></a>\n",
    "\n",
    "**Concepts:** Variables, Data Types\n",
    "\n",
    "- Create a variable `last_name` with your last name and a variable `first_name` with your first name. \n",
    "- Create a variable `age` storing your age (as an integer).\n",
    "- Create a string variable `background` with your field of study during your bachelor, e.g., economics, environmental sciences, etc.\n",
    "- Print a string where you present yourself, using the variables you previously created. You should get something like: `'My name is Adam Smith. I am 199 years old. I studied moral philosophy'`"
   ]
  },
  {
   "cell_type": "code",
   "execution_count": null,
   "id": "9274be3a-f50e-48fa-8d8e-f447622154b6",
   "metadata": {},
   "outputs": [],
   "source": [
    "# Your code here...\n",
    "\n"
   ]
  },
  {
   "cell_type": "markdown",
   "id": "7ea52912-3086-47b1-89d1-2eaae2066e0f",
   "metadata": {},
   "source": [
    "## Exercise 3: Modular exponentiation <a name=\"ex3\"></a>\n",
    "\n",
    "**Concepts:** Arithmetic Operators\n",
    "\n",
    "[Modular exponentiation](https://en.wikipedia.org/wiki/Modular_exponentiation) is exponentiation performed over a modulus. It is useful in computer science, for example in cryptography algorithms such as [Diffie-Hellman Key Exchange](https://en.wikipedia.org/wiki/Diffie%E2%80%93Hellman_key_exchange) and [RSA public/private keys](https://en.wikipedia.org/wiki/RSA_(cryptosystem)).\n",
    "\n",
    "Let's take an example: $7^{2} \\; mod \\; 9 = 49 \\; mod \\; 9 = 4$ because $49 = 9*5 + 4$\n",
    "\n",
    "- Compute $5^{13} \\; mod \\; 13$ and $10^{13} \\; mod \\; 13$. What do you observe?\n",
    "- Compute $4^{6} \\; mod \\; 7$ and $15^{6} \\; mod \\; 7$. What do you observe?\n",
    "\n",
    "If you wish to understand the general case, check [Fermat's little theorem](https://en.wikipedia.org/wiki/Fermat%27s_little_theorem)"
   ]
  },
  {
   "cell_type": "code",
   "execution_count": null,
   "id": "0e0820a7-39f0-4ed5-83b6-8e389beaef20",
   "metadata": {},
   "outputs": [],
   "source": [
    "# Your code here...\n",
    "\n"
   ]
  },
  {
   "cell_type": "markdown",
   "id": "77d74af3-be0b-468d-8b78-b5e9daa6ea90",
   "metadata": {},
   "source": [
    "## Exercise 4: Pro-environmental behaviors and environmental knowledge <a name=\"ex4\"></a>\n",
    "\n",
    "**Concepts:** Conditionals\n",
    "\n",
    "We are going to study the condition for cooperation in [collective action problem](https://en.wikipedia.org/wiki/Collective_action_problem), also called social dilemma. In such situation, all individuals would be better off cooperating but fail to do so because of conflicting interests between them, which discourage joint action. The illustration below represents a social dilemma:\n",
    "- the blue line tells us what individuals get - i.e., their payoffs - when cooperating.  \n",
    "- the red-dashed line tells us what individuals get when they do not cooperate, which is called \"defecting\".\n",
    "- the payoffs depend on how many people cooperate in the population, represented by the x-axis. When the share of cooperators increase, the payoffs of individuals also increaset\n",
    "- it is costly to cooperate: the payoffs when defecting (red-dashed line) is larger than the payoffs when cooperating (blue line). The difference between the two lines is called the \"individual cost\" to cooperate.\n",
    "- finally, we call the social benefit the difference in payoffs between a situation of full cooperation and a situation of full defection. \n",
    "\n",
    "<img src='https://i.postimg.cc/44HkDp79/Social-Dilemma.png' width=\"800\">\n",
    "\n",
    "Many environmental issues takes the form of a social dilemma. For example, recycling requires time and efforts but decreases the consumption of materials if widely adopted. Purchasing an electric vehicle is costly but reduces air pollutants, associated with various respiratory and cardio-vascular health diseases, and greenhouse gas emissions, responsible for climate change.\n",
    "\n",
    "We will assume that individuals have *homo moralis* preferences: they consider not only their selfish payoff but also what happens when all others do the same action. The weight of selfishness and morality depends on the individual degree of morality. Recent economic literature has demonstrated that such preference provides an evolutionary advantage (see e.g., [Alger & Weibull, 2013](https://onlinelibrary.wiley.com/doi/abs/10.3982/ECTA10637)).\n",
    "\n",
    "We can demonstrate that *homo moralis* individuals cooperate in a social dilemma (e.g., perform a pro-environmental action) when their social benefit weighted by their degree of morality is greater than their individual cost of acting weighted by their degree of selfishness ([Ayoubi and Thurm, 2021](https://papers.ssrn.com/sol3/papers.cfm?abstract_id=3681953)). \n",
    "\n",
    "However, there is a key assumption behind this result: we assume that individuals have a perfect knowledge of environmental issues, of the cost of pollution, and thus of the benefits of not polluting. Obviously, in reality, many individuals are poorly informed about environmental issues. Actually, even informed individuals do not have a full understanding of the impacts of pollution. Think about climate change: the impacts are future, there are lots of uncertainties for example regarding catastrophic events (flood, drought), and many impacts are still unknown or not measured, for instance biodiversity loss.\n",
    "\n",
    "We can update our condition for cooperation based on the (environmental) knowledge of individual. Let's call $\\Omega \\in [0,1]$ the knowledge level, $\\kappa$ the degree of morality, $SB$ the social benefit, and $IC$ the individual cost of acting. An individual will cooperate if and only if:\n",
    "\n",
    "$\\kappa * \\Omega * SB \\geq (1-\\kappa) * IC$\n",
    "\n",
    "- Consider two individuals, Jordane and Florence, involved in a social dilemma where $IC=1$, $SB=3$. They both have the same degree of morality $\\kappa = 0.3$. However, Florence's environmental-knowledge level is $\\Omega_{F}=0.9$ and Jordane's environmental-knowledge level is $\\Omega_{J}=0.7$. Write a `if` statement that prints who is performing an environmental-friendly action. The output should be: `'Florence and Jordane perform an environmental-friendly action'`, `'Only Florence performs an environmental-friendly action'`, `'Only Jordane performs an environmental-friendly action'`, and `'Neither Florence nor Jordane perform an environmental-friendly action'`.  "
   ]
  },
  {
   "cell_type": "code",
   "execution_count": null,
   "id": "aab16f11-7610-42f7-8b04-278b941a2eea",
   "metadata": {},
   "outputs": [],
   "source": [
    "# Your code here...\n",
    "\n"
   ]
  },
  {
   "cell_type": "markdown",
   "id": "95c7aa4d-9cb4-407d-bdd1-d2c512279cbf",
   "metadata": {},
   "source": [
    "## Exercise 5: Pro-environmental behaviors and financial incentives <a name=\"ex5\"></a>\n",
    "\n",
    "**Concepts:** Iteration\n",
    "\n",
    "Exercise 4 illustrated that the level of environmental knowledge plays a key role in individuals' decision-making. What can policy-makers do to promote pro-environmental behaviors? One option is to rely on financial instruments, such as fines, taxes, and subsidies. For example, in many countries, there exists subsidies to enhance energy efficiency in buildings (e.g., insulation, efficient boilers and electric appliances), renewable energy installation (e.g., photovoltaic, solar thermal, heat pump), and clean transport (e.g., electric and hybrid cars).\n",
    "\n",
    "We can update our condition for cooperation when we introduce a subsidy. Let's call $\\tau$ the subsidy, $\\Omega \\in [0,1]$ the knowledge level, $\\kappa$ the degree of morality, $SB$ the social benefit, and $IC$ the individual cost of acting. An individual will cooperate if and only if:\n",
    "\n",
    "$\\kappa * \\Omega * (SB+\\tau) \\geq (1-\\kappa) * (IC-\\tau)$\n",
    "\n",
    "- Consider the same social dilemma as before ($IC=1$, $SB=3$). Charles is an individual with degree of morality $\\kappa = 0.3$ and environmental-knowledge $\\Omega=0.5$. You are a policy-maker. Your objective is that Charles performs an pro-environmental action, but you hesitate between different level of subsidies $\\tau = (0, 0.25, 0.5, 0.75, 1)$. Write a `for` loop that prints whether of not each subsidy level is sufficient to trigger cooperation. For example, for a level of subsidy of 0.5, the output should either be `'A level of subsidy of 0.5 is not sufficient to promote pro-environmental action'` or `'A level of subsidy of 0.5 is sufficient to promote pro-environmental action'`. "
   ]
  },
  {
   "cell_type": "code",
   "execution_count": null,
   "id": "24e616f6-dd09-448c-86ad-2cbc2732839a",
   "metadata": {},
   "outputs": [],
   "source": [
    "# Your code here...\n",
    "\n"
   ]
  },
  {
   "cell_type": "markdown",
   "id": "564fc588-0afb-4175-9699-91e478ff29a2",
   "metadata": {},
   "source": [
    "## Exercise 6: Crowding out moral motives <a name=\"ex6\"></a>\n",
    "\n",
    "**Concepts:** Iteration\n",
    "\n",
    "Exercise 5 illustrated how financial incentives can be effective in promoting cooperation. But (there is always a but), we made a crucial assumption to obtain our result. Can you guess what is this key assumption?\n",
    "\n",
    "We assumed that when we introduced a financial incentive, everything else remained the same. More precisely, we assumed that the implementation of financial incentives would not affect individuals' morality. In reality, many empirical studies show that the introduction of financial incentives can crowd out moral motives. One of the most famous study is from Gneezy and Rustichini (2000). In a field-study in day-care centers, they have shown that the introduction of a fine for parents arriving late to collect their children significantly increased the number of late-coming parents. Even worse, the effect was not reversible: after the fine was removed, no reduction occurred. Similar effects have been observed for environmental policy, suggesting that putting a price on Nature can lead individuals to leave the \"moral sphere\" towards the \"economic sphere\". In our model, this implies a decrease of the degree of morality. \n",
    "\n",
    "- Consider the same social dilemma as before ($IC=1$, $SB=3$), and our individual Charles with environmental-knowledge $\\Omega=0.5$. However, because we introduced a financial incentives, the degree of morality of Charles is now $\\kappa = 0.2$. Find the lowest subsidy $\\tau$ that would make Charles cooperate. \n",
    "\n",
    "Note: the condition for cooperation is still the same: \n",
    "$\\kappa * \\Omega * (SB+\\tau) \\geq (1-\\kappa) * (IC-\\tau)$"
   ]
  },
  {
   "cell_type": "code",
   "execution_count": null,
   "id": "1de70130-5027-446d-b553-04951995e7a1",
   "metadata": {},
   "outputs": [],
   "source": [
    "# Your code here...\n",
    "\n"
   ]
  },
  {
   "cell_type": "markdown",
   "id": "0358a1b3-48b4-43ee-96ff-3f272b36a791",
   "metadata": {},
   "source": [
    "## Exercise 7: Threshold degree of morality <a name=\"ex7\"></a>\n",
    "\n",
    "**Concepts:** Function\n",
    "\n",
    "Let's take a step back and look at our initial condition for cooperation, with perfect environmental knowledge and no financial incentives:\n",
    "\n",
    "$\\kappa * SB \\geq (1-\\kappa) * IC$\n",
    "\n",
    "It is possible to find analytically the minimum degree of morality allowing for cooperation. This threshold degree of morality is:\n",
    "\n",
    "$\\kappa_0 = \\frac{IC}{IC+SB}$\n",
    "\n",
    "- Define a function `'threshold_morality()'` taking as arguments the individual cost and social benefit and returning the threshold degree of morality.\n",
    "- Find the threshold degree of morality when ($IC=1$, $SB=4$), ($IC=2$, $SB=4$), and ($IC=3$, $SB=5$). \n",
    "\n",
    "*Tips:* instead of calling three times your function with different arguments, you could create two tuples, one with individual costs, the other with social benefits, and iterate over your two tuples using the function `zip()`."
   ]
  },
  {
   "cell_type": "code",
   "execution_count": null,
   "id": "19a386d7-a0c8-45f5-a414-0ed874bc8a2d",
   "metadata": {},
   "outputs": [],
   "source": [
    "# Your code here...\n",
    "\n"
   ]
  },
  {
   "cell_type": "markdown",
   "id": "e4e63021-fab6-48af-8ebc-abbbe50931a3",
   "metadata": {
    "tags": []
   },
   "source": [
    "## Exercise 8: GHG emissions in Europe <a name=\"ex8\"></a>\n",
    "\n",
    "**Concepts:** Dictionaries\n",
    "\n",
    "Here are the greenhouse gases (GHG) emissions of Switzerland, France, Germany, Italy, Austria in 2019 in thousands tonnes $CO_{2e}$: `(43981.6, 422251.6, 784842.1, 377672.5, 77111.4)`\n",
    "\n",
    "- Create a dictionary associating each country with its GHG emissions.\n",
    "- Extract the keys of your dictionary in a list.\n",
    "- Append your dictionary with the emissions of Spain: 276723.2 \n",
    "- Using a `for` loop, convert the GHG values in tonnes $CO_{2e}$ "
   ]
  },
  {
   "cell_type": "code",
   "execution_count": null,
   "id": "ff39cb64-55ac-4c8f-81e2-1174972904bd",
   "metadata": {},
   "outputs": [],
   "source": [
    "# Your code here...\n",
    "\n"
   ]
  },
  {
   "cell_type": "markdown",
   "id": "740d793c-58cf-445a-bea6-0dd33d6278c0",
   "metadata": {},
   "source": [
    "## Exercise 9: Data normalization <a name=\"ex9\"></a>\n",
    "\n",
    "**Concepts:** List comprehension\n",
    "\n",
    "A very common operation is to transform you data by normalization. Imagine you have a list of data points $x=$`[2,7,5,4,9,3]` and you want to perform a 0-1 normalization, i.e., convert the data between 0 and 1 with the following operation:\n",
    "\n",
    "$\\hat{x}_{i} = \\frac{x_{i}-min(x)}{max(x)-min(x)}$\n",
    "\n",
    "0-1 normalization is common (necessary) when you deal with several variables that have very different scales.\n",
    "\n",
    "- Create a new list that performs a 0-1 normalization on $x$. \n",
    "\n",
    "*Hint: You can use the `min()` and `max()` functions to obtain the minimum and maximum of a list* "
   ]
  },
  {
   "cell_type": "code",
   "execution_count": null,
   "id": "ae7a5019-497b-4dea-ad45-496a787262ef",
   "metadata": {},
   "outputs": [],
   "source": [
    "# Your code here...\n",
    "\n"
   ]
  },
  {
   "cell_type": "markdown",
   "id": "88ef4b58-5282-4bba-a18f-1b61a34295a0",
   "metadata": {
    "tags": []
   },
   "source": [
    "## Exercise 10: Data normalization with Euclidean norm <a name=\"ex10\"></a>\n",
    "\n",
    "**Concepts:** List Comprehension \n",
    "\n",
    "A very common operation is to transform you data by normalization. Imagine you have a list of data points $x=$`[21.4,45.7,38.5,76.4,61.9,43.4,52.6,27.2]` and you want to normalize your data using the [Euclidean norm](https://en.wikipedia.org/wiki/Norm_(mathematics)#Euclidean_norm), i.e., convert the data between 0 and 1 with the following operation:\n",
    "\n",
    "$\\hat{x}_{i} = \\frac{x_{i}}{||x||}$\n",
    "\n",
    "where: $||x||=\\sqrt{x_1^2+...+x_n^2}$\n",
    "\n",
    "Normalization is common (necessary) when you deal with several variables that have very different scales.\n",
    "\n",
    "- Using list comprehension, create a new list with normalized $x$ using the Euclidean norm. "
   ]
  },
  {
   "cell_type": "code",
   "execution_count": null,
   "id": "a8f4ecff-7a44-440c-9efb-88f4232ed53b",
   "metadata": {
    "tags": []
   },
   "outputs": [],
   "source": [
    "# Your code here...\n",
    "\n"
   ]
  },
  {
   "cell_type": "markdown",
   "id": "a09ab476-648e-44b7-b88c-3dca72e6b84d",
   "metadata": {},
   "source": [
    "## Exercise 11: Data cleaning with comprehension <a name=\"ex11\"></a>\n",
    "\n",
    "**Concepts:** List Comprehension\n",
    "\n",
    "Suppose we have the following list: $x=$`[21.4, 'NaN', 45.7,38.5,76.4,61.9, 'NaN', 43.4,52.6,27.2]`. Unfortunately we have some `'NaN'` values (Not a Number).\n",
    "\n",
    "- Clean your list, dropping `'NaN'` values, using list comprehension"
   ]
  },
  {
   "cell_type": "code",
   "execution_count": null,
   "id": "ee0ecb9f-b4f6-4f9b-8274-ee581ebbd263",
   "metadata": {},
   "outputs": [],
   "source": [
    "# Your code here...\n",
    "\n"
   ]
  },
  {
   "cell_type": "markdown",
   "id": "df244ccd-89cf-4043-83f5-5e7d5e64cb75",
   "metadata": {},
   "source": [
    "## Exercise 12: Data manipulation using dictionary comprehension <a name=\"ex12\"></a>\n",
    "\n",
    "**Concepts:** Dictionary Comprehension\n",
    "\n",
    "Comprehension is not only for list, dictionary too! Suppose you have the following dictionary, with the grades of some students on a 0-100 scale:\n",
    "\n",
    "`{'Adam': 72, 'Hinata': 91, 'Sergei': 87, 'Edouard': 81, 'Elena': 79}`\n",
    "\n",
    "- Use dictionary comprehension to convert the grade from the 0-100 scale to the Swiss 0-6 scale.\n",
    "- Use dictionary comprehension to round to the nearest 0.25 (for instance 4.2 should be converted to 4.25). \n",
    "\n",
    "Tips: you can use the `round()` function"
   ]
  },
  {
   "cell_type": "code",
   "execution_count": null,
   "id": "807e5746-671d-4dca-ad36-15c875b0108e",
   "metadata": {},
   "outputs": [],
   "source": [
    "# Your code here...\n",
    "\n"
   ]
  },
  {
   "cell_type": "markdown",
   "id": "7ee11305-12ca-4e2e-b564-47d6b86aa001",
   "metadata": {},
   "source": [
    "## Exercise 13: Green Domestic Product <a name=\"ex13\"></a>\n",
    "\n",
    "**Concepts:** String methods\n",
    "\n",
    "Here is the executive summary of a recent E4S publication, on the Green Domestic Product (GrDP) - Learn more on the [E4S website](https://e4s.center/en/resources/reports/green-domestic-product/)\n",
    "```python\n",
    "\"\"\"\n",
    "What is new?\n",
    "We propose a novel indicator, the Green Domestic Product (GrDP) to remedy some of the shortcomings of GDP. The GrGDP extends the scope of the GDP to integrate the depletion of natural, social, and human capital. Concretely, GrDP is defined as GDP minus the external costs associated with the production of goods and services, including the impacts of the emissions of greenhouse gases (GHG), air pollutants, and heavy metals.\n",
    "\n",
    "Why does it matter?\n",
    "Our decisions are influenced by what we know and by what we measure. Flawed measurements can lead to distorted decisions. By considering the economic, environmental, and social dimensions, GrGDP allows us to make more informed and sustainable policy decisions, and to move beyond the dichotomy between promoting economic growth and protecting the environment.\n",
    "\n",
    "What do we learn?\n",
    "In Switzerland, the gap between GrGDP and GDP is narrowing, the economy is growing while air pollution is decreasing. Still, external costs remain significant, about CHF 25.3 billion or 3.5% of GDP in 2019. Air pollutants and GHG both have important environmental and social impacts. However, while economic growth and air pollutant emissions are successfully decoupling, decarbonisation remains too slow. There are opportunities for the future: many decarbonisation levers have significant co-benefits by also reducing air pollutant emissions and thus enhancing GrDP growth.\n",
    "\"\"\"\n",
    "```\n",
    "\n",
    "- Count the number of times `'cost'` appears in the summary,\n",
    "- Create a new string that only contains lower cases,\n",
    "- Find the first occurrence of GrDP. Find the last one.\n",
    "- What a catastrophe, there are errors in the text! It seems like `'GrGDP'` sometimes appear instead of `'GrDP'`. Can you correct these mistakes? \n",
    "- Store a variable with the year `2019`, the country `'Switzerland'`, and the value of the external cost `25.3` billion. Using f-strings, print: `'In Switzerland, the external costs were about CHF 25.3 billion in 2019'`"
   ]
  },
  {
   "cell_type": "code",
   "execution_count": 3,
   "id": "eb3d5b76-ff61-4541-836c-4a92107c1ca0",
   "metadata": {},
   "outputs": [],
   "source": [
    "grdp_summary = \"\"\"\n",
    "What is new?\n",
    "We propose a novel indicator, the Green Domestic Product (GrDP) to remedy some of the shortcomings of GDP. The GrGDP extends the scope of the GDP to integrate the depletion of natural, social, and human capital. Concretely, GrDP is defined as GDP minus the external costs associated with the production of goods and services, including the impacts of the emissions of greenhouse gases (GHG), air pollutants, and heavy metals.\n",
    "\n",
    "Why does it matter?\n",
    "Our decisions are influenced by what we know and by what we measure. Flawed measurements can lead to distorted decisions. By considering the economic, environmental, and social dimensions, GrGDP allows us to make more informed and sustainable policy decisions, and to move beyond the dichotomy between promoting economic growth and protecting the environment.\n",
    "\n",
    "What do we learn?\n",
    "In Switzerland, the gap between GrGDP and GDP is narrowing, the economy is growing while air pollution is decreasing. Still, external costs remain significant, about CHF 25.3 billion or 3.5% of GDP in 2019. Air pollutants and GHG both have important environmental and social impacts. However, while economic growth and air pollutant emissions are successfully decoupling, decarbonisation remains too slow. There are opportunities for the future: many decarbonisation levers have significant co-benefits by also reducing air pollutant emissions and thus enhancing GrDP growth.\n",
    "\"\"\"\n",
    "\n",
    "# Your code here...\n",
    "\n"
   ]
  },
  {
   "cell_type": "markdown",
   "id": "698bfa40-df9d-44dc-8ee6-fb97d4556d49",
   "metadata": {},
   "source": [
    "## Exercise 14: Green Bonds <a name=\"ex14\"></a>"
   ]
  },
  {
   "cell_type": "markdown",
   "id": "b8af92ec-0c88-4a1a-9eb0-2be8d67e71c6",
   "metadata": {},
   "source": [
    "**Concepts**: List Comprehension, String Methods\n",
    "\n",
    "A [Green bond](https://en.wikipedia.org/wiki/Green_bond) is a fixed-income financial instruments which is used to fund projects that have positive environmental and/or climate benefits. You have a list of green bonds identifiers: \n",
    "`gb_ID = ['CH843556=S', 'CH843556=', 'CH868037=', 'CH6YT=RR', 'CH30YT=RR', 'CH975519=', 'CH1580323=', 'CH1580323=S', 'CH2452496=S']`\n",
    "\n",
    "- Create a new list with the elements of `gb_ID` but removing the `'='` sign and what follows. For instance 'CH843556=S' should be CH843556\n",
    "- Create a new list selecting the elements of `gb_ID` with nothing after the `'='` sign, i.e. we disregard elements such as 'CH843556=S' \n",
    "\n",
    "Hints: \n",
    "- You can use list comprehension inside another list comprehension.\n",
    "- For the second question, you could use Regular Expressions [RegEx](https://docs.python.org/3/library/re.html). See also this [tutorial](https://www.w3schools.com/python/python_regex.asp)"
   ]
  },
  {
   "cell_type": "code",
   "execution_count": null,
   "id": "de5b55a7-ef57-40d1-855c-e3bd2c6703f2",
   "metadata": {},
   "outputs": [],
   "source": [
    "# Your code here...\n",
    "\n"
   ]
  },
  {
   "cell_type": "markdown",
   "id": "cc5d81f0-046a-43c7-9f74-9929c1904ba7",
   "metadata": {},
   "source": [
    "## Exercise 15: Optimizing recursive function <a name=\"ex15\"></a>\n",
    "\n",
    "**Concepts**: Function, Dictionaries\n",
    "\n",
    "In the \"Python-basics\" notebook, we have defined a function to calculate Fibonacci numbers: \n",
    "\n",
    "$F(0)=0$\n",
    "\n",
    "$F(1)=1$\n",
    "\n",
    "$F(n)=F(n-1)+F(n-2)$\n",
    "\n",
    "However, our function was not efficient since we needed to repeat operations. For example, to compute $F(5)$, we needed $F(4)$ and $F(3)$, but to know $F(4)$ we needed to compute $F(3)$ and $F(2)$, and so on. Since Fibonacci numbers were not stored in memory, the function calculated many identical subproblems over and over again.\n",
    "\n",
    "- Design a function that calculate Fibonacci numbers and solves the repetition issue.\n",
    "- Create a list of the first 12 Fibonacci numbers.\n",
    "\n",
    "Hint: you can use a dictionary"
   ]
  },
  {
   "cell_type": "code",
   "execution_count": null,
   "id": "36021613-0e82-424d-a9ff-2f627bc16c7e",
   "metadata": {},
   "outputs": [],
   "source": [
    "# Your code here...\n",
    "\n"
   ]
  },
  {
   "cell_type": "markdown",
   "id": "a3cda9a4-56fc-461f-91db-e91fd398d46c",
   "metadata": {},
   "source": [
    "## Exercise 16: Book information <a name=\"ex16\"></a>\n",
    "\n",
    "**Concepts**: Function, Dictionaries, kwarg\n",
    "\n",
    "We have some information about two books:\n",
    "\n",
    "`(\n",
    "Title = 'Sapiens: A Brief History of Humankind', \n",
    "Author = 'Yuval Noah Harari',\n",
    "Year = 2011,\n",
    "Language = 'Hebrew',\n",
    "ISBN = '978-0062316097')`\n",
    "\n",
    "`(\n",
    "Title = 'Les Racines du ciel',\n",
    "Author = 'Romain Gary',\n",
    "Year = 1956,\n",
    "Publisher = 'Gallimard'\n",
    ")`\n",
    "\n",
    "As you can see, the information we have differs.\n",
    "\n",
    "- Write a function that prints for each key: 'The (key) is (value).'. The key should be in lower cases, except the ISBN number.\n",
    "- Call your function with our two books.\n",
    "\n",
    "For instance, the output for the second book should look like this:\n",
    "\n",
    "The title is Les Racines du ciel.\n",
    "The author is Romain Gary.\n",
    "The year is 1956.\n",
    "The publisher is Gallimard.\n",
    "\n",
    "Hint: Try to use arbitrary keyword argument `**kwarg` and the format string method"
   ]
  },
  {
   "cell_type": "code",
   "execution_count": null,
   "id": "d8af6f4a-b59f-4455-b247-ff88667a4076",
   "metadata": {},
   "outputs": [],
   "source": [
    "# Your code here...\n",
    "\n"
   ]
  }
 ],
 "metadata": {
  "kernelspec": {
   "display_name": "Python 3 (ipykernel)",
   "language": "python",
   "name": "python3"
  },
  "language_info": {
   "codemirror_mode": {
    "name": "ipython",
    "version": 3
   },
   "file_extension": ".py",
   "mimetype": "text/x-python",
   "name": "python",
   "nbconvert_exporter": "python",
   "pygments_lexer": "ipython3",
   "version": "3.11.3"
  }
 },
 "nbformat": 4,
 "nbformat_minor": 5
}
