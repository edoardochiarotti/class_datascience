{
 "cells": [
  {
   "cell_type": "markdown",
   "id": "e5a6782e-5211-4979-934a-f4da03f307a5",
   "metadata": {},
   "source": [
    "<a href=\"https://colab.research.google.com/github/edoardochiarotti/class_datascience/blob/main/2024/00_Python-Basics/00_Python-Basics_1_Variables-Operators-Conditionals.ipynb\" target=\"_blank\" rel=\"noopener\"><img src=\"https://colab.research.google.com/assets/colab-badge.svg\" alt=\"Open In Colab\"/></a>"
   ]
  },
  {
   "cell_type": "markdown",
   "id": "f9e5cfd8-c238-43ff-b537-ca5faae20742",
   "metadata": {},
   "source": [
    "# Python Basics: let's start!"
   ]
  },
  {
   "cell_type": "markdown",
   "id": "0e161ad9-2a49-4d87-bb8f-ad8ea431807a",
   "metadata": {},
   "source": [
    "<img src='https://www.agent-x.com.au/wp-content/uploads/2011/06/Perfect-Programmer-dfe194b-e8d3b11-b960bd5.jpg' width=\"400\">\n",
    "\n",
    "Source: [Agent-X Comics - Perfect Programming](https://www.agent-x.com.au/comic/perfect-programming/)"
   ]
  },
  {
   "cell_type": "markdown",
   "id": "75df24c7-2f28-47df-bfb4-2a2f115f8e85",
   "metadata": {},
   "source": [
    "## Contents\n",
    "\n",
    "In this notebook, we will start programming with Python: we will discover how to store data in \"variables\" and manipulate them using \"operators\". Finally, we will assess whether individuals are cooperating or not using \"conditionals\". Let our journey begin!      \n",
    "\n",
    "- [Variables](#Variables)\n",
    "- [Data Type](#Data_Type)\n",
    "  - [Text data](#Text_data)\n",
    "  - [Numeric data](#Numeric_data)\n",
    "  - [Casting and type conversion](#casting)\n",
    "- [Operators](#Operators)\n",
    "  - [Arithmetic Operators](#arithmetic-operators)\n",
    "    - [Operations on integers](#operating-int)\n",
    "    - [Operations on floats](#operating-float)\n",
    "    - [Operations on strings](#operating-str)\n",
    "    - [Order of operations](#operating-order)\n",
    "  - [Assignment Operators](#assignment-operators)\n",
    "  - [Comparison Operators and Boolean](#comparison-operators)\n",
    "  - [Identity Operators](#identity)\n",
    "  - [Logical Operators](#logical)\n",
    "- [Conditionals](#Conditionals)"
   ]
  },
  {
   "cell_type": "markdown",
   "id": "ba262721-8085-404d-97f8-5b6ba534e9bf",
   "metadata": {},
   "source": [
    "## Variables <a name=\"Variables\"></a>"
   ]
  },
  {
   "cell_type": "markdown",
   "id": "6fe34221-5767-4ed5-a6a5-689b735ecc34",
   "metadata": {},
   "source": [
    "Whether you are programming in Python or pretty much any other language, you will be working with **variables**. Variables are containers for storing data values. We will talk more about **objects** later, but a variable, like everything in Python, is an object. The following can be properties of a variable:\n",
    "1. The **type** of variable. E.g., is it an integer, like `2`, or a string, like `'Hello, world.'`?\n",
    "2. The **value** of the variable.\n",
    "Depending on the type of the variable, you can do different things to it and other variables of similar type.\n",
    "\n",
    "A variable is created the moment you first assign a value to it:"
   ]
  },
  {
   "cell_type": "code",
   "execution_count": 1,
   "id": "a08b5aba-d75f-438b-be7c-80f20a2401a8",
   "metadata": {},
   "outputs": [],
   "source": [
    "a = 3"
   ]
  },
  {
   "cell_type": "markdown",
   "id": "e534e8db-bf84-48fa-aae4-ef70eb2e03d7",
   "metadata": {},
   "source": [
    "Notice that when you assign a value to a variable, there is not visible output. However, now if we ask for `a`, its value will be displayed:"
   ]
  },
  {
   "cell_type": "code",
   "execution_count": 2,
   "id": "57826e67-61af-4b02-9d8f-1f9361c3e23e",
   "metadata": {
    "tags": []
   },
   "outputs": [
    {
     "data": {
      "text/plain": [
       "3"
      ]
     },
     "execution_count": 2,
     "metadata": {},
     "output_type": "execute_result"
    }
   ],
   "source": [
    "a"
   ]
  },
  {
   "cell_type": "markdown",
   "id": "50f9ba73-70d8-45c9-aba9-5afa426d319c",
   "metadata": {},
   "source": [
    "Be careful, when you assign an already assigned variable, the value will be overwritten!"
   ]
  },
  {
   "cell_type": "code",
   "execution_count": 3,
   "id": "f25c39d1-dc71-45ee-9df4-b401222edc6c",
   "metadata": {},
   "outputs": [
    {
     "data": {
      "text/plain": [
       "7"
      ]
     },
     "execution_count": 3,
     "metadata": {},
     "output_type": "execute_result"
    }
   ],
   "source": [
    "a = 7\n",
    "a"
   ]
  },
  {
   "cell_type": "markdown",
   "id": "20a37f70-9826-4cd8-a227-51116e45944a",
   "metadata": {},
   "source": [
    "<span style='color:blue'> **Tips:** </span>\n",
    "    \n",
    "- Use explicit name for your variables: you and someone reading your code should be able to understand what is the variable.\n",
    "- You can - actually, should - comment your code using `#` to explain what you are doing. "
   ]
  },
  {
   "cell_type": "markdown",
   "id": "de252fe1-7c3b-4a66-b9b6-5b87765f20df",
   "metadata": {},
   "source": [
    "Variables names are **case-sensitive**:"
   ]
  },
  {
   "cell_type": "code",
   "execution_count": 4,
   "id": "f7f7db6c-cabd-458b-bbb6-c073ad43ee00",
   "metadata": {},
   "outputs": [
    {
     "name": "stdout",
     "output_type": "stream",
     "text": [
      "What a wonderful day!\n",
      "7\n"
     ]
    }
   ],
   "source": [
    "# Defining \"A\" will not overwrite \"a\"\n",
    "A = \"What a wonderful day!\"\n",
    "print(A)\n",
    "print(a)"
   ]
  },
  {
   "cell_type": "markdown",
   "id": "6c409400-e38b-429f-94d0-c8fce58b3688",
   "metadata": {},
   "source": [
    "## Data Type <a name=\"Data_Type\"></a>"
   ]
  },
  {
   "cell_type": "markdown",
   "id": "6e384d87-a160-473d-91a3-83279ad6fc64",
   "metadata": {},
   "source": [
    "Variables can store data of different types, and different types can do different things. The Python's built-in `type()` function allows to determine the type of some data/variables."
   ]
  },
  {
   "cell_type": "markdown",
   "id": "8ed729aa-4a7e-4d32-b3c4-278ef0199429",
   "metadata": {},
   "source": [
    "### Text data <a name=\"Text_data\"></a>"
   ]
  },
  {
   "cell_type": "markdown",
   "id": "b2f0fb7e-389d-4068-936f-fe60689710d8",
   "metadata": {},
   "source": [
    "The first type of data we have encountered is **Text**, such as `\"Hello, world\"`. In Python language, Text type data are called **string**. When asked about the type of `\"Hello, world\"`, the `type()` function will return `str`, the short version of string:"
   ]
  },
  {
   "cell_type": "code",
   "execution_count": 5,
   "id": "d81c1df6-df84-482b-82b5-6282b5ab1c36",
   "metadata": {},
   "outputs": [
    {
     "data": {
      "text/plain": [
       "str"
      ]
     },
     "execution_count": 5,
     "metadata": {},
     "output_type": "execute_result"
    }
   ],
   "source": [
    "type(\"Hello world\")"
   ]
  },
  {
   "cell_type": "markdown",
   "id": "b73e79c5-d113-4c62-9215-9aa81de7040f",
   "metadata": {},
   "source": [
    "Note that there are several ways to define strings. You can use single or double quotes. For instance, `'This is a string'` and `\"This is a string\"` are equivalent. You can also use triple quotes to extend a string over multiple lines:"
   ]
  },
  {
   "cell_type": "code",
   "execution_count": 6,
   "id": "8136255c-b8ec-4385-b7bd-dce68a23fec6",
   "metadata": {},
   "outputs": [
    {
     "name": "stdout",
     "output_type": "stream",
     "text": [
      "Triple quotes allows...\n",
      "to extend strings over multiple lines.\n"
     ]
    }
   ],
   "source": [
    "my_str = '''Triple quotes allows...\n",
    "to extend strings over multiple lines.'''\n",
    "\n",
    "print(my_str)"
   ]
  },
  {
   "cell_type": "markdown",
   "id": "0b6b81cf-17d7-41cc-abf9-48f3390be46b",
   "metadata": {},
   "source": [
    "### Numeric data <a name=\"Numeric_data\"></a>"
   ]
  },
  {
   "cell_type": "markdown",
   "id": "eb57d135-a381-4030-aef0-6b428ad8cebd",
   "metadata": {},
   "source": [
    "There are three numeric types in Python:\n",
    "- integer `int`\n",
    "- real `float`\n",
    "- complex `complex`"
   ]
  },
  {
   "cell_type": "markdown",
   "id": "667268ca-383d-41e6-853a-f195102be638",
   "metadata": {},
   "source": [
    "**Integer** (**int**) is a whole number, positive or negative, without decimals, of unlimited length:"
   ]
  },
  {
   "cell_type": "code",
   "execution_count": 7,
   "id": "2eb57795-bf6e-4f5b-820c-0211b2cae9d6",
   "metadata": {},
   "outputs": [
    {
     "data": {
      "text/plain": [
       "int"
      ]
     },
     "execution_count": 7,
     "metadata": {},
     "output_type": "execute_result"
    }
   ],
   "source": [
    "type(4)"
   ]
  },
  {
   "cell_type": "markdown",
   "id": "c2445263-3808-4890-805d-d60f82851353",
   "metadata": {},
   "source": [
    "**Float** stands for \"floating point number\" and is a number, positive or negative, containing one or more decimals."
   ]
  },
  {
   "cell_type": "code",
   "execution_count": 8,
   "id": "28ebb8c9-0542-43b5-88b6-4f63ad516c57",
   "metadata": {},
   "outputs": [
    {
     "data": {
      "text/plain": [
       "float"
      ]
     },
     "execution_count": 8,
     "metadata": {},
     "output_type": "execute_result"
    }
   ],
   "source": [
    "type(3.9)"
   ]
  },
  {
   "cell_type": "markdown",
   "id": "428e22c3-a234-4c76-a4d9-17df9d764f60",
   "metadata": {},
   "source": [
    "Note that you can also use scientific notation using `e`:"
   ]
  },
  {
   "cell_type": "code",
   "execution_count": 9,
   "id": "547f714a-5085-41c9-bdcd-d3f7e803fae4",
   "metadata": {},
   "outputs": [
    {
     "data": {
      "text/plain": [
       "float"
      ]
     },
     "execution_count": 9,
     "metadata": {},
     "output_type": "execute_result"
    }
   ],
   "source": [
    "type(9.5e-8)"
   ]
  },
  {
   "cell_type": "markdown",
   "id": "670e21b8-3e31-4728-8352-b444b8990b40",
   "metadata": {},
   "source": [
    "Finally, you can define **complex** number. Note that in Python, the imaginary part is defined by `j`:"
   ]
  },
  {
   "cell_type": "code",
   "execution_count": 10,
   "id": "ff5aef15-716d-4a79-938b-69aadfe417a8",
   "metadata": {},
   "outputs": [
    {
     "data": {
      "text/plain": [
       "complex"
      ]
     },
     "execution_count": 10,
     "metadata": {},
     "output_type": "execute_result"
    }
   ],
   "source": [
    "type(1+2j)"
   ]
  },
  {
   "cell_type": "markdown",
   "id": "e68ab962-3e6f-4fd9-912b-18c1ecc95db2",
   "metadata": {},
   "source": [
    "Be careful when you define and operate on data: `3.9` is a float, but `'3.9'` is a string!"
   ]
  },
  {
   "cell_type": "markdown",
   "id": "0a5a8b38-7bf0-4fdf-a48c-1bbd5b27c9f8",
   "metadata": {},
   "source": [
    "### Casting and type conversion <a name=\"casting\"></a>"
   ]
  },
  {
   "cell_type": "markdown",
   "id": "9becfbd6-2d1a-4f85-b949-45f995c81d28",
   "metadata": {},
   "source": [
    "There may be times when you want to specify a type on to a variable. This can be done with \"casting\", using constructor functions:\n",
    "- `int()` - constructs an integer number from an integer literal, a float literal (by removing all decimals), or a string literal (providing the string represents a whole number)\n",
    "- `float()` - constructs a float number from an integer literal, a float literal or a string literal (providing the string represents a float or an integer)\n",
    "- `complex()` - constructs a complex number from a wide variety of data types, including strings, integer literals and float literals\n",
    "- `str()` - constructs a string from a wide variety of data types, including strings, integer literals and float literals"
   ]
  },
  {
   "cell_type": "code",
   "execution_count": 11,
   "id": "ce8159e9-1e0f-409e-b493-77cfc978b5f1",
   "metadata": {},
   "outputs": [
    {
     "name": "stdout",
     "output_type": "stream",
     "text": [
      "<class 'int'> 1\n",
      "<class 'float'> 4.0\n",
      "<class 'complex'> (3.5+0j)\n",
      "<class 'str'> 9.2\n"
     ]
    }
   ],
   "source": [
    "cast_int = int(1.2)\n",
    "cast_float = float(4)\n",
    "cast_complex = complex(3.5)\n",
    "cast_str = str(9.2)\n",
    "\n",
    "print(type(cast_int), cast_int)\n",
    "print(type(cast_float), cast_float)\n",
    "print(type(cast_complex), cast_complex)\n",
    "print(type(cast_str), cast_str)"
   ]
  },
  {
   "cell_type": "markdown",
   "id": "6c8e6223-33d3-4945-b3ff-3a707421981e",
   "metadata": {},
   "source": [
    "Note that when converting a `float` to an `int`, the interpreter does not round the result, but gives the floor."
   ]
  },
  {
   "cell_type": "code",
   "execution_count": 12,
   "id": "0412e131-63cd-441b-8bd2-43e7fb21bef1",
   "metadata": {},
   "outputs": [
    {
     "data": {
      "text/plain": [
       "2"
      ]
     },
     "execution_count": 12,
     "metadata": {},
     "output_type": "execute_result"
    }
   ],
   "source": [
    "int(2.6)"
   ]
  },
  {
   "cell_type": "markdown",
   "id": "e0fee07b-254b-440b-999d-fbc9983b8fa5",
   "metadata": {},
   "source": [
    "The `int()`, `float()`, `complex()`, and `str()` functions are very useful to convert one variable type into another. For example, often times we will import data from a text file, i.e., many strings, but we will want to perform operations on numbers:"
   ]
  },
  {
   "cell_type": "code",
   "execution_count": 13,
   "id": "36cb2745-afe1-4172-9e08-b8d21b157155",
   "metadata": {},
   "outputs": [
    {
     "name": "stdout",
     "output_type": "stream",
     "text": [
      "<class 'str'> 5.3\n",
      "<class 'float'> 5.3\n"
     ]
    }
   ],
   "source": [
    "imp_str = '5.3'\n",
    "conv_str = float('5.3')\n",
    "print(type(imp_str), imp_str)\n",
    "print(type(conv_str), conv_str)"
   ]
  },
  {
   "cell_type": "markdown",
   "id": "6f9f58db-04c5-4411-90fa-2c2ce4c3b15a",
   "metadata": {},
   "source": [
    "## Operators <a name=\"Operators\"></a>"
   ]
  },
  {
   "cell_type": "markdown",
   "id": "08ee8e51-dfe6-4790-ad90-c3390d965013",
   "metadata": {},
   "source": [
    "### Arithmetic operators <a name=\"arithmetic-operators\"></a>"
   ]
  },
  {
   "cell_type": "markdown",
   "id": "f1bdc7cd-d971-4f87-b001-d885d906a6d5",
   "metadata": {},
   "source": [
    "**Operators** allow you to do things with variables, like add them. They are represented by special symbols, like `+` and `*`. For now, we will focus on **arithmetic** operators. Python's arithmetic operators are:\n",
    "\n",
    "|action|operator|\n",
    "|:-------|:----------:|\n",
    "|addition | `+`|\n",
    "|subtraction | `-`|\n",
    "|multiplication | `*`|\n",
    "|division | `/`|\n",
    "|raise to power | `**`|\n",
    "|modulo | `%`|\n",
    "|floor division | `//`|\n",
    "\n",
    "**Warning**: Do not use the `^` operator to raise to a power. That is actually the operator for bitwise XOR, which we will not cover for now."
   ]
  },
  {
   "cell_type": "markdown",
   "id": "68dd647d-ed98-4b92-957d-cf204efbaeb9",
   "metadata": {},
   "source": [
    "#### Operations on integers <a name=\"operating-int\"></a>"
   ]
  },
  {
   "cell_type": "markdown",
   "id": "eb9a2835-92dc-43c0-94e6-dd8e1bc3e617",
   "metadata": {},
   "source": [
    "Let's try the arithmetic operators on integers:"
   ]
  },
  {
   "cell_type": "code",
   "execution_count": 14,
   "id": "f5d6fe56-2e83-44dc-a3b9-36714217ef3d",
   "metadata": {},
   "outputs": [
    {
     "data": {
      "text/plain": [
       "8"
      ]
     },
     "execution_count": 14,
     "metadata": {},
     "output_type": "execute_result"
    }
   ],
   "source": [
    "3+5"
   ]
  },
  {
   "cell_type": "code",
   "execution_count": 15,
   "id": "3bcf795a-e5a0-4947-b15a-092bc700f4f9",
   "metadata": {},
   "outputs": [
    {
     "data": {
      "text/plain": [
       "-2"
      ]
     },
     "execution_count": 15,
     "metadata": {},
     "output_type": "execute_result"
    }
   ],
   "source": [
    "3-5"
   ]
  },
  {
   "cell_type": "code",
   "execution_count": 16,
   "id": "4c4a950d-91cb-4e39-b280-6086641d0c48",
   "metadata": {},
   "outputs": [
    {
     "data": {
      "text/plain": [
       "15"
      ]
     },
     "execution_count": 16,
     "metadata": {},
     "output_type": "execute_result"
    }
   ],
   "source": [
    "3*5"
   ]
  },
  {
   "cell_type": "code",
   "execution_count": 17,
   "id": "ade74b7a-ac2b-4ac5-a237-0ee4ab888823",
   "metadata": {},
   "outputs": [
    {
     "data": {
      "text/plain": [
       "0.6"
      ]
     },
     "execution_count": 17,
     "metadata": {},
     "output_type": "execute_result"
    }
   ],
   "source": [
    "3/5"
   ]
  },
  {
   "cell_type": "code",
   "execution_count": 18,
   "id": "2d6f56eb-69b5-4ee8-b51d-dfee0fc0195a",
   "metadata": {},
   "outputs": [
    {
     "data": {
      "text/plain": [
       "243"
      ]
     },
     "execution_count": 18,
     "metadata": {},
     "output_type": "execute_result"
    }
   ],
   "source": [
    "3**5"
   ]
  },
  {
   "cell_type": "code",
   "execution_count": 19,
   "id": "a513d477-5c0b-4a62-97ea-7a90b170a505",
   "metadata": {},
   "outputs": [
    {
     "data": {
      "text/plain": [
       "3"
      ]
     },
     "execution_count": 19,
     "metadata": {},
     "output_type": "execute_result"
    }
   ],
   "source": [
    "3%5"
   ]
  },
  {
   "cell_type": "code",
   "execution_count": 20,
   "id": "5448ebb1-e753-4280-b85e-23573addc70c",
   "metadata": {},
   "outputs": [
    {
     "data": {
      "text/plain": [
       "0"
      ]
     },
     "execution_count": 20,
     "metadata": {},
     "output_type": "execute_result"
    }
   ],
   "source": [
    "3//5"
   ]
  },
  {
   "cell_type": "markdown",
   "id": "2d97ea06-6ade-4a27-92de-2cac5cd972f8",
   "metadata": {},
   "source": [
    "Notice that `3/5` produces a `float`, even though `3` and `5` are `int`: "
   ]
  },
  {
   "cell_type": "code",
   "execution_count": 21,
   "id": "9615511c-b08a-4708-8096-dea928218853",
   "metadata": {},
   "outputs": [
    {
     "name": "stdout",
     "output_type": "stream",
     "text": [
      "<class 'int'>\n",
      "<class 'float'>\n"
     ]
    }
   ],
   "source": [
    "print(type(3+5))\n",
    "print(type(3/5))"
   ]
  },
  {
   "cell_type": "markdown",
   "id": "7db0824d-e16f-4279-955e-418ca7481c18",
   "metadata": {},
   "source": [
    "Note than you cannot divide by zero. If you do so, you will get an error message that explicitly tells you what went wrong:"
   ]
  },
  {
   "cell_type": "code",
   "execution_count": 22,
   "id": "e6e61f6d-8ced-4fde-ac35-609e8d66b8a5",
   "metadata": {},
   "outputs": [
    {
     "ename": "ZeroDivisionError",
     "evalue": "division by zero",
     "output_type": "error",
     "traceback": [
      "\u001b[1;31m---------------------------------------------------------------------------\u001b[0m",
      "\u001b[1;31mZeroDivisionError\u001b[0m                         Traceback (most recent call last)",
      "Cell \u001b[1;32mIn[22], line 1\u001b[0m\n\u001b[1;32m----> 1\u001b[0m \u001b[38;5;241m7\u001b[39m\u001b[38;5;241m/\u001b[39m\u001b[38;5;241m0\u001b[39m\n",
      "\u001b[1;31mZeroDivisionError\u001b[0m: division by zero"
     ]
    }
   ],
   "source": [
    "7/0"
   ]
  },
  {
   "cell_type": "markdown",
   "id": "3b6e4dd5-978c-462a-9504-71992efade5e",
   "metadata": {},
   "source": [
    "#### Operations on floats <a name=\"operating-float\"></a>"
   ]
  },
  {
   "cell_type": "markdown",
   "id": "7143c8d2-d9ad-4b75-af94-85c355f49628",
   "metadata": {},
   "source": [
    "Let's now try the arithmetic operators on floats:"
   ]
  },
  {
   "cell_type": "code",
   "execution_count": 23,
   "id": "a82fb9eb-9072-41d8-85b0-d5e77b6f44c4",
   "metadata": {},
   "outputs": [
    {
     "data": {
      "text/plain": [
       "5.300000000000001"
      ]
     },
     "execution_count": 23,
     "metadata": {},
     "output_type": "execute_result"
    }
   ],
   "source": [
    "2.1 + 3.2"
   ]
  },
  {
   "cell_type": "markdown",
   "id": "13e8534f-9891-4c37-a976-cc4e7b8baceb",
   "metadata": {},
   "source": [
    "Wait a minute!  We know `2.1 + 3.2 = 5.3`, but Python gives `5.300000000000001`. This is due to the fact that floating point numbers are stored with a finite number of binary bits. There will always be some rounding errors. This means that as far as the computer is concerned, it cannot tell you that `2.1 + 3.2` and `5.3` are equal. This is important to remember when dealing with floats, as we will see later."
   ]
  },
  {
   "cell_type": "code",
   "execution_count": 24,
   "id": "29428ddc-cfc3-4f30-9518-43e50bf2c35f",
   "metadata": {},
   "outputs": [
    {
     "data": {
      "text/plain": [
       "-8.881784197001252e-16"
      ]
     },
     "execution_count": 24,
     "metadata": {},
     "output_type": "execute_result"
    }
   ],
   "source": [
    "# Very very close to zero because of finite precision\n",
    "5.3 - (2.1 + 3.2)"
   ]
  },
  {
   "cell_type": "code",
   "execution_count": 25,
   "id": "da0adc04-3927-4c0c-bae8-aa84baf21173",
   "metadata": {},
   "outputs": [
    {
     "data": {
      "text/plain": [
       "-2.9"
      ]
     },
     "execution_count": 25,
     "metadata": {},
     "output_type": "execute_result"
    }
   ],
   "source": [
    "2.1-3-2"
   ]
  },
  {
   "cell_type": "code",
   "execution_count": 26,
   "id": "02ecaf1c-ab17-4354-ae96-8798a8538362",
   "metadata": {},
   "outputs": [
    {
     "data": {
      "text/plain": [
       "6.720000000000001"
      ]
     },
     "execution_count": 26,
     "metadata": {},
     "output_type": "execute_result"
    }
   ],
   "source": [
    "2.1*3.2"
   ]
  },
  {
   "cell_type": "code",
   "execution_count": 27,
   "id": "e52819a4-9a88-4fb2-9f21-4903ddb94e8d",
   "metadata": {},
   "outputs": [
    {
     "data": {
      "text/plain": [
       "0.65625"
      ]
     },
     "execution_count": 27,
     "metadata": {},
     "output_type": "execute_result"
    }
   ],
   "source": [
    "2.1/3.2"
   ]
  },
  {
   "cell_type": "code",
   "execution_count": 28,
   "id": "1ac8a34c-db3b-49b2-aba2-9f5c260ff121",
   "metadata": {},
   "outputs": [
    {
     "data": {
      "text/plain": [
       "10.74241047739471"
      ]
     },
     "execution_count": 28,
     "metadata": {},
     "output_type": "execute_result"
    }
   ],
   "source": [
    "2.1**3.2"
   ]
  },
  {
   "cell_type": "code",
   "execution_count": 29,
   "id": "b2620983-07a0-46be-b043-1427bce8eade",
   "metadata": {},
   "outputs": [
    {
     "data": {
      "text/plain": [
       "2.1"
      ]
     },
     "execution_count": 29,
     "metadata": {},
     "output_type": "execute_result"
    }
   ],
   "source": [
    "2.1%3.2"
   ]
  },
  {
   "cell_type": "code",
   "execution_count": 30,
   "id": "ff9bb02a-e5b8-4186-a5e2-dcd55b77cf4d",
   "metadata": {},
   "outputs": [
    {
     "data": {
      "text/plain": [
       "0.0"
      ]
     },
     "execution_count": 30,
     "metadata": {},
     "output_type": "execute_result"
    }
   ],
   "source": [
    "2.1//3.2"
   ]
  },
  {
   "cell_type": "markdown",
   "id": "0c5cc502-21c7-4fe0-b289-210aba2a0db4",
   "metadata": {},
   "source": [
    "Everything works as expected aside from the floating point precision previously mentioned. As before, you cannot divide by zero:"
   ]
  },
  {
   "cell_type": "code",
   "execution_count": 31,
   "id": "5de72cdc-d1cb-4098-a6e9-10a0a3c7f91a",
   "metadata": {},
   "outputs": [
    {
     "ename": "ZeroDivisionError",
     "evalue": "float division by zero",
     "output_type": "error",
     "traceback": [
      "\u001b[1;31m---------------------------------------------------------------------------\u001b[0m",
      "\u001b[1;31mZeroDivisionError\u001b[0m                         Traceback (most recent call last)",
      "Cell \u001b[1;32mIn[31], line 1\u001b[0m\n\u001b[1;32m----> 1\u001b[0m \u001b[38;5;241m7.4\u001b[39m\u001b[38;5;241m/\u001b[39m\u001b[38;5;241m0.0\u001b[39m\n",
      "\u001b[1;31mZeroDivisionError\u001b[0m: float division by zero"
     ]
    }
   ],
   "source": [
    "7.4/0.0"
   ]
  },
  {
   "cell_type": "markdown",
   "id": "4c1c3ca2-dfce-4c78-b44f-0ea29ef77ca9",
   "metadata": {},
   "source": [
    "Note that you can operate on integers and floats. In other words, you do not need to convert integers into floats to perform mixed operations:"
   ]
  },
  {
   "cell_type": "code",
   "execution_count": 32,
   "id": "a93d9f57-476f-4316-881d-df8cdd7d4151",
   "metadata": {},
   "outputs": [
    {
     "data": {
      "text/plain": [
       "7.8"
      ]
     },
     "execution_count": 32,
     "metadata": {},
     "output_type": "execute_result"
    }
   ],
   "source": [
    "1+6.8"
   ]
  },
  {
   "cell_type": "markdown",
   "id": "c3acc89d-a7ba-4e40-af25-89a40fd3f14b",
   "metadata": {},
   "source": [
    "#### Operations on strings <a name=\"operating-str\"></a>"
   ]
  },
  {
   "cell_type": "markdown",
   "id": "5bec7a98-51c6-4123-9e0b-5dd0c8f7fe7c",
   "metadata": {},
   "source": [
    "Finally let's try some of these operations on strings. Yes, we will perform mathematical operations on strings! What will we get? Well, let's see..."
   ]
  },
  {
   "cell_type": "code",
   "execution_count": 33,
   "id": "09b98fa5-8cd9-41bd-8217-55134e5ed1fb",
   "metadata": {},
   "outputs": [
    {
     "data": {
      "text/plain": [
       "'We can add strings!'"
      ]
     },
     "execution_count": 33,
     "metadata": {},
     "output_type": "execute_result"
    }
   ],
   "source": [
    "'We can '+'add strings!'"
   ]
  },
  {
   "cell_type": "markdown",
   "id": "d777ebc0-bc02-44e9-bd96-d04b6e8de786",
   "metadata": {},
   "source": [
    "The result is intuitive: adding strings together concatenates them! How about subtracting strings?"
   ]
  },
  {
   "cell_type": "code",
   "execution_count": 34,
   "id": "9ed9347e-da2d-43bf-bbfc-583cf53eda20",
   "metadata": {},
   "outputs": [
    {
     "ename": "TypeError",
     "evalue": "unsupported operand type(s) for -: 'str' and 'str'",
     "output_type": "error",
     "traceback": [
      "\u001b[1;31m---------------------------------------------------------------------------\u001b[0m",
      "\u001b[1;31mTypeError\u001b[0m                                 Traceback (most recent call last)",
      "Cell \u001b[1;32mIn[34], line 1\u001b[0m\n\u001b[1;32m----> 1\u001b[0m \u001b[38;5;124m'\u001b[39m\u001b[38;5;124mCan we \u001b[39m\u001b[38;5;124m'\u001b[39m\u001b[38;5;241m-\u001b[39m\u001b[38;5;124m'\u001b[39m\u001b[38;5;124msubtract strings?\u001b[39m\u001b[38;5;124m'\u001b[39m\n",
      "\u001b[1;31mTypeError\u001b[0m: unsupported operand type(s) for -: 'str' and 'str'"
     ]
    }
   ],
   "source": [
    "'Can we '-'subtract strings?'"
   ]
  },
  {
   "cell_type": "markdown",
   "id": "39bb1100-f114-41d9-bb0d-c9c7fc74a1d9",
   "metadata": {},
   "source": [
    "Ah, too bad, we cannot subtract strings. Well, it actually makes sense, subtracting strings would be weird. At least, we got a nice error message explaining us that the `str` and `str` are unsupported operant types for the `-` operation. \n",
    "\n",
    "Similarly, we cannot perform multiplication, raising of power, etc., with two strings. How about multiplying a string by an integer?"
   ]
  },
  {
   "cell_type": "code",
   "execution_count": 35,
   "id": "9afacd46-1db6-4320-aac7-9abab4e413f0",
   "metadata": {},
   "outputs": [
    {
     "data": {
      "text/plain": [
       "'cat cat cat '"
      ]
     },
     "execution_count": 35,
     "metadata": {},
     "output_type": "execute_result"
    }
   ],
   "source": [
    "'cat '*3"
   ]
  },
  {
   "cell_type": "markdown",
   "id": "b8103a4d-3a71-43d0-960b-e1e56e1868a4",
   "metadata": {},
   "source": [
    "Wow, three `'cat '`! It makes sense: multiplication by an integer is the same thing as just adding multiple times, so the Python interpreter concatenates the string several times."
   ]
  },
  {
   "cell_type": "markdown",
   "id": "6ee4350f-ef6b-4bae-852b-eecc8eeebbb0",
   "metadata": {},
   "source": [
    "#### Order of operations <a name=\"operating-order\"></a>"
   ]
  },
  {
   "cell_type": "markdown",
   "id": "69f06b1a-31d0-4bdd-af59-1eb389449608",
   "metadata": {},
   "source": [
    "The order of operations follows common convention. Exponentiation comes first, followed by multiplication and division, floor division, and modulo. Next comes addition and subtraction. In order of precedence, our arithmetic operator table is\n",
    "\n",
    "|precedence|operators|\n",
    "|:-------:|:----------:|\n",
    "|1 | `**`|\n",
    "|2 | `*`, `/`, `//`, `%`|\n",
    "|3 | `+`, `-`|\n",
    "\n",
    "You can also group operations with parentheses. Operations within parentheses are always evaluated first."
   ]
  },
  {
   "cell_type": "markdown",
   "id": "c1ebd67d-b628-45b4-87d8-8ce5864f69f0",
   "metadata": {},
   "source": [
    "<span style='color:blue'> **Tips:** </span> *do not* use excessive parentheses. Excessive parentheses makes your code less readable, and can lead to mistakes. Trust the order of operations ;)"
   ]
  },
  {
   "cell_type": "code",
   "execution_count": 36,
   "id": "e063c907-d0dc-4e36-b2d4-8d26118a0d29",
   "metadata": {},
   "outputs": [
    {
     "data": {
      "text/plain": [
       "225"
      ]
     },
     "execution_count": 36,
     "metadata": {},
     "output_type": "execute_result"
    }
   ],
   "source": [
    "1**3 + 2**3 + 3**3 + 4**3 + 5**3"
   ]
  },
  {
   "cell_type": "code",
   "execution_count": 37,
   "id": "eb70eb6b-f675-468f-83b3-97984e7b816c",
   "metadata": {},
   "outputs": [
    {
     "data": {
      "text/plain": [
       "225"
      ]
     },
     "execution_count": 37,
     "metadata": {},
     "output_type": "execute_result"
    }
   ],
   "source": [
    "(1+2+3+4+5)**2"
   ]
  },
  {
   "cell_type": "markdown",
   "id": "eaf28d49-da45-4988-8b03-3af5e2206a03",
   "metadata": {},
   "source": [
    "Wooow! The sum of the cubes of 1, 2, ..., 5 is equal to the square of the sum from 1 to 5. Can you demonstrate that this property is true for all *n*?"
   ]
  },
  {
   "cell_type": "markdown",
   "id": "50291e70-0e44-476c-9e9f-1d5355d4b4b5",
   "metadata": {},
   "source": [
    "### Assignment operators <a name=\"assignment-operators\"></a>"
   ]
  },
  {
   "cell_type": "markdown",
   "id": "8e08f3cf-1bce-4f08-b1e8-0337af4e2cfa",
   "metadata": {},
   "source": [
    "Assignment operators are used to assign values to variables. We have already encountered one of them: that's right, the  `=` operator that allows to initiate a variable."
   ]
  },
  {
   "cell_type": "code",
   "execution_count": 38,
   "id": "9d6b820a-0a3a-4c89-ba42-153f56606324",
   "metadata": {},
   "outputs": [
    {
     "name": "stdout",
     "output_type": "stream",
     "text": [
      "<class 'int'> 7\n"
     ]
    }
   ],
   "source": [
    "var = 7\n",
    "print(type(var), var)"
   ]
  },
  {
   "cell_type": "markdown",
   "id": "9e987c36-47e0-43ea-adc3-da98a5dafe53",
   "metadata": {},
   "source": [
    "Now, let's say we want to update the value of our variable `var`. As previously mentioned, you can directly overwrite a variable. You can also use operations. For instance, suppose we want to add `3.9` to `var`. You can use the `+` operator:"
   ]
  },
  {
   "cell_type": "code",
   "execution_count": 39,
   "id": "93bd8c9c-727f-4182-a7d3-a9444e5eb922",
   "metadata": {},
   "outputs": [
    {
     "name": "stdout",
     "output_type": "stream",
     "text": [
      "<class 'float'> 10.9\n"
     ]
    }
   ],
   "source": [
    "var = var+3.9\n",
    "print(type(var), var)"
   ]
  },
  {
   "cell_type": "markdown",
   "id": "9b18a443-2c9f-482c-93ad-d7dfdafdc02b",
   "metadata": {},
   "source": [
    "Notice that we changed the type of our variable `var` from an `int` to a `float`."
   ]
  },
  {
   "cell_type": "markdown",
   "id": "c5de4387-ab4a-43e6-ae92-324e3272e735",
   "metadata": {},
   "source": [
    "Instead of using the `+` arithmetic operator to update our variable, there was a more efficient way, using the assignment operator `+=`:"
   ]
  },
  {
   "cell_type": "code",
   "execution_count": 40,
   "id": "10b1f0ac-9e7a-43b9-8443-c0c6c5c4f42e",
   "metadata": {},
   "outputs": [
    {
     "name": "stdout",
     "output_type": "stream",
     "text": [
      "10.9\n"
     ]
    }
   ],
   "source": [
    "var = 7\n",
    "var+= 3.9\n",
    "print(var)"
   ]
  },
  {
   "cell_type": "markdown",
   "id": "f427edf6-9a71-487b-b44d-6bb6fbccd0a8",
   "metadata": {},
   "source": [
    "The `+=` operator told the interpreter to take the value of `var` and add `3.9` to it, changing the type of `var` in the intuitive way if need be. \n",
    "\n",
    "Similarly, the other arithmetic operators have similar assignment operators:\n",
    "\n",
    "|Operator|Example|Same as|\n",
    "|:-------:|:----------:|:----------:|\n",
    "|`=` | `var = 7` | `var = 7` |  \n",
    "|`+=` | `var += 7` | `var = var + 7`| \n",
    "|`-=` | `var -= 7` | `var = var - 7`|\n",
    "|`*=` | `var *= 7` | `var = var * 7`|\n",
    "|`/=` | `var /= 7` | `var = var / 7`|\n",
    "|`**=` | `var **= 7` | `var = var ** 7`|\n",
    "|`%=` | `var %= 7` | `var = var % 7`| \n",
    "|`//=` | `var //= 7` | `var = var // 7`|"
   ]
  },
  {
   "cell_type": "markdown",
   "id": "1fc63c32-fe57-4770-8b08-4c87f281273b",
   "metadata": {},
   "source": [
    "### Comparison operators and Boolean <a name=\"comparison-operators\"></a>"
   ]
  },
  {
   "cell_type": "markdown",
   "id": "a4b53e7a-e396-43e5-88ff-700b49a2411c",
   "metadata": {},
   "source": [
    "**Comparison operators** (also called **relational operators**) are used to compare two values."
   ]
  },
  {
   "cell_type": "markdown",
   "id": "e506da8d-d104-4f9e-9ea5-30231a3f4f15",
   "metadata": {},
   "source": [
    "Let's start by assessing if two values are equal. We use the `==` operator:"
   ]
  },
  {
   "cell_type": "code",
   "execution_count": 41,
   "id": "93d56f02-50d0-4fab-8730-906f8ad86db0",
   "metadata": {},
   "outputs": [
    {
     "data": {
      "text/plain": [
       "True"
      ]
     },
     "execution_count": 41,
     "metadata": {},
     "output_type": "execute_result"
    }
   ],
   "source": [
    "8 == 8"
   ]
  },
  {
   "cell_type": "code",
   "execution_count": 42,
   "id": "265f5274-e516-4a6d-911d-720ee4b1fe64",
   "metadata": {},
   "outputs": [
    {
     "data": {
      "text/plain": [
       "False"
      ]
     },
     "execution_count": 42,
     "metadata": {},
     "output_type": "execute_result"
    }
   ],
   "source": [
    "8==9"
   ]
  },
  {
   "cell_type": "markdown",
   "id": "9bd747d6-6de0-4aa1-91be-2e1cc3019ae7",
   "metadata": {},
   "source": [
    "Wow! Python confirmed that 8 is equal to 8 but is not equal to 9!\n",
    "\n",
    "Wait a minute, we know what \"True\" and \"False\" mean in English, i.e., words that indicate truth. We can guess they have the same meaning in Python. But what is their type? After all, we have so far seen `str`, `int`, `float`, and `complex` data types. Are `True` and `False` strings? No! `True` and `False` have a special type, called `bool`, short for **Boolean**."
   ]
  },
  {
   "cell_type": "code",
   "execution_count": 43,
   "id": "ef92fa03-b8b9-48f4-b219-b64720cd5090",
   "metadata": {},
   "outputs": [
    {
     "name": "stdout",
     "output_type": "stream",
     "text": [
      "<class 'bool'>\n",
      "<class 'bool'>\n"
     ]
    }
   ],
   "source": [
    "print(type(True))\n",
    "print(type(False))"
   ]
  },
  {
   "cell_type": "markdown",
   "id": "96c75871-d3d8-4082-a725-69811b1c733f",
   "metadata": {},
   "source": [
    "The name \"Boolean\" comes from the English mathematician and philosopher [Georges Boole](https://en.wikipedia.org/wiki/George_Boole)\n",
    "\n",
    "<img src='https://upload.wikimedia.org/wikipedia/commons/c/ce/George_Boole_color.jpg' width=\"200\">"
   ]
  },
  {
   "cell_type": "markdown",
   "id": "35d5ef5e-7186-4556-a248-a0d0fea4f99d",
   "metadata": {},
   "source": [
    "In Boolean logic, a statement can be either true or false, and the Boolean are associated with numerical value: `True`has the value `1`, and `False` has the value `0`:"
   ]
  },
  {
   "cell_type": "code",
   "execution_count": 44,
   "id": "2f035f72-7ed3-4abc-ae89-64c0888e34e1",
   "metadata": {},
   "outputs": [
    {
     "data": {
      "text/plain": [
       "True"
      ]
     },
     "execution_count": 44,
     "metadata": {},
     "output_type": "execute_result"
    }
   ],
   "source": [
    "True == 1"
   ]
  },
  {
   "cell_type": "code",
   "execution_count": 45,
   "id": "0c6f1b27-b91c-4f07-a7e7-cc6f55a400b8",
   "metadata": {},
   "outputs": [
    {
     "data": {
      "text/plain": [
       "True"
      ]
     },
     "execution_count": 45,
     "metadata": {},
     "output_type": "execute_result"
    }
   ],
   "source": [
    "False == 0"
   ]
  },
  {
   "cell_type": "markdown",
   "id": "7dc2a71f-326b-40fd-8156-9fdbc3dabf80",
   "metadata": {},
   "source": [
    "You can even perform arithmetic operations on boolean. The result will be an `int`:"
   ]
  },
  {
   "cell_type": "code",
   "execution_count": 46,
   "id": "dce81323-b408-4706-a3d8-e8feadbd4ffa",
   "metadata": {},
   "outputs": [
    {
     "name": "stdout",
     "output_type": "stream",
     "text": [
      "<class 'int'> 1\n"
     ]
    }
   ],
   "source": [
    "sum_bool = True + False\n",
    "\n",
    "print(type(sum_bool), sum_bool)"
   ]
  },
  {
   "cell_type": "markdown",
   "id": "7f60c1d9-c28b-4d1d-a4cc-a70aedd75ae2",
   "metadata": {},
   "source": [
    "Ok, now that we understand what boolean are, let's test it with some floats:"
   ]
  },
  {
   "cell_type": "code",
   "execution_count": 47,
   "id": "988ff0bc-30bb-4705-b13e-2f5239a2ecdc",
   "metadata": {},
   "outputs": [
    {
     "data": {
      "text/plain": [
       "True"
      ]
     },
     "execution_count": 47,
     "metadata": {},
     "output_type": "execute_result"
    }
   ],
   "source": [
    "5.3 == 5.3 "
   ]
  },
  {
   "cell_type": "markdown",
   "id": "c190eb92-ab3b-4f03-8aac-bfda03fb5400",
   "metadata": {},
   "source": [
    "As expected. One more time:"
   ]
  },
  {
   "cell_type": "code",
   "execution_count": 48,
   "id": "a3d90fbb-2967-4574-893c-2788b8ebf606",
   "metadata": {},
   "outputs": [
    {
     "data": {
      "text/plain": [
       "False"
      ]
     },
     "execution_count": 48,
     "metadata": {},
     "output_type": "execute_result"
    }
   ],
   "source": [
    "2.1+3.2 == 5.3"
   ]
  },
  {
   "cell_type": "markdown",
   "id": "40e1ab87-4934-45eb-9743-06841562d8f8",
   "metadata": {},
   "source": [
    "As expect... Wait, what?! How come `2.1 + 3.2` is not `5.3`? Well, remember, there was rounding errors when summing `2.1` and `3.2`. This is the floating point arithmetic issue. Note that floating point numbers that can be exactly represented with binary numbers do not have this problem:"
   ]
  },
  {
   "cell_type": "code",
   "execution_count": 49,
   "id": "55b1a1d0-e138-49db-a646-22c743267a16",
   "metadata": {},
   "outputs": [
    {
     "data": {
      "text/plain": [
       "True"
      ]
     },
     "execution_count": 49,
     "metadata": {},
     "output_type": "execute_result"
    }
   ],
   "source": [
    "2.2+3.2 == 5.4"
   ]
  },
  {
   "cell_type": "markdown",
   "id": "10e9a253-f9a8-4b26-bc5d-46546ae3ae1b",
   "metadata": {},
   "source": [
    "Unfortunately, this behavior is unpredictable, so **never use the `==` operator with `float`**."
   ]
  },
  {
   "cell_type": "markdown",
   "id": "6c7c89d8-adff-47ce-a060-8ceee5275519",
   "metadata": {},
   "source": [
    "Comparison is not restricted to equality. Here are the other comparison operators:\n",
    "\n",
    "|English|Python|\n",
    "|:-------|:----------:|\n",
    "|is equal to | `==`|\n",
    "|is not equal to | `!=`|\n",
    "|is greater than | `>`|\n",
    "|is less than | `<`|\n",
    "|is greater than or equal to | `>=`|\n",
    "|is less than or equal to | `<=`|\n",
    "\n",
    "Let's try them!"
   ]
  },
  {
   "cell_type": "code",
   "execution_count": 50,
   "id": "0dc4b63e-35ed-4ad8-857d-c8e31f7b42cd",
   "metadata": {},
   "outputs": [
    {
     "data": {
      "text/plain": [
       "False"
      ]
     },
     "execution_count": 50,
     "metadata": {},
     "output_type": "execute_result"
    }
   ],
   "source": [
    "-1 > 6"
   ]
  },
  {
   "cell_type": "code",
   "execution_count": 51,
   "id": "05666003-0237-4862-8eb1-b05368550e7c",
   "metadata": {},
   "outputs": [
    {
     "data": {
      "text/plain": [
       "True"
      ]
     },
     "execution_count": 51,
     "metadata": {},
     "output_type": "execute_result"
    }
   ],
   "source": [
    "4 <= 4"
   ]
  },
  {
   "cell_type": "markdown",
   "id": "b5edf96d-94b5-491b-8428-d8455c02268c",
   "metadata": {},
   "source": [
    "We can even chain comparison operators:"
   ]
  },
  {
   "cell_type": "code",
   "execution_count": 52,
   "id": "4af9632d-a08e-4979-8a64-b24ab7fd95a7",
   "metadata": {},
   "outputs": [
    {
     "data": {
      "text/plain": [
       "True"
      ]
     },
     "execution_count": 52,
     "metadata": {},
     "output_type": "execute_result"
    }
   ],
   "source": [
    "1<2<3"
   ]
  },
  {
   "cell_type": "markdown",
   "id": "ed34002f-431f-4066-9f32-0aead6432ffd",
   "metadata": {},
   "source": [
    "However, even if it is legal, do not mix the direction of the comparison operators: "
   ]
  },
  {
   "cell_type": "code",
   "execution_count": 53,
   "id": "50a7f61a-15bf-4e2f-9305-dbd718f88fff",
   "metadata": {},
   "outputs": [
    {
     "data": {
      "text/plain": [
       "True"
      ]
     },
     "execution_count": 53,
     "metadata": {},
     "output_type": "execute_result"
    }
   ],
   "source": [
    "1 < 3 > 2"
   ]
  },
  {
   "cell_type": "markdown",
   "id": "f44a0ada-2afb-4b5e-b506-4dc50152c442",
   "metadata": {},
   "source": [
    "See, chaining comparison operators check the relation element-by-element. In the above example, it means that `1` and `2` are not compared. "
   ]
  },
  {
   "cell_type": "markdown",
   "id": "c0491768-53f8-433f-95d4-01818d339344",
   "metadata": {},
   "source": [
    "Finally, we can use comparison operators on strings:"
   ]
  },
  {
   "cell_type": "code",
   "execution_count": 54,
   "id": "762a3a13-8057-4638-b721-cd41f2ecfea5",
   "metadata": {},
   "outputs": [
    {
     "data": {
      "text/plain": [
       "False"
      ]
     },
     "execution_count": 54,
     "metadata": {},
     "output_type": "execute_result"
    }
   ],
   "source": [
    "'Federer' > 'Nadal'"
   ]
  },
  {
   "cell_type": "markdown",
   "id": "7ce9285a-4647-4945-86d3-7b3f0cd928c2",
   "metadata": {},
   "source": [
    "Wait, what?! Python got crazy! I mean, Python has never seen a tennis match so how does it compares tennis players anyway? Well, it does not. It actually compares the characters of strings. \n",
    "\n",
    "How so? In Python, characters are encoded with [Unicode](https://en.wikipedia.org/wiki/Unicode). This is a standardized library of characters from many languages around the world that contains over 100,000 characters. Each character has a unique number associated with it. We can access what number is assigned to a character using Python's built-in `ord()` function."
   ]
  },
  {
   "cell_type": "code",
   "execution_count": 55,
   "id": "9e6278c7-83c7-47a0-8c59-baa1accc0838",
   "metadata": {},
   "outputs": [
    {
     "data": {
      "text/plain": [
       "97"
      ]
     },
     "execution_count": 55,
     "metadata": {},
     "output_type": "execute_result"
    }
   ],
   "source": [
    "ord('a')"
   ]
  },
  {
   "cell_type": "markdown",
   "id": "e6c65ccd-dcd8-4b54-9f96-f1cbc41a4498",
   "metadata": {},
   "source": [
    "The relational operators on characters compare the values that the `ord` function returns. So, using a relational operator on `'a'` and `'b'` means you are comparing `ord('a')` and `ord('b')`. When comparing strings, the interpreter first compares the first character of each string. If they are equal, it compares the second character, and so on. So, the reason that `'Federer' > 'Nadal'` gives a value of `False` is because `ord('F') < ord('N')`. We're safe, but the debate is still not settled...\n",
    "\n",
    "Note that a result of this scheme is that testing for equality of strings means that **all** characters must be equal. This is the most common use case for relational operators with strings."
   ]
  },
  {
   "cell_type": "markdown",
   "id": "ed912259-4fb3-4656-87ea-9431d66ea63d",
   "metadata": {},
   "source": [
    "### Identity operators <a name=\"identity\"></a>"
   ]
  },
  {
   "cell_type": "markdown",
   "id": "6afa6cb9-95df-49ba-8534-af55d2e7097b",
   "metadata": {},
   "source": [
    "**Identity operators** are used to compare objects, not if they are equal, but if they are actually the same object, with the same memory location. The two identity operators are:\n",
    "\n",
    "|English|Python|\n",
    "|:-------|:----------:|\n",
    "|is the same object | **`is`**|\n",
    "|is not the same object | **`is not`**|\n",
    "\n",
    "That's right. The operators are pretty much the same as English! Let's see these operators in action and get at the difference between `==` and `is`. Let's use the **`is`** operator to investigate how Python stored variables in memory, starting with `float`s."
   ]
  },
  {
   "cell_type": "code",
   "execution_count": 56,
   "id": "0567fcf5-ae37-48f2-af82-907ce581a993",
   "metadata": {},
   "outputs": [
    {
     "data": {
      "text/plain": [
       "(True, False)"
      ]
     },
     "execution_count": 56,
     "metadata": {},
     "output_type": "execute_result"
    }
   ],
   "source": [
    "a = 6.1\n",
    "b = 6.1\n",
    "\n",
    "a == b, a is b"
   ]
  },
  {
   "cell_type": "markdown",
   "id": "f3214d50-37dc-4cd7-a77e-53a53da016c2",
   "metadata": {},
   "source": [
    "See, `a` and `b` have the same value so the `==` operators returns `True`. However, they are not the same object because they are stored in different places in memory, so the `is` operator returns `False`. \n",
    "\n",
    "They can occupy the same place in memory if we do a `b = a` assignment:"
   ]
  },
  {
   "cell_type": "code",
   "execution_count": 57,
   "id": "2995999c-9149-4cb3-b514-bcf56daa1665",
   "metadata": {},
   "outputs": [
    {
     "data": {
      "text/plain": [
       "(True, True)"
      ]
     },
     "execution_count": 57,
     "metadata": {},
     "output_type": "execute_result"
    }
   ],
   "source": [
    "a = 6.1\n",
    "b = a\n",
    "\n",
    "a == b, a is b"
   ]
  },
  {
   "cell_type": "markdown",
   "id": "965781f5-0742-4023-88a1-d77af59471ad",
   "metadata": {},
   "source": [
    "Because we assigned `b = a`, they necessarily have the same (immutable) value. The two variables also occupy the same place in memory for efficiency. Thus, both `==` and `is` operators return `True`."
   ]
  },
  {
   "cell_type": "markdown",
   "id": "34bcb528-aee0-41aa-9643-0d6b83e4e958",
   "metadata": {},
   "source": [
    "However, if we reassign the value of `a`, then the interpreter is placing `a` in a new space in memory, so `a` and `b` are not longer the same object:"
   ]
  },
  {
   "cell_type": "code",
   "execution_count": 58,
   "id": "dd5639f3-1509-484d-b6dd-9281479b1d5d",
   "metadata": {},
   "outputs": [
    {
     "data": {
      "text/plain": [
       "(False, False)"
      ]
     },
     "execution_count": 58,
     "metadata": {},
     "output_type": "execute_result"
    }
   ],
   "source": [
    "a = 6.1\n",
    "b = a\n",
    "a = 8.5\n",
    "\n",
    "a == b, a is b"
   ]
  },
  {
   "cell_type": "markdown",
   "id": "eb5c89d5-1ee5-450f-ba16-4b3c44a910c8",
   "metadata": {},
   "source": [
    "The same discussion is valid for most `int` and `str`. Why most and not all?\n",
    "\n",
    "For integers between between `-5` and `256`, Python employs **integer caching**, meaning that these integers will occupy the same space in memory. This caching does not happen for more negative or larger integers:"
   ]
  },
  {
   "cell_type": "code",
   "execution_count": 59,
   "id": "8b925eae-a3a4-429a-9bcc-629dc952d3ff",
   "metadata": {},
   "outputs": [
    {
     "data": {
      "text/plain": [
       "(True, False)"
      ]
     },
     "execution_count": 59,
     "metadata": {},
     "output_type": "execute_result"
    }
   ],
   "source": [
    "a = 93\n",
    "b = 93\n",
    "c = 708\n",
    "d = 708\n",
    "\n",
    "a is b, c is d"
   ]
  },
  {
   "cell_type": "markdown",
   "id": "30f9a57c-1a97-4b86-9668-8c6f2e0a1d62",
   "metadata": {},
   "source": [
    "Similarly, Python is sometimes doing [**string interning**](https://en.wikipedia.org/wiki/String_interning) which allows for (sometimes very) efficient string processing. Whether two strings occupy the same place in memory depends on what the strings are:"
   ]
  },
  {
   "cell_type": "code",
   "execution_count": 60,
   "id": "06bb5d29-74e8-48c0-a708-0ab25c8ac79b",
   "metadata": {},
   "outputs": [
    {
     "data": {
      "text/plain": [
       "(True, False)"
      ]
     },
     "execution_count": 60,
     "metadata": {},
     "output_type": "execute_result"
    }
   ],
   "source": [
    "a = 'Hello'\n",
    "b = 'Hello'\n",
    "c = 'Hello world!'\n",
    "d = 'Hello world!'\n",
    "\n",
    "a is b, c is d"
   ]
  },
  {
   "cell_type": "markdown",
   "id": "8bd0de6f-b1dc-4a5a-bc7d-f72c19e9e1c8",
   "metadata": {},
   "source": [
    "You generally do not need to worry about caching and interning for **immutable** variables. Immutable means that once the variables are created, their values cannot be changed. If we do change the value the variable gets a new place in memory. All variables we've encountered so far (`int`, `float`, `complex` and `str`) are immutable."
   ]
  },
  {
   "cell_type": "markdown",
   "id": "404c7579-fa09-474f-9ca4-a9498d273941",
   "metadata": {},
   "source": [
    "### Logical operators <a name=\"logical\"></a>"
   ]
  },
  {
   "cell_type": "markdown",
   "id": "6dd2a7d0-bd75-4ed8-b156-228af431bb4e",
   "metadata": {},
   "source": [
    "**Logical operators** can be used to connect relational and identity operators. Python has three logical operators.\n",
    "\n",
    "|Logic|Python|\n",
    "|:-------|:----------:|\n",
    "|AND | `and`|\n",
    "|OR | `or`|\n",
    "|NOT | `not`|\n",
    "\n",
    "The `and` operator means that if both operands are `True`, return `True`. For instance, if statement \"P\" is true and statement \"Q\" is true, then the statement \"P `and` Q\" is also true. However, if either \"P\" or \"Q\" is false, then \"P `and` Q\" is false.\n",
    "\n",
    "On the other hand, the `or` operator gives `True` if *either* of the operands are `True`.\n",
    "\n",
    "|P|Q|P `and` Q|P `or` Q|\n",
    "|:--:|:--:|:--:|:--:|\n",
    "|`True` | `True` |`True` |`True` |\n",
    "|`True` | `False`|`False`|`True` |\n",
    "|`False`|`True` |`False`|`True` |\n",
    "|`False`|`False`|`False`|`False`|\n",
    "\n",
    "Let's try!"
   ]
  },
  {
   "cell_type": "code",
   "execution_count": 61,
   "id": "9702c959-4233-4b1c-9336-6103f5c4e921",
   "metadata": {},
   "outputs": [
    {
     "data": {
      "text/plain": [
       "True"
      ]
     },
     "execution_count": 61,
     "metadata": {},
     "output_type": "execute_result"
    }
   ],
   "source": [
    "True and True"
   ]
  },
  {
   "cell_type": "code",
   "execution_count": 62,
   "id": "baee3ac4-10f8-43c0-8da3-c535220b7ce8",
   "metadata": {},
   "outputs": [
    {
     "data": {
      "text/plain": [
       "False"
      ]
     },
     "execution_count": 62,
     "metadata": {},
     "output_type": "execute_result"
    }
   ],
   "source": [
    "True and False"
   ]
  },
  {
   "cell_type": "code",
   "execution_count": 63,
   "id": "7e954a45-5b33-47a5-8933-b3d3901786ea",
   "metadata": {},
   "outputs": [
    {
     "data": {
      "text/plain": [
       "False"
      ]
     },
     "execution_count": 63,
     "metadata": {},
     "output_type": "execute_result"
    }
   ],
   "source": [
    "False and False"
   ]
  },
  {
   "cell_type": "code",
   "execution_count": 64,
   "id": "9f930985-9676-4f73-be70-db67f2d20847",
   "metadata": {},
   "outputs": [
    {
     "data": {
      "text/plain": [
       "True"
      ]
     },
     "execution_count": 64,
     "metadata": {},
     "output_type": "execute_result"
    }
   ],
   "source": [
    "True or False"
   ]
  },
  {
   "cell_type": "markdown",
   "id": "568d06d5-cf94-4824-8f04-d43b86a2a7c8",
   "metadata": {},
   "source": [
    "Finally, the `not` operator negates the logical result:"
   ]
  },
  {
   "cell_type": "code",
   "execution_count": 65,
   "id": "faf4987a-4c05-46ce-b4be-d5d6bac3ff03",
   "metadata": {},
   "outputs": [
    {
     "data": {
      "text/plain": [
       "True"
      ]
     },
     "execution_count": 65,
     "metadata": {},
     "output_type": "execute_result"
    }
   ],
   "source": [
    "not False"
   ]
  },
  {
   "cell_type": "code",
   "execution_count": 66,
   "id": "4d17d49e-d352-4f33-be0c-3a3a4cc68ad6",
   "metadata": {},
   "outputs": [
    {
     "data": {
      "text/plain": [
       "True"
      ]
     },
     "execution_count": 66,
     "metadata": {},
     "output_type": "execute_result"
    }
   ],
   "source": [
    "not False and True"
   ]
  },
  {
   "cell_type": "code",
   "execution_count": 67,
   "id": "3354f911-717d-4345-87c1-31af1343a94b",
   "metadata": {},
   "outputs": [
    {
     "data": {
      "text/plain": [
       "True"
      ]
     },
     "execution_count": 67,
     "metadata": {},
     "output_type": "execute_result"
    }
   ],
   "source": [
    "not (True and False)"
   ]
  },
  {
   "cell_type": "markdown",
   "id": "bd0537f9-1eb1-4ae1-aedc-600eab89818f",
   "metadata": {},
   "source": [
    "Note that it is important to specify the ordering of your operations, particularly when using the `not` operator.\n",
    "\n",
    "Note also that\n",
    "\n",
    "    a < b < c\n",
    "    \n",
    "is equivalent to\n",
    "\n",
    "    (a < b) and (b < c)\n",
    "\n",
    "With these new types of operators in hand, we can construct a more complete table of operator precedence.\n",
    "\n",
    "|precedence|operators|\n",
    "|:-------|:----------:|\n",
    "|1 | `**`|\n",
    "|2 | `*`, `/`, `//`, `%`|\n",
    "|3 | `+`, `-`|\n",
    "|4 | `<`, `>`, `<=`, `>=`|\n",
    "|5 | `==`, `!=`|\n",
    "|6 | `=`, `+=`, `-=`, `*=`, `/=`, `**=`, `%=`, `//=`|\n",
    "|7 | `is`, `is not`|\n",
    "|8 | `and`, `or`, `not`|"
   ]
  },
  {
   "cell_type": "markdown",
   "id": "2eaec2f4-bf23-4484-b20d-0d24fe86a299",
   "metadata": {},
   "source": [
    "## Conditionals <a name=\"Conditionals\"></a>"
   ]
  },
  {
   "cell_type": "markdown",
   "id": "7649684f-e0f8-4fd4-ae64-3f42e08a9588",
   "metadata": {},
   "source": [
    "**Conditionals** are used to tell your computer to do a set of instructions depending on whether or not a Boolean is `True`. In other words, we are telling the computer:\n",
    "\n",
    "    if something is true:\n",
    "        do task a\n",
    "    otherwise:\n",
    "        do task b\n",
    "\n",
    "In fact, the syntax in Python is almost exactly the same. As always, an example speaks volumes. "
   ]
  },
  {
   "cell_type": "markdown",
   "id": "8f60ed88-b066-48ad-a8e0-15f590024fe8",
   "metadata": {},
   "source": [
    "We are going to study the condition for cooperation in [collective action problem](https://en.wikipedia.org/wiki/Collective_action_problem), also called social dilemma. In such situation, all individuals would be better off cooperating but fail to do so because of conflicting interests between them, which discourage joint action. The illustration below represents a social dilemma:\n",
    "- the blue line tells us what individuals get - i.e., their payoffs - when cooperating.  \n",
    "- the red-dashed line tells us what individuals get when they do not cooperate, which is called \"defecting\".\n",
    "- the payoffs depend on how many people cooperate in the population, represented by the x-axis. When the share of cooperators increase, the payoffs of individuals also increaset\n",
    "- it is costly to cooperate: the payoffs when defecting (red-dashed line) is larger than the payoffs when cooperating (blue line). The difference between the two lines is called the \"individual cost\" to cooperate.\n",
    "- finally, we call the social benefit the difference in payoffs between a situation of full cooperation and a situation of full defection. \n",
    "\n",
    "<img src='https://i.postimg.cc/44HkDp79/Social-Dilemma.png' width=\"800\">"
   ]
  },
  {
   "cell_type": "markdown",
   "id": "11c2225d-8c1f-4d6f-8839-bb502ada196a",
   "metadata": {},
   "source": [
    "Many environmental issues takes the form of a social dilemma. For example, recycling requires time and efforts but decreases the consumption of materials if widely adopted, which decrease the extraction of materials and the associated pollution. Purchasing an electric vehicle is costly but reduces air pollutants, associated with various respiratory and cardio-vascular health diseases, and greenhouse gas emissions, responsible for climate change.\n",
    "\n",
    "We will assume that individuals have *homo moralis* preferences: they consider not only their selfish payoff but also what happens when all others do the same action. The weight of selfishness and morality depends on the individual degree of morality. Recent economic literature has demonstrated that such preference provides an evolutionary advantage (see e.g., Alger & Weibull, 2013). In other words, a population of *homo moralis* outperforms any other type of preferences, such as the fully-selfish *homo oeconomicus*.\n",
    "\n",
    "We can demonstrate that *homo moralis* individuals cooperate in a social dilemma (e.g., perform a pro-environmental action) when their social benefit weighted by their degree of morality is greater than their individual cost of acting weighted by their degree of selfishness (Ayoubi and Thurm, 2021). \n",
    "\n",
    "*References:*\n",
    "- Alger, I., & Weibull, J. W. (2013). Homo moralis—preference evolution under incomplete information and assortative matching. Econometrica, 81(6), 2269-2302. [DOI: 10.3982/ECTA10637](https://doi.org/10.3982/ECTA10637)\n",
    "- Ayoubi, C. and Thurm, B. (2021). Pro-environmental behavior and morality: An economic model with heterogeneous preferences. Available at [SSRN 3681953](https://papers.ssrn.com/sol3/papers.cfm?abstract_id=3681953)"
   ]
  },
  {
   "cell_type": "markdown",
   "id": "034b31c6-2a50-4a21-8ac1-74a1e3114d28",
   "metadata": {
    "tags": []
   },
   "source": [
    "Ok, enough words, let's assess whether a given *homo moralis* cooperates."
   ]
  },
  {
   "cell_type": "code",
   "execution_count": 68,
   "id": "d4227c24-f50e-4202-a17d-d8e54c160ea7",
   "metadata": {},
   "outputs": [
    {
     "name": "stdout",
     "output_type": "stream",
     "text": [
      "The individual cooperates!\n"
     ]
    }
   ],
   "source": [
    "cost = 1            # individual cost \n",
    "benefit = 3         # social benefit\n",
    "kappa = 0.5         # degree of morality\n",
    "\n",
    "# condition for cooperation: \n",
    "# social benefit times kappa is greater than individual cost times (1-kappa)\n",
    "\n",
    "if benefit*kappa >= cost*(1-kappa):\n",
    "    print('The individual cooperates!')"
   ]
  },
  {
   "cell_type": "markdown",
   "id": "41b00bba-04ee-462d-a8bb-16555ed0d13f",
   "metadata": {},
   "source": [
    "Youhouuu, good news for nature, the individual performs an environmental-friendly action!\n",
    "\n",
    "Now, let's review the syntax of the `if` statement. The Boolean expression, `benefit*kappa >= cost*(1-kappa)`, is called the **condition**. If it is `True`, the indented statement below is executed. In this case, we print the string `'The individual cooperates!'`. Also, do not forget the `:` at the end of the `if` statement!\n",
    "\n",
    "This brings up a very important aspect of Python syntax: <span style=\"color: dodgerblue; font-weight: bold;\">\n",
    "Indentation matters.\n",
    "</span> Any lines with the same level of indentation will be evaluated together."
   ]
  },
  {
   "cell_type": "code",
   "execution_count": 69,
   "id": "7d362850-610b-4351-9f7a-1b2c6a5b6405",
   "metadata": {},
   "outputs": [
    {
     "name": "stdout",
     "output_type": "stream",
     "text": [
      "The individual cooperates!\n",
      "Same level of intentation, so still printed!\n"
     ]
    }
   ],
   "source": [
    "if benefit*kappa >= cost*(1-kappa):\n",
    "    print('The individual cooperates!')\n",
    "    print('Same level of intentation, so still printed!')"
   ]
  },
  {
   "cell_type": "markdown",
   "id": "ea6c53be-9845-4360-9de0-7db9b05e3e89",
   "metadata": {},
   "source": [
    "What happens if the condition is `False`? Let's try with an individual with degree of morality `kappa=0`, i.e., the infamous fully-selfish *homo oeconomicus*:"
   ]
  },
  {
   "cell_type": "code",
   "execution_count": 70,
   "id": "cbe6d12f-a510-4315-b848-ea93f1f01679",
   "metadata": {},
   "outputs": [],
   "source": [
    "kappa = 0                # degree of morality\n",
    "\n",
    "# condition for cooperation: \n",
    "# social benefit times kappa is greater than individual cost times (1-kappa)\n",
    "\n",
    "if benefit*kappa >= cost*(1-kappa):\n",
    "    print('The individual cooperates!')"
   ]
  },
  {
   "cell_type": "markdown",
   "id": "cf029270-2bf7-44ce-a589-39cd2547bea7",
   "metadata": {},
   "source": [
    "Nothing happened. This is because we did not tell Python what to do if the condition was evaluated as `False`. We can add that with an `else` **clause** in the conditional."
   ]
  },
  {
   "cell_type": "code",
   "execution_count": 71,
   "id": "dd39d428-8553-477c-98e9-08d963b67851",
   "metadata": {},
   "outputs": [
    {
     "name": "stdout",
     "output_type": "stream",
     "text": [
      "What a shame, the individual does not cooperate...\n"
     ]
    }
   ],
   "source": [
    "kappa = 0      # degree of morality\n",
    "\n",
    "# condition for cooperation: \n",
    "# social benefit times kappa is greater than individual cost times (1-kappa)\n",
    "\n",
    "if benefit*kappa >= cost*(1-kappa):\n",
    "    print('The individual cooperates!')\n",
    "else:\n",
    "    print('What a shame, the individual does not cooperate...')"
   ]
  },
  {
   "cell_type": "markdown",
   "id": "86becf05-e23e-4094-89d4-9da0d7aed496",
   "metadata": {},
   "source": [
    "We can assess several conditions by using an `elif` clause. For example, say we have two individuals, Edoardo and Quentin, and we want to check if they both cooperates, if only one of them cooperates, or if they both do not care for the environment. We will combine the logical operator `and` with the comparison operators `>=` and `<`:"
   ]
  },
  {
   "cell_type": "code",
   "execution_count": 72,
   "id": "6e45afcd-b8c8-46d6-833e-e5b978566fff",
   "metadata": {},
   "outputs": [
    {
     "name": "stdout",
     "output_type": "stream",
     "text": [
      "Only one individual cooperates\n"
     ]
    }
   ],
   "source": [
    "kappa_1 = 0.2     # degree of morality of the first individual\n",
    "kappa_2 = 0.3     # degree of morality of the second individual\n",
    "\n",
    "# condition for cooperation: \n",
    "# social benefit times kappa is greater than individual cost times (1-kappa)\n",
    "\n",
    "if benefit*kappa_1 >= cost*(1-kappa_1) and benefit*kappa_2 >= cost*(1-kappa_2):\n",
    "    print('Both individual cooperates!')\n",
    "elif benefit*kappa_1 < cost*(1-kappa_1) and benefit*kappa_2 < cost*(1-kappa_2):\n",
    "    print('What a shame, nobody cooperates...')\n",
    "else:\n",
    "    print('Only one individual cooperates')"
   ]
  },
  {
   "cell_type": "markdown",
   "id": "1f9a4a01-5500-4f5d-95a7-848625929d7c",
   "metadata": {},
   "source": [
    "It seems like either Edoardo or Quentin are not cooperating... Besides the degree of morality, there are many other factors influencing the cooperation between individuals. In the notebook \"Practice-with-Python\", you can explore how the level of knowledge of environmental issues influence cooperation. Time to practice! "
   ]
  }
 ],
 "metadata": {
  "kernelspec": {
   "display_name": "Python 3 (ipykernel)",
   "language": "python",
   "name": "python3"
  },
  "language_info": {
   "codemirror_mode": {
    "name": "ipython",
    "version": 3
   },
   "file_extension": ".py",
   "mimetype": "text/x-python",
   "name": "python",
   "nbconvert_exporter": "python",
   "pygments_lexer": "ipython3",
   "version": "3.11.3"
  },
  "toc-showmarkdowntxt": false
 },
 "nbformat": 4,
 "nbformat_minor": 5
}
