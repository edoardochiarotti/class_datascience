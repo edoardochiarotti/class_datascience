{
 "cells": [
  {
   "cell_type": "markdown",
   "id": "1d888fa0-4629-42a3-a111-8d8a84086c18",
   "metadata": {},
   "source": [
    "<a href=\"https://colab.research.google.com/github/edoardochiarotti/class_datascience/blob/main/2024/00_Python-Basics/00_Python-Basics_5_String-methods.ipynb\" target=\"_blank\" rel=\"noopener\"><img src=\"https://colab.research.google.com/assets/colab-badge.svg\" alt=\"Open In Colab\"/></a>"
   ]
  },
  {
   "cell_type": "markdown",
   "id": "2bab199f-4ae1-4d52-890a-b2c9b70d06d8",
   "metadata": {
    "tags": []
   },
   "source": [
    "# Python-Basics: string methods"
   ]
  },
  {
   "cell_type": "markdown",
   "id": "915dc561-8d61-4533-a745-a19e156c10ae",
   "metadata": {},
   "source": [
    "<img src='https://www.agent-x.com.au/wp-content/uploads/2011/06/Perfect-Programmer-dfe194b-e8d3b11-b960bd5.jpg' width=\"400\">\n",
    "\n",
    "Source: [Agent-X Comics - Perfect Programming](https://www.agent-x.com.au/comic/perfect-programming/)"
   ]
  },
  {
   "cell_type": "markdown",
   "id": "20d24526-076b-46a7-b8f8-c074ba76199c",
   "metadata": {},
   "source": [
    "## Content\n",
    "\n",
    "We have previously discovered methods for lists and dictionaries. Do you remember what are methods? They are functions that are specific to a given object. In this notebook, we will explore string methods!\n",
    "\n",
    "- [String methods](#string-methods)\n",
    "   - [Indexing and slicing of strings](#string-index)\n",
    "   - [Counting](#Counting)\n",
    "   - [Case conversion](#case-conversion)\n",
    "   - [Finding substring](#find)\n",
    "   - [Replacing substring](#replace)\n",
    "   - [Joining](#Joining)\n",
    "   - [Formatting](#Formatting)\n",
    "   - [f-strings](#f-strings)"
   ]
  },
  {
   "cell_type": "markdown",
   "id": "11570698-1e05-4a6d-a04d-c0fe30d68051",
   "metadata": {},
   "source": [
    "## String methods <a name=\"string-methods\"></a> \n",
    "\n",
    "Oftentimes, we will work with text data, and not only to perform Text Analytics. For example, imagine you have the following table:\n",
    "\n",
    "|Name|City | Gender|Yearly Electricity consumption $(kWh)$|Green premium ($CHF/kWh$)|Green electricity mix|\n",
    "|:-------|:----------|:----------|:----------|:----------|:----------|\n",
    "|Valjean| Lausanne | M | 3600 | 1.00 | No |\n",
    "|Javert | Geneva | M | 5400 | 0.10 | Yes |\n",
    "|Fantine | Bern | F | NA | 0.30 | No |\n",
    "|Cosette | Zurich | F | 7200 | 0.75 | Yes |\n",
    "\n",
    "The table contains, for several individuals, their name, city of residence, gender, yearly electricity consumption, green premium (i.e., how much they are willing to pay to get electricity produced by renewable energy), and whether or not they already subscribe to the option to get green electricity. By the way, in Switzerland, the default option is the green electricity mix, so except if you are asking to unsubscribe, you would get electricity produced by renewable (generally, hydropower). You can also ask to get a more expensive electricity mix, made of local renewable energy, such as photovoltaics and wind turbines.\n",
    "\n",
    "Back to our table. We notice that the table is mixing text and numbers. Several variables in a text format might be useful for our analysis and should be converted to numbers. For instance, we might want to express the variable \"Green electricity mix\" as: 1 if the individual subscribed ('Yes'), 0 if not ('No').\n",
    "\n",
    "In addition, we notice that even when the data format is number, we could have some text: the Electricity consumption of Fantine is 'NA', i.e., 'Not Available'. We could discard the observation from Fantine from the analysis - that's probably what you should do in this case. But for the sake of the argument, we could also infer a value and thus replace 'NA' by a number, for instance, taking the mean of the sample, replacing by the closest observation, or even generating a random number. As a good practice, **you should always document all the modifications you are doing to the original data, detailing your assumptions and methods used**.\n",
    "\n",
    "So, the point is, we will often need to manipulate text data, i.e., strings in Python. As was the case for lists and dictionaries, there exists many string methods. Here are some of the common ones:\n",
    "\n",
    "|Method|Description|\n",
    "|:-------|:----------|\n",
    "|`s.capitalize()` | Converts the first character to upper case|\n",
    "|`s.casefold()` | Converts string into lower case |\n",
    "|`s.count(value)` | Returns the number of times a specified value occurs in a string|\n",
    "|`s.endswith()` |Returns true if the string ends with the specified value|\n",
    "|`s.find(value)` | Searches the string for a specified value and returns the position of where it was found|\n",
    "|`s.format()` | Formats specified values in a string|\n",
    "|`s.index(value)` | Searches the string for a specified value and returns the position of where it was found|\n",
    "|`s.isalnum()` | Returns True if all characters in the string are alphanumeric|\n",
    "|`s.isalpha` | Returns True if all characters in the string are in the alphabet|\n",
    "|`s.isdigit()` | Returns True if all characters in the string are digits|\n",
    "|`s.islower()`|Returns True if all characters in the string are lower case|\n",
    "|`s.isnumeric()` | Returns True if all characters in the string are numeric|\n",
    "|`s.isupper()`|Returns True if all characters in the string are upper case|\n",
    "|`s.join()`|Converts the elements of an iterable into a string|\n",
    "|`s.lower()`|Converts a string into lower case|\n",
    "|`s.maketrans()`|Returns a translation table to be used in translations|\n",
    "|`s.replace(old_value, new_value)`|Returns a string where a specified value is replaced with a specified value |\n",
    "|`s.rfind(value)`|Searches the string for a specified value and returns the last position of where it was found |\n",
    "|`s.rindex(value)`|Searches the string for a specified value and returns the last position of where it was found |\n",
    "|`s.rsplit(separator)`|Splits the string at the specified separator, and returns a list |\n",
    "|`s.split(separator)`|Splits the string at the specified separator, and returns a list |\n",
    "|`s.splitlines()`|Splits the string at line breaks and returns a list |\n",
    "|`s.startswith(value)`|Returns true if the string starts with the specified value |\n",
    "|`s.swapcase()`|Swaps cases, lower case becomes upper case and vice versa |\n",
    "|`s.title()`|Converts the first character of each word to upper case|\n",
    "|`s.translate()`|Returns a translated string using a dictionary or mapping table|\n",
    "|`s.upper()`|Converts a string into upper case|\n",
    "\n",
    "We will explore some of these string processing tools below. You can find a complete list of string methods from the [Python documentation](https://docs.python.org/3/library/stdtypes.html#string-methods). \n",
    "\n"
   ]
  },
  {
   "cell_type": "markdown",
   "id": "3312f9bb-fa46-4469-b5bc-8fc7c410cc33",
   "metadata": {},
   "source": [
    "### Indexing and slicing of strings <a name=\"string-index\"></a> \n",
    "\n",
    "As previously mentioned, strings are sequences of characters, in the same vein as lists and tuples are sequence of elements. Hence, indexing and slicing works the same as it does for lists and tuples! Similarly, built-in functions such as `len()` also applies to strings!"
   ]
  },
  {
   "cell_type": "code",
   "execution_count": 175,
   "id": "6765013e-b336-4d8a-aa9d-9519988fb149",
   "metadata": {},
   "outputs": [
    {
     "name": "stdout",
     "output_type": "stream",
     "text": [
      "129\n",
      "a\n",
      "The Green Premium \n",
      ".sesag esuohneerg fo tnuoma retaerg a stime taht eno revo ygolonhcet naelc a gnisoohc fo tsoc lanoitidda eht si muimerP neerG ehT\n"
     ]
    }
   ],
   "source": [
    "my_str = 'The Green Premium is the additional cost of choosing a clean technology over one that emits a greater amount of greenhouse gases.'\n",
    "\n",
    "print(len(my_str))\n",
    "print(my_str[97])\n",
    "print(my_str[:18])\n",
    "print(my_str[::-1])"
   ]
  },
  {
   "cell_type": "markdown",
   "id": "6bfb89be-e360-4421-9bb8-b8f471b76af9",
   "metadata": {},
   "source": [
    "### Counting <a name=\"Counting\"></a>"
   ]
  },
  {
   "cell_type": "markdown",
   "id": "c2b2c7e0-09f1-44e5-b805-0cc75f93cd9e",
   "metadata": {},
   "source": [
    "We can use `count()` to calculate the number of occurrences of a character:"
   ]
  },
  {
   "cell_type": "code",
   "execution_count": 183,
   "id": "151b9e7e-cce1-4484-a556-d283df6e6a7a",
   "metadata": {},
   "outputs": [
    {
     "name": "stdout",
     "output_type": "stream",
     "text": [
      "9\n"
     ]
    }
   ],
   "source": [
    "my_str.count('a')"
   ]
  },
  {
   "cell_type": "markdown",
   "id": "0d08b066-b21e-493e-b65e-4e2c97ebe095",
   "metadata": {},
   "source": [
    "The method also allows to calculate the number of times a substring appears in a string:"
   ]
  },
  {
   "cell_type": "code",
   "execution_count": 185,
   "id": "62d4625d-ca12-456a-a055-691be99256d2",
   "metadata": {},
   "outputs": [
    {
     "data": {
      "text/plain": [
       "2"
      ]
     },
     "execution_count": 185,
     "metadata": {},
     "output_type": "execute_result"
    }
   ],
   "source": [
    "my_str.count('ee')"
   ]
  },
  {
   "cell_type": "markdown",
   "id": "278d696c-4bfb-46da-b4aa-523c76eff353",
   "metadata": {},
   "source": [
    "However, substrings cannot overlap. For instance, suppose we have 6 times the character 'A', then `count('AA')` will only return 3:"
   ]
  },
  {
   "cell_type": "code",
   "execution_count": 187,
   "id": "5ff7f050-1297-4511-9ad8-772b1a31d2e6",
   "metadata": {},
   "outputs": [
    {
     "data": {
      "text/plain": [
       "3"
      ]
     },
     "execution_count": 187,
     "metadata": {},
     "output_type": "execute_result"
    }
   ],
   "source": [
    "'AAAAAA'.count('AA')"
   ]
  },
  {
   "cell_type": "markdown",
   "id": "321a6570-70aa-458b-805d-dd2915315496",
   "metadata": {},
   "source": [
    "In addition, `count()` and other similar methods are case-sensitive:"
   ]
  },
  {
   "cell_type": "code",
   "execution_count": 188,
   "id": "aad08c72-73c4-4cc5-a90d-7ff20c14eae5",
   "metadata": {},
   "outputs": [
    {
     "data": {
      "text/plain": [
       "2"
      ]
     },
     "execution_count": 188,
     "metadata": {},
     "output_type": "execute_result"
    }
   ],
   "source": [
    "'AAaaa'.count('A')"
   ]
  },
  {
   "cell_type": "markdown",
   "id": "a78794b0-4dc5-4fa2-8195-e9e6cb40c57a",
   "metadata": {},
   "source": [
    "### Case conversion <a name=\"case-conversion\"></a> "
   ]
  },
  {
   "cell_type": "markdown",
   "id": "c9df0169-3fcb-4355-b965-5f7b013bd8d5",
   "metadata": {},
   "source": [
    "To avoid the issue of case-sensitiveness, you can convert all characters of your string to lower cases:"
   ]
  },
  {
   "cell_type": "code",
   "execution_count": 189,
   "id": "667d50a3-e147-458c-822a-1bc83925677c",
   "metadata": {},
   "outputs": [
    {
     "data": {
      "text/plain": [
       "'the green premium is the additional cost of choosing a clean technology over one that emits a greater amount of greenhouse gases.'"
      ]
     },
     "execution_count": 189,
     "metadata": {},
     "output_type": "execute_result"
    }
   ],
   "source": [
    "my_str.lower()"
   ]
  },
  {
   "cell_type": "markdown",
   "id": "8d1e0b2a-ceed-47db-8630-8d2f0fdfa9ac",
   "metadata": {},
   "source": [
    "Alternatively, to upper cases:"
   ]
  },
  {
   "cell_type": "code",
   "execution_count": 190,
   "id": "a0dd3b5b-4757-48a7-8e1d-f2cf6654d823",
   "metadata": {},
   "outputs": [
    {
     "data": {
      "text/plain": [
       "'THE GREEN PREMIUM IS THE ADDITIONAL COST OF CHOOSING A CLEAN TECHNOLOGY OVER ONE THAT EMITS A GREATER AMOUNT OF GREENHOUSE GASES.'"
      ]
     },
     "execution_count": 190,
     "metadata": {},
     "output_type": "execute_result"
    }
   ],
   "source": [
    "my_str.upper()"
   ]
  },
  {
   "cell_type": "markdown",
   "id": "56bdcbf0-deb3-49f1-8513-f2631e6972b6",
   "metadata": {},
   "source": [
    "Note that `lower()` and `upper()` did not modify our original string:"
   ]
  },
  {
   "cell_type": "code",
   "execution_count": 192,
   "id": "cdb069ea-77e4-4f7f-9a1c-ada6916990ac",
   "metadata": {},
   "outputs": [
    {
     "data": {
      "text/plain": [
       "'The Green Premium is the additional cost of choosing a clean technology over one that emits a greater amount of greenhouse gases.'"
      ]
     },
     "execution_count": 192,
     "metadata": {},
     "output_type": "execute_result"
    }
   ],
   "source": [
    "my_str"
   ]
  },
  {
   "cell_type": "markdown",
   "id": "394d7d92-0ac3-4e8b-a109-f793aec4f239",
   "metadata": {},
   "source": [
    "Can you guess why? It's because `string` is immutable. It's very convenient to avoid bad manipulations. But if you want to operate on a modified string, you need to store your modified string into a variable:"
   ]
  },
  {
   "cell_type": "code",
   "execution_count": 205,
   "id": "fd858a79-b20c-4634-9737-f42e5357d673",
   "metadata": {},
   "outputs": [
    {
     "data": {
      "text/plain": [
       "'the green premium is the additional cost of choosing a clean technology over one that emits a greater amount of greenhouse gases.'"
      ]
     },
     "execution_count": 205,
     "metadata": {},
     "output_type": "execute_result"
    }
   ],
   "source": [
    "my_str_low = my_str.lower()\n",
    "my_str_low"
   ]
  },
  {
   "cell_type": "markdown",
   "id": "550d10f9-9f40-468e-bcce-2883f970170b",
   "metadata": {},
   "source": [
    "### Finding substring  <a name=\"find\"></a> "
   ]
  },
  {
   "cell_type": "markdown",
   "id": "4d2b1ec0-42a8-40bd-b33b-35ad88efe2de",
   "metadata": {},
   "source": [
    "First, let's check if the word `'technology'` belongs to our `string`. We use the `in` operator:"
   ]
  },
  {
   "cell_type": "code",
   "execution_count": 206,
   "id": "ebd108fe-86ba-4f0a-8f95-a0f7b4661e75",
   "metadata": {},
   "outputs": [
    {
     "data": {
      "text/plain": [
       "True"
      ]
     },
     "execution_count": 206,
     "metadata": {},
     "output_type": "execute_result"
    }
   ],
   "source": [
    "'technology' in my_str_low"
   ]
  },
  {
   "cell_type": "markdown",
   "id": "3e52be87-f2ab-4796-bc29-5562eda919fd",
   "metadata": {},
   "source": [
    "We got `True`, so indeed the sequence of characters forming the word 'technology' does appear in our string. Let's find where! The `find()` methods gives the index where the substring *first* appears:"
   ]
  },
  {
   "cell_type": "code",
   "execution_count": 207,
   "id": "7dd77d8f-caf1-45ab-a308-2c23d316a3c8",
   "metadata": {},
   "outputs": [
    {
     "data": {
      "text/plain": [
       "61"
      ]
     },
     "execution_count": 207,
     "metadata": {},
     "output_type": "execute_result"
    }
   ],
   "source": [
    "my_str_low.find('technology')"
   ]
  },
  {
   "cell_type": "markdown",
   "id": "24007e89-8d63-4319-8b55-4c744c74a5d7",
   "metadata": {},
   "source": [
    "What if a substring is not in the string?"
   ]
  },
  {
   "cell_type": "code",
   "execution_count": 208,
   "id": "5450b2aa-e9c5-48d8-9536-c6b04946a3da",
   "metadata": {},
   "outputs": [
    {
     "data": {
      "text/plain": [
       "-1"
      ]
     },
     "execution_count": 208,
     "metadata": {},
     "output_type": "execute_result"
    }
   ],
   "source": [
    "my_str_low.find('choice')"
   ]
  },
  {
   "cell_type": "markdown",
   "id": "8260a387-1a68-46a5-b030-0211df1072cb",
   "metadata": {},
   "source": [
    "We got `-1`. Beware! It is not the index `-1`! `find()` will always returns positive indices if it finds a substrings, and will return `-1` otherwise.\n",
    "\n",
    "Now what happens if a substring appears several times? As mentioned above, `find()` will return the index where the substring *first* appears. If we want the last instance, we can use `rfind()` (i.e., right find): "
   ]
  },
  {
   "cell_type": "code",
   "execution_count": 210,
   "id": "4af582e0-4e4a-4365-9929-2da85f669c04",
   "metadata": {},
   "outputs": [
    {
     "name": "stdout",
     "output_type": "stream",
     "text": [
      "0\n",
      "21\n"
     ]
    }
   ],
   "source": [
    "print(my_str_low.find('the'))\n",
    "print(my_str_low.rfind('the'))"
   ]
  },
  {
   "cell_type": "markdown",
   "id": "f49d777f-0c3d-436e-9fbd-b7309256e332",
   "metadata": {},
   "source": [
    "When the substring appears only once, `find()` and `rfind()` return the same index:"
   ]
  },
  {
   "cell_type": "code",
   "execution_count": 238,
   "id": "4cc61990-5ebb-4770-9e9c-dece1510b877",
   "metadata": {},
   "outputs": [
    {
     "name": "stdout",
     "output_type": "stream",
     "text": [
      "61\n",
      "61\n"
     ]
    }
   ],
   "source": [
    "print(my_str_low.find('technology'))\n",
    "print(my_str_low.rfind('technology'))"
   ]
  },
  {
   "cell_type": "markdown",
   "id": "944cc71f-ddbb-4c62-a707-61902b0a16ac",
   "metadata": {},
   "source": [
    "### Replacing substring <a name=\"replace\"></a> "
   ]
  },
  {
   "cell_type": "markdown",
   "id": "81de0ba9-8db5-438f-ba39-cdfea609689f",
   "metadata": {},
   "source": [
    "Here is a very convenient method: `replace()` will replace a substring by another. For instance, say we want to replace `'additional'` by `'extra'`:"
   ]
  },
  {
   "cell_type": "code",
   "execution_count": 211,
   "id": "a2d369f4-947d-4e37-acd1-c14a4a19b510",
   "metadata": {},
   "outputs": [
    {
     "data": {
      "text/plain": [
       "'the green premium is the extra cost of choosing a clean technology over one that emits a greater amount of greenhouse gases.'"
      ]
     },
     "execution_count": 211,
     "metadata": {},
     "output_type": "execute_result"
    }
   ],
   "source": [
    "my_str_low.replace('additional', 'extra')"
   ]
  },
  {
   "cell_type": "markdown",
   "id": "0bea0d30-1b1d-4b57-8355-398b2ebedd1a",
   "metadata": {},
   "source": [
    "But remember, `string` is immutable, so we actually did not change our original string!"
   ]
  },
  {
   "cell_type": "code",
   "execution_count": 212,
   "id": "fc0ba2f6-8c6d-41a7-9514-65620148fa6d",
   "metadata": {},
   "outputs": [
    {
     "data": {
      "text/plain": [
       "'the green premium is the additional cost of choosing a clean technology over one that emits a greater amount of greenhouse gases.'"
      ]
     },
     "execution_count": 212,
     "metadata": {},
     "output_type": "execute_result"
    }
   ],
   "source": [
    "my_str_low"
   ]
  },
  {
   "cell_type": "markdown",
   "id": "77310dc9-4efe-403f-89fa-52b6d0cd36ec",
   "metadata": {},
   "source": [
    "`replace()` converts all the substring of a string (and not only the first one)"
   ]
  },
  {
   "cell_type": "code",
   "execution_count": 245,
   "id": "981783d4-5187-41df-838d-b57f6e8d3419",
   "metadata": {},
   "outputs": [
    {
     "data": {
      "text/plain": [
       "' green premium is  additional cost of choosing a clean technology over one that emits a greater amount of greenhouse gases.'"
      ]
     },
     "execution_count": 245,
     "metadata": {},
     "output_type": "execute_result"
    }
   ],
   "source": [
    "my_str_low.replace('the','')"
   ]
  },
  {
   "cell_type": "markdown",
   "id": "3d5cfa94-c1b2-487c-a0b5-21e6f7bcf446",
   "metadata": {},
   "source": [
    "`replace()` will thus come in handy to replace missing/error values in our data, remove punctuation, or, for instance, convert Yes/No statements into 1 and 0 values."
   ]
  },
  {
   "cell_type": "markdown",
   "id": "8b2b8fc3-2832-4138-b375-8381a2a88f3e",
   "metadata": {},
   "source": [
    "### Joining <a name=\"Joining\"></a>"
   ]
  },
  {
   "cell_type": "markdown",
   "id": "0c689dab-ac37-47f1-bb4b-8b3dec9e1de4",
   "metadata": {},
   "source": [
    "The `join()` method allows to concatenate the elements of a iterable (e.g., a list or a tuple) into one string:"
   ]
  },
  {
   "cell_type": "code",
   "execution_count": 213,
   "id": "84bab369-683e-4942-99f0-873167733275",
   "metadata": {},
   "outputs": [
    {
     "data": {
      "text/plain": [
       "'circular economy premium'"
      ]
     },
     "execution_count": 213,
     "metadata": {},
     "output_type": "execute_result"
    }
   ],
   "source": [
    "word_tuple = ('circular', 'economy', 'premium')\n",
    "\n",
    "' '.join(word_tuple)"
   ]
  },
  {
   "cell_type": "markdown",
   "id": "16c17849-50a7-4bf6-8a21-c83f2825bb31",
   "metadata": {},
   "source": [
    "Note the syntax: the string before the dot `' '.` specifies what goes between the element of the iterable in the string, e.g., here, a space. But you are free to specify the seperator you wish:"
   ]
  },
  {
   "cell_type": "code",
   "execution_count": 214,
   "id": "3021d881-7b27-4ad0-948c-6d1d6ee3cdec",
   "metadata": {},
   "outputs": [
    {
     "data": {
      "text/plain": [
       "'circular ... economy ... premium'"
      ]
     },
     "execution_count": 214,
     "metadata": {},
     "output_type": "execute_result"
    }
   ],
   "source": [
    "' ... '.join(word_tuple)"
   ]
  },
  {
   "cell_type": "markdown",
   "id": "9953bfd2-6aec-401c-a7e2-0d7fee505081",
   "metadata": {},
   "source": [
    "By the way, if you are wondering what is the circular economy premium, just ask Edoardo, we are working on the topic with E4S :) "
   ]
  },
  {
   "cell_type": "markdown",
   "id": "89ec97bc-d2b9-471e-b21d-644973412c7e",
   "metadata": {},
   "source": [
    "### Formatting <a name=\"Formatting\"></a>"
   ]
  },
  {
   "cell_type": "markdown",
   "id": "3f455805-b17a-45bb-876f-f2cd2e262b9c",
   "metadata": {},
   "source": [
    "Remember when we wanted to combine strings and we used the operator `+`? Well, there is another much more powerful way using the `format()` method. Here is how it looks:"
   ]
  },
  {
   "cell_type": "code",
   "execution_count": 254,
   "id": "62471c4d-518d-435e-8ea5-57b80bfeee25",
   "metadata": {},
   "outputs": [
    {
     "name": "stdout",
     "output_type": "stream",
     "text": [
      " \n",
      "Our last observation is Cosette. \n",
      "She lives in Zurich.\n"
     ]
    }
   ],
   "source": [
    "obs_description = ''' \n",
    "Our last observation is {name}. \n",
    "She lives in {city}.'''.format(name = 'Cosette', city = 'Zurich')\n",
    "\n",
    "print(obs_description)"
   ]
  },
  {
   "cell_type": "markdown",
   "id": "ddc74f16-8fd1-4afb-bbee-0dc714bb6d69",
   "metadata": {},
   "source": [
    "See what happened? We applied the `format()` method to our string. As arguments, the `format()` method is using named keyword arguments (kwargs), here `name = 'Cosette'` and `city = 'Zurich'`. Withing the string, the kwargs are given in curly braces. The `format()` method inserts the strings as the place delimited by braces.\n",
    "\n",
    "That's nice, isn't it? But can we reach the next level and combine strings and numbers into a string, without relying on the function `str()`? Yes, we can! By using, **string conversion**, we can specify how a number should be represented in a string. The table below shows some of the most common conversion. A complete list is available in the [Python documentation](https://docs.python.org/3/library/stdtypes.html#printf-style-bytes-formatting).\n",
    "\n",
    "|conversion|description|\n",
    "|:----------:|-----------|\n",
    "|`d`| integer|\n",
    "|`04d`| integer with four digits, possibly with leading zeros|\n",
    "|`f`| float, default to six digits after decimal|\n",
    "|`.8f`| float with 8 digits after the decimal|\n",
    "|`e`| scientific notation, default to six digits after decimal|\n",
    "|`.16e`| scientific notation with 16 digits after the decimal|\n",
    "|`s`| display as a string|\n",
    "\n",
    "Let's try with some examples:"
   ]
  },
  {
   "cell_type": "code",
   "execution_count": 228,
   "id": "3aa34a40-5709-41a6-b9ab-19cf8251477f",
   "metadata": {},
   "outputs": [
    {
     "name": "stdout",
     "output_type": "stream",
     "text": [
      "Her electricity consumption is 7200 kWh per year.\n",
      "She is willing to pay an extra 0.750000 swiss francs per kWh to get green electricity.\n",
      "She is willing to pay an extra 0.750 swiss francs per kWh to get green electricity.\n",
      "She is willing to pay an extra 7.50e-01 swiss francs per kWh to get green electricity.\n",
      "She answered Yes to the question of whether she already subscribed to the Green Electricity Mix.\n"
     ]
    }
   ],
   "source": [
    "print('Her electricity consumption is {n:d} kWh per year.'.format(n=7200))\n",
    "print('She is willing to pay an extra {c:f} swiss francs per kWh to get green electricity.'.format(c=0.75))\n",
    "print('She is willing to pay an extra {c:.3f} swiss francs per kWh to get green electricity.'.format(c=0.75))\n",
    "print('She is willing to pay an extra {c:.2e} swiss francs per kWh to get green electricity.'.format(c=0.75))\n",
    "print('She answered {answer:s} to the question of whether she already subscribed to the Green Electricity Mix.'.format(answer='Yes'))"
   ]
  },
  {
   "cell_type": "markdown",
   "id": "8ee25df0-4167-4402-a7be-47c07105dc71",
   "metadata": {},
   "source": [
    "Do you understand the syntax? It is the same as for strings: kwargs as arguments of the `format()` method and kwargs inside braces in the string. However, now we also specify the conversion, i.e., how the kwarg should appear in the string. We do so by including in the braces after our kwarg a colon `:` followed by the string conversion code. For instance, for the first string, we have inside the braces `{n:d}`: `n` is our kwarg, and `d`is the string conversion for integer. Similarly in the second string, except this time we are using `f` to specify we convert a float. Note that by default, a float will appear with six digits after decimal. If we want to adjust the number of decimal, we can: in the third string we have `.3f`, meaning we only want three decimals. \n",
    "Quite neat, isn't it? Then, wait, it gets even better!"
   ]
  },
  {
   "cell_type": "markdown",
   "id": "7e6fd91e-4ba9-47ed-9768-ddf065b10202",
   "metadata": {},
   "source": [
    "### f-strings <a name=\"f-strings\"></a>"
   ]
  },
  {
   "cell_type": "markdown",
   "id": "ddb7b390-18d8-4049-9fa6-ac7a8a1a9c57",
   "metadata": {},
   "source": [
    "There is an even faster and more efficient way than the `format()` method! **f-strings** allow to directly insert some variables into strings. Even better, the syntax is quite simple: we prefix our string with `f` or `F`, and then add the name of the variable we want to insert between braces. We don't even need to specify the conversion, except if we want to adjust the default setting - for example, modify the number of decimals displayed for floats. In that case, we are using the same conversion code as for the `format()` method. Here are some illustrations:"
   ]
  },
  {
   "cell_type": "code",
   "execution_count": 236,
   "id": "953bb77c-4ad6-4b9c-b5a7-30bae8f4cdec",
   "metadata": {
    "tags": []
   },
   "outputs": [
    {
     "name": "stdout",
     "output_type": "stream",
     "text": [
      "Our last observation is Cosette.\n",
      "She lives in Zurich.\n",
      "Her electricity consumption is 7200 kWh per year.\n",
      "She is willing to pay an extra 0.750 swiss francs per kWh to get green electricity.\n"
     ]
    }
   ],
   "source": [
    "name = 'Cosette'\n",
    "city = 'Zurich'\n",
    "consumption = 7200\n",
    "wtp = 0.75\n",
    "\n",
    "print(f'Our last observation is {name}.')\n",
    "print(f'She lives in {city}.')\n",
    "print(f'Her electricity consumption is {consumption} kWh per year.')\n",
    "print(f'She is willing to pay an extra {wtp:.3f} swiss francs per kWh to get green electricity.')"
   ]
  },
  {
   "cell_type": "markdown",
   "id": "cad5cfa2-6891-45b0-b887-972799cb5891",
   "metadata": {},
   "source": [
    "Alright, this concludes our introduction to Python. Make sure to practise, it is the only way to learn programming. But for now, congrats if you made it this far, you deserve a treat!\n",
    "\n",
    "<img src='https://miro.medium.com/v2/resize:fit:640/format:webp/0*hIcd2XXtpTwXTYgl.png' width=\"400\">"
   ]
  }
 ],
 "metadata": {
  "kernelspec": {
   "display_name": "Python 3 (ipykernel)",
   "language": "python",
   "name": "python3"
  },
  "language_info": {
   "codemirror_mode": {
    "name": "ipython",
    "version": 3
   },
   "file_extension": ".py",
   "mimetype": "text/x-python",
   "name": "python",
   "nbconvert_exporter": "python",
   "pygments_lexer": "ipython3",
   "version": "3.11.3"
  }
 },
 "nbformat": 4,
 "nbformat_minor": 5
}
