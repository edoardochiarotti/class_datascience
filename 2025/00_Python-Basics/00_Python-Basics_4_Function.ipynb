{
 "cells": [
  {
   "cell_type": "markdown",
   "id": "e5a6782e-5211-4979-934a-f4da03f307a5",
   "metadata": {},
   "source": [
    "<a href=\"https://colab.research.google.com/github/edoardochiarotti/class_datascience/blob/main/2024/00_Python-Basics/00_Python-Basics_4_Function.ipynb\" target=\"_blank\" rel=\"noopener\"><img src=\"https://colab.research.google.com/assets/colab-badge.svg\" alt=\"Open In Colab\"/></a>"
   ]
  },
  {
   "cell_type": "markdown",
   "id": "f9e5cfd8-c238-43ff-b537-ca5faae20742",
   "metadata": {},
   "source": [
    "# Python Basics: function"
   ]
  },
  {
   "cell_type": "markdown",
   "id": "0e161ad9-2a49-4d87-bb8f-ad8ea431807a",
   "metadata": {},
   "source": [
    "<img src='https://www.agent-x.com.au/wp-content/uploads/2011/06/Perfect-Programmer-dfe194b-e8d3b11-b960bd5.jpg' width=\"400\">\n",
    "\n",
    "Source: [Agent-X Comics - Perfect Programming](https://www.agent-x.com.au/comic/perfect-programming/)"
   ]
  },
  {
   "cell_type": "markdown",
   "id": "75df24c7-2f28-47df-bfb4-2a2f115f8e85",
   "metadata": {},
   "source": [
    "## Contents\n",
    "\n",
    "In our previous notebook, we have learned how to iterate over objects using for and while loops, thus avoiding to repeat similar lines of codes. Similarly, functions will allow us to \"store\" a set of instructions that we can reuse, without the need to repeat lines of code.   \n",
    "\n",
    "- [Function](#Function)  \n",
    "  - [Defining a function](#define-function)\n",
    "  - [Built-in functions](#built-in-function)\n",
    "  - [Keyword argument](#kwarg)\n",
    "  - [Splat](#splat)\n",
    "  - [Improving your functions: *args and **kwargs](#arg-kwarg)\n",
    "- [Recursive function](#recursive-function)"
   ]
  },
  {
   "cell_type": "markdown",
   "id": "5e77bc84-9f07-4f09-818f-d4aeef92c5e9",
   "metadata": {
    "tags": []
   },
   "source": [
    "## Function <a name=\"Function\"></a>"
   ]
  },
  {
   "cell_type": "markdown",
   "id": "92d28174-3930-43f0-8e42-84577057dba3",
   "metadata": {},
   "source": [
    "A function is a key element in writing programs. You can think of a function in a computing language in much the same way you think of a mathematical function. The function takes in arguments, performs some operation based on the identities of the arguments, and then returns a result."
   ]
  },
  {
   "cell_type": "markdown",
   "id": "7ecd6271-63b9-4960-8ad5-b316ea2d07df",
   "metadata": {},
   "source": [
    "### Defining a function <a name=\"define-function\"></a>"
   ]
  },
  {
   "cell_type": "markdown",
   "id": "20f5dddf-9222-45d1-a2e4-d019919307b5",
   "metadata": {},
   "source": [
    "As always, let's take an example. We will use the [Cobb-Douglas production function](https://en.wikipedia.org/wiki/Cobb%E2%80%93Douglas_production_function), which models the relationship between production output and production inputs (factors). It was put forward by mathematician Charles Cobb and economist Paul Douglas between 1927 and 1947 (Cobb & Douglas, 1928). They studied the relative importance of the two input factors, labor and capital, in manufacturing output in the USA over the period 1899 to 1922. Their model was the following:\n",
    "\n",
    "$Y = A L^{\\alpha} K^{1-\\alpha} $\n",
    "\n",
    "Where $Y$ is the output, $A$ is the efficiency parameter, $L$ labor, $K$ capital, and $\\alpha \\in (0,1)$ is the output-elasticity of labor.\n",
    "\n",
    "Cobb and Douglas estimated the parameters using standard econometrics tools. They found $\\alpha = 0.75$, implying that labor accounted for three quarters of the value of US manufacturing output (capital accounting for the remaining quarter) over the period studied. For the efficiency parameter, they got $A=1.01$, which, since it is greater than 1, reflects the positive effects of unobservable forces on production through the combination of labor and capital. \n",
    "\n",
    "Reference: Cobb, C. W., & Douglas, P. H. (1928). A theory of production.\n",
    "\n",
    "The mathematical form that we used, with $\\alpha + (1-\\alpha)=1$ implies constant return to scale: output increases by the same proportional change as all inputs change. In addition, the cross-partial derivative of production output $Y$ with respect to labor $L$ and capital $K$ is positive and the second-order partial derivatives are both negative (because $\\alpha \\in (0,1)$). It means that adding either more labor or more capital (but not both) to the production process increases output, though at a diminishing rate. Finally, because $\\alpha$ is a constant, it implies that the shares of labor and capital are constant. \n",
    "\n",
    "The design of the Cobb-Douglas production function was influenced by statistical evidence: it appeared that labor and capital shares of total output were constant over time in developed countries. However, Cobb and Douglas themselves acknowledged that their production function does not rest on solid theoretical foundations, nor should it be understood as a law of production! Still, nowadays, the Cobb-Douglas production function is often used in economics models. The main reason: its simple mathematical properties are attractive, in the sense that it is relatively easy to derive analytical solutions using such function. Obviously, this is very questionable. Many other models were developed to remedy the shortcomings of Cobb-Douglas, which will be discussion for your economics courses...\n",
    "\n",
    "Here is the lesson though: **always question the assumptions behind models**, both theoretical and empirical. Do the assumptions have a large influence on the results? Can you back up the assumptions with data or theory? Also remember, even unrealistic assumption (e.g., *homo oeconomicus*) can lead to interesting results. A model is like a map. For example, think about a metro map: such map represents the metro lines and their connections, but is obviously not a faithful representation of reality! Still, it is very convenient to find your way from one place to another. What matters here is the goal. You would not use your metro map to walk from one station to another. Similarly, with economic/statistical models, ask yourself the question: **Can we extrapolate?**\n",
    "\n",
    "Ok, enough discussion of the history of economics and economic models, and back to Python. Let's implement our Cobb-Douglas production function!"
   ]
  },
  {
   "cell_type": "code",
   "execution_count": 1,
   "id": "8b9cc9ef-8000-4663-8662-adb0cb74ae1d",
   "metadata": {},
   "outputs": [],
   "source": [
    "def cobb_douglas(l, k):\n",
    "    \"\"\"This function computes the Cobb Douglas production function from labor and capital.\"\"\"\n",
    "    A = 1.01          # efficiency parameter        \n",
    "    alpha = 0.75      # output elasticity of labor\n",
    "    return A* l**alpha * k**(1-alpha)"
   ]
  },
  {
   "cell_type": "markdown",
   "id": "75491111-576d-4cd9-917d-7efa0277bfd5",
   "metadata": {},
   "source": [
    "Pay attention to the syntax. A function is **defined** using the `def` keyword. \n",
    "\n",
    "Following the `def` keyword is a **function signature** which indicates the function's name and its arguments. Here the signature is `cobb_douglas(l, k)`. Just like in mathematics, the arguments are separated by commas and enclosed in parentheses. \n",
    "\n",
    "The indentation following the `def` line specifies what is part of the function. As soon as the indentation goes to the left again, aligned with `def`, the contents of the functions are complete.\n",
    "\n",
    "Immediately following the function definition is the **doc string** (short for documentation string), a brief description of the function. The first string after the function definition is always defined as the doc string. Usually, it is in triple quotes, as doc strings often span multiple lines.\n",
    "\n",
    "Doc strings are more than just comments for your code, the doc string is what is returned by the native python function `help()` when someone is looking to learn more about your function. For example:"
   ]
  },
  {
   "cell_type": "code",
   "execution_count": 2,
   "id": "8db03b4b-eb24-45d9-a9b2-add7d6fd8f01",
   "metadata": {},
   "outputs": [
    {
     "name": "stdout",
     "output_type": "stream",
     "text": [
      "Help on function cobb_douglas in module __main__:\n",
      "\n",
      "cobb_douglas(l, k)\n",
      "    This function computes the Cobb Douglas production function from labor and capital.\n",
      "\n"
     ]
    }
   ],
   "source": [
    "help(cobb_douglas)"
   ]
  },
  {
   "cell_type": "markdown",
   "id": "2f7f6027-3c22-4783-aaa9-51c6cbd4352d",
   "metadata": {},
   "source": [
    "You can also print out the documentation by using `?` in a Jupyter notebook or JupyterLab console."
   ]
  },
  {
   "cell_type": "code",
   "execution_count": 3,
   "id": "a21ae191-26fc-49a2-82bf-a3319adcfa89",
   "metadata": {},
   "outputs": [
    {
     "data": {
      "text/plain": [
       "\u001b[1;31mSignature:\u001b[0m \u001b[0mcobb_douglas\u001b[0m\u001b[1;33m(\u001b[0m\u001b[0ml\u001b[0m\u001b[1;33m,\u001b[0m \u001b[0mk\u001b[0m\u001b[1;33m)\u001b[0m\u001b[1;33m\u001b[0m\u001b[1;33m\u001b[0m\u001b[0m\n",
       "\u001b[1;31mDocstring:\u001b[0m This function computes the Cobb Douglas production function from labor and capital.\n",
       "\u001b[1;31mFile:\u001b[0m      c:\\users\\boris\\appdata\\local\\temp\\ipykernel_16424\\1360091775.py\n",
       "\u001b[1;31mType:\u001b[0m      function"
      ]
     },
     "metadata": {},
     "output_type": "display_data"
    }
   ],
   "source": [
    "cobb_douglas?"
   ]
  },
  {
   "cell_type": "markdown",
   "id": "1a810f2b-6eca-41bd-9ec5-041b64480eb0",
   "metadata": {},
   "source": [
    "You are free to type whatever you like in doc strings, or even omit them, but you should always have a doc string with some information about what your function is doing. Again: all functions should have doc strings.\n",
    "\n",
    "In the next line of the function, we see a `return` keyword. Whatever is after the `return` statement is, you guessed it, returned by the function. Any code after the `return` is *not* executed because the function has already returned!\n",
    "\n",
    "Now that we have defined our function, we can **call** it:"
   ]
  },
  {
   "cell_type": "code",
   "execution_count": 4,
   "id": "82b8e7bf-c9da-416f-8922-fc3596b388ee",
   "metadata": {},
   "outputs": [
    {
     "data": {
      "text/plain": [
       "63.6812112530437"
      ]
     },
     "execution_count": 4,
     "metadata": {},
     "output_type": "execute_result"
    }
   ],
   "source": [
    "cobb_douglas(74, 39)"
   ]
  },
  {
   "cell_type": "code",
   "execution_count": 5,
   "id": "be040a28-dc15-48f2-8e16-b764680718ad",
   "metadata": {},
   "outputs": [
    {
     "data": {
      "text/plain": [
       "0.636812112530437"
      ]
     },
     "execution_count": 5,
     "metadata": {},
     "output_type": "execute_result"
    }
   ],
   "source": [
    "cobb_douglas(0.74, 0.39)"
   ]
  },
  {
   "cell_type": "markdown",
   "id": "36963e1c-9da5-4bf3-bac1-09d1610e6e8f",
   "metadata": {},
   "source": [
    "See, when we divided both labor and capital by 100, we also reduced production by 100: this the constant return to scale property in action!"
   ]
  },
  {
   "cell_type": "markdown",
   "id": "bb714bcb-ff98-44e6-9f62-9f0dfdab4893",
   "metadata": {},
   "source": [
    "A function does not need arguments. As a silly example, let's consider a function that just returns 42 every time. Of course, it does not matter what its arguments are, so we can define a function without arguments."
   ]
  },
  {
   "cell_type": "code",
   "execution_count": 6,
   "id": "745bbf9e-207e-4e35-97d6-43f5ba832cc4",
   "metadata": {},
   "outputs": [],
   "source": [
    "def answer_to_everything():\n",
    "    \"\"\"This function answers the ultimate question of life, the universe, and everything.\"\"\"\n",
    "    return 42"
   ]
  },
  {
   "cell_type": "markdown",
   "id": "973b8342-b560-49c4-b4c0-83c552ed5395",
   "metadata": {},
   "source": [
    "We still needed the open and closed parentheses at the end of the function name. Similarly, even though it has no arguments, we still have to call it with parentheses."
   ]
  },
  {
   "cell_type": "code",
   "execution_count": 7,
   "id": "5fa2da2b-d11e-40c6-93c6-3a9b1c481581",
   "metadata": {},
   "outputs": [
    {
     "data": {
      "text/plain": [
       "42"
      ]
     },
     "execution_count": 7,
     "metadata": {},
     "output_type": "execute_result"
    }
   ],
   "source": [
    "answer_to_everything()"
   ]
  },
  {
   "cell_type": "markdown",
   "id": "fe42644c-267a-4ca5-aefc-12f0816114d2",
   "metadata": {},
   "source": [
    "Just like they do not necessarily need arguments, functions also do not need to return anything. If a function does not have a `return` statement (or it is never encountered in the execution of the function), the function runs to completion and returns `None` by default. `None` is a special Python keyword which basically means \"nothing.\" For example, a function could simply print something to the screen."
   ]
  },
  {
   "cell_type": "code",
   "execution_count": 8,
   "id": "1b9a175a-a31d-41c6-a00f-8b31ca85a072",
   "metadata": {},
   "outputs": [],
   "source": [
    "def circular_economy():\n",
    "    \"\"\"Prints the definition of circular economy\"\"\"\n",
    "    print(\"\"\"A circular economy is a regenerative economic system that\n",
    "    uses renewable energy and resources, \n",
    "    reuses materials and products as long as possible, \n",
    "    and recycles resources rather than disposing them as waste. \"\"\")"
   ]
  },
  {
   "cell_type": "markdown",
   "id": "29de8636-7dcc-4169-8e21-a5d8ae52e53e",
   "metadata": {},
   "source": [
    "We call this function as all others, but we can show that the result it returns is `None`."
   ]
  },
  {
   "cell_type": "code",
   "execution_count": 9,
   "id": "0778c56f-0d03-4cd3-af99-3889a8e87457",
   "metadata": {},
   "outputs": [
    {
     "name": "stdout",
     "output_type": "stream",
     "text": [
      "A circular economy is a regenerative economic system that\n",
      "    uses renewable energy and resources, \n",
      "    reuses materials and products as long as possible, \n",
      "    and recycles resources rather than disposing them as waste. \n"
     ]
    }
   ],
   "source": [
    "circ_eco = circular_economy()"
   ]
  },
  {
   "cell_type": "code",
   "execution_count": 10,
   "id": "c8261e5b-5e74-4e8f-a2b6-96d4939e96fc",
   "metadata": {},
   "outputs": [
    {
     "name": "stdout",
     "output_type": "stream",
     "text": [
      "None\n"
     ]
    }
   ],
   "source": [
    "print(circ_eco)"
   ]
  },
  {
   "cell_type": "markdown",
   "id": "b236dc6a-f4c5-4dc5-9020-0cfb6446e146",
   "metadata": {},
   "source": [
    "See, when we print the variable `circ_eco`, the answer is `None`. So apparently, circular economy models are not yet standard..."
   ]
  },
  {
   "cell_type": "markdown",
   "id": "a990782d-f697-4441-820e-4ff3f175f1d6",
   "metadata": {},
   "source": [
    "Finally, here is a very important tips:\n",
    "\n",
    "<span style=\"color: dodgerblue; font-weight: bold;\"> Always test your function! </span>"
   ]
  },
  {
   "cell_type": "markdown",
   "id": "a3190bcc-ac26-4d69-bf8c-8e9a1be59f19",
   "metadata": {},
   "source": [
    "### Built-in functions <a name=\"built-in-function\"></a>\n",
    "\n",
    "The Python programming language has several built-in functions. We have already encountered a few of them such as `print()`, `len()`, `range()`, and `enumerate()`, in addition to type conversions such as `str`, `list()` and `tuple()`.  The complete set of **built-in functions** can be found [here](https://docs.python.org/3/library/functions.html). A word of warning about these functions and naming your own.\n",
    "\n",
    "<span style=\"color: dodgerblue; font-weight: bold;\"> Never define a function or variable with the same name as a built-in function. </span>\n",
    "\n",
    "Additionally, Python has **keywords** (such as `def`, `for`, `in`, `if`, `True`, `None`, etc.), many of which we have already encountered. A complete list of them is [here](https://docs.python.org/3/reference/lexical_analysis.html#keywords). The interpreter will throw an error if you try to define a function or variable with the same name as a keyword."
   ]
  },
  {
   "cell_type": "markdown",
   "id": "eb0b596d-fee5-4807-b56a-11b5bc6997d2",
   "metadata": {},
   "source": [
    "### Keyword argument <a name=\"kwarg\"></a>"
   ]
  },
  {
   "cell_type": "markdown",
   "id": "a406718e-c551-4969-83be-59317fea1ade",
   "metadata": {},
   "source": [
    "When we defined our `cobb-douglas()` function, we defined the efficiency parameter and the output-elasticity of labor inside the function. With that structure, we cannot modify the parameters. Would there be a better way? Of course there is, we can use **named keyword argument**, also known as a **named kwarg**. Here is how it looks:"
   ]
  },
  {
   "cell_type": "code",
   "execution_count": 11,
   "id": "9ec017ce-f351-4b7e-a556-b1048019d795",
   "metadata": {},
   "outputs": [],
   "source": [
    "def cobb_douglas_kwarg(l, k, A=1.01, alpha = 0.75):\n",
    "    \"\"\"This function computes the Cobb Douglas production function from labor and capital.\"\"\"\n",
    "    return A* l**alpha * k**(1-alpha)"
   ]
  },
  {
   "cell_type": "markdown",
   "id": "fb5cc5d4-5c4e-4685-8627-947bf6544de7",
   "metadata": {},
   "source": [
    "The syntax for a named kwarg is\n",
    "\n",
    "    kwarg_name = default_value\n",
    "    \n",
    "in the `def` clause of the function definition. In this case, we added the efficiency parameter and output-elasticity of labor. Conveniently, if you can call the function without specifying the kwargs, they are assigned to their default values. Hence, we can omit kwargs when calling our function:"
   ]
  },
  {
   "cell_type": "code",
   "execution_count": 12,
   "id": "d47acc19-0587-4950-b598-9d2725e1a0f6",
   "metadata": {},
   "outputs": [
    {
     "data": {
      "text/plain": [
       "63.6812112530437"
      ]
     },
     "execution_count": 12,
     "metadata": {},
     "output_type": "execute_result"
    }
   ],
   "source": [
    "cobb_douglas_kwarg(74, 39)"
   ]
  },
  {
   "cell_type": "markdown",
   "id": "bfa1692d-897d-4ab6-8351-28f35f55ff9a",
   "metadata": {},
   "source": [
    "But know we can also modify the values of the parameters!"
   ]
  },
  {
   "cell_type": "code",
   "execution_count": 13,
   "id": "87d9bc99-d085-4a28-a44a-36afed492ab5",
   "metadata": {},
   "outputs": [
    {
     "data": {
      "text/plain": [
       "67.16983339223331"
      ]
     },
     "execution_count": 13,
     "metadata": {},
     "output_type": "execute_result"
    }
   ],
   "source": [
    "cobb_douglas_kwarg(74, 39, A=1.1, alpha=0.70)"
   ]
  },
  {
   "cell_type": "markdown",
   "id": "2662ce90-1f92-4715-b6d1-d5d0bfc84156",
   "metadata": {},
   "source": [
    "### Splat <a name=\"Splat\"></a>"
   ]
  },
  {
   "cell_type": "markdown",
   "id": "0a544dd8-58f4-49c9-8876-bc0c80b0a94e",
   "metadata": {},
   "source": [
    "Python offers another convenient way to call functions. Suppose we want to know whether or not a triangle is a right triangle. We will write a function taking three arguments, `a`, `b`, and `c` (the sides of a triangle), which checks if $a^2 + b^2 = c^2$."
   ]
  },
  {
   "cell_type": "code",
   "execution_count": 14,
   "id": "2f4e1630-6096-46ea-858a-f30d80bd7de1",
   "metadata": {},
   "outputs": [],
   "source": [
    "def is_right_triangle(a, b, c):\n",
    "    \"\"\"\n",
    "    Checks if a triangle with side lengths\n",
    "    `a`, `b`, and `c` is right.\n",
    "    \"\"\"\n",
    "    \n",
    "    # Use sorted(), which gives a sorted list\n",
    "    a, b, c = sorted([a, b, c])\n",
    "    \n",
    "    # Check to see if it is almost a right triangle (1e-12 is our precision)\n",
    "    if abs(a**2 + b**2 - c**2) < 1e-12:\n",
    "        return True\n",
    "    else:\n",
    "        return False"
   ]
  },
  {
   "cell_type": "markdown",
   "id": "aece7401-f8a5-4b79-abf9-835760d3e96e",
   "metadata": {},
   "source": [
    "Let's test our function:"
   ]
  },
  {
   "cell_type": "code",
   "execution_count": 15,
   "id": "9fabc2a6-fb5f-4302-9319-8ed547252447",
   "metadata": {},
   "outputs": [
    {
     "data": {
      "text/plain": [
       "True"
      ]
     },
     "execution_count": 15,
     "metadata": {},
     "output_type": "execute_result"
    }
   ],
   "source": [
    "is_right_triangle(5,3,4)"
   ]
  },
  {
   "cell_type": "code",
   "execution_count": 16,
   "id": "6570701f-0f10-487a-98b1-a57a69e3b28d",
   "metadata": {},
   "outputs": [
    {
     "data": {
      "text/plain": [
       "False"
      ]
     },
     "execution_count": 16,
     "metadata": {},
     "output_type": "execute_result"
    }
   ],
   "source": [
    "is_right_triangle(1,2,3)"
   ]
  },
  {
   "cell_type": "markdown",
   "id": "a346cb0c-0682-4f8d-9510-a6fc39e9a3c5",
   "metadata": {},
   "source": [
    "Ok, it seems alright. Now, let's say we have a tupple with the triangle side `(a,b,c)`. We can pass these all in separately by splitting the tuple. However, there is a more efficient way using the **unpacking operator** `*` before a tuple, which is referred to as a \"splat.\""
   ]
  },
  {
   "cell_type": "code",
   "execution_count": 17,
   "id": "171c7135-da8c-4b69-b49d-777c98f780cb",
   "metadata": {},
   "outputs": [
    {
     "data": {
      "text/plain": [
       "True"
      ]
     },
     "execution_count": 17,
     "metadata": {},
     "output_type": "execute_result"
    }
   ],
   "source": [
    "side_triangle = (5,3,4)\n",
    "\n",
    "is_right_triangle(*side_triangle)"
   ]
  },
  {
   "cell_type": "markdown",
   "id": "bb664aa3-7b52-495f-80b8-df602f9fb7f0",
   "metadata": {},
   "source": [
    "### Improving your function: *args and **kwargs <a name=\"arg-kwarg\"></a>"
   ]
  },
  {
   "cell_type": "markdown",
   "id": "d4b2458c-8b08-41e1-b2fe-6ea17ef81624",
   "metadata": {},
   "source": [
    "We have discussed above the unpacking operators `*`. When manipulating dictionaries we have also encountered the unpacking operator `**`. These operators are also very useful when you want to define a function with a variable number of arguments. \n",
    "\n",
    "Let's take a example. Suppose we want to sum some integers. The first way would be to use a list (or tuple as argument): "
   ]
  },
  {
   "cell_type": "code",
   "execution_count": 18,
   "id": "0ff587cf-bb04-4e7a-8537-e54d7607fabe",
   "metadata": {},
   "outputs": [
    {
     "name": "stdout",
     "output_type": "stream",
     "text": [
      "6\n"
     ]
    }
   ],
   "source": [
    "def my_sum(list_int):\n",
    "    \"\"\"This function sums integers. The argument should be a list/tuple of integers.\"\"\"\n",
    "    result = 0\n",
    "    for i in list_int:\n",
    "        result += i\n",
    "    return result\n",
    "\n",
    "print(my_sum([1, 2, 3]))"
   ]
  },
  {
   "cell_type": "markdown",
   "id": "71096b4a-44f9-420c-bd44-cba503fd550b",
   "metadata": {},
   "source": [
    "Alternatively, we might want to directly use the integers as arguments. But then the number of arguments could vary... No problem, we can use `*args` to define a function with an arbitrary number of arguments:"
   ]
  },
  {
   "cell_type": "code",
   "execution_count": 19,
   "id": "5bbefd7a-3f3f-40b8-8eb1-b98aec902e19",
   "metadata": {},
   "outputs": [
    {
     "name": "stdout",
     "output_type": "stream",
     "text": [
      "6\n",
      "10\n"
     ]
    }
   ],
   "source": [
    "def my_sum(*args):\n",
    "    \"\"\"This function sums integers. The argument should be a integers.\"\"\"\n",
    "    result = 0\n",
    "    # Iterating over the Python args tuple\n",
    "    for i in args:\n",
    "        result += i\n",
    "    return result\n",
    "\n",
    "print(my_sum(1, 2, 3))\n",
    "print(my_sum(1, 2, 3, 4))"
   ]
  },
  {
   "cell_type": "markdown",
   "id": "df5961a5-7d12-4387-8686-d65a6a113654",
   "metadata": {},
   "source": [
    "Note that `args` is just a name, i.e., you do not need to use `*args`, all that matters is the **unpacking operator** `*`. \n",
    "\n",
    "Ok, now that we understood `*args`, what about `**kwargs`? Does `kwargs` ring a bell? Yes, above we have used **named keyword argument**, i.e., named kwarg, to define the default values of our parameters: "
   ]
  },
  {
   "cell_type": "code",
   "execution_count": 20,
   "id": "777c5d60-b0cd-4d1b-8ddb-0a4c199474dd",
   "metadata": {},
   "outputs": [
    {
     "data": {
      "text/plain": [
       "46.348115238492475"
      ]
     },
     "execution_count": 20,
     "metadata": {},
     "output_type": "execute_result"
    }
   ],
   "source": [
    "def cobb_douglas_kwarg(l, k, A=1.01, alpha = 0.75):\n",
    "    \"\"\"This function computes the Cobb Douglas production function from labor and capital.\"\"\"\n",
    "    return A* l**alpha * k**(1-alpha)\n",
    "\n",
    "cobb_douglas_kwarg(42, 57, alpha = 0.71)"
   ]
  },
  {
   "cell_type": "markdown",
   "id": "a74a5b88-efb1-4aa3-b834-6abd6575867d",
   "metadata": {},
   "source": [
    "We could omit named keyword argument or modify their value. \n",
    "\n",
    "So, what about `**kwargs`? Well it allows to define function with **arbitrary keyword argument**. Let's see an example. Suppose we want to define a function printing the names of individuals for which we have data:  "
   ]
  },
  {
   "cell_type": "code",
   "execution_count": 21,
   "id": "df5d8bf1-714e-4915-9157-659fc5e8cccd",
   "metadata": {},
   "outputs": [
    {
     "name": "stdout",
     "output_type": "stream",
     "text": [
      "Our sample includes: Florence Jordane Julia Ale \n"
     ]
    }
   ],
   "source": [
    "def sample_names(**kwargs):\n",
    "    result = 'Our sample includes: '\n",
    "    # Iterating over the keys of the Python kwargs dictionary\n",
    "    for key, val in kwargs.items():\n",
    "        result += key + ' '\n",
    "    return result\n",
    "\n",
    "print(sample_names(Florence=0.3, Jordane=0.25, Julia = 0.5, Ale = 0.4))"
   ]
  },
  {
   "cell_type": "markdown",
   "id": "5b42570e-6002-45c5-abc3-00041944e488",
   "metadata": {},
   "source": [
    "Note that you can define functions that combines standard argument, `*args` arguments, and `**kwargs` arguments. However, the order of parameters matter:\n",
    "1. Standard arguments\n",
    "2. `*args` arguments\n",
    "3. `**kwargs` arguments"
   ]
  },
  {
   "cell_type": "markdown",
   "id": "047a6f37-b7a7-4172-a09f-e06054ff6d70",
   "metadata": {},
   "source": [
    "## Recursive function <a name=\"recursive-function\"></a>"
   ]
  },
  {
   "cell_type": "markdown",
   "id": "f78bf30f-f251-44b7-812a-617db4bc877c",
   "metadata": {},
   "source": [
    "A function that calls itself is said to be **recursive**, and the technique of employing a recursive function is called **recursion**.\n",
    "\n",
    "Let's take an example. Imagine you wish to compute [Fibonacci numbers](https://en.wikipedia.org/wiki/Fibonacci_number). The Fibonacci numbers form the Fibonacci sequence, , in which each number is the sum of the two preceding ones. The sequence commonly starts from 0 and 1: \n",
    "\n",
    "$0, 1, 1, 2, 3, 5, 8, 13, 21, 34, 55, 89, 144, ...$ \n",
    "\n",
    "The Fibonacci numbers can also be expressed using a closed form solution, using the [Golden ratio](https://en.wikipedia.org/wiki/Golden_ratio)\n",
    "\n",
    "The Fibonacci numbers have some amazing applications. For instance, they often appear in Nature, such as branching in trees, arrangement of leaves on a stem, the fruitlets of a pineapple, the flowering of artichoke, an uncurling fern and the arrangement of a pine cone, etc.\n",
    "\n",
    "<img src='https://upload.wikimedia.org/wikipedia/commons/5/5a/FibonacciChamomile.PNG?20140804210532' width=\"350\">\n",
    "\n",
    "Image: [FibonacciChamomile](https://commons.wikimedia.org/w/index.php?curid=15047443), Wikimedia Commons\n",
    "\n",
    "In the above image, yellow chamomile head are arranged in 21 (blue) and 13 (aqua) spirals, both Fibonacci numbers. What is this miracle?? Well, there is a reason. This pattern allows to maximize the numbers of cells. Explore further on [Math is Fun](https://www.mathsisfun.com/numbers/nature-golden-ratio-fibonacci.html). Such arrangements involving consecutive Fibonacci numbers appear in a wide variety of plants. See for instance [14 examples of Fibonacci numbers and the Golden ratio in Nature](https://www.mathnasium.com/blog/14-interesting-examples-of-the-golden-ratio-in-nature#:~:text=The%20Fibonacci%20sequence%20can%20also,each%20of%20the%20new%20stems.)\n",
    "\n",
    "Anyway, let's try to define a function to compute Fibonacci numbers. We have:\n",
    "\n",
    "$F(0)=0$\n",
    "\n",
    "$F(1)=1$\n",
    "\n",
    "$F(n)=F(n-1)+F(n-2)$\n",
    "\n"
   ]
  },
  {
   "cell_type": "code",
   "execution_count": 22,
   "id": "6466cd0e-c79b-4340-9fa0-5ae27016f449",
   "metadata": {},
   "outputs": [],
   "source": [
    "def fibonacci(n):\n",
    "    \"\"\"This function computes the n-th Fibonacci number\"\"\"\n",
    "    if n in (0, 1):              # We know the solution F(0)=0 and F(1)=1\n",
    "        return n\n",
    "    else:\n",
    "        return fibonacci(n - 1) + fibonacci(n - 2)  # Else, we need a recursion"
   ]
  },
  {
   "cell_type": "markdown",
   "id": "a66bb860-0217-40ec-9ce6-2bb4a9c6cc40",
   "metadata": {},
   "source": [
    "Let's try our function:"
   ]
  },
  {
   "cell_type": "code",
   "execution_count": 23,
   "id": "5ab688a4-db7e-4283-b194-3531f35981c4",
   "metadata": {},
   "outputs": [
    {
     "name": "stdout",
     "output_type": "stream",
     "text": [
      "0\n",
      "1\n",
      "1\n",
      "2\n",
      "3\n",
      "5\n",
      "8\n",
      "13\n",
      "21\n",
      "34\n"
     ]
    }
   ],
   "source": [
    "for i in range(10):\n",
    "    print(fibonacci(i))"
   ]
  },
  {
   "cell_type": "markdown",
   "id": "90224bb5-9e55-4e20-bc23-7c575c28c430",
   "metadata": {},
   "source": [
    "We define `fibonacci()` using a recursive function. In other word, the function will calls itself as many times as needed until it computes the desired Fibonacci number. This structure was not very efficient. For example, to compute $F(5)$, we need $F(4)$ and $F(3)$, but to know $F(4)$ you need to compute $F(3)$ and $F(2)$, and so on. Since Fibonacci numbers are not stored in memory, he function calculates many identical subproblems over and over again.\n",
    "\n",
    "This function quickly falls into the repetition issue you saw in the above section. The computation gets more and more expensive as n gets bigger. The required time grows exponentially because the function calculates many identical subproblems over and over again. How to avoid wasting resources? Here is a very nice [Python Guide to the Fibonacci Sequence](https://realpython.com/fibonacci-sequence-python/)."
   ]
  }
 ],
 "metadata": {
  "kernelspec": {
   "display_name": "Python 3 (ipykernel)",
   "language": "python",
   "name": "python3"
  },
  "language_info": {
   "codemirror_mode": {
    "name": "ipython",
    "version": 3
   },
   "file_extension": ".py",
   "mimetype": "text/x-python",
   "name": "python",
   "nbconvert_exporter": "python",
   "pygments_lexer": "ipython3",
   "version": "3.11.3"
  },
  "toc-showmarkdowntxt": false
 },
 "nbformat": 4,
 "nbformat_minor": 5
}
