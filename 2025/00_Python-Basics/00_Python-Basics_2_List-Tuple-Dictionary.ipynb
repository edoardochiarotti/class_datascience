{
 "cells": [
  {
   "cell_type": "markdown",
   "id": "e5a6782e-5211-4979-934a-f4da03f307a5",
   "metadata": {},
   "source": [
    "<a href=\"https://colab.research.google.com/github/edoardochiarotti/class_datascience/blob/main/2024/00_Python-Basics/00_Python-Basics_2_List-Tuple-Dictionary.ipynb\" target=\"_blank\" rel=\"noopener\"><img src=\"https://colab.research.google.com/assets/colab-badge.svg\" alt=\"Open In Colab\"/></a>"
   ]
  },
  {
   "cell_type": "markdown",
   "id": "f9e5cfd8-c238-43ff-b537-ca5faae20742",
   "metadata": {},
   "source": [
    "# Python Basics: collection of elements"
   ]
  },
  {
   "cell_type": "markdown",
   "id": "0e161ad9-2a49-4d87-bb8f-ad8ea431807a",
   "metadata": {},
   "source": [
    "<img src='https://www.agent-x.com.au/wp-content/uploads/2011/06/Perfect-Programmer-dfe194b-e8d3b11-b960bd5.jpg' width=\"400\">\n",
    "\n",
    "Source: [Agent-X Comics - Perfect Programming](https://www.agent-x.com.au/comic/perfect-programming/)"
   ]
  },
  {
   "cell_type": "markdown",
   "id": "75df24c7-2f28-47df-bfb4-2a2f115f8e85",
   "metadata": {},
   "source": [
    "## Contents\n",
    "\n",
    "In our first notebook, we have used variables to store data as \"single\" element. But how can we store several elements, e.g, several numbers, in the same variable? We can use the objects of this notebook: list, tuples, and dictionaries!\n",
    "\n",
    "- [Lists and Tuples](#collection)\n",
    "  - [Lists](#Lists)\n",
    "  - [Tuples](#Tuples)\n",
    "  - [Conversion](#Conversion)\n",
    "  - [Indexing](#Indexing)\n",
    "  - [Slicing](#Slicing)\n",
    "  - [Membership operators](#membership-operators)\n",
    "  - [Mutability](#Mutability)\n",
    "  - [Methods for lists and tuples](#methods)\n",
    "- [Dictionary](#Dictionary)\n",
    "   - [What is a dictionary?](#dico-def)\n",
    "   - [Indexing dictionaries](#dico-index)\n",
    "   - [Dictionary methods, built-in functions and operations](#dico-methods)\n",
    "      - [Extracting keys and values](#dico-extract)\n",
    "      - [Slice and remove elements](#dico-slice)\n",
    "      - [Get and update one value](#dico-get)\n",
    "      - [Check if a key belongs to a dictionary](#dico-check)\n",
    "   - [Merging dictionaries](#dico-merge)"
   ]
  },
  {
   "cell_type": "markdown",
   "id": "34474870-f8ab-488c-b301-b739d7879ca2",
   "metadata": {},
   "source": [
    "## Lists and Tuples <a name=\"collection\"></a>"
   ]
  },
  {
   "cell_type": "markdown",
   "id": "58fed09b-238e-4410-83c9-f43d1c121f15",
   "metadata": {},
   "source": [
    "We will now explore two important data types in Python: lists and tuples. They are both sequences of objects. Just like a string is a sequence (that is, an ordered collection) of characters, lists and tuples are sequences of arbitrary objects, called items or elements. They are a way to make a single object that contains many other objects."
   ]
  },
  {
   "cell_type": "markdown",
   "id": "a08f3cf5-4579-44e6-bba6-904f5409d209",
   "metadata": {},
   "source": [
    "### Lists <a name=\"Lists\"></a>"
   ]
  },
  {
   "cell_type": "markdown",
   "id": "015a7089-e3d3-4bfc-b04d-662e170553ee",
   "metadata": {},
   "source": [
    "**Lists** are used to store multiple items in a single variable. We create lists by putting Python values or expressions inside **square brackets**, separated by **commas**:"
   ]
  },
  {
   "cell_type": "code",
   "execution_count": 1,
   "id": "d12f54c2-c9d2-4ed7-ad0d-2b8c2b8f44ea",
   "metadata": {},
   "outputs": [
    {
     "name": "stdout",
     "output_type": "stream",
     "text": [
      "<class 'list'> [2, 3.7, (4+5j), 'dog']\n"
     ]
    }
   ],
   "source": [
    "my_list = [2, 3.7, 4+5j, 'dog']\n",
    "print(type(my_list),my_list)"
   ]
  },
  {
   "cell_type": "markdown",
   "id": "431a6a47-a0cf-442a-9405-f5a198b8fe17",
   "metadata": {},
   "source": [
    "Note that the type of a list is... a `list`! Also, any Python expression can be part of a list, including another list:"
   ]
  },
  {
   "cell_type": "code",
   "execution_count": 2,
   "id": "adacee1e-aacf-4f6f-8dfd-c887541dd21f",
   "metadata": {},
   "outputs": [
    {
     "name": "stdout",
     "output_type": "stream",
     "text": [
      "[2, 3.7, (4+5j), 'dog', [0, 'Hi!']]\n"
     ]
    }
   ],
   "source": [
    "my_list2 = [2, 3.7, 4+5j, 'dog', [0,'Hi!']]\n",
    "print(my_list2)"
   ]
  },
  {
   "cell_type": "markdown",
   "id": "197e02f9-2096-41be-a954-254f3371a298",
   "metadata": {},
   "source": [
    "You can also perform operations inside a list. If so, the operations get evaluated:"
   ]
  },
  {
   "cell_type": "code",
   "execution_count": 3,
   "id": "75d29592-3c5d-472f-b265-4a5905f58ee1",
   "metadata": {},
   "outputs": [
    {
     "name": "stdout",
     "output_type": "stream",
     "text": [
      "[17, -1, 72]\n"
     ]
    }
   ],
   "source": [
    "my_list3 = [8+9, 8-9, 8*9]\n",
    "print(my_list3)"
   ]
  },
  {
   "cell_type": "markdown",
   "id": "78cf86c1-1167-46cf-b0ef-cd581896b03e",
   "metadata": {},
   "source": [
    "Now what happens when you perform operations on lists? Let's find out!"
   ]
  },
  {
   "cell_type": "markdown",
   "id": "0ec1542e-85d5-4065-9c85-0b8f02a46ef2",
   "metadata": {},
   "source": [
    "Operators on lists behave much like operators on strings. The `+` operator on lists means list concatenation."
   ]
  },
  {
   "cell_type": "code",
   "execution_count": 4,
   "id": "5b760de0-fc70-40f2-a15d-24a89fdb6318",
   "metadata": {},
   "outputs": [
    {
     "data": {
      "text/plain": [
       "[1, 2, 3, 4, 5, 6]"
      ]
     },
     "execution_count": 4,
     "metadata": {},
     "output_type": "execute_result"
    }
   ],
   "source": [
    "[1,2,3]+[4,5,6]"
   ]
  },
  {
   "cell_type": "markdown",
   "id": "36fa411f-d576-4b48-a2c6-c5d58e3d6330",
   "metadata": {},
   "source": [
    "The * operator on lists means list replication and concatenation."
   ]
  },
  {
   "cell_type": "code",
   "execution_count": 5,
   "id": "b1297d64-9fe7-42fd-b53e-3852acbdb2cb",
   "metadata": {},
   "outputs": [
    {
     "data": {
      "text/plain": [
       "[1, 2, 3, 1, 2, 3]"
      ]
     },
     "execution_count": 5,
     "metadata": {},
     "output_type": "execute_result"
    }
   ],
   "source": [
    "[1,2,3]*2"
   ]
  },
  {
   "cell_type": "markdown",
   "id": "df774d23-9ec9-4813-a70c-b21377b18840",
   "metadata": {},
   "source": [
    "### Tuples <a name=\"Tuples\"></a>"
   ]
  },
  {
   "cell_type": "markdown",
   "id": "9ba3f2d7-45fc-4b33-92e5-cb58ca76d009",
   "metadata": {},
   "source": [
    "As lists, **tuples** are used to store multiple items in a single variable. We create tuples by putting Python values or expressions inside **parenthesis**, separated by **commas**:"
   ]
  },
  {
   "cell_type": "code",
   "execution_count": 6,
   "id": "59eb84f8-2aa7-4df7-bfe0-e47ebb5bbce9",
   "metadata": {},
   "outputs": [
    {
     "name": "stdout",
     "output_type": "stream",
     "text": [
      "<class 'tuple'> (2, 3.7, (4+5j), 'dog', (0, 'Hi!'))\n"
     ]
    }
   ],
   "source": [
    "my_tuple = (2, 3.7, 4+5j, 'dog', (0,'Hi!'))\n",
    "print(type(my_tuple),my_tuple)"
   ]
  },
  {
   "cell_type": "markdown",
   "id": "79c6a407-8d72-4521-820e-06a8d4e0ffe9",
   "metadata": {},
   "source": [
    "The type of a tuple is, you guessed it, a `tuple`. As with lists, any Python expression can be part of a tuple, including another tuple, and you can also perform operations inside tuples:"
   ]
  },
  {
   "cell_type": "code",
   "execution_count": 7,
   "id": "bab5b9e6-ce13-4444-92f0-6188a2376031",
   "metadata": {},
   "outputs": [
    {
     "data": {
      "text/plain": [
       "(17, -1, 72)"
      ]
     },
     "execution_count": 7,
     "metadata": {},
     "output_type": "execute_result"
    }
   ],
   "source": [
    "(8+9, 8-9, 8*9)"
   ]
  },
  {
   "cell_type": "markdown",
   "id": "9215e682-8220-4a72-89e0-40132aaa210e",
   "metadata": {},
   "source": [
    "Just be careful when you create a tuple with a single item: you need to include a comma after the item:"
   ]
  },
  {
   "cell_type": "code",
   "execution_count": 8,
   "id": "c248975c-68bc-47a1-8106-d5ad80524dc3",
   "metadata": {},
   "outputs": [
    {
     "data": {
      "text/plain": [
       "(tuple, int)"
      ]
     },
     "execution_count": 8,
     "metadata": {},
     "output_type": "execute_result"
    }
   ],
   "source": [
    "my_tuple = (0,)\n",
    "not_a_tuple = (0) # this is just the number 0 (normal use of parantheses)\n",
    "\n",
    "type(my_tuple), type(not_a_tuple)"
   ]
  },
  {
   "cell_type": "markdown",
   "id": "48109599-5ec8-4a76-aa78-c225be20fe0b",
   "metadata": {},
   "source": [
    "Operators on tuples work as for lists, i.e., you can concatenate tuples with the `+` and `*`operators:"
   ]
  },
  {
   "cell_type": "code",
   "execution_count": 9,
   "id": "bb854034-74e6-4e09-913e-3f71dba4cdee",
   "metadata": {},
   "outputs": [
    {
     "data": {
      "text/plain": [
       "(1, 2, 3, 4, 5, 6)"
      ]
     },
     "execution_count": 9,
     "metadata": {},
     "output_type": "execute_result"
    }
   ],
   "source": [
    "(1,2,3)+(4,5,6)"
   ]
  },
  {
   "cell_type": "code",
   "execution_count": 10,
   "id": "a25d3c63-696d-45dd-9b7e-4de1fd0a27b3",
   "metadata": {},
   "outputs": [
    {
     "data": {
      "text/plain": [
       "(1, 2, 3, 1, 2, 3)"
      ]
     },
     "execution_count": 10,
     "metadata": {},
     "output_type": "execute_result"
    }
   ],
   "source": [
    "(1,2,3)*2"
   ]
  },
  {
   "cell_type": "markdown",
   "id": "34f328ef-e6a4-4b31-b46c-2259f1e95821",
   "metadata": {},
   "source": [
    "### Conversion <a name=\"Conversion\"></a>"
   ]
  },
  {
   "cell_type": "markdown",
   "id": "29d7d518-235e-4f32-855a-df7693c5b35a",
   "metadata": {},
   "source": [
    "You can convert `tuple` into `list` using the function `list()`:"
   ]
  },
  {
   "cell_type": "code",
   "execution_count": 11,
   "id": "840f6313-69ef-4d55-883f-133c4c24d780",
   "metadata": {},
   "outputs": [
    {
     "data": {
      "text/plain": [
       "[0, 1, 2, 3]"
      ]
     },
     "execution_count": 11,
     "metadata": {},
     "output_type": "execute_result"
    }
   ],
   "source": [
    "tuple_to_convert = (0,1,2,3)\n",
    "converted_list = list(tuple_to_convert)\n",
    "\n",
    "converted_list"
   ]
  },
  {
   "cell_type": "markdown",
   "id": "c718e48e-e119-4d3e-b398-e0f39fbfb762",
   "metadata": {},
   "source": [
    "Similarly, you can convert `list` into `tuple` using the function `tuple()`:"
   ]
  },
  {
   "cell_type": "code",
   "execution_count": 12,
   "id": "21e53e71-9063-45e5-9463-ffcca80e82a8",
   "metadata": {},
   "outputs": [
    {
     "data": {
      "text/plain": [
       "(0, 1, 2, 3)"
      ]
     },
     "execution_count": 12,
     "metadata": {},
     "output_type": "execute_result"
    }
   ],
   "source": [
    "list_to_convert = [0,1,2,3]\n",
    "converted_tuple = tuple(list_to_convert)\n",
    "\n",
    "converted_tuple"
   ]
  },
  {
   "cell_type": "markdown",
   "id": "0d5024ba-4ef0-43c1-959f-36019c8f9885",
   "metadata": {},
   "source": [
    "### Indexing <a name=\"Indexing\"></a>"
   ]
  },
  {
   "cell_type": "markdown",
   "id": "e5237054-1ba2-4f9e-9592-71d7f76564d0",
   "metadata": {},
   "source": [
    "Lists and tuples are **ordered**, meaning that the items have a defined order. Thus, we can access a given item in a list or a tuple. To do so, we use **brackets**. We first write the name of our list/tuple and then enclosed in square brackets we write the location (**index**) of the desired element:"
   ]
  },
  {
   "cell_type": "code",
   "execution_count": 13,
   "id": "17875cd3-9d1c-4342-89a8-311195777bed",
   "metadata": {},
   "outputs": [
    {
     "data": {
      "text/plain": [
       "3.7"
      ]
     },
     "execution_count": 13,
     "metadata": {},
     "output_type": "execute_result"
    }
   ],
   "source": [
    "list_index = [2, 3.7, 4+5j, 'dog', [0,'Hi!']]\n",
    "\n",
    "list_index[1]"
   ]
  },
  {
   "cell_type": "markdown",
   "id": "92cc42ec-b39e-4543-8dc6-f9f05ea1ae26",
   "metadata": {},
   "source": [
    "Wait, what?! We asked for the first element and we got the second element of our list. Does Python not know how to count? Don't worry, this behavior happens because <span style='color:red'> **indexing in Python starts at zero** </span>. This is very important. (Historical note: [Why Python uses 0-based indexing](http://python-history.blogspot.com/2013/10/why-python-uses-0-based-indexing.html).)"
   ]
  },
  {
   "cell_type": "code",
   "execution_count": 14,
   "id": "68c885c2-908c-4f9e-b188-1dad06054d08",
   "metadata": {},
   "outputs": [
    {
     "name": "stdout",
     "output_type": "stream",
     "text": [
      "2\n",
      "[0, 'Hi!']\n"
     ]
    }
   ],
   "source": [
    "print(list_index[0])\n",
    "print(list_index[4])"
   ]
  },
  {
   "cell_type": "markdown",
   "id": "f4530a3c-5c8b-4205-be98-5587654945f3",
   "metadata": {},
   "source": [
    "Much better! \n",
    "\n",
    "In our second example, we accessed the list that was within our list, i.e., a sublist. A list that contain another list is called a **nested list**. The sublist can also contain another list (i.e., a subsublist), and so on. We can index a sublist by adding another set of brackets:"
   ]
  },
  {
   "cell_type": "code",
   "execution_count": 15,
   "id": "8e9c225f-f50e-4a63-81a4-6e4814ee8932",
   "metadata": {},
   "outputs": [
    {
     "name": "stdout",
     "output_type": "stream",
     "text": [
      "2\n",
      "4\n"
     ]
    }
   ],
   "source": [
    "nested_list = [[1,2,3],[4,5,6]]\n",
    "\n",
    "print(nested_list[0][1])\n",
    "print(nested_list[1][0])"
   ]
  },
  {
   "cell_type": "markdown",
   "id": "72070214-03b3-4877-a403-1d0cc0113138",
   "metadata": {},
   "source": [
    "The same is true for tuples: you can index nested tuples with multiple set of brackets:"
   ]
  },
  {
   "cell_type": "code",
   "execution_count": 16,
   "id": "372fb229-0a90-4951-b09b-b0ccbde6d3c8",
   "metadata": {},
   "outputs": [
    {
     "name": "stdout",
     "output_type": "stream",
     "text": [
      "3\n",
      "5\n"
     ]
    }
   ],
   "source": [
    "nested_tuple = ((1,2,3),(4,5,6))\n",
    "\n",
    "print(nested_tuple[0][2])\n",
    "print(nested_tuple[1][1])"
   ]
  },
  {
   "cell_type": "markdown",
   "id": "2470614c-5e1a-4248-a16f-bd09f4b5afe5",
   "metadata": {},
   "source": [
    "Ok, now we know the basics of indexing. An amazing feature allowed by Python is **negative indexing**. This just means we start indexing from the last entry, starting at `-1`:"
   ]
  },
  {
   "cell_type": "code",
   "execution_count": 17,
   "id": "7e9aa9b4-ae5b-43c1-9bca-04dbcbacc05e",
   "metadata": {},
   "outputs": [
    {
     "data": {
      "text/plain": [
       "'dog'"
      ]
     },
     "execution_count": 17,
     "metadata": {},
     "output_type": "execute_result"
    }
   ],
   "source": [
    "list_index2 = [2, 3.7, 4+5j, 'dog']\n",
    "\n",
    "list_index2[-1]"
   ]
  },
  {
   "cell_type": "markdown",
   "id": "c4d3cf09-6604-4a7f-b117-44b310425dad",
   "metadata": {},
   "source": [
    "Indexing in reverse is sometimes very convenient. Let's recap the forward and backward indices for lists and tuples:\n",
    "\n",
    "|Element|1|2|3|4|5|6|7|8|9|10|\n",
    "|------|-:|-:|-:|-:|-:|-:|-:|-:|-:|-:|\n",
    "|Forward indices|0|1|2|3|4|5|6|7|8|9|\n",
    "|Reverse indices|-10|-9|-8|-7|-6|-5|-4|-3|-2|-1|"
   ]
  },
  {
   "cell_type": "code",
   "execution_count": 18,
   "id": "bed10a77-3d4e-42b0-ab4c-f54c68b4e798",
   "metadata": {},
   "outputs": [
    {
     "name": "stdout",
     "output_type": "stream",
     "text": [
      "8\n",
      "8\n"
     ]
    }
   ],
   "source": [
    "tuple_index = (1,2,3,4,5,6,7,8,9,10)\n",
    "\n",
    "print(tuple_index[7])\n",
    "print(tuple_index[-3])"
   ]
  },
  {
   "cell_type": "markdown",
   "id": "64b859a9-810d-4278-9ff8-dcbca7507689",
   "metadata": {},
   "source": [
    "### Slicing <a name=\"Slicing\"></a>"
   ]
  },
  {
   "cell_type": "markdown",
   "id": "b40a23b1-039b-410a-a1d2-59d8977df6ca",
   "metadata": {},
   "source": [
    "With indexing, we have accessed a given element. How to **slice** a list or a tuple, i.e., extract several elements? We can use semicolon `[:]` for that:"
   ]
  },
  {
   "cell_type": "code",
   "execution_count": 19,
   "id": "ad19961e-e03b-49a8-a977-a1290c72834c",
   "metadata": {},
   "outputs": [
    {
     "data": {
      "text/plain": [
       "[0, 1, 2, 3]"
      ]
     },
     "execution_count": 19,
     "metadata": {},
     "output_type": "execute_result"
    }
   ],
   "source": [
    "slicing_list = [0,1,2,3,4,5,6,7,8,9]\n",
    "\n",
    "slicing_list[0:4]"
   ]
  },
  {
   "cell_type": "markdown",
   "id": "d074138d-efce-492b-ae19-7508ba7c9a4b",
   "metadata": {},
   "source": [
    "In the above, we extracted a list with elements from `0` to `3`, despite writing `[0:4]`. In other words, the last element (`4`) is not included. \n",
    "\n",
    "More generally, when using colon indexing `[i:j]`, we get items `i` through `j-1`.  I.e., the range is **inclusive of the first index and exclusive of the last**. If the slice's final index is larger than the length of the sequence, the slice ends at the last element. Thus, be careful when you slice lists/tuples. "
   ]
  },
  {
   "cell_type": "code",
   "execution_count": 20,
   "id": "c9f74d26-5e91-49c6-9273-101b23b5be18",
   "metadata": {},
   "outputs": [
    {
     "data": {
      "text/plain": [
       "[3, 4, 5, 6, 7, 8, 9]"
      ]
     },
     "execution_count": 20,
     "metadata": {},
     "output_type": "execute_result"
    }
   ],
   "source": [
    "slicing_list[3:100]"
   ]
  },
  {
   "cell_type": "markdown",
   "id": "7bb2717b-cb1c-4165-981f-d27e1cfce930",
   "metadata": {},
   "source": [
    "As before, you can use negative indices:"
   ]
  },
  {
   "cell_type": "code",
   "execution_count": 21,
   "id": "b52a924f-552c-4ce6-bc86-c5e868344640",
   "metadata": {},
   "outputs": [
    {
     "data": {
      "text/plain": [
       "[3, 4, 5, 6, 7]"
      ]
     },
     "execution_count": 21,
     "metadata": {},
     "output_type": "execute_result"
    }
   ],
   "source": [
    "slicing_list[3:-2]"
   ]
  },
  {
   "cell_type": "markdown",
   "id": "16450b1d-eb6f-4361-8093-373c9e48996a",
   "metadata": {},
   "source": [
    "When `i` is larger than `j` when using colon indexing `[i:j]` (in terms of indices), then we get an empty list:"
   ]
  },
  {
   "cell_type": "code",
   "execution_count": 22,
   "id": "b3c3ecd4-c6ba-4c68-aa27-80abb4e28d07",
   "metadata": {},
   "outputs": [
    {
     "data": {
      "text/plain": [
       "[]"
      ]
     },
     "execution_count": 22,
     "metadata": {},
     "output_type": "execute_result"
    }
   ],
   "source": [
    "slicing_list[7:-5]"
   ]
  },
  {
   "cell_type": "markdown",
   "id": "a90f08cd-0978-49fb-9607-c83f0f0a1474",
   "metadata": {},
   "source": [
    "We have so far extracted consecutive elements. What if you only want even numbers from our list `[0,1,2,3,4,5,6,7,8,9]`? Well then, you can specify a **stride** using a second colon:"
   ]
  },
  {
   "cell_type": "code",
   "execution_count": 23,
   "id": "ef3ffa72-6017-4b66-ac85-af0c9f1f9697",
   "metadata": {},
   "outputs": [
    {
     "data": {
      "text/plain": [
       "[0, 2, 4, 6, 8]"
      ]
     },
     "execution_count": 23,
     "metadata": {},
     "output_type": "execute_result"
    }
   ],
   "source": [
    "slicing_list[0::2]"
   ]
  },
  {
   "cell_type": "markdown",
   "id": "858c310d-4bac-421d-a90c-e8d6c422703d",
   "metadata": {},
   "source": [
    "In the above example, `0` is the start index and `2` defines the stride, i.e., the step. When the start is not defined, the default is zero:"
   ]
  },
  {
   "cell_type": "code",
   "execution_count": 24,
   "id": "f6f80584-d727-4eb1-81b7-ea4cce10d1d9",
   "metadata": {},
   "outputs": [
    {
     "data": {
      "text/plain": [
       "[0, 2, 4, 6, 8]"
      ]
     },
     "execution_count": 24,
     "metadata": {},
     "output_type": "execute_result"
    }
   ],
   "source": [
    "slicing_list[::2]   #no need to specify \"0\" when we want to start at the first index"
   ]
  },
  {
   "cell_type": "markdown",
   "id": "33964b10-6f23-4cde-9f55-9e0a422fb0f4",
   "metadata": {},
   "source": [
    "Suppose we now want the odd numbers, how do we do it? Simple, we just modify the start value of our stride!"
   ]
  },
  {
   "cell_type": "code",
   "execution_count": 25,
   "id": "90bfaff4-e2d5-49b0-8c2f-b5bfe26fc9ca",
   "metadata": {},
   "outputs": [
    {
     "data": {
      "text/plain": [
       "[1, 3, 5, 7, 9]"
      ]
     },
     "execution_count": 25,
     "metadata": {},
     "output_type": "execute_result"
    }
   ],
   "source": [
    "slicing_list[1::2]"
   ]
  },
  {
   "cell_type": "markdown",
   "id": "dbf38a35-e966-4da7-9526-a5333ce853eb",
   "metadata": {},
   "source": [
    "And if we want the multiple of three? We modify the stride:"
   ]
  },
  {
   "cell_type": "code",
   "execution_count": 26,
   "id": "c1422d38-8a2f-47d7-b76e-2e2e528aeeff",
   "metadata": {},
   "outputs": [
    {
     "data": {
      "text/plain": [
       "[0, 3, 6, 9]"
      ]
     },
     "execution_count": 26,
     "metadata": {},
     "output_type": "execute_result"
    }
   ],
   "source": [
    "slicing_list[::3]"
   ]
  },
  {
   "cell_type": "markdown",
   "id": "86a1d19b-ff09-4503-9da3-7e6bd074e526",
   "metadata": {},
   "source": [
    "What about the value in-between the two colons? Until now, we left it undefined. It is actually the end index:"
   ]
  },
  {
   "cell_type": "code",
   "execution_count": 27,
   "id": "34bbc875-0805-4198-90b0-a0e7be3a7b4e",
   "metadata": {},
   "outputs": [
    {
     "data": {
      "text/plain": [
       "[0, 2, 4]"
      ]
     },
     "execution_count": 27,
     "metadata": {},
     "output_type": "execute_result"
    }
   ],
   "source": [
    "slicing_list[:6:2]"
   ]
  },
  {
   "cell_type": "markdown",
   "id": "6343bac5-5128-4dcf-8307-b9bca5bde213",
   "metadata": {},
   "source": [
    "Let's recap how indexing and slicing work. The general structure is: `[start:end:stride]`\n",
    "\n",
    "* If there are no colons, a single element is returned.\n",
    "* If there are any colons, we are slicing the list, and a list is returned.\n",
    "* If there is one colon, `stride` is assumed to be 1.\n",
    "* If `start` is not specified, it is assumed to be zero.\n",
    "* If `end` is not specified, it is assumed you want the entire list.\n",
    "* If `stride` is not specified, it is assumed to be 1.\n",
    "\n",
    "Now let's do some crazy slicing! Imagine we want to reverse a list/tuple. Can you think of a way to do this operation using slicing? Well, we can use a negative stride!"
   ]
  },
  {
   "cell_type": "code",
   "execution_count": 28,
   "id": "cdabc0b0-214a-436d-9710-e46505fcf22e",
   "metadata": {},
   "outputs": [
    {
     "data": {
      "text/plain": [
       "[9, 8, 7, 6, 5, 4, 3, 2, 1, 0]"
      ]
     },
     "execution_count": 28,
     "metadata": {},
     "output_type": "execute_result"
    }
   ],
   "source": [
    "slicing_list[::-1]"
   ]
  },
  {
   "cell_type": "markdown",
   "id": "2962502e-4192-4d0a-b651-4311bfa5db6b",
   "metadata": {},
   "source": [
    "Note that the meaning of the \"start\" and \"end\" index is a bit ambiguous when you have a negative stride. When the stride is negative, we still slice from start to end, but the order is reversed. "
   ]
  },
  {
   "cell_type": "code",
   "execution_count": 29,
   "id": "e309338a-2d15-49ee-a93d-f20c3f3eb530",
   "metadata": {},
   "outputs": [
    {
     "data": {
      "text/plain": [
       "[9, 7]"
      ]
     },
     "execution_count": 29,
     "metadata": {},
     "output_type": "execute_result"
    }
   ],
   "source": [
    "slicing_list[-1:6:-2]"
   ]
  },
  {
   "cell_type": "markdown",
   "id": "298c357d-822d-405b-9bd3-e8e4c2552488",
   "metadata": {},
   "source": [
    "Take some time to practice slicing since this is a very important concept :)"
   ]
  },
  {
   "cell_type": "markdown",
   "id": "ae5c7aa3-0cb9-4546-9f66-a9064d969614",
   "metadata": {},
   "source": [
    "### Membership operators <a name=\"membership-operators\"></a>"
   ]
  },
  {
   "cell_type": "markdown",
   "id": "71a19236-82d8-4ffb-854a-075088995b5f",
   "metadata": {},
   "source": [
    "**Membership operators** are used to test if a sequence is present in an object such as a list or a tuple. The two membership operators are:\n",
    "\n",
    "|English|operator|\n",
    "|:-------|:----------:|\n",
    "|is a member of | `in`|\n",
    "|is not a member of | `not in`|\n",
    "\n",
    "The result of the operator is `True` or `False`. Let's have a look at some examples:"
   ]
  },
  {
   "cell_type": "code",
   "execution_count": 30,
   "id": "03c244be-b775-4630-a5ee-2dee879fc91a",
   "metadata": {},
   "outputs": [
    {
     "data": {
      "text/plain": [
       "True"
      ]
     },
     "execution_count": 30,
     "metadata": {},
     "output_type": "execute_result"
    }
   ],
   "source": [
    "my_list = [2, 3.7, 4+5j, 'dog', [0,'Hi!']]\n",
    "\n",
    "2 in my_list"
   ]
  },
  {
   "cell_type": "markdown",
   "id": "13ba23a2-d206-4749-9038-5eda8714ab9c",
   "metadata": {},
   "source": [
    "Indeed, `2` is in our list, it is the first element. What about `'Hi!`? "
   ]
  },
  {
   "cell_type": "code",
   "execution_count": 31,
   "id": "0e2fa587-1313-4c62-9b0b-3aabc2e4522b",
   "metadata": {},
   "outputs": [
    {
     "data": {
      "text/plain": [
       "False"
      ]
     },
     "execution_count": 31,
     "metadata": {},
     "output_type": "execute_result"
    }
   ],
   "source": [
    "'Hi' in my_list"
   ]
  },
  {
   "cell_type": "markdown",
   "id": "03f7646a-8ecd-42d6-8109-603e92c80d38",
   "metadata": {},
   "source": [
    "Why `'Hi!'` is not in our list? Well, it is part of our sublist `[0, 'Hi!']` but not of our \"main\" list `my_list`. `my_list` actually contains five elements, and `'Hi!'` is not one of them.\n",
    "\n",
    "Let's look at an example with a tuple to make sure we master membership operators:"
   ]
  },
  {
   "cell_type": "code",
   "execution_count": 32,
   "id": "390569ea-b05d-4a44-b8df-4aef1cf86d00",
   "metadata": {},
   "outputs": [
    {
     "data": {
      "text/plain": [
       "True"
      ]
     },
     "execution_count": 32,
     "metadata": {},
     "output_type": "execute_result"
    }
   ],
   "source": [
    "my_tuple = (2, 3.7, 4+5j, 'dog', [0,'Hi!'])\n",
    "\n",
    "'cat' not in my_tuple"
   ]
  },
  {
   "cell_type": "markdown",
   "id": "f7dfa20c-0365-4c9d-97b2-29c358f00609",
   "metadata": {},
   "source": [
    "That's it for now, we'll use more membership operators later..."
   ]
  },
  {
   "cell_type": "markdown",
   "id": "548162ec-ef93-445a-ae17-c05bbdd645fa",
   "metadata": {},
   "source": [
    "### Mutability <a name=\"Mutability\"></a>"
   ]
  },
  {
   "cell_type": "markdown",
   "id": "5433f2d3-1e4e-4cde-9490-51107b56d9ea",
   "metadata": {},
   "source": [
    "So far it seems `list` and `tuple` are very similar. So why would there be two different types if they behave exactly the same? Well, as you might guess, they do not. The important different between `list` and `tuple` are their mutability. \n",
    "\n",
    "Lists are **mutable** objects: you can change their values without creating a new list:"
   ]
  },
  {
   "cell_type": "code",
   "execution_count": 33,
   "id": "2b985ee7-5c0b-4bbf-8087-77196bf52505",
   "metadata": {},
   "outputs": [
    {
     "data": {
      "text/plain": [
       "[0, 1, 2, 'two', 4, 5]"
      ]
     },
     "execution_count": 33,
     "metadata": {},
     "output_type": "execute_result"
    }
   ],
   "source": [
    "mutable_list = [0, 1, 2, 3, 4, 5]\n",
    "mutable_list[3] = 'two'\n",
    "\n",
    "mutable_list"
   ]
  },
  {
   "cell_type": "markdown",
   "id": "47171f8b-9524-479d-8e9a-373057ae9fd3",
   "metadata": {},
   "source": [
    "`list` is the only data type we have encountered so far that is mutable. In other words, `int`, `float`, `complex`, `str`, and `bool` are **immutable**. Immutable means that once the variables are created, their values cannot be changed. If we do change the value the variable gets a new place in memory. `tuple` is also an immutable object. Let's try the same operation we performed above on our list and wee what happens: "
   ]
  },
  {
   "cell_type": "code",
   "execution_count": 34,
   "id": "0ad01a9a-0a74-4420-807d-241d2ca7b0bf",
   "metadata": {},
   "outputs": [
    {
     "ename": "TypeError",
     "evalue": "'tuple' object does not support item assignment",
     "output_type": "error",
     "traceback": [
      "\u001b[1;31m---------------------------------------------------------------------------\u001b[0m",
      "\u001b[1;31mTypeError\u001b[0m                                 Traceback (most recent call last)",
      "Cell \u001b[1;32mIn[34], line 2\u001b[0m\n\u001b[0;32m      1\u001b[0m immutable_tuple \u001b[38;5;241m=\u001b[39m (\u001b[38;5;241m0\u001b[39m, \u001b[38;5;241m1\u001b[39m, \u001b[38;5;241m2\u001b[39m, \u001b[38;5;241m3\u001b[39m, \u001b[38;5;241m4\u001b[39m, \u001b[38;5;241m5\u001b[39m)\n\u001b[1;32m----> 2\u001b[0m immutable_tuple[\u001b[38;5;241m3\u001b[39m] \u001b[38;5;241m=\u001b[39m \u001b[38;5;124m'\u001b[39m\u001b[38;5;124mtwo\u001b[39m\u001b[38;5;124m'\u001b[39m\n\u001b[0;32m      4\u001b[0m immutable_tuple\n",
      "\u001b[1;31mTypeError\u001b[0m: 'tuple' object does not support item assignment"
     ]
    }
   ],
   "source": [
    "immutable_tuple = (0, 1, 2, 3, 4, 5)\n",
    "immutable_tuple[3] = 'two'\n",
    "\n",
    "immutable_tuple"
   ]
  },
  {
   "cell_type": "markdown",
   "id": "80a36911-52b9-4d6c-bc80-fe789e25e49d",
   "metadata": {},
   "source": [
    "We get an error message and rightfully so: since `tuple` is immutable, it does not support item assignment."
   ]
  },
  {
   "cell_type": "markdown",
   "id": "ac2c59cb-b270-448d-b38e-84f9561d72e5",
   "metadata": {},
   "source": [
    "We can use the `id()` function to understand a bit more the mutability property. This function tells us where in memory the variable is stored. Let's try:"
   ]
  },
  {
   "cell_type": "code",
   "execution_count": 35,
   "id": "6376717d-fddd-4cd6-a98e-6169d7d17230",
   "metadata": {},
   "outputs": [
    {
     "name": "stdout",
     "output_type": "stream",
     "text": [
      "140706699124264\n",
      "140706699124296\n"
     ]
    }
   ],
   "source": [
    "immutable_int = 89\n",
    "print(id(immutable_int))\n",
    "\n",
    "immutable_int = 90\n",
    "print(id(immutable_int))"
   ]
  },
  {
   "cell_type": "markdown",
   "id": "be9c340f-4170-46a5-978c-d8fa3976b4d4",
   "metadata": {},
   "source": [
    "See, when we change the value of `immutable_int`, we didn't actually change its value; we made a new variable! Lists behave differently:"
   ]
  },
  {
   "cell_type": "code",
   "execution_count": 36,
   "id": "599fc337-2754-4484-b8f4-c1b3a887cb25",
   "metadata": {},
   "outputs": [
    {
     "name": "stdout",
     "output_type": "stream",
     "text": [
      "1848262466560\n",
      "1848262466560\n"
     ]
    }
   ],
   "source": [
    "mutable_list = [0, 1, 2, 3, 4, 5]\n",
    "print(id(mutable_list))\n",
    "\n",
    "mutable_list[1] = 'one'\n",
    "print(id(mutable_list))"
   ]
  },
  {
   "cell_type": "markdown",
   "id": "7871f1a2-a12c-4673-beb8-ee276e9628c8",
   "metadata": {},
   "source": [
    "It is still the same list even though we changed the value of the second element."
   ]
  },
  {
   "cell_type": "markdown",
   "id": "1dd5a936-74ec-4e3e-b94f-c46fb4496774",
   "metadata": {},
   "source": [
    "At this point you may wonder: why do we care? Well, suppose that we have a list, which we wish to keep, and that we want to make a copy of this list with one element that differs. What happens then?"
   ]
  },
  {
   "cell_type": "code",
   "execution_count": 37,
   "id": "1dace7d1-ce39-42b9-803b-2567654a35b5",
   "metadata": {},
   "outputs": [
    {
     "name": "stdout",
     "output_type": "stream",
     "text": [
      "['zero', 1, 2, 3, 4, 5] ['zero', 1, 2, 3, 4, 5]\n"
     ]
    }
   ],
   "source": [
    "mutable_list = [0, 1, 2, 3, 4, 5]\n",
    "mutable_list_2 = mutable_list     # copy of my_list?\n",
    "mutable_list_2[0] = 'zero'\n",
    "\n",
    "print(mutable_list, mutable_list_2)"
   ]
  },
  {
   "cell_type": "markdown",
   "id": "856b090d-e6ae-42c2-af06-7743293f2c79",
   "metadata": {},
   "source": [
    "Disaster! We lost `mutable_list`!\n",
    "\n",
    "What happened? Well, assigning a list to a variable does not copy the list in a new object, it just creates a new reference to the same object. Thus, when we modified the first element of `mutable_list_2`, we also modified `mutable_list`! This behavior can lead to nasty bugs that will bite you!\n",
    "\n",
    "Is there a way to solve this issue? Of course there is: we can use slicing! If both the slice's starting and ending indices of a list are left out, the slice is a copy of the entire list in a new hunk of memory."
   ]
  },
  {
   "cell_type": "code",
   "execution_count": 38,
   "id": "cc34483c-fcbc-4a47-8a64-211d4d35652c",
   "metadata": {},
   "outputs": [
    {
     "name": "stdout",
     "output_type": "stream",
     "text": [
      "[0, 1, 2, 3, 4, 5] ['zero', 1, 2, 3, 4, 5]\n"
     ]
    }
   ],
   "source": [
    "mutable_list = [0, 1, 2, 3, 4, 5]\n",
    "mutable_list_2 = mutable_list[:]\n",
    "mutable_list_2[0] = 'zero'\n",
    "\n",
    "print(mutable_list, mutable_list_2)"
   ]
  },
  {
   "cell_type": "markdown",
   "id": "b8d6da63-1c0f-497f-9407-311b6766ec08",
   "metadata": {},
   "source": [
    "What a relief!\n",
    "\n",
    "We have seen that tuples and lists are very similar, differing essentially only in mutability (actually the differences are more profound, see for instance a discussion here: [Tuples, Aaron Meurer's blog post](http://www.asmeurer.com/blog/posts/tuples/)).  \n",
    "\n",
    "So you may ask: \"When should I use a tuple and when should I use a list?\". Here is the advice of [Justin Bois](http://bois.caltech.edu/), whose [course](http://justinbois.github.io/bootcamp/2022_epfl/) heavily influenced this notebook:\n",
    "\n",
    "\"<span style=\"color: dodgerblue; font-weight: bold;\">\n",
    "Always use tuples instead of lists unless you need mutability.\n",
    "</span>\n",
    "This keeps you out of trouble. It is very easy to inadvertently change one list, and then another list (that is actually the same, but with a different variable name) gets mangled. That said, mutability is often very useful, so you can use it to make your list and adjust it as you need. However, after you have finalized your list, you should convert it to a tuple so it cannot get mangled.\""
   ]
  },
  {
   "cell_type": "markdown",
   "id": "82e2a23f-2407-467c-891f-1899837705c0",
   "metadata": {},
   "source": [
    "### Methods for lists and tuples <a name=\"methods\"></a>"
   ]
  },
  {
   "cell_type": "markdown",
   "id": "b628830b-f984-4fb3-a3fb-786e0276a2b6",
   "metadata": {},
   "source": [
    "We have previously performed operations on `list`. Using slicing, we have extracted elements of lists, we copied a list with `[:]`, and we even reversed a list with `[::-1]`.\n",
    "\n",
    "What if we wish to add an element at the end of a list? Or better, insert or remove an element at a given position. In this case, we can use built-in functions. \n",
    "\n",
    "We already mentioned that lists are objects. <span style=\"color: dodgerblue; font-weight: bold;\">\n",
    "Objects contain: 1) data; 2) functions that can operate on the data. The functions inside an object are called methods.\n",
    "</span> \n",
    "\n",
    "Here are the built-in methods you can use on lists:\n",
    "\n",
    "|Method|Description|\n",
    "|:-------|:----------|\n",
    "|`append()` | Adds an element at the end of the list|\n",
    "|`clear()` | Removes all the elements from the list|\n",
    "|`copy()` | Returns a copy of the list|\n",
    "|`count()` | Returns the number of elements with the specified value|\n",
    "|`extend()` | Add the elements of a list (or any iterable), to the end of the current list|\n",
    "|`index()` | Returns the index of the first element with the specified value|\n",
    "|`insert()` | Adds an element at the specified position|\n",
    "|`pop()` | Removes the element at the specified position|\n",
    "|`remove()` | Removes the item with the specified value|\n",
    "|`reverse()` | Reverses the order of the list|\n",
    "|`sort()` | Sorts the list|\n",
    "\n",
    "\n",
    "Another useful function (that is not a method), is the `len()` function. It returns the total number of items in a list. Let's try it!\n"
   ]
  },
  {
   "cell_type": "code",
   "execution_count": 39,
   "id": "9114adf6-ec56-49ee-9941-f4b24d3a174c",
   "metadata": {},
   "outputs": [
    {
     "data": {
      "text/plain": [
       "7"
      ]
     },
     "execution_count": 39,
     "metadata": {},
     "output_type": "execute_result"
    }
   ],
   "source": [
    "my_list = [1,2,3,4,5,6,7]\n",
    "len(my_list)"
   ]
  },
  {
   "cell_type": "markdown",
   "id": "d87c1a9e-b9b7-4811-b3b9-ea9628edd235",
   "metadata": {},
   "source": [
    "We have indeed seven elements in our list. Now let's count how many times does the value `3` appear in our list:"
   ]
  },
  {
   "cell_type": "code",
   "execution_count": 40,
   "id": "c2f12922-d08d-4762-889a-3cc60d86a739",
   "metadata": {},
   "outputs": [
    {
     "data": {
      "text/plain": [
       "1"
      ]
     },
     "execution_count": 40,
     "metadata": {},
     "output_type": "execute_result"
    }
   ],
   "source": [
    "my_list.count(3)"
   ]
  },
  {
   "cell_type": "markdown",
   "id": "c8eb3f6d-ce88-43ec-a859-03fdcbc9fe53",
   "metadata": {},
   "source": [
    "As expected, we count one occurrence of the value `3`. But let's pause a minute. Did you notice the syntax? We first specify our list, then `.`, and finally the `count()` function. This is the structure for method. Now let's extract the index of the first element whose value is `3`. Recall that indexing starts at `0`."
   ]
  },
  {
   "cell_type": "code",
   "execution_count": 41,
   "id": "332b6ce4-dd67-4062-9ee6-72cece2fc49d",
   "metadata": {},
   "outputs": [
    {
     "data": {
      "text/plain": [
       "2"
      ]
     },
     "execution_count": 41,
     "metadata": {},
     "output_type": "execute_result"
    }
   ],
   "source": [
    "my_list.index(3)"
   ]
  },
  {
   "cell_type": "markdown",
   "id": "84483e1b-3495-4d6a-aee8-305a90642cc4",
   "metadata": {},
   "source": [
    "Let's keep going by adding elements and list of elements to our list."
   ]
  },
  {
   "cell_type": "code",
   "execution_count": 42,
   "id": "fc4ee967-ccd4-4401-969b-d1e7a734ff0a",
   "metadata": {
    "tags": []
   },
   "outputs": [
    {
     "data": {
      "text/plain": [
       "[1, 2, 3, 4, 5, 6, 7, 8]"
      ]
     },
     "execution_count": 42,
     "metadata": {},
     "output_type": "execute_result"
    }
   ],
   "source": [
    "my_list.append(8)\n",
    "\n",
    "my_list"
   ]
  },
  {
   "cell_type": "code",
   "execution_count": 43,
   "id": "62c8ce6d-fefc-4c81-a707-0d4c38f1146f",
   "metadata": {},
   "outputs": [
    {
     "data": {
      "text/plain": [
       "[1, 2, 3, 4, 5, 6, 7, 8, 9, 10]"
      ]
     },
     "execution_count": 43,
     "metadata": {},
     "output_type": "execute_result"
    }
   ],
   "source": [
    "my_list_2 = [9,10]\n",
    "my_list.extend(my_list_2)\n",
    "\n",
    "my_list"
   ]
  },
  {
   "cell_type": "markdown",
   "id": "b568d4e6-19df-4834-af58-c985365584fb",
   "metadata": {},
   "source": [
    "Now, let's do a bit of magic: we will make the element `4` disappear!"
   ]
  },
  {
   "cell_type": "code",
   "execution_count": 44,
   "id": "b3a2cea7-27a1-4448-abd9-27ac463653b7",
   "metadata": {},
   "outputs": [
    {
     "data": {
      "text/plain": [
       "[1, 2, 3, 5, 6, 7, 8, 9, 10]"
      ]
     },
     "execution_count": 44,
     "metadata": {},
     "output_type": "execute_result"
    }
   ],
   "source": [
    "my_list.remove(4)\n",
    "my_list"
   ]
  },
  {
   "cell_type": "markdown",
   "id": "d5ee7302-f4aa-4efe-8cb0-2f89ec74e4fb",
   "metadata": {},
   "source": [
    "Woow! Let's make it appear again. Again, be careful, indexing starts at `0`:"
   ]
  },
  {
   "cell_type": "code",
   "execution_count": 45,
   "id": "470ef82a-1df8-4cad-a873-b178a2f60e60",
   "metadata": {},
   "outputs": [
    {
     "data": {
      "text/plain": [
       "[1, 2, 3, 4, 5, 6, 7, 8, 9, 10]"
      ]
     },
     "execution_count": 45,
     "metadata": {},
     "output_type": "execute_result"
    }
   ],
   "source": [
    "my_list.insert(3,4) #insert the value 4 at the index 3 in our list\n",
    "my_list"
   ]
  },
  {
   "cell_type": "markdown",
   "id": "f5e5c1a4-2b50-491d-a33e-d4e7bf7d4374",
   "metadata": {},
   "source": [
    "Ta-da! Instead of making a value disappear, we can also remove an element at a given position:"
   ]
  },
  {
   "cell_type": "code",
   "execution_count": 46,
   "id": "bac85fd0-d2e6-4917-a976-ee56c1bb1394",
   "metadata": {},
   "outputs": [
    {
     "data": {
      "text/plain": [
       "[1, 2, 3, 4, 5, 6, 7, 8, 10]"
      ]
     },
     "execution_count": 46,
     "metadata": {},
     "output_type": "execute_result"
    }
   ],
   "source": [
    "my_list.pop(8)\n",
    "my_list"
   ]
  },
  {
   "cell_type": "markdown",
   "id": "7846fc87-ffb7-413b-8477-587bf9ce64d8",
   "metadata": {},
   "source": [
    "Let's insert the ninth element again:"
   ]
  },
  {
   "cell_type": "code",
   "execution_count": 47,
   "id": "9ecc8d9a-f50a-49c8-a7b9-af5b11f1eb8f",
   "metadata": {},
   "outputs": [
    {
     "data": {
      "text/plain": [
       "[1, 2, 3, 4, 5, 6, 7, 8, 9, 10]"
      ]
     },
     "execution_count": 47,
     "metadata": {},
     "output_type": "execute_result"
    }
   ],
   "source": [
    "my_list.insert(8,9) #insert the value 8 at the index 9 in our list\n",
    "my_list"
   ]
  },
  {
   "cell_type": "markdown",
   "id": "f0c496a9-3d95-4518-8299-4a9687c618e5",
   "metadata": {},
   "source": [
    "Ok, all good! Now we can reverse sort our list:"
   ]
  },
  {
   "cell_type": "code",
   "execution_count": 48,
   "id": "5e45c66d-ebb3-4c30-b0df-8ecbfea98833",
   "metadata": {},
   "outputs": [
    {
     "data": {
      "text/plain": [
       "[10, 9, 8, 7, 6, 5, 4, 3, 2, 1]"
      ]
     },
     "execution_count": 48,
     "metadata": {},
     "output_type": "execute_result"
    }
   ],
   "source": [
    "my_list.reverse()\n",
    "my_list"
   ]
  },
  {
   "cell_type": "markdown",
   "id": "05f2b7d4-56a2-4435-a051-4d67bb6ae8a8",
   "metadata": {},
   "source": [
    "And sort it again:"
   ]
  },
  {
   "cell_type": "code",
   "execution_count": 49,
   "id": "8aefd961-58ae-4f14-a407-c062318ce5ca",
   "metadata": {},
   "outputs": [
    {
     "data": {
      "text/plain": [
       "[1, 2, 3, 4, 5, 6, 7, 8, 9, 10]"
      ]
     },
     "execution_count": 49,
     "metadata": {},
     "output_type": "execute_result"
    }
   ],
   "source": [
    "my_list.sort() #Alternatively, we could reverse it again!\n",
    "my_list"
   ]
  },
  {
   "cell_type": "markdown",
   "id": "b63596c9-8d1e-4184-8613-694fbdb9bd86",
   "metadata": {},
   "source": [
    "Finally, let's remove all the elements of our list:"
   ]
  },
  {
   "cell_type": "code",
   "execution_count": 50,
   "id": "24c5e469-886c-4e7e-9f1b-59569d52402b",
   "metadata": {},
   "outputs": [
    {
     "data": {
      "text/plain": [
       "[]"
      ]
     },
     "execution_count": 50,
     "metadata": {},
     "output_type": "execute_result"
    }
   ],
   "source": [
    "my_list.clear()\n",
    "my_list"
   ]
  },
  {
   "cell_type": "markdown",
   "id": "17c7d88f-d840-4760-bcd4-34f9471501ea",
   "metadata": {},
   "source": [
    "`clear` creates an empty list. In other words, our list was not totally erased from existence, only its values were deleted."
   ]
  },
  {
   "cell_type": "markdown",
   "id": "c7da469d-59e2-4973-98cf-a1290defa0fa",
   "metadata": {},
   "source": [
    "We have performed some neat operations on lists. What about tuples? The `count()`, `index()`, and `len()` works the same with `tuple`. What about the others? Well, unfortunately they do not. Indeed we have seen before that we cannot modify a tuple or a given element of a tuple, because - let's repeat it, tuples are immutable. So what can you do when you actually want to update your tuple? Do you have to create a new one? No, there is a way! Remember that you can convert a tuple into a list using the function `list()` and then convert back your list into a tuple using the function `tuple()`:"
   ]
  },
  {
   "cell_type": "code",
   "execution_count": 51,
   "id": "9e1fd68f-aa95-4bf5-bbd1-9403c8881373",
   "metadata": {},
   "outputs": [
    {
     "data": {
      "text/plain": [
       "(0, 'one', 2, 3)"
      ]
     },
     "execution_count": 51,
     "metadata": {},
     "output_type": "execute_result"
    }
   ],
   "source": [
    "my_tuple = (0,1,2,3)\n",
    "my_list = list(my_tuple)\n",
    "my_list[1]='one'\n",
    "my_tuple = tuple(my_list)\n",
    "\n",
    "my_tuple"
   ]
  },
  {
   "cell_type": "markdown",
   "id": "41e8f7e3-1e5a-4e3d-991b-c9e8406b5dee",
   "metadata": {},
   "source": [
    "By doing the conversion to a `list`, you can use all the methods that are working on lists, and then convert back to a `tuple`!"
   ]
  },
  {
   "cell_type": "markdown",
   "id": "9fcf1042-cac3-4e47-afa6-943726452cf5",
   "metadata": {},
   "source": [
    "In addition, we can do other cool things with tuples. One is called **unpacking**, and consists in a multiple assignment statement. Let's see an example:"
   ]
  },
  {
   "cell_type": "code",
   "execution_count": 52,
   "id": "defe4963-58ca-4120-a6da-8d9adfdbe598",
   "metadata": {},
   "outputs": [
    {
     "name": "stdout",
     "output_type": "stream",
     "text": [
      "1 2 3\n"
     ]
    }
   ],
   "source": [
    "unpacking_tuple = (1, 2, 3)\n",
    "a, b, c = unpacking_tuple  \n",
    "\n",
    "print(a, b, c)"
   ]
  },
  {
   "cell_type": "markdown",
   "id": "7f65bd49-4b63-4097-8315-bbb736c21e12",
   "metadata": {},
   "source": [
    "This is useful when we want to return more than one value from a function and further using the values as stored in different variables. \n",
    "\n",
    "When elements of a tuple are used as input of a function, there is a more efficient to unpack the tupple way using the **unpacking operator** `*` before the tuple. This is referred to as a \"splat\"."
   ]
  },
  {
   "cell_type": "code",
   "execution_count": 53,
   "id": "f68c5223-baf4-4a9a-87c6-feaabd25e77d",
   "metadata": {},
   "outputs": [
    {
     "name": "stdout",
     "output_type": "stream",
     "text": [
      "(1, 2, 3)\n",
      "1 2 3\n"
     ]
    }
   ],
   "source": [
    "print(unpacking_tuple)\n",
    "print(*unpacking_tuple)"
   ]
  },
  {
   "cell_type": "markdown",
   "id": "12e596e8-caa8-4d25-bfda-d221a628f3f9",
   "metadata": {
    "tags": []
   },
   "source": [
    "## Dictionary <a name=\"Dictionary\"></a>\n",
    "\n",
    "### What is a dictionary? <a name=\"dico-def\"></a>\n",
    "\n",
    "We have so far seen two collection data types: lists and tuples. In both cases, the sequence of data was referenced by the index number. For example, say we have a tuple gathering the degree of morality of Florence, Jordane, and Julia:"
   ]
  },
  {
   "cell_type": "code",
   "execution_count": 54,
   "id": "7a45317f-63e4-48d4-b6fb-e5b12f947064",
   "metadata": {
    "tags": []
   },
   "outputs": [
    {
     "name": "stdout",
     "output_type": "stream",
     "text": [
      "0.3\n",
      "0.2\n",
      "0.5\n"
     ]
    }
   ],
   "source": [
    "degree_morality = (0.3, 0.2, 0.5) \n",
    "\n",
    "print(degree_morality[0])\n",
    "print(degree_morality[1])\n",
    "print(degree_morality[2])"
   ]
  },
  {
   "cell_type": "markdown",
   "id": "11bac90e-a902-4749-80f0-06dfc79fd774",
   "metadata": {},
   "source": [
    "Instead of individuals \"0\", \"1\", \"2\", we might want to refer to the name of our individuals name, i.e., we would like to do something like `degree_morality['Florence']` instead of `degree_morality[0]`. This is possible by using a **dictionary**. Language dictionaries associate a word to its definition. A dictionary in Python is very similar: it maps a **key**, e.g., `'Florence'` with an associated **value**, e.g., `0.3`. \n",
    "\n",
    "We create dictionaries using curly braces `{}`. The syntax is then: `{key_1: value_1, key_2: value_2, ...}`:"
   ]
  },
  {
   "cell_type": "code",
   "execution_count": 55,
   "id": "f362568e-4b9f-4291-80b5-de765e152306",
   "metadata": {},
   "outputs": [
    {
     "name": "stdout",
     "output_type": "stream",
     "text": [
      "<class 'dict'> {'Florence': 0.3, 'Jordane': 0.2, 'Julia': 0.5}\n"
     ]
    }
   ],
   "source": [
    "dictionary_morality = {\n",
    "    'Florence': 0.3,     # You do not need to write each entry on separate lines, but it helps clarity\n",
    "    'Jordane': 0.2,      # Disclaimer: the names and values are fictitious. No identification with actual persons should be inferred.\n",
    "    'Julia': 0.5}\n",
    "print(type(dictionary_morality), dictionary_morality)"
   ]
  },
  {
   "cell_type": "markdown",
   "id": "9bdcb0c7-9018-40b4-bfb7-7cd68692e537",
   "metadata": {},
   "source": [
    "Instead of curly braces, we can use the built-in `dict()` function to create dictionaries. One way is to use as argument a tuple of 2-tuples, each one containing a key-value pair: "
   ]
  },
  {
   "cell_type": "code",
   "execution_count": 56,
   "id": "587d5593-24ea-41a1-83d8-e387a6c0519e",
   "metadata": {},
   "outputs": [
    {
     "data": {
      "text/plain": [
       "{'Florence': 0.3, 'Jordane': 0.2, 'Julia': 0.5}"
      ]
     },
     "execution_count": 56,
     "metadata": {},
     "output_type": "execute_result"
    }
   ],
   "source": [
    "dict((('Florence',0.3), ('Jordane', 0.2), ('Julia', 0.5)))    # 1st parenthesis for dict() function, 2nd parenthesis outer tuple"
   ]
  },
  {
   "cell_type": "markdown",
   "id": "b7223adc-d1c5-40e4-bd4f-b2d0ff20f2b8",
   "metadata": {},
   "source": [
    "Another possibility is to make a dictionary with keyword arguments - kwargs:  "
   ]
  },
  {
   "cell_type": "code",
   "execution_count": 57,
   "id": "390c99e6-2dd1-4192-92e8-eb1ce59ffb6f",
   "metadata": {},
   "outputs": [
    {
     "data": {
      "text/plain": [
       "{'Florence': 0.3, 'Jordane': 0.2, 'Julia': 0.5}"
      ]
     },
     "execution_count": 57,
     "metadata": {},
     "output_type": "execute_result"
    }
   ],
   "source": [
    "dict(Florence=0.3, Jordane=0.2, Julia=0.5)      # note that you do not need to write strings"
   ]
  },
  {
   "cell_type": "markdown",
   "id": "4d36251a-1cda-44b1-a994-cff005efce8f",
   "metadata": {},
   "source": [
    "In this example, we used strings as keys, which is the most common case, but any *immutable* object (e.g., `int`, `float`, `tuple`) can serve as key while the values can be of any type. You can even mix different type of keys and values in the same dictionary: "
   ]
  },
  {
   "cell_type": "code",
   "execution_count": 58,
   "id": "a4669cb0-dc0d-4d18-8cf5-60e26c1fe809",
   "metadata": {},
   "outputs": [
    {
     "data": {
      "text/plain": [
       "{'string key': 0,\n",
       " 34: 87.2,\n",
       " 7.9: 'string value',\n",
       " ('tuple', 'key'): ['list', 'value']}"
      ]
     },
     "execution_count": 58,
     "metadata": {},
     "output_type": "execute_result"
    }
   ],
   "source": [
    "{'string key': 0, 34: 87.2, 7.9: 'string value', ('tuple','key'): ['list', 'value']}"
   ]
  },
  {
   "cell_type": "markdown",
   "id": "260936f9-3427-4762-8505-a63eb2dce613",
   "metadata": {},
   "source": [
    "However, you cannot use *mutable* object as key:"
   ]
  },
  {
   "cell_type": "code",
   "execution_count": 59,
   "id": "0e9f4161-40fe-4b0a-8532-9578f0c114dc",
   "metadata": {},
   "outputs": [
    {
     "ename": "TypeError",
     "evalue": "unhashable type: 'list'",
     "output_type": "error",
     "traceback": [
      "\u001b[1;31m---------------------------------------------------------------------------\u001b[0m",
      "\u001b[1;31mTypeError\u001b[0m                                 Traceback (most recent call last)",
      "Cell \u001b[1;32mIn[59], line 1\u001b[0m\n\u001b[1;32m----> 1\u001b[0m {\u001b[38;5;124m'\u001b[39m\u001b[38;5;124mimmutable is ok\u001b[39m\u001b[38;5;124m'\u001b[39m: \u001b[38;5;241m1\u001b[39m, [\u001b[38;5;124m'\u001b[39m\u001b[38;5;124mmutable\u001b[39m\u001b[38;5;124m'\u001b[39m, \u001b[38;5;124m'\u001b[39m\u001b[38;5;124mkey\u001b[39m\u001b[38;5;124m'\u001b[39m, \u001b[38;5;124m'\u001b[39m\u001b[38;5;124mnot\u001b[39m\u001b[38;5;124m'\u001b[39m, \u001b[38;5;124m'\u001b[39m\u001b[38;5;124mok\u001b[39m\u001b[38;5;124m'\u001b[39m]: \u001b[38;5;241m0\u001b[39m}\n",
      "\u001b[1;31mTypeError\u001b[0m: unhashable type: 'list'"
     ]
    }
   ],
   "source": [
    "{'immutable is ok': 1, ['mutable', 'key', 'not', 'ok']: 0}"
   ]
  },
  {
   "cell_type": "markdown",
   "id": "e39c5363-6c73-4bbb-96d6-0e6883ff760c",
   "metadata": {},
   "source": [
    "In addition, the key shall be **unique**! Reusing the same key twice will overwrite the previous value stored:"
   ]
  },
  {
   "cell_type": "code",
   "execution_count": 60,
   "id": "1f54aadd-53bc-4bdd-aead-90c685796ed7",
   "metadata": {
    "tags": []
   },
   "outputs": [
    {
     "data": {
      "text/plain": [
       "{'Florence': 0.2}"
      ]
     },
     "execution_count": 60,
     "metadata": {},
     "output_type": "execute_result"
    }
   ],
   "source": [
    "{'Florence': 0.3, 'Florence': 0.2}"
   ]
  },
  {
   "cell_type": "markdown",
   "id": "c569f0fa-6b09-4961-9f1f-2ed6d0a9d3c4",
   "metadata": {},
   "source": [
    "### Indexing dictionaries <a name=\"dico-index\"></a>\n",
    "\n",
    "The whole point of creating a dictionary was to extract a value using a key instead of an index number:"
   ]
  },
  {
   "cell_type": "code",
   "execution_count": 61,
   "id": "adeaf993-18a9-42da-b56d-fdced1e51c03",
   "metadata": {},
   "outputs": [
    {
     "data": {
      "text/plain": [
       "0.5"
      ]
     },
     "execution_count": 61,
     "metadata": {},
     "output_type": "execute_result"
    }
   ],
   "source": [
    "dictionary_morality['Julia']"
   ]
  },
  {
   "cell_type": "markdown",
   "id": "fe29385f-e79c-47a2-a241-8162a6c1f594",
   "metadata": {},
   "source": [
    "That's very convenient, isn't it? Even better, since dictionaries are *mutable* objects, we can add new entries to our dictionary:"
   ]
  },
  {
   "cell_type": "code",
   "execution_count": 62,
   "id": "6c3ee5dd-29a9-4527-9447-0989f6bb4726",
   "metadata": {},
   "outputs": [
    {
     "data": {
      "text/plain": [
       "{'Florence': 0.3, 'Jordane': 0.2, 'Julia': 0.5, 'Ale': 0.5}"
      ]
     },
     "execution_count": 62,
     "metadata": {},
     "output_type": "execute_result"
    }
   ],
   "source": [
    "dictionary_morality['Ale']=0.5\n",
    "dictionary_morality"
   ]
  },
  {
   "cell_type": "markdown",
   "id": "7d5a7a5f-48c3-4285-a0ce-3061420e7430",
   "metadata": {},
   "source": [
    "Oups, I made a mistake while entering Ale's degree of morality. Luckily, we can change an entry:  "
   ]
  },
  {
   "cell_type": "code",
   "execution_count": 63,
   "id": "4dcece29-a564-4eff-86c4-d28805e2e473",
   "metadata": {},
   "outputs": [
    {
     "data": {
      "text/plain": [
       "{'Florence': 0.3, 'Jordane': 0.2, 'Julia': 0.5, 'Ale': 0.4}"
      ]
     },
     "execution_count": 63,
     "metadata": {},
     "output_type": "execute_result"
    }
   ],
   "source": [
    "dictionary_morality['Ale']=0.4\n",
    "dictionary_morality"
   ]
  },
  {
   "cell_type": "markdown",
   "id": "874a4e57-9b5f-423f-8ce5-fe7eaaa0bd8f",
   "metadata": {},
   "source": [
    "### Dictionary methods, built-in functions and operations <a name=\"dico-methods\"></a>\n",
    "\n",
    "We have previously seen some methods for lists. Remember that a method is a function that is available for a given object because of the object's type. As everything in Python, dictionaries are objects and thus have built-in methods. Here are these methods:\n",
    "\n",
    "|Method|Description|\n",
    "|:-------|:----------|\n",
    "|`d.clear()` | Removes all the elements from dictionary `d`|\n",
    "|`d.copy()` | Returns a copy of `d`|\n",
    "|`d.fromkeys(keys, value)` | Returns a dictionary with the specified keys and value (optional)|\n",
    "|`d.get(key, default = None)` | Returns the value associated with `key`. The second argument specifies what should be returned if the key is absent|\n",
    "|`d.items()` | Returns a list containing a tuple for each key value pair|\n",
    "|`d.keys()` | Returns a list containing the dictionary's keys|\n",
    "|`d.pop(key)` | Removes the element with the specified `key`|\n",
    "|`d.popitem()` | Removes the last inserted key-value pair|\n",
    "|`d.setdefault(key, value)` | Returns the value of the specified `key`. If the key does not exist: insert the key, with the specified `value` (optional)|\n",
    "|`d.update({key: value})` | Updates `d` with the specified key-value pairs|\n",
    "|`d.values()` | Returns a list of all the values in `d`|\n",
    "\n",
    "In addition, you can apply built-in functions to dictionaries such as:\n",
    "\n",
    "|Function|Description|\n",
    "|:-------|:----------|\n",
    "|`len(d)` | Gives the number of entries of the dictionary `d`|\n",
    "|`list(d)` | Extract a list of the keys of `d`|\n",
    "|`del d[key]` | Deletes entry `key` from `d`|\n",
    "\n",
    "Let's try some of these. "
   ]
  },
  {
   "cell_type": "markdown",
   "id": "65f0f1b3-ca2f-4ba4-9470-4e8c0c0b4c48",
   "metadata": {},
   "source": [
    "#### Extracting keys and values <a name=\"dico-extract\"></a>\n",
    "\n",
    "First, let's extract the keys of our dictionary. We can either use the method `d.keys()` or the function `list()`:"
   ]
  },
  {
   "cell_type": "code",
   "execution_count": 64,
   "id": "f4856c14-9feb-42ec-844a-d74018288fe9",
   "metadata": {},
   "outputs": [
    {
     "data": {
      "text/plain": [
       "dict_keys(['Florence', 'Jordane', 'Julia', 'Ale'])"
      ]
     },
     "execution_count": 64,
     "metadata": {},
     "output_type": "execute_result"
    }
   ],
   "source": [
    "dictionary_morality.keys()"
   ]
  },
  {
   "cell_type": "code",
   "execution_count": 65,
   "id": "a0f2badc-7ef4-4c44-91bb-40533b75f130",
   "metadata": {},
   "outputs": [
    {
     "data": {
      "text/plain": [
       "['Florence', 'Jordane', 'Julia', 'Ale']"
      ]
     },
     "execution_count": 65,
     "metadata": {},
     "output_type": "execute_result"
    }
   ],
   "source": [
    "list(dictionary_morality)"
   ]
  },
  {
   "cell_type": "markdown",
   "id": "91df058a-2b0b-4882-96e7-affbf4baf040",
   "metadata": {},
   "source": [
    "Notice the difference? `list()`actually returns a `list` but `d.keys()` creates a `dict_keys` object. Such object allows to view keys and iterate over them, but we cannot index it directly. Ok, now let's extract the values of our dictionary:"
   ]
  },
  {
   "cell_type": "code",
   "execution_count": 66,
   "id": "8a507bc2-7779-46d4-b17c-b554d2461420",
   "metadata": {},
   "outputs": [
    {
     "data": {
      "text/plain": [
       "dict_values([0.3, 0.2, 0.5, 0.4])"
      ]
     },
     "execution_count": 66,
     "metadata": {},
     "output_type": "execute_result"
    }
   ],
   "source": [
    "dictionary_morality.values()"
   ]
  },
  {
   "cell_type": "markdown",
   "id": "b68b2097-6709-43a3-b43f-8efd0f890156",
   "metadata": {},
   "source": [
    "Similarly than `dict.keys()` returns a `dict_keys` object, `dict.values()` returns a `dict_values` object. In case, as for `tuple`, you can convert your `dict_values` object to a `list` using `list()`:"
   ]
  },
  {
   "cell_type": "code",
   "execution_count": 67,
   "id": "776d7e0c-3a54-488d-bae5-fb9f770d5dcd",
   "metadata": {},
   "outputs": [
    {
     "data": {
      "text/plain": [
       "[0.3, 0.2, 0.5, 0.4]"
      ]
     },
     "execution_count": 67,
     "metadata": {},
     "output_type": "execute_result"
    }
   ],
   "source": [
    "list(dictionary_morality.values())"
   ]
  },
  {
   "cell_type": "markdown",
   "id": "e896b73c-3d5f-40d3-bb1a-fc8a5c022bfe",
   "metadata": {},
   "source": [
    "If we want both keys and values, we can use `d.items()` "
   ]
  },
  {
   "cell_type": "code",
   "execution_count": 68,
   "id": "af89c476-1f53-44ab-8274-35de8b16d702",
   "metadata": {},
   "outputs": [
    {
     "data": {
      "text/plain": [
       "dict_items([('Florence', 0.3), ('Jordane', 0.2), ('Julia', 0.5), ('Ale', 0.4)])"
      ]
     },
     "execution_count": 68,
     "metadata": {},
     "output_type": "execute_result"
    }
   ],
   "source": [
    "dictionary_morality.items()"
   ]
  },
  {
   "cell_type": "markdown",
   "id": "e64f4861-ffe0-47d2-8412-4b53bc7c8ba4",
   "metadata": {},
   "source": [
    "#### Slice and remove elements <a name=\"dico-slice\"></a>"
   ]
  },
  {
   "cell_type": "markdown",
   "id": "025d2d87-2526-4f33-8555-06c11bb28cc2",
   "metadata": {},
   "source": [
    "The `items()` method is also quite useful to slice a dictionary. For example, say we want to extract the entries for Florence and Jordane. To do so, we can use the `islice()` function of the `itertools` module. We will discuss modules later, but for now you can remember that a module is a file containing a set of functions and that we need to `import` a module if we want to use the functions that it contains. The `itertools` module specifically contains functions creating iterators for efficient looping - check the [documentation](https://docs.python.org/3/library/itertools.html)! "
   ]
  },
  {
   "cell_type": "code",
   "execution_count": 69,
   "id": "6dbbbc60-9032-4c84-9ab9-ef17520103d0",
   "metadata": {},
   "outputs": [
    {
     "data": {
      "text/plain": [
       "{'Florence': 0.3, 'Jordane': 0.2}"
      ]
     },
     "execution_count": 69,
     "metadata": {},
     "output_type": "execute_result"
    }
   ],
   "source": [
    "import itertools\n",
    "\n",
    "dict(itertools.islice(dictionary_morality.items(), 2))"
   ]
  },
  {
   "cell_type": "markdown",
   "id": "4595c965-71da-4933-aff9-921eec513fc0",
   "metadata": {},
   "source": [
    "Slicing allowed us to extract a subset of our dictionary. If we want to remove one element, we can use `d.pop()`. For instance, let's remove Jordane from our dictionary:"
   ]
  },
  {
   "cell_type": "code",
   "execution_count": 70,
   "id": "4d08620a-b92f-46be-965f-b6cb2948aceb",
   "metadata": {},
   "outputs": [
    {
     "data": {
      "text/plain": [
       "{'Florence': 0.3, 'Julia': 0.5, 'Ale': 0.4}"
      ]
     },
     "execution_count": 70,
     "metadata": {},
     "output_type": "execute_result"
    }
   ],
   "source": [
    "dictionary_morality.pop('Jordane')\n",
    "dictionary_morality"
   ]
  },
  {
   "cell_type": "markdown",
   "id": "e49f12a5-2abf-4fbe-9453-abcdff2fb70a",
   "metadata": {},
   "source": [
    "Good bye Jordane, you will be missed. "
   ]
  },
  {
   "cell_type": "markdown",
   "id": "5411aaf8-76f2-4c31-a573-ac6e5e379912",
   "metadata": {},
   "source": [
    "#### Get and update one value <a name=\"dico-get\"></a>\n",
    "\n",
    "Let's first try `d.get()`:"
   ]
  },
  {
   "cell_type": "code",
   "execution_count": 71,
   "id": "38b3802a-1360-4014-b3ce-709581a94dad",
   "metadata": {},
   "outputs": [
    {
     "data": {
      "text/plain": [
       "0.3"
      ]
     },
     "execution_count": 71,
     "metadata": {},
     "output_type": "execute_result"
    }
   ],
   "source": [
    "dictionary_morality.get('Florence')"
   ]
  },
  {
   "cell_type": "markdown",
   "id": "996b0aec-4489-4bea-9091-ed1b87337b2d",
   "metadata": {},
   "source": [
    "Seems like `dictionary_morality.get('Florence')` is the same as `dictionary_morality['Florence']`, and indeed for existing keys, both operations return the value associated with the key. However, what about when the key does not exist? Let's try with our deleted entry `'Jordane'`"
   ]
  },
  {
   "cell_type": "code",
   "execution_count": 72,
   "id": "64f43a9b-7db7-49aa-9d9b-6542995fb3bf",
   "metadata": {},
   "outputs": [],
   "source": [
    "dictionary_morality.get('Jordane')"
   ]
  },
  {
   "cell_type": "markdown",
   "id": "94b1e24f-4aa6-4859-861c-188b9348467c",
   "metadata": {},
   "source": [
    "There was no error (there would be if we did `dictionary_morality['Jordane']`), and we got `None`. We can also specify a default value:"
   ]
  },
  {
   "cell_type": "code",
   "execution_count": 73,
   "id": "c296eca9-0a5a-4cea-8701-6f40b52b4390",
   "metadata": {},
   "outputs": [
    {
     "data": {
      "text/plain": [
       "0.2"
      ]
     },
     "execution_count": 73,
     "metadata": {},
     "output_type": "execute_result"
    }
   ],
   "source": [
    "dictionary_morality.get('Jordane', 0.2)"
   ]
  },
  {
   "cell_type": "markdown",
   "id": "65d10ca8-41c6-4086-b5ee-8a3b2e23ef64",
   "metadata": {},
   "source": [
    "Note that it did not add Jordane to our dictionary. If we wish to do so, we could use `d.setdefault()`"
   ]
  },
  {
   "cell_type": "code",
   "execution_count": 74,
   "id": "63b00895-194e-481c-83ba-2418ed353aa6",
   "metadata": {},
   "outputs": [
    {
     "name": "stdout",
     "output_type": "stream",
     "text": [
      "{'Florence': 0.3, 'Julia': 0.5, 'Ale': 0.4}\n",
      "{'Florence': 0.3, 'Julia': 0.5, 'Ale': 0.4, 'Jordane': 0.2}\n"
     ]
    }
   ],
   "source": [
    "print(dictionary_morality)\n",
    "\n",
    "dictionary_morality.setdefault('Jordane', 0.2)\n",
    "print(dictionary_morality)"
   ]
  },
  {
   "cell_type": "markdown",
   "id": "3bdfc7ed-f883-4a42-9a08-1af56e327fa4",
   "metadata": {},
   "source": [
    "Note that `d.setdefault()` also allows to get the value associated with a key."
   ]
  },
  {
   "cell_type": "code",
   "execution_count": 75,
   "id": "df3fc0a9-ff36-41c8-ae07-23699e122ceb",
   "metadata": {},
   "outputs": [
    {
     "data": {
      "text/plain": [
       "0.2"
      ]
     },
     "execution_count": 75,
     "metadata": {},
     "output_type": "execute_result"
    }
   ],
   "source": [
    "dictionary_morality.setdefault('Jordane')"
   ]
  },
  {
   "cell_type": "markdown",
   "id": "1f936fa1-e891-4a20-8a82-3bb49fd14903",
   "metadata": {},
   "source": [
    "Hence, you should think about what behavior you want when you attempt to get a value out of a dictionary by key. Do you want an error when the key is missing? Then use indexing. Do you want to have a (possibly `None`) default if the key is missing and no error? Then use `get()`. Or do you want to create a new entry entry to your dictionary when the key is missing? Then use `setdefault()`.\n",
    "\n",
    "Note that if the key already exists, `setdefault()` does not modify its value:"
   ]
  },
  {
   "cell_type": "code",
   "execution_count": 76,
   "id": "e2511b14-43d7-428a-b87c-0104746466cb",
   "metadata": {},
   "outputs": [
    {
     "data": {
      "text/plain": [
       "{'Florence': 0.3, 'Julia': 0.5, 'Ale': 0.4, 'Jordane': 0.2}"
      ]
     },
     "execution_count": 76,
     "metadata": {},
     "output_type": "execute_result"
    }
   ],
   "source": [
    "dictionary_morality.setdefault('Jordane', 0.3)\n",
    "dictionary_morality"
   ]
  },
  {
   "cell_type": "markdown",
   "id": "1e6d43fe-cd9d-44ac-9eb0-66cd27ebe115",
   "metadata": {},
   "source": [
    "Instead you can update values - or add a new entry - with `d.update()`. Notice the syntax, the argument should be a dictionary (or an iterable object with key value pairs). That being said, I recommend using indexing: it is simpler, and apparently faster than `update()` "
   ]
  },
  {
   "cell_type": "code",
   "execution_count": 77,
   "id": "9dd4bcf8-566d-4fbc-a30d-380fcbd395c7",
   "metadata": {},
   "outputs": [
    {
     "name": "stdout",
     "output_type": "stream",
     "text": [
      "{'Florence': 0.3, 'Julia': 0.5, 'Ale': 0.4, 'Jordane': 0.25}\n",
      "{'Florence': 0.3, 'Julia': 0.5, 'Ale': 0.4}\n",
      "{'Florence': 0.3, 'Julia': 0.5, 'Ale': 0.4, 'Jordane': 0.25}\n"
     ]
    }
   ],
   "source": [
    "dictionary_morality.update({'Jordane': 0.25})   # Add Jordane to dictionary\n",
    "print(dictionary_morality)\n",
    "\n",
    "dictionary_morality.popitem()                   # Removed the last inserted key-value pair: bye-bye again Jordane\n",
    "print(dictionary_morality)\n",
    "\n",
    "dictionary_morality['Jordane']=0.25             # Add Jordane to dictionary\n",
    "print(dictionary_morality)"
   ]
  },
  {
   "cell_type": "markdown",
   "id": "7792d39b-d684-4957-b7e7-cee45e55624f",
   "metadata": {},
   "source": [
    "#### Check if a key belongs to a dictionary <a name=\"dico-check\"></a>"
   ]
  },
  {
   "cell_type": "markdown",
   "id": "0c185f08-7d2d-4ce0-80eb-75f80d820bf9",
   "metadata": {},
   "source": [
    "To know if a key is in an dictionary, we can use the `in` and `not in` operators:"
   ]
  },
  {
   "cell_type": "code",
   "execution_count": 78,
   "id": "f4653d44-f311-43a2-a9e4-08dfdab6c4b1",
   "metadata": {},
   "outputs": [
    {
     "data": {
      "text/plain": [
       "True"
      ]
     },
     "execution_count": 78,
     "metadata": {},
     "output_type": "execute_result"
    }
   ],
   "source": [
    "'Ale' in dictionary_morality"
   ]
  },
  {
   "cell_type": "code",
   "execution_count": 79,
   "id": "79df68c5-7e4c-4fa3-a157-f0321afce62e",
   "metadata": {},
   "outputs": [
    {
     "data": {
      "text/plain": [
       "False"
      ]
     },
     "execution_count": 79,
     "metadata": {},
     "output_type": "execute_result"
    }
   ],
   "source": [
    "'Edoardo' in dictionary_morality"
   ]
  },
  {
   "cell_type": "code",
   "execution_count": 80,
   "id": "8f6ed70b-5b34-4d04-b509-0ed4e18df4db",
   "metadata": {},
   "outputs": [
    {
     "data": {
      "text/plain": [
       "True"
      ]
     },
     "execution_count": 80,
     "metadata": {},
     "output_type": "execute_result"
    }
   ],
   "source": [
    "'Quentin' not in dictionary_morality"
   ]
  },
  {
   "cell_type": "markdown",
   "id": "09cb6565-2376-4bc3-ade9-61c35f41792e",
   "metadata": {},
   "source": [
    "### Merging dictionaries <a name=\"dico-merge\"></a>\n",
    "\n",
    "Suppose we want to merge two dictionaries together. Remember how we merged two lists? Or two strings? That's right, we use the `+`operator. Let's try the same with dictionary:"
   ]
  },
  {
   "cell_type": "code",
   "execution_count": 81,
   "id": "32be3230-19ca-473b-b10a-b6249db09349",
   "metadata": {},
   "outputs": [
    {
     "ename": "TypeError",
     "evalue": "unsupported operand type(s) for +: 'dict' and 'dict'",
     "output_type": "error",
     "traceback": [
      "\u001b[1;31m---------------------------------------------------------------------------\u001b[0m",
      "\u001b[1;31mTypeError\u001b[0m                                 Traceback (most recent call last)",
      "Cell \u001b[1;32mIn[81], line 4\u001b[0m\n\u001b[0;32m      1\u001b[0m dico_moral_1 \u001b[38;5;241m=\u001b[39m {\u001b[38;5;124m'\u001b[39m\u001b[38;5;124mFlorence\u001b[39m\u001b[38;5;124m'\u001b[39m: \u001b[38;5;241m0.3\u001b[39m, \u001b[38;5;124m'\u001b[39m\u001b[38;5;124mJulia\u001b[39m\u001b[38;5;124m'\u001b[39m: \u001b[38;5;241m0.5\u001b[39m} \n\u001b[0;32m      2\u001b[0m dico_moral_2 \u001b[38;5;241m=\u001b[39m {\u001b[38;5;124m'\u001b[39m\u001b[38;5;124mAle\u001b[39m\u001b[38;5;124m'\u001b[39m: \u001b[38;5;241m0.4\u001b[39m, \u001b[38;5;124m'\u001b[39m\u001b[38;5;124mJordane\u001b[39m\u001b[38;5;124m'\u001b[39m: \u001b[38;5;241m0.25\u001b[39m}\n\u001b[1;32m----> 4\u001b[0m dico_moral_1 \u001b[38;5;241m+\u001b[39m dico_moral_2\n",
      "\u001b[1;31mTypeError\u001b[0m: unsupported operand type(s) for +: 'dict' and 'dict'"
     ]
    }
   ],
   "source": [
    "dico_moral_1 = {'Florence': 0.3, 'Julia': 0.5} \n",
    "dico_moral_2 = {'Ale': 0.4, 'Jordane': 0.25}\n",
    "\n",
    "dico_moral_1 + dico_moral_2"
   ]
  },
  {
   "cell_type": "markdown",
   "id": "cbdcac90-c956-44c6-a734-1cdac5fa8ebf",
   "metadata": {},
   "source": [
    "Ouch, it does not work for dictionaries. Fortunately, there is a simple way to merge dictionaries using the `dict()` function and the `**` operator:"
   ]
  },
  {
   "cell_type": "code",
   "execution_count": 82,
   "id": "531a457d-9ad2-439f-a1aa-3976407ed057",
   "metadata": {},
   "outputs": [
    {
     "data": {
      "text/plain": [
       "{'Florence': 0.3, 'Julia': 0.5, 'Ale': 0.4, 'Jordane': 0.25}"
      ]
     },
     "execution_count": 82,
     "metadata": {},
     "output_type": "execute_result"
    }
   ],
   "source": [
    "dict(**dico_moral_1, **dico_moral_2)"
   ]
  },
  {
   "cell_type": "markdown",
   "id": "e29bb135-a9e1-433b-b6b8-97146668ba34",
   "metadata": {},
   "source": [
    "Alternatively, using curly braces:"
   ]
  },
  {
   "cell_type": "code",
   "execution_count": 83,
   "id": "932da5b7-0a20-43a1-af25-073d74dbafcf",
   "metadata": {},
   "outputs": [
    {
     "data": {
      "text/plain": [
       "{'Florence': 0.3, 'Julia': 0.5, 'Ale': 0.4, 'Jordane': 0.25}"
      ]
     },
     "execution_count": 83,
     "metadata": {},
     "output_type": "execute_result"
    }
   ],
   "source": [
    "{**dico_moral_1, **dico_moral_2}"
   ]
  },
  {
   "cell_type": "markdown",
   "id": "b3d14dd7-76ea-4864-9506-631b625a5987",
   "metadata": {},
   "source": [
    "Let's pause a minute and discuss the `**` operator. Do you remember above, we used the unpacking operator `*` to split a tuple inside a function? Here is an example:"
   ]
  },
  {
   "cell_type": "code",
   "execution_count": 84,
   "id": "234b48ab-e899-427d-bba6-d8e131ebb1e7",
   "metadata": {},
   "outputs": [
    {
     "name": "stdout",
     "output_type": "stream",
     "text": [
      "(1, 2, 3)\n",
      "1 2 3\n"
     ]
    }
   ],
   "source": [
    "print((1,2,3))\n",
    "print(*(1,2,3))"
   ]
  },
  {
   "cell_type": "markdown",
   "id": "3c0d9439-133a-402e-ba73-fba117c81721",
   "metadata": {},
   "source": [
    "Note that the `*` operator works on any kind of iterable. For example, strings or lists:"
   ]
  },
  {
   "cell_type": "code",
   "execution_count": 85,
   "id": "b1074e95-d645-4b51-b486-88668665614b",
   "metadata": {},
   "outputs": [
    {
     "name": "stdout",
     "output_type": "stream",
     "text": [
      "1 2 3\n",
      "1 2 3\n"
     ]
    }
   ],
   "source": [
    "print(*'123')\n",
    "print(*[1,2,3])"
   ]
  },
  {
   "cell_type": "markdown",
   "id": "3117af3b-9809-408f-892a-8ada95715adc",
   "metadata": {},
   "source": [
    "However, if we apply `*` on a dictionary, we would only unpack the keys:"
   ]
  },
  {
   "cell_type": "code",
   "execution_count": 86,
   "id": "06270076-b516-4f3e-b6c7-2a9f74ba2235",
   "metadata": {},
   "outputs": [
    {
     "name": "stdout",
     "output_type": "stream",
     "text": [
      "Florence Julia\n",
      "{'Ale', 'Julia', 'Florence', 'Jordane'}\n"
     ]
    }
   ],
   "source": [
    "print(*dico_moral_1)\n",
    "print({*dico_moral_1, *dico_moral_2})"
   ]
  },
  {
   "cell_type": "markdown",
   "id": "02c9a8a4-6da4-4d6d-a947-1d9a60ac316e",
   "metadata": {},
   "source": [
    "Hence, we need to get to the next level. That's the `**` operator. It is also an unpacking operator, but for dictionaries!"
   ]
  }
 ],
 "metadata": {
  "kernelspec": {
   "display_name": "Python 3 (ipykernel)",
   "language": "python",
   "name": "python3"
  },
  "language_info": {
   "codemirror_mode": {
    "name": "ipython",
    "version": 3
   },
   "file_extension": ".py",
   "mimetype": "text/x-python",
   "name": "python",
   "nbconvert_exporter": "python",
   "pygments_lexer": "ipython3",
   "version": "3.11.3"
  },
  "toc-showmarkdowntxt": false
 },
 "nbformat": 4,
 "nbformat_minor": 5
}
