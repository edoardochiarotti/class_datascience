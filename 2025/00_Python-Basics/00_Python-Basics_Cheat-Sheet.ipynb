{
 "cells": [
  {
   "cell_type": "markdown",
   "id": "e5a6782e-5211-4979-934a-f4da03f307a5",
   "metadata": {},
   "source": [
    "<a href=\"https://colab.research.google.com/github/edoardochiarotti/class_datascience/blob/main/2024/00_Python-Basics/00_Python-Basics_Cheat-Sheet.ipynb\" target=\"_blank\" rel=\"noopener\"><img src=\"https://colab.research.google.com/assets/colab-badge.svg\" alt=\"Open In Colab\"/></a>"
   ]
  },
  {
   "cell_type": "markdown",
   "id": "f9e5cfd8-c238-43ff-b537-ca5faae20742",
   "metadata": {},
   "source": [
    "# Statistics and Data Science: Python Cheatsheet"
   ]
  },
  {
   "cell_type": "markdown",
   "id": "0e161ad9-2a49-4d87-bb8f-ad8ea431807a",
   "metadata": {},
   "source": [
    "<img src='https://www.agent-x.com.au/wp-content/uploads/2011/06/Perfect-Programmer-dfe194b-e8d3b11-b960bd5.jpg' width=\"400\">\n",
    "\n",
    "Source: [Agent-X Comics - Perfect Programming](https://www.agent-x.com.au/comic/perfect-programming/)"
   ]
  },
  {
   "cell_type": "markdown",
   "id": "30deb5d7-1581-4aad-b58e-5edf78126090",
   "metadata": {},
   "source": [
    "## Content\n",
    "\n",
    "This notebook summarizes the key concepts to program in Python. More details and illustrations are available in the notebooks \"Python-Basics\".\n",
    "\n",
    "- [Introduction](#intro)\n",
    "- [Variables and data type](#variables)\n",
    "- [Operators](#operators)\n",
    "- [Lists and Tuples](#list)\n",
    "- [Dictionary](#dict)\n",
    "- [String Methods](#string)\n",
    "- [Conditionals](#condition)\n",
    "- [Iteration](#iteration)\n",
    "- [List Comprehension](#comprehension)\n",
    "- [Function](#function)"
   ]
  },
  {
   "cell_type": "markdown",
   "id": "75df24c7-2f28-47df-bfb4-2a2f115f8e85",
   "metadata": {},
   "source": [
    "## Introduction <a name=\"intro\"></a>\n",
    "\n",
    "- A programming language is a structured subset of natural language (words) and special characters that allow humans to describe operations they would like their computer to perform on their behalf\n",
    "- The programming language translates these words and symbols into instructions the computer can execute\n",
    "- [Python](https://www.python.org) is a general-purpose programming language conceived in 1989 by Dutch programmer [Guido van Rossum](https://en.wikipedia.org/wiki/Guido_van_Rossum)\n",
    "- Python is free and open source, with development coordinated through the [Python Software Foundation](https://www.python.org/psf/)"
   ]
  },
  {
   "cell_type": "markdown",
   "id": "6fe34221-5767-4ed5-a6a5-689b735ecc34",
   "metadata": {},
   "source": [
    "## Variables and data type <a name=\"variables\"></a>\n",
    "\n",
    "- **Variables** are containers for storing data values. \n",
    "- A variable is created the moment you first assign a value to it, using `=` \n",
    "- Variables can store data of different types. Here are some common data types:\n",
    "\n",
    "|Data type| Definition |Example|\n",
    "|--|--|-- |\n",
    "|`str`| String: Text data| `\"Hello, world\"` |\n",
    "|`int` | Integer: whole number, positive or negative, without decimals, of unlimited length | `42`|\n",
    "|`float` | Floating point number: decimal number |`-7.39`|\n",
    "|`complex` | Complex number|`1+2j`|\n",
    "| `bool`| Boolean | `True`, `False` |\n",
    "\n",
    "- Boolean are associated to numerical value: `True`has the value `1`, and `False` has the value `0`\n",
    "- Determine the type of some data/variables with built-in function `type()`\n",
    "- **Tips:**\n",
    "    1. **Use explicit name for your variables**: you and someone reading your code should be able to understand what is the variable\n",
    "    2. **Be careful not to overwrite the variables you are using**"
   ]
  },
  {
   "cell_type": "markdown",
   "id": "6f9f58db-04c5-4411-90fa-2c2ce4c3b15a",
   "metadata": {},
   "source": [
    "## Operators <a name=\"operators\"></a>"
   ]
  },
  {
   "cell_type": "markdown",
   "id": "f1bdc7cd-d971-4f87-b001-d885d906a6d5",
   "metadata": {},
   "source": [
    "### Arithmetic operators\n",
    "\n",
    "- **Operators** allow you to perform operations on variables, like add them. \n",
    "|action|operator|\n",
    "|:-------|:----------:|\n",
    "|addition | `+`|\n",
    "|subtraction | `-`|\n",
    "|multiplication | `*`|\n",
    "|division | `/`|\n",
    "|raise to power | `**`|\n",
    "|modulo | `%`|\n",
    "|floor division | `//`|\n",
    "- Do not use the `^` operator to raise to a power. That is actually the operator for bitwise XOR.\n",
    "- Dividing by zero will result in an error.\n",
    "- Adding strings concatenate them. Multiplying a string by an integer *n* concatenates *n* times the string. Other string operations are not supported.\n",
    "- Here is the order of operations.\n",
    "|precedence|operators|\n",
    "|:-------:|:----------:|\n",
    "|1 | `**`|\n",
    "|2 | `*`, `/`, `//`, `%`|\n",
    "|3 | `+`, `-`|\n",
    "- You can use parenthesis to group operations\n",
    "- *Do not* use excessive parentheses. Excessive parentheses makes your code less readable, and can lead to mistakes. Trust the order of operations!"
   ]
  },
  {
   "cell_type": "markdown",
   "id": "8e08f3cf-1bce-4f08-b1e8-0337af4e2cfa",
   "metadata": {},
   "source": [
    "### Assignment operators\n",
    "\n",
    "Assignment operators are used to assign values to variables:\n",
    "\n",
    "|Operator|Example|Same as|\n",
    "|:-------:|:----------:|:----------:|\n",
    "|`=` | `var = 7` | `var = 7` |  \n",
    "|`+=` | `var += 7` | `var = var + 7`| \n",
    "|`-=` | `var -= 7` | `var = var - 7`|\n",
    "|`*=` | `var *= 7` | `var = var * 7`|\n",
    "|`/=` | `var /= 7` | `var = var / 7`|\n",
    "|`**=` | `var **= 7` | `var = var ** 7`|\n",
    "|`%=` | `var %= 7` | `var = var % 7`| \n",
    "|`//=` | `var //= 7` | `var = var // 7`|"
   ]
  },
  {
   "cell_type": "markdown",
   "id": "a4b53e7a-e396-43e5-88ff-700b49a2411c",
   "metadata": {},
   "source": [
    "### Comparison operators\n",
    "\n",
    "**Comparison operators** (also called **relational operators**) are used to compare two values:\n",
    "\n",
    "|English|Python|\n",
    "|:-------|:----------:|\n",
    "|is equal to | `==`|\n",
    "|is not equal to | `!=`|\n",
    "|is greater than | `>`|\n",
    "|is less than | `<`|\n",
    "|is greater than or equal to | `>=`|\n",
    "|is less than or equal to | `<=`|\n",
    "\n",
    "- The result of the operation will be a Boolean: `True` or `False`\n",
    "- Never use the `==` operator with `float`. Indeed, since floating point numbers are stored with a finite number of binary bits, there may be some rounding errors when operating on them. For instance, `2.1 + 3.2 == 5.3` will be `False`..."
   ]
  },
  {
   "cell_type": "markdown",
   "id": "ed912259-4fb3-4656-87ea-9431d66ea63d",
   "metadata": {},
   "source": [
    "### Identity operators\n",
    "\n",
    "**Identity operators** are used to compare objects, not if their values are equal, but if they are actually the same object, with the same memory location. The two identity operators are:\n",
    "\n",
    "|English|Python|\n",
    "|:-------|:----------:|\n",
    "|is the same object | **`is`**|\n",
    "|is not the same object | **`is not`**|"
   ]
  },
  {
   "cell_type": "markdown",
   "id": "404c7579-fa09-474f-9ca4-a9498d273941",
   "metadata": {},
   "source": [
    "### Logical operators\n",
    "\n",
    "**Logical operators** can be used to connect relational and identity operators. Python has three logical operators.\n",
    "\n",
    "|Logic|Python|Meaning |\n",
    "|:-------|:----------:|:----------|\n",
    "|AND | `and`| If both operands are `True`, return `True` |\n",
    "|OR | `or`| Gives `True` if *either* of the operands are `True`|\n",
    "|NOT | `not`| Negates the logical result |"
   ]
  },
  {
   "cell_type": "markdown",
   "id": "bd0537f9-1eb1-4ae1-aedc-600eab89818f",
   "metadata": {},
   "source": [
    "### Operator precedence\n",
    "\n",
    "|precedence|operators|\n",
    "|:-------|:----------:|\n",
    "|1 | `**`|\n",
    "|2 | `*`, `/`, `//`, `%`|\n",
    "|3 | `+`, `-`|\n",
    "|4 | `<`, `>`, `<=`, `>=`|\n",
    "|5 | `==`, `!=`|\n",
    "|6 | `=`, `+=`, `-=`, `*=`, `/=`, `**=`, `%=`, `//=`|\n",
    "|7 | `is`, `is not`|\n",
    "|8 | `and`, `or`, `not`|"
   ]
  },
  {
   "cell_type": "markdown",
   "id": "ecf7f4c4-8d1a-4345-beb6-2ca1613b30a9",
   "metadata": {},
   "source": [
    "## Lists and Tuples <a name=\"list\"></a>\n",
    "\n",
    "### List\n",
    "\n",
    "- **Lists** (`list`) are used to store multiple items in a single variable. \n",
    "- We create lists by putting Python values or expressions inside **square brackets**, separated by **commas**: `[1,2,3]`\n",
    "- Any Python expression can be part of a list, including another list\n",
    "- A list that contain another list is called a **nested list**\n",
    "- Adding lists concatenate them\n",
    "- Lists are **mutable** objects: you can change their values without creating a new list"
   ]
  },
  {
   "cell_type": "markdown",
   "id": "b53c025b-fca1-4364-aa59-9a203877e55f",
   "metadata": {},
   "source": [
    "### Tuple\n",
    "\n",
    "-  **Tuples** (`tuple`) are used to store multiple items in a single variable. \n",
    "- We create tuples by putting Python values or expressions inside **parenthesis**, separated by **commas**: `(1,2,3)`\n",
    "- Any Python expression can be part of a tuple, including another tuple\n",
    "- Adding tuples concatenate them\n",
    "- Tuples are **immutable** object: once a tuple is created, its values cannot be changed. Always use tuples instead of lists unless you need mutability"
   ]
  },
  {
   "cell_type": "markdown",
   "id": "fb4a51e4-c072-4483-b303-1e1295e66c92",
   "metadata": {},
   "source": [
    "### Indexing and slicing\n",
    "\n",
    "- Lists and tuples are **ordered**, i.e., the items have a defined order. \n",
    "- Access a given item in a list (or a tuple) using **brackets**: we first write the name of our list and then enclosed in square brackets the location (**index**) of the desired element `list[index]`\n",
    "- <span style='color:red'> **Indexing in Python starts at zero** </span>: the first element is at location 0\n",
    "- We can index a nested list by adding another set of brackets: `list[index_level_1][index_level_2]`\n",
    "- We can use negative indexing: the last element is at location -1\n",
    "\n",
    "|Element|1|2|3|4|5|6|7|8|9|10|\n",
    "|------|-:|-:|-:|-:|-:|-:|-:|-:|-:|-:|\n",
    "|Forward indices|0|1|2|3|4|5|6|7|8|9|\n",
    "|Reverse indices|-10|-9|-8|-7|-6|-5|-4|-3|-2|-1|\n",
    "\n",
    "- **Slicing** allows to extract several elements, using semicolon `[start:end:stride]`:\n",
    "    - The range is **inclusive of the first index** (`start` is included) and **exclusive of the last** (`end` is not included)\n",
    "    - If there are no colons, a single element is returned (indexing)\n",
    "    - If there are colons, we are slicing the list/tuple, and a list/tuple is returned.\n",
    "    - If there is one colon, `stride` is assumed to be 1.\n",
    "    - If `start` is not specified, it is assumed to be zero.\n",
    "    - If `end` is not specified, it is assumed you want the entire list/tuple.\n",
    "    - If `stride` is not specified, it is assumed to be 1."
   ]
  },
  {
   "cell_type": "markdown",
   "id": "0e056447-ac22-4765-bae6-9149d7fee290",
   "metadata": {},
   "source": [
    "### List and Tuples methods\n",
    "\n",
    "- Python objects contain: 1) data; 2) built-in functions that can operate on the data, called methods\n",
    "- Built-in methods for lists:\n",
    "\n",
    "|Method|Description|\n",
    "|:-------|:----------|\n",
    "|`lis.append(val)` | Adds an element with value `val`at the end of the list `lis`|\n",
    "|`lis.clear()` | Removes all the elements from the list `lis`|\n",
    "|`lis.copy()` | Returns a copy of the list `lis`|\n",
    "|`lis.count(val)` | Returns the number of elements with the specified value `val`|\n",
    "|`lis.extend(iterable)` | Add the elements of a list (or any iterable), to the end of the list `lis`|\n",
    "|`lis.index(val)` | Returns the index of the first element with the value `val`|\n",
    "|`lis.insert(pos, val)` | Adds an element with value `val` at the position `pos`|\n",
    "|`lis.pop(pos)` | Removes the element at the position `pos`|\n",
    "|`lis.remove(val)` | Removes the item with the value `val`|\n",
    "|`lis.reverse()` | Reverses the order of the list `lis`|\n",
    "|`lis.sort()` | Sorts the list `lis`|\n",
    "\n",
    "- Another useful function (that is not a method), is the `len(lis)` function. It returns the total number of items in the list `lis`\n",
    "- `.count()`, `.index()`, and `len()` works the same with `tuple`, but unfortunately the others do not since tuples are immutable. Instead, a useful trick is to convert your tuple into a list, apply the list methods, and convert back to a tuple: \n",
    "    - Convert `tuple` into `list` using the function `list()`\n",
    "    - Convert `list` into `tuple` using the function `tuple()`"
   ]
  },
  {
   "cell_type": "markdown",
   "id": "01a367aa-1410-4f49-a009-272859384cf8",
   "metadata": {},
   "source": [
    "## Dictionary\n",
    "\n",
    "- In a nutshell:\n",
    "    - Dictionaries (`dict`) are used to store multiple items in a single variable\n",
    "    - A dictionary maps a **key** with an associated **value**\n",
    "    - Any *immutable* object (e.g., `int`, `float`, `str`, `tuple`) can serve as key while the values can be of any type. You can even mix different type of keys and values in the same dictionary\n",
    "    - Dictionaries are *mutable* objects\n",
    "- Create dictionaries using curly braces `{}`: `d={key_1: value_1, key_2: value_2, ...}`\n",
    "- Extract the value associated to a specified `key` in the dictionary `d` with square brackets: `d[key]`\n",
    "- Add a new entry to dictionary `d`, or change value associated with a key: `d[key]=value`\n",
    "- Dictionary methods:\n",
    "|Method|Description|\n",
    "|:-------|:----------|\n",
    "|`d.clear()` | Removes all the elements from dictionary `d`|\n",
    "|`d.copy()` | Returns a copy of `d`|\n",
    "|`d.fromkeys(keys, value)` | Returns a dictionary with the specified keys and value (optional)|\n",
    "|`d.get(key, default = None)` | Returns the value associated with `key`. The second argument specifies what should be returned if the key is absent|\n",
    "|`d.items()` | Returns a list containing a tuple for each key value pair|\n",
    "|`d.keys()` | Returns a list containing the dictionary's keys|\n",
    "|`d.pop(key)` | Removes the element with the specified `key`|\n",
    "|`d.popitem()` | Removes the last inserted key-value pair|\n",
    "|`d.setdefault(key, value)` | Returns the value of the specified `key`. If the key does not exist: insert the key, with the specified `value` (optional)|\n",
    "|`d.update({key: value})` | Updates `d` with the specified key-value pairs|\n",
    "|`d.values()` | Returns a list of all the values in `d`|\n",
    "- Other built-in functions useful for dictionaries:\n",
    "|Function|Description|\n",
    "|:-------|:----------|\n",
    "|`len(d)` | Gives the number of entries of the dictionary `d`|\n",
    "|`list(d)` | Extract a list of the keys of `d`|"
   ]
  },
  {
   "cell_type": "markdown",
   "id": "1038e539-14b6-403d-93cc-7763d6913595",
   "metadata": {},
   "source": [
    "## String Methods <a name=\"string\"></a>\n",
    "\n",
    "- We can use string methods to manipulate text data. Here are some of the common ones:\n",
    "\n",
    "|Method|Description|\n",
    "|:-------|:----------|\n",
    "|`s.capitalize()` | Converts the first character to upper case|\n",
    "|`s.casefold()` | Converts string into lower case |\n",
    "|`s.count(value)` | Returns the number of times a specified value occurs in a string|\n",
    "|`s.endswith()` |Returns true if the string ends with the specified value|\n",
    "|`s.find(value)` | Searches the string for a specified value and returns the position of where it was found|\n",
    "|`s.format()` | Formats specified values in a string|\n",
    "|`s.index(value)` | Searches the string for a specified value and returns the position of where it was found|\n",
    "|`s.isalnum()` | Returns True if all characters in the string are alphanumeric|\n",
    "|`s.isalpha` | Returns True if all characters in the string are in the alphabet|\n",
    "|`s.isdigit()` | Returns True if all characters in the string are digits|\n",
    "|`s.islower()`|Returns True if all characters in the string are lower case|\n",
    "|`s.isnumeric()` | Returns True if all characters in the string are numeric|\n",
    "|`s.isupper()`|Returns True if all characters in the string are upper case|\n",
    "|`s.join()`|Converts the elements of an iterable into a string|\n",
    "|`s.lower()`|Converts a string into lower case|\n",
    "|`s.replace(old_value, new_value)`|Returns a string where a specified value is replaced with another value |\n",
    "|`s.rfind(value)`|Searches the string for a specified value and returns the last position of where it was found |\n",
    "|`s.rindex(value)`|Searches the string for a specified value and returns the last position of where it was found |\n",
    "|`s.rsplit(separator)`|Splits the string at the specified separator, and returns a list |\n",
    "|`s.split(separator)`|Splits the string at the specified separator, and returns a list |\n",
    "|`s.splitlines()`|Splits the string at line breaks and returns a list |\n",
    "|`s.startswith(value)`|Returns true if the string starts with the specified value |\n",
    "|`s.swapcase()`|Swaps cases, lower case becomes upper case and vice versa |\n",
    "|`s.title()`|Converts the first character of each word to upper case|\n",
    "|`s.translate()`|Returns a translated string using a dictionary or mapping table|\n",
    "|`s.upper()`|Converts a string into upper case|\n",
    "\n",
    "- A complete list of string methods is available in the [Python documentation](https://docs.python.org/3/library/stdtypes.html#string-methods)\n",
    "- Since strings are sequences of characters, indexing and slicing works the same as it does for lists and tuples! Similarly, built-in functions such as `len()` also applies to strings.\n",
    "- **f-strings** allow to directly insert some variables into strings\n",
    "    - Definition: use `f` in front of a string and add the name of the variable to be inserted between braces\n",
    "    - `f\"Here is a f-string with {variable:format}\"` \n",
    "    - The format is optional but allows to adjust, for example, how a number should be displayed: \n",
    "\n",
    "|format|description|\n",
    "|:----------:|-----------|\n",
    "|`d`| integer|\n",
    "|`04d`| integer with four digits, possibly with leading zeros|\n",
    "|`f`| float, default to six digits after decimal|\n",
    "|`.8f`| float with 8 digits after the decimal|\n",
    "|`e`| scientific notation, default to six digits after decimal|\n",
    "|`.16e`| scientific notation with 16 digits after the decimal|\n",
    "|`s`| display as a string|"
   ]
  },
  {
   "cell_type": "markdown",
   "id": "7649684f-e0f8-4fd4-ae64-3f42e08a9588",
   "metadata": {},
   "source": [
    "## Conditionals <a name=\"condition\"></a>\n",
    "\n",
    "- **Conditionals** are used to tell your computer to do a set of instructions depending on whether or not a Boolean is `True`.\n",
    "- Syntax:\n",
    "```python\n",
    "if <condition 1>:\n",
    "    <statement 1>\n",
    "elif <condition 2>:\n",
    "    <statement 2>\n",
    "else:\n",
    "    <statement 3>\n",
    "```\n",
    "- In the above: \n",
    "    - statement 1 is only evaluated if condition 1 is `True`. \n",
    "    - `elif` (else if) is optional, and statement 2 is only evaluated if condition 1 is `False` and condition 2 is `True` \n",
    "    - `else` is optional, and statement 3 is only evaluated if conditions 1 and 2 are `False`.\n",
    "- **Indentation matters**: any lines with the same level of indentation will be evaluated together."
   ]
  },
  {
   "cell_type": "markdown",
   "id": "1b80b739-a2ee-4ca6-b0d2-a5ee1bb55cc8",
   "metadata": {},
   "source": [
    "## Iteration <a name=\"iteration\"></a>"
   ]
  },
  {
   "cell_type": "markdown",
   "id": "7e8b36c3-92c7-4c53-bfe9-afb66a8b5175",
   "metadata": {},
   "source": [
    "### For loop\n",
    "\n",
    "- A `for` loop is used for iterating over a sequence, such as a list or a tuple.\n",
    "- Syntax:\n",
    "```python\n",
    "for i in sequence:\n",
    "    <statement>\n",
    "```\n",
    "- **Indentation matters**\n",
    "- Note that a string is an ordered collection of characters, and we can thus iterate over strings\n",
    "- Built-in functions useful for iterations:\n",
    "|Function|Description|\n",
    "|:-------|:----------|\n",
    "|`enumerate(seq)` | Provides both the index and the associated item/value of sequence `seq`|\n",
    "|`zip(seq_1,seq_2)` | Pair in tuples the items of sequences `seq_1` and `seq_2` |\n",
    "|`reversed(seq)`|Reverse the order of `seq` |"
   ]
  },
  {
   "cell_type": "markdown",
   "id": "20e21b49-b8a3-4426-a9ca-9b811dc95d2f",
   "metadata": {},
   "source": [
    "### While loop\n",
    "\n",
    "- A `while` loop allows iteration until a conditional expression evaluates `False`. \n",
    "- Syntax:\n",
    "```python\n",
    "k = 0                           # Initialize sequence index\n",
    "while condition(k):             # Condition that depends on k\n",
    "    statement                   # Statement evaluation if condition is true\n",
    "    k+= 1                       # Update k for next iteration\n",
    "```\n",
    "- **Be cautious not to be struck in an infinite loop**, if the condition is always `True`:\n",
    "    - Check your condition with a few values beforehand to make sure it can return `False`\n",
    "    - Check that your incrementation is working as expected outside of the loop\n",
    "    - If unsure, add a second condition, one that will for sure returns `False` after a given number of iterations (e.g., a constraint on the maximum number of iteration)"
   ]
  },
  {
   "cell_type": "markdown",
   "id": "9458c02c-f302-40e5-b6eb-66c7f2772c19",
   "metadata": {},
   "source": [
    "### Break, continue, else\n",
    "\n",
    "- The `break` statement can stop a `for` or `while` loop before it has looped through all the items.\n",
    "- The `continue` statement can stop the current iteration of the loop, and continue with the next.\n",
    "- The `else` keyword specifies a block of code to be executed when the loop is finished."
   ]
  },
  {
   "cell_type": "markdown",
   "id": "a35d20aa-b852-4d7c-b626-dd58fc449195",
   "metadata": {},
   "source": [
    "## List Comprehension <a name=\"comprehension\"></a>\n",
    "\n",
    "- List comprehension offers a shorter and more efficient syntax when you want to create a new list based on the values of an existing list\n",
    "- Instead of using a loop, you can use `for` and `if` statements inside a list:\n",
    "\n",
    "```python\n",
    "newlist =[expression_to_put_in_list for item in iterable if condition == True]\n",
    "```"
   ]
  },
  {
   "cell_type": "markdown",
   "id": "5e77bc84-9f07-4f09-818f-d4aeef92c5e9",
   "metadata": {
    "tags": []
   },
   "source": [
    "## Function <a name=\"function\"></a>\n",
    "\n",
    "- A function takes in arguments, performs some operation based on the identities of the arguments, and then returns a result\n",
    "- Syntax:\n",
    "    - A function is **defined** using the `def` keyword\n",
    "    - Following the `def` keyword is a **function signature** which indicates the function's name and its arguments. The arguments are separated by commas and enclosed in parentheses\n",
    "        - `arg_2` is a *named keyword argument*, also known as a *named kwarg*. If `arg_2` is not specified when the function is called, then the default value will be used\n",
    "        - The unpacking operator `*` allows to define functions with an arbitrary number of arguments\n",
    "        - The operator `**` alows to define functions with *arbitrary keyword arguments* (*kwargs*), e.g., dictionaries\n",
    "    - The indentation following the `def` line specifies what is part of the function. As soon as the indentation goes to the left again, aligned with `def`, the contents of the functions are complete\n",
    "    - Immediately following the function definition is the **doc string** (short for documentation string), a brief description of the function. You can return the doc string using `help(function_name)`\n",
    "    - `return` specifies what the function will return when called\n",
    "```python\n",
    "def function_name(arg_1, arg_2 = default_value, *args, **kwargs):\n",
    "    \"\"\"Decription\"\"\"\n",
    "    <operations>\n",
    "    return <statement>\n",
    "```\n",
    "- A function that calls itself is said to be **recursive**, and the technique of employing a recursive function is called **recursion**.\n",
    "- The Python programming language has several built-in functions. The complete set of **built-in functions** can be found [here](https://docs.python.org/3/library/functions.html)\n",
    "- <span style=\"color: red; font-weight: bold;\"> Never define a function or a variable with the same name as a built-in function. </span>\n",
    "- **Always test your functions!**"
   ]
  }
 ],
 "metadata": {
  "kernelspec": {
   "display_name": "Python 3 (ipykernel)",
   "language": "python",
   "name": "python3"
  },
  "language_info": {
   "codemirror_mode": {
    "name": "ipython",
    "version": 3
   },
   "file_extension": ".py",
   "mimetype": "text/x-python",
   "name": "python",
   "nbconvert_exporter": "python",
   "pygments_lexer": "ipython3",
   "version": "3.11.3"
  },
  "toc-showmarkdowntxt": false
 },
 "nbformat": 4,
 "nbformat_minor": 5
}
