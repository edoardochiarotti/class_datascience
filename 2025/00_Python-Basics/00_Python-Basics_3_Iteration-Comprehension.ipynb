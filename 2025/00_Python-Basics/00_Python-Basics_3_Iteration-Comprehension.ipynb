{
 "cells": [
  {
   "cell_type": "markdown",
   "id": "e5a6782e-5211-4979-934a-f4da03f307a5",
   "metadata": {},
   "source": [
    "<a href=\"https://colab.research.google.com/github/edoardochiarotti/class_datascience/blob/main/2024/00_Python-Basics/00_Python-Basics_3_Iteration-Comprehension.ipynb\" target=\"_blank\" rel=\"noopener\"><img src=\"https://colab.research.google.com/assets/colab-badge.svg\" alt=\"Open In Colab\"/></a>"
   ]
  },
  {
   "cell_type": "markdown",
   "id": "f9e5cfd8-c238-43ff-b537-ca5faae20742",
   "metadata": {},
   "source": [
    "# Python Basics: iteration"
   ]
  },
  {
   "cell_type": "markdown",
   "id": "0e161ad9-2a49-4d87-bb8f-ad8ea431807a",
   "metadata": {},
   "source": [
    "<img src='https://www.agent-x.com.au/wp-content/uploads/2011/06/Perfect-Programmer-dfe194b-e8d3b11-b960bd5.jpg' width=\"400\">\n",
    "\n",
    "Source: [Agent-X Comics - Perfect Programming](https://www.agent-x.com.au/comic/perfect-programming/)"
   ]
  },
  {
   "cell_type": "markdown",
   "id": "75df24c7-2f28-47df-bfb4-2a2f115f8e85",
   "metadata": {},
   "source": [
    "## Contents\n",
    "\n",
    "In our previous notebook, we have manipulated collection of elements, i.e., lists, tuples, and dictionaries. We have often performed operations on single elements of our object, e.g., adding a new key to our dictionary or replacing a value. What if we want to repeat the same operations? One way would be to repeat the same lines of code over and over again... That is very inefficient, for example imagine you have a list containing one thousand elements and you want to perform the same operation on each of them, that would be one thoudand lines of code! Fortunately, there is a better way, called *iteration*!\n",
    "\n",
    "- [Iteration](#Iteration)\n",
    "  - [For loop](#for-loop)\n",
    "      - [Iterate over dictionary](#dico-iterate)\n",
    "  - [While loop](#while-loop)\n",
    "  - [Break, continue, else](#break-continue-else)\n",
    "- [Comprehensions](#Comprehensions)"
   ]
  },
  {
   "cell_type": "markdown",
   "id": "1b80b739-a2ee-4ca6-b0d2-a5ee1bb55cc8",
   "metadata": {},
   "source": [
    "## Iteration <a name=\"Iteration\"></a>"
   ]
  },
  {
   "cell_type": "markdown",
   "id": "7e8b36c3-92c7-4c53-bfe9-afb66a8b5175",
   "metadata": {},
   "source": [
    "### For loop <a name=\"for-loop\"></a>"
   ]
  },
  {
   "cell_type": "markdown",
   "id": "10888f49-4994-48c4-b920-3fea3a1dc537",
   "metadata": {},
   "source": [
    "A `for` loop is used for iterating over a sequence, such as a list or a tuple.\n",
    "\n",
    "Let's start with a simple example. We will print all the elements of a list:"
   ]
  },
  {
   "cell_type": "code",
   "execution_count": 1,
   "id": "83ab0af2-b585-4e3b-bf82-50ff3be2373c",
   "metadata": {},
   "outputs": [
    {
     "name": "stdout",
     "output_type": "stream",
     "text": [
      "Jura\n",
      "Neuchâtel\n",
      "Vaud\n",
      "Genève\n",
      "Berne\n",
      "Fribourg\n",
      "Valais\n"
     ]
    }
   ],
   "source": [
    "canton_romand = ['Jura', 'Neuchâtel', 'Vaud', 'Genève', 'Berne', 'Fribourg', 'Valais']\n",
    "\n",
    "for c in canton_romand:\n",
    "    print(c)"
   ]
  },
  {
   "cell_type": "markdown",
   "id": "743c2067-6efd-49b0-94d0-850276f7b3a4",
   "metadata": {},
   "source": [
    "We printed a list of the Romandy cantons. \n",
    "\n",
    "Let's review what we did. For every item in our list `canton_romand`, we printed this item (canton). More generally, a `for` loop will do something for every item `in` a sequence. \n",
    "\n",
    "Note that a `str` is also sequence: just like a list or tuple, a string is an ordered collection of characters. Thus, we can use a `for` loop on a string:"
   ]
  },
  {
   "cell_type": "code",
   "execution_count": 2,
   "id": "f2ca03eb-e3f4-40b2-899e-c351caa49a89",
   "metadata": {},
   "outputs": [
    {
     "name": "stdout",
     "output_type": "stream",
     "text": [
      "c\n",
      "i\n",
      "r\n",
      "c\n",
      "u\n",
      "l\n",
      "a\n",
      "r\n",
      " \n",
      "e\n",
      "c\n",
      "o\n",
      "n\n",
      "o\n",
      "m\n",
      "y\n"
     ]
    }
   ],
   "source": [
    "for c in 'circular economy':\n",
    "    print(c)"
   ]
  },
  {
   "cell_type": "markdown",
   "id": "a3040f64-64f8-42d9-841b-1d9d9cf92073",
   "metadata": {},
   "source": [
    "Let's go back to our illustration on cooperation in social dilemma. Remember the condition for cooperation that we previously discovered: individuals cooperate if their social benefit weighted by their degree of morality is greater or equal than their individual cost weighted by their degree of selfishness. Suppose we have several individuals with various degrees of morality stored in a list. For each of them, we wish to know if they cooperate or not. Let's try!"
   ]
  },
  {
   "cell_type": "code",
   "execution_count": 3,
   "id": "e11f8694-bb30-4800-8924-9767d8820b3a",
   "metadata": {},
   "outputs": [
    {
     "name": "stdout",
     "output_type": "stream",
     "text": [
      "Individual 1 does not cooperate.\n",
      "Individual 2 does not cooperate.\n",
      "Individual 3 cooperates.\n",
      "Individual 4 cooperates.\n",
      "Individual 5 cooperates.\n",
      "Individual 6 cooperates.\n"
     ]
    }
   ],
   "source": [
    "cost = 1            # individual cost \n",
    "benefit = 3         # social benefit\n",
    "\n",
    "kappa_list = [0, 0.2, 0.3, 0.5, 0.7, 1]     # list of degrees of morality\n",
    "\n",
    "for i in range(len(kappa_list)):\n",
    "    if benefit*kappa_list[i] >= cost*(1-kappa_list[i]):\n",
    "        print('Individual '+str(i+1)+' cooperates.')\n",
    "    else:\n",
    "        print('Individual '+str(i+1)+' does not cooperate.')"
   ]
  },
  {
   "cell_type": "markdown",
   "id": "e8111ecc-6f95-4f17-95be-dc39c5e772d5",
   "metadata": {},
   "source": [
    "Wow, we start to do really cool stuffs! Ok, what actually happened? \n",
    "\n",
    "First, we used `len(kappa_list)` to know the length of our list `kappa_list` :"
   ]
  },
  {
   "cell_type": "code",
   "execution_count": 4,
   "id": "2ea9a8d7-e6d1-4a6c-bcfd-9845f6a91a24",
   "metadata": {},
   "outputs": [
    {
     "data": {
      "text/plain": [
       "6"
      ]
     },
     "execution_count": 4,
     "metadata": {},
     "output_type": "execute_result"
    }
   ],
   "source": [
    "len(kappa_list)"
   ]
  },
  {
   "cell_type": "markdown",
   "id": "8ba6a33f-462e-4e52-b491-5031495fe127",
   "metadata": {},
   "source": [
    "Then, we created a **range** with the `range()` function. This function gives an iterable that enables counting: "
   ]
  },
  {
   "cell_type": "code",
   "execution_count": 5,
   "id": "2db4728a-dd58-4934-961b-20566030842f",
   "metadata": {},
   "outputs": [
    {
     "name": "stdout",
     "output_type": "stream",
     "text": [
      "0  1  2  3  4  5  "
     ]
    }
   ],
   "source": [
    "for i in range(6):\n",
    "    print(i, end='  ')"
   ]
  },
  {
   "cell_type": "markdown",
   "id": "7304313b-fc6f-4c6b-afe0-6eaf107cfb02",
   "metadata": {},
   "source": [
    "We see that `range(6)` gives us six numbers, from `0` to `5`. As with indexing, `range()` inclusively starts at zero by default, and the ending is exclusive. It turns out that the arguments of the `range()` function work much like indexing. If you have a single argument, you get that many integers, starting at 0 and incrementing by one. If you give two arguments, you start inclusively at the first and increment by one ending exclusively at the second argument. Finally, you can specify a stride with the third argument.\n",
    "\n",
    "Going back to our loop. We iterated over our range, and we mixed a `for` loop with a `if` statement. For every element of our range (`0`, `1`, `2`, `3`, `4`, `5`), we assessed whether the condition `benefit*kappa_list[i] >= cost*(1-kappa_list[i])` was `True`. As we have seen before, `kappa_list[i]` extracts the element of the list `kappa_list` located at index `i`. Because we combined `range` and `len`, we iterate over all the elements of the lists, checking our condition for each degree of morality.\n",
    "\n",
    "Finally, when the condition is `True`, we `print()` the string `'Individual '+str(i+1)+' cooperates.'`. This string joins three strings: `'Individual '`, `str(i+1)` where we converted our `int` variable `i+1` into a string using the `str()` function, and `' cooperates.'`. Similarly, when the condition is `False`, we printed `'Individual '+str(i+1)+' does not cooperate.'`.\n",
    "\n",
    "Neat!\n",
    "\n",
    "Well, technically, there was an even better way to obtain the same result, using the `enumerate()` function. This function gives an iterator that provides both the index and the item of a sequence. Again, this is best demonstrated in practice:"
   ]
  },
  {
   "cell_type": "code",
   "execution_count": 6,
   "id": "cdf9f065-667f-439e-a644-6bb9cd154261",
   "metadata": {},
   "outputs": [
    {
     "name": "stdout",
     "output_type": "stream",
     "text": [
      "Individual 1 does not cooperate.\n",
      "Individual 2 does not cooperate.\n",
      "Individual 3 cooperates.\n",
      "Individual 4 cooperates.\n",
      "Individual 5 cooperates.\n",
      "Individual 6 cooperates.\n"
     ]
    }
   ],
   "source": [
    "cost = 1            # individual cost \n",
    "benefit = 3         # social benefit\n",
    "\n",
    "kappa_list = [0, 0.2, 0.3, 0.5, 0.7, 1]     # list of degrees of morality\n",
    "\n",
    "for i, kappa in enumerate(kappa_list):\n",
    "    if benefit*kappa >= cost*(1-kappa):\n",
    "        print('Individual '+str(i+1)+' cooperates.')\n",
    "    else:\n",
    "        print('Individual '+str(i+1)+' does not cooperate.')"
   ]
  },
  {
   "cell_type": "markdown",
   "id": "afb6eb06-f98e-41f7-b925-8d61775617a7",
   "metadata": {},
   "source": [
    "The `enumerate()` function allowed us to use an index and a degree of morality `kappa` at the same time. Let's visualize this by printing the index and degree of morality for each individual:"
   ]
  },
  {
   "cell_type": "code",
   "execution_count": 7,
   "id": "0e349752-0b95-41d3-937a-e0d3aab0b930",
   "metadata": {},
   "outputs": [
    {
     "name": "stdout",
     "output_type": "stream",
     "text": [
      "0 0\n",
      "1 0.2\n",
      "2 0.3\n",
      "3 0.5\n",
      "4 0.7\n",
      "5 1\n"
     ]
    }
   ],
   "source": [
    "for i, kappa in enumerate(kappa_list):\n",
    "    print(i, kappa)"
   ]
  },
  {
   "cell_type": "markdown",
   "id": "5b805ecb-66df-48b9-a3b0-eaa7067bd616",
   "metadata": {},
   "source": [
    "The `enumerate()` function is really useful and should be used in favor of just doing indexing. It is indeed more generic: the `range(len())` construct will break on an object without support for `len()`. \n",
    "\n",
    "Note that you can use the underscore, `_`, as a throwaway variable when you do not use it. There is no rule for this, but this is generally accepted Python syntax and helps signal that you are not going to use the variable."
   ]
  },
  {
   "cell_type": "markdown",
   "id": "4ab738d4-1087-4150-8aa0-6ae909513108",
   "metadata": {},
   "source": [
    "Here are a two other useful iterators functions. First, the `zip()` function enables us to iterate over several iterables at once. In the example below we iterate over the jersey numbers and names of ice hockey players playing for the Detroit Red Wings (What do you mean you do not know them??)"
   ]
  },
  {
   "cell_type": "code",
   "execution_count": 8,
   "id": "f23e2452-dd50-4636-bf56-90a0014baab6",
   "metadata": {},
   "outputs": [
    {
     "name": "stdout",
     "output_type": "stream",
     "text": [
      "23 Raymond\n",
      "53 Seider\n",
      "71 Larkin\n"
     ]
    }
   ],
   "source": [
    "names = ('Raymond', 'Seider', 'Larkin')\n",
    "numbers = (23, 53, 71)\n",
    "\n",
    "for num, name in zip(numbers, names):\n",
    "    print(num, name)"
   ]
  },
  {
   "cell_type": "markdown",
   "id": "7870789c-be48-4aa1-a581-0cadf34830e8",
   "metadata": {},
   "source": [
    "Second, the `reversed()` function  is useful for giving an iterator that goes in the reverse direction. Imagine we are the NASA counting down:"
   ]
  },
  {
   "cell_type": "code",
   "execution_count": 9,
   "id": "a43a3d40-10fe-4cb9-90b2-b8d95556b967",
   "metadata": {},
   "outputs": [
    {
     "name": "stdout",
     "output_type": "stream",
     "text": [
      "10\n",
      "9\n",
      "8\n",
      "7\n",
      "6\n",
      "5\n",
      "4\n",
      "3\n",
      "2\n",
      "1\n",
      "ignition\n"
     ]
    }
   ],
   "source": [
    "count_up = ('ignition', 1, 2, 3, 4, 5, 6, 7, 8 ,9, 10)\n",
    "\n",
    "for count in reversed(count_up):\n",
    "    print(count)"
   ]
  },
  {
   "cell_type": "markdown",
   "id": "cbe57d03-60e8-41aa-a953-f4a4d1bb24dd",
   "metadata": {},
   "source": [
    "#### Iterate over dictionary <a name=\"dico-iterate\"></a>\n",
    "\n",
    "Using `items()` is the best way to **iterate over a dictionary**:"
   ]
  },
  {
   "cell_type": "code",
   "execution_count": 10,
   "id": "6f581ddc-d60d-44a6-97be-927435d638c1",
   "metadata": {},
   "outputs": [
    {
     "name": "stdout",
     "output_type": "stream",
     "text": [
      "Florence : 0.3\n",
      "Jordane : 0.2\n",
      "Julia : 0.5\n",
      "Ale : 0.4\n"
     ]
    }
   ],
   "source": [
    "dictionary_morality = {'Florence': 0.3, 'Jordane': 0.2, 'Julia': 0.5, 'Ale':0.4}\n",
    "\n",
    "for key, value in dictionary_morality.items():\n",
    "    print(key, ':', value)"
   ]
  },
  {
   "cell_type": "markdown",
   "id": "399d2035-56b0-4f92-8a49-51a31f006124",
   "metadata": {},
   "source": [
    "Note that when using `item()` to iterate over values, you actually iterate over copies of them. This implies that if you make changes within the `for`loop, you will not change the entries in the dictionary: "
   ]
  },
  {
   "cell_type": "code",
   "execution_count": 11,
   "id": "9edb99ca-9cb4-431b-af04-f4ef7cfbfb55",
   "metadata": {},
   "outputs": [
    {
     "data": {
      "text/plain": [
       "{'Florence': 0.3, 'Jordane': 0.2, 'Julia': 0.5, 'Ale': 0.4}"
      ]
     },
     "execution_count": 11,
     "metadata": {},
     "output_type": "execute_result"
    }
   ],
   "source": [
    "for key, value in dictionary_morality.items():\n",
    "    value = 'this string will not be in dictionary.'\n",
    "\n",
    "dictionary_morality"
   ]
  },
  {
   "cell_type": "markdown",
   "id": "db9ce344-f066-4e96-a30e-890450964c96",
   "metadata": {},
   "source": [
    "You will, however, if you use the keys:"
   ]
  },
  {
   "cell_type": "code",
   "execution_count": 12,
   "id": "cc312ca2-586a-41f0-8b73-6570d4b44010",
   "metadata": {},
   "outputs": [
    {
     "name": "stdout",
     "output_type": "stream",
     "text": [
      "{'Florence': 0.3, 'Jordane': 0.2, 'Julia': 0.5, 'Ale': 0.4}\n",
      "{'Florence': 'this string will be in dictionary.', 'Jordane': 'this string will be in dictionary.', 'Julia': 'this string will be in dictionary.', 'Ale': 'this string will be in dictionary.'}\n"
     ]
    }
   ],
   "source": [
    "d = dictionary_morality.copy()          # creates copy of our dictionary (to avoid losing our data...)\n",
    "\n",
    "for key, _ in d.items():\n",
    "    d[key] = 'this string will be in dictionary.'\n",
    "\n",
    "print(dictionary_morality)\n",
    "print(d)"
   ]
  },
  {
   "cell_type": "markdown",
   "id": "20e21b49-b8a3-4426-a9ca-9b811dc95d2f",
   "metadata": {},
   "source": [
    "### While loop <a name=\"while-loop\"></a>"
   ]
  },
  {
   "cell_type": "markdown",
   "id": "7b450ba8-c161-42cc-8be4-9c1ad7eff5c4",
   "metadata": {},
   "source": [
    "A `while` loop allows iteration until a conditional expression evaluates `False`. \n",
    "\n",
    "Let's go back to our example on cooperation in a social dilemma, seen in our first \"Python-Basics\" notebook. Suppose we would like to find the threshold degree of morality allowing cooperation. We can use a `while` loop:"
   ]
  },
  {
   "cell_type": "code",
   "execution_count": 13,
   "id": "c65a4a9a-7cef-49a5-9a68-890e81218a11",
   "metadata": {},
   "outputs": [
    {
     "name": "stdout",
     "output_type": "stream",
     "text": [
      "0.25000000000000006\n"
     ]
    }
   ],
   "source": [
    "cost = 1            # individual cost \n",
    "benefit = 3         # social benefit\n",
    "\n",
    "# Initialize sequence index\n",
    "k = 0               # degree of morality\n",
    "\n",
    "# condition for not cooperating: \n",
    "# social benefit times k is stricly lower than individual cost times (1-k)\n",
    "while benefit*k < cost*(1-k):\n",
    "    k+=0.01\n",
    "\n",
    "print(k)"
   ]
  },
  {
   "cell_type": "markdown",
   "id": "489f08b5-980c-4364-b9a6-f333d217074f",
   "metadata": {},
   "source": [
    "Thus, in this illustration, all individuals with a degree of morality greater than 0.25 will cooperate. \n",
    "\n",
    "Let's take a minute to understand what is happening in a `while` loop. The value of `k` is changing with each iteration, being incremented by `0.01`. Each time we consider doing another iteration, the condition is checked: is the social benefit weighted by the degree of morality strictly lower than the individual cost weighted by the degree of selfishness? If yes, i.e., the condition is evaluated to `True`, then the iteration continues. In other words, iteration continues in a `while` loop until the condition returns `False`.\n",
    "\n",
    "<img src='https://www.freecodecamp.org/news/content/images/size/w1000/2020/11/image-24.png' width=\"600\">\n",
    "\n",
    "Image : Estefania Cassingena Navone - [Python While Loop Tutorial](https://www.freecodecamp.org/news/python-while-loop-tutorial/)\n",
    "\n",
    "We have to be extra cautious when using `while` loop. If the condition is always `True`, then the condition can never returns `False`. We are thus stuck in an **infinite loop** and the code runs forever! If this happen, you can interrupt the kernel to stop the endless calculation. \n",
    "\n",
    "Better, do not be stuck in infinite loop! For example, you can first check the condition with a few values before writing the while loop to make sure it can returns `False`. Also check that your incrementation is working as expected outside of the loop. You can add a second condition, one that will for sure returns `False` after a given number of iterations. For instance:\n",
    "\n",
    "```python\n",
    "cost = 1            # individual cost \n",
    "benefit = 3         # social benefit\n",
    "\n",
    "# Initialize sequence index\n",
    "k = 0               # degree of morality\n",
    "i = 0               # iteration\n",
    "max_it = 1000       # maximum number of iteration\n",
    "\n",
    "# condition for cooperation: \n",
    "# social benefit times k is greater than individual cost times (1-k)\n",
    "while benefit*k < cost*(1-k) and i < max_it:\n",
    "    k+=0.01\n",
    "    i+=1\n",
    "```\n",
    "\n",
    "In the above code, `i` keeps track of the number of iteration and `max_it` defines a maximum number of iteration (1000). We added the condition `i < max_it`. This condition will for sure returns `False` if we reach 1000 iterations.\n",
    "\n",
    "Finally, another way to avoid infinite loop is to use the `break` statement that we will discover below.\n",
    "\n",
    "Now you may wonder, when to use `for` loop and when to use `while` loop? In most cases, you could use one or the other. Here is a general rule:\n",
    "- If you know how many times you have to do something (or if your program knows), use a `for` loop. \n",
    "- If you don't know how many times the loop needs to run until you run it, use a `while` loop. "
   ]
  },
  {
   "cell_type": "markdown",
   "id": "9458c02c-f302-40e5-b6eb-66c7f2772c19",
   "metadata": {},
   "source": [
    "### Break, continue, else <a name=\"break-continue-else\"></a>"
   ]
  },
  {
   "cell_type": "markdown",
   "id": "43e4b712-69f2-43f7-8b7c-21c71b2b4d93",
   "metadata": {},
   "source": [
    "The `break` statement can stop a `for` or `while` loop before it has looped through all the items. \n",
    "\n",
    "For example, going back to our example on Romandy cantons, imagine we wish to stop the loop once we have reached `'Vaud'`:"
   ]
  },
  {
   "cell_type": "code",
   "execution_count": 14,
   "id": "ce98a613-27b3-419e-bf5d-b40bc3c471c1",
   "metadata": {},
   "outputs": [
    {
     "name": "stdout",
     "output_type": "stream",
     "text": [
      "Jura\n",
      "Neuchâtel\n",
      "Vaud\n"
     ]
    }
   ],
   "source": [
    "canton_romand = ['Jura', 'Neuchâtel', 'Vaud', 'Genève', 'Berne', 'Fribourg', 'Valais']\n",
    "\n",
    "for c in canton_romand:\n",
    "    print(c)\n",
    "    if c == 'Vaud':\n",
    "        break"
   ]
  },
  {
   "cell_type": "markdown",
   "id": "cb6c0ed7-dd2a-4b32-be3c-bb6d93c1ed81",
   "metadata": {},
   "source": [
    "The `continue` statement can stop the current iteration of the loop, and continue with the next.\n",
    "\n",
    "For example, let's print all the cantons except `'Vaud'`:"
   ]
  },
  {
   "cell_type": "code",
   "execution_count": 15,
   "id": "55f8e489-9219-42d0-b9cc-5df70a48ab32",
   "metadata": {},
   "outputs": [
    {
     "name": "stdout",
     "output_type": "stream",
     "text": [
      "Jura\n",
      "Neuchâtel\n",
      "Genève\n",
      "Berne\n",
      "Fribourg\n",
      "Valais\n"
     ]
    }
   ],
   "source": [
    "canton_romand = ['Jura', 'Neuchâtel', 'Vaud', 'Genève', 'Berne', 'Fribourg', 'Valais']\n",
    "\n",
    "for c in canton_romand:\n",
    "    if c == 'Vaud':\n",
    "        continue\n",
    "    print(c)"
   ]
  },
  {
   "cell_type": "markdown",
   "id": "025a80a4-35ac-4d34-bcc7-0c7bb7987ff9",
   "metadata": {},
   "source": [
    "The `else` keyword specifies a block of code to be executed when the loop is finished."
   ]
  },
  {
   "cell_type": "code",
   "execution_count": 16,
   "id": "499b1854-c8c0-4d0d-b3de-b7612e41fbdd",
   "metadata": {},
   "outputs": [
    {
     "name": "stdout",
     "output_type": "stream",
     "text": [
      "Jura\n",
      "Neuchâtel\n",
      "Vaud\n",
      "Genève\n",
      "Berne\n",
      "Fribourg\n",
      "Valais\n",
      "In Romandy cantons, French is an official language. Unfortunately, Python is not.\n"
     ]
    }
   ],
   "source": [
    "canton_romand = ['Jura', 'Neuchâtel', 'Vaud', 'Genève', 'Berne', 'Fribourg', 'Valais']\n",
    "\n",
    "for c in canton_romand:\n",
    "    print(c)\n",
    "else:\n",
    "    print('In Romandy cantons, French is an official language. Unfortunately, Python is not.')"
   ]
  },
  {
   "cell_type": "markdown",
   "id": "b5105417-5084-4d4d-8c1f-0615a7403590",
   "metadata": {},
   "source": [
    "Note that the `else` block will NOT be executed if the loop is stopped by a `break` statement:"
   ]
  },
  {
   "cell_type": "code",
   "execution_count": 17,
   "id": "16431b9f-cbdb-4c27-bd7f-b312aaf3c2d8",
   "metadata": {},
   "outputs": [
    {
     "name": "stdout",
     "output_type": "stream",
     "text": [
      "Jura\n",
      "Neuchâtel\n",
      "Vaud\n"
     ]
    }
   ],
   "source": [
    "canton_romand = ['Jura', 'Neuchâtel', 'Vaud', 'Genève', 'Berne', 'Fribourg', 'Valais']\n",
    "\n",
    "for c in canton_romand:\n",
    "    print(c)\n",
    "    if c == 'Vaud':\n",
    "        break\n",
    "else:\n",
    "    print('In Romandy cantons, French is an official language. Unfortunately, Python is not.')"
   ]
  },
  {
   "cell_type": "markdown",
   "id": "93458888-f6a8-4cbb-87fc-095223f9a9a6",
   "metadata": {},
   "source": [
    "Alright, now it is your turn! In the notebook \"Practice-with-Python\", you can practice for and while loop. In exercises 5 and 6, you will study the influence of financial incentives on cooperation. Good luck!"
   ]
  },
  {
   "cell_type": "markdown",
   "id": "9bd5ed09-1447-4ba2-a9e2-9bae70242f60",
   "metadata": {},
   "source": [
    "## Comprehensions <a name=\"Comprehensions\"></a>"
   ]
  },
  {
   "cell_type": "markdown",
   "id": "7bca4f48-f6e8-4398-b6ba-161e6e902106",
   "metadata": {},
   "source": [
    "<img src='https://i.imgflip.com/8mk1op.jpg' width=\"450\">"
   ]
  },
  {
   "cell_type": "markdown",
   "id": "5891ea02-4ec1-4fbf-b502-41c10f96c614",
   "metadata": {},
   "source": [
    "We have previously built lists and tuples, and dictionaries by constructing them directly. What if we want to create a new list based on the values of an existing list? As always, we will take a simple example. Suppose we already defined the list `[1,2,3]` and we would like the list `[3,6,9]`. Unfortunately, multiplying by three using the `*` operator would not do the trick. Remember that the `*` operator on lists actually replicates and concatenates a list. We could write a for loop:"
   ]
  },
  {
   "cell_type": "code",
   "execution_count": 18,
   "id": "876a7250-de5a-4b76-a751-1327c26b1c3b",
   "metadata": {},
   "outputs": [
    {
     "data": {
      "text/plain": [
       "[3, 6, 9]"
      ]
     },
     "execution_count": 18,
     "metadata": {},
     "output_type": "execute_result"
    }
   ],
   "source": [
    "my_lis = [1,2,3]\n",
    "new_lis = []\n",
    "\n",
    "for i in my_lis:\n",
    "    new_lis.append(3*i)\n",
    "    \n",
    "new_lis"
   ]
  },
  {
   "cell_type": "markdown",
   "id": "5afe833e-f80a-4a11-8a90-343d4bc100a5",
   "metadata": {},
   "source": [
    "Ok, it is working, but it feels quite a lot of coding for a very simple operation! Well, luckily for us, **comprehension** allows to do the same as above, but in one line of code:"
   ]
  },
  {
   "cell_type": "code",
   "execution_count": 19,
   "id": "0ccbb93c-1455-488d-9678-771228e43ec9",
   "metadata": {},
   "outputs": [
    {
     "data": {
      "text/plain": [
       "[3, 6, 9]"
      ]
     },
     "execution_count": 19,
     "metadata": {},
     "output_type": "execute_result"
    }
   ],
   "source": [
    "[3*i for i in [1,2,3]]"
   ]
  },
  {
   "cell_type": "markdown",
   "id": "5f09dd0e-6a06-49c5-a8d8-b7f56c3c4294",
   "metadata": {},
   "source": [
    "We can even add a conditional test inside. For example, say we only want the odd numbers:"
   ]
  },
  {
   "cell_type": "code",
   "execution_count": 20,
   "id": "f7568f31-3da4-48ea-aa24-895ad478c45c",
   "metadata": {},
   "outputs": [
    {
     "data": {
      "text/plain": [
       "[3, 9]"
      ]
     },
     "execution_count": 20,
     "metadata": {},
     "output_type": "execute_result"
    }
   ],
   "source": [
    "[3*i for i in [1,2,3] if 3*i %2 !=0]"
   ]
  },
  {
   "cell_type": "markdown",
   "id": "62a604d7-858d-43e5-b5cc-d6d06f38e840",
   "metadata": {},
   "source": [
    "More generally, the structure of list comprehension is: \n",
    "```python\n",
    "newlist =[expression_to_put_in_list for item in iterable if condition_1== True]\n",
    "```\n",
    "\n",
    "The condition acts as a filter that only selects the items that valuate to `True`.\n",
    "\n",
    "Ok, let's look at a more complex example, taken from the great course of Justin Bois [Introduction to Programming in the Biological Sciences Bootcamp](http://justinbois.github.io/bootcamp/2022_epfl/index.html). We want to build a list containing the information about the 2018 Nobel laureates. We have, in three separate arrays, their names, nationalities, and category for the prize."
   ]
  },
  {
   "cell_type": "code",
   "execution_count": 21,
   "id": "3c2abbdf-63f8-46a1-8818-37c310ae5533",
   "metadata": {},
   "outputs": [],
   "source": [
    "names = (\n",
    "    \"Frances Arnold\",\n",
    "    \"George Smith\",\n",
    "    \"Gregory Winter\",\n",
    "    \"postponed\",\n",
    "    \"Denis Mukwege\",\n",
    "    \"Nadia Murad\",\n",
    "    \"Arthur Ashkin\",\n",
    "    \"Gérard Mourou\",\n",
    "    \"Donna Strickland\",\n",
    "    \"James Allison\",\n",
    "    \"Tasuku Honjo\",\n",
    "    \"William Nordhaus\",\n",
    "    \"Paul Romer\",\n",
    ")\n",
    "\n",
    "nationalities = (\n",
    "    \"USA\",\n",
    "    \"USA\",\n",
    "    \"UK\",\n",
    "    \"---\",\n",
    "    \"DRC\",\n",
    "    \"Iraq\",\n",
    "    \"USA\",\n",
    "    \"France\",\n",
    "    \"Canada\",\n",
    "    \"USA\",\n",
    "    \"Japan\",\n",
    "    \"USA\",\n",
    "    \"USA\",\n",
    ")\n",
    "\n",
    "categories = (\n",
    "    \"Chemistry\",\n",
    "    \"Chemistry\",\n",
    "    \"Chemistry\",\n",
    "    \"Literature\",\n",
    "    \"Peace\",\n",
    "    \"Peace\",\n",
    "    \"Physics\",\n",
    "    \"Physics\",\n",
    "    \"Physics\",\n",
    "    \"Physiology or Medicine\",\n",
    "    \"Physiology or Medicine\",\n",
    "    \"Economics\",\n",
    "    \"Economics\",\n",
    ")"
   ]
  },
  {
   "cell_type": "markdown",
   "id": "f87405e4-e2bd-40df-8357-8e1ce806995c",
   "metadata": {},
   "source": [
    "Remember the `zip()` function: it allows to iterate over several iterables at the same time:"
   ]
  },
  {
   "cell_type": "code",
   "execution_count": 22,
   "id": "84bb737a-e411-4e3e-83e4-c57477f6ce04",
   "metadata": {},
   "outputs": [
    {
     "data": {
      "text/plain": [
       "[('Chemistry', 'Frances Arnold', 'USA'),\n",
       " ('Chemistry', 'George Smith', 'USA'),\n",
       " ('Chemistry', 'Gregory Winter', 'UK'),\n",
       " ('Literature', 'postponed', '---'),\n",
       " ('Peace', 'Denis Mukwege', 'DRC'),\n",
       " ('Peace', 'Nadia Murad', 'Iraq'),\n",
       " ('Physics', 'Arthur Ashkin', 'USA'),\n",
       " ('Physics', 'Gérard Mourou', 'France'),\n",
       " ('Physics', 'Donna Strickland', 'Canada'),\n",
       " ('Physiology or Medicine', 'James Allison', 'USA'),\n",
       " ('Physiology or Medicine', 'Tasuku Honjo', 'Japan'),\n",
       " ('Economics', 'William Nordhaus', 'USA'),\n",
       " ('Economics', 'Paul Romer', 'USA')]"
      ]
     },
     "execution_count": 22,
     "metadata": {},
     "output_type": "execute_result"
    }
   ],
   "source": [
    "[(cat, name, nat) for name, nat, cat in zip(names, nationalities, categories)]"
   ]
  },
  {
   "cell_type": "markdown",
   "id": "426cab31-9df3-4f3f-a354-9fedc3da9f3d",
   "metadata": {},
   "source": [
    "What if we are only interested in Economics winners? We can add an `if` statement:"
   ]
  },
  {
   "cell_type": "code",
   "execution_count": 23,
   "id": "294e20da-7528-4f86-b16b-9e90e89d6ef4",
   "metadata": {},
   "outputs": [
    {
     "data": {
      "text/plain": [
       "[('Economics', 'William Nordhaus', 'USA'), ('Economics', 'Paul Romer', 'USA')]"
      ]
     },
     "execution_count": 23,
     "metadata": {},
     "output_type": "execute_result"
    }
   ],
   "source": [
    "[\n",
    "    (cat, name, nat)\n",
    "    for name, nat, cat in zip(names, nationalities, categories)\n",
    "    if cat == \"Economics\"\n",
    "]"
   ]
  },
  {
   "cell_type": "markdown",
   "id": "9d7575d7-be96-458d-84e3-c1974bf22986",
   "metadata": {},
   "source": [
    "Pretty cool, no? In case, [William Nordhaus](https://en.wikipedia.org/wiki/William_Nordhaus) received the prize for integrating climate change into macroeconomic models, being a pioneer in the design of [Integrated Assessment Models](https://en.wikipedia.org/wiki/Integrated_assessment_modelling). "
   ]
  }
 ],
 "metadata": {
  "kernelspec": {
   "display_name": "Python 3 (ipykernel)",
   "language": "python",
   "name": "python3"
  },
  "language_info": {
   "codemirror_mode": {
    "name": "ipython",
    "version": 3
   },
   "file_extension": ".py",
   "mimetype": "text/x-python",
   "name": "python",
   "nbconvert_exporter": "python",
   "pygments_lexer": "ipython3",
   "version": "3.11.3"
  },
  "toc-showmarkdowntxt": false
 },
 "nbformat": 4,
 "nbformat_minor": 5
}
