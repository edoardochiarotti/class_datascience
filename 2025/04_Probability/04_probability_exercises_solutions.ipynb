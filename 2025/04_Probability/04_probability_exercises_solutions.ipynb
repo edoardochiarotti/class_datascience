{
 "cells": [
  {
   "cell_type": "markdown",
   "id": "f331f3b2-fc36-46ed-96a8-66897b24749a",
   "metadata": {},
   "source": [
    "# Probability: Exercises with Solutions"
   ]
  },
  {
   "cell_type": "code",
   "execution_count": null,
   "id": "f0326aff",
   "metadata": {},
   "outputs": [],
   "source": [
    "# PACKAGES\n",
    "%matplotlib inline\n",
    "import numpy as np\n",
    "import scipy.stats as stats\n",
    "import matplotlib.pyplot as plt\n",
    "import seaborn as sns\n",
    "import random as rd\n",
    "import statistics as st\n",
    "import pandas as pd\n",
    "\n",
    "# SEABORN THEME\n",
    "scale = 0.4\n",
    "W = 16*scale\n",
    "H = 9*scale\n",
    "sns.set(rc = {'figure.figsize':(W,H)})\n",
    "sns.set_style(\"white\")"
   ]
  },
  {
   "cell_type": "markdown",
   "id": "db9db29f-29a3-4439-9c46-25618dc1fa86",
   "metadata": {},
   "source": [
    "Main References:\n",
    "- Resources' notebook [04_Probability.ipynb](https://github.com/edoardochiarotti/class_datascience/blob/main/2023/03_EDA-Visualization/Resources/03_EDA_Data-visualization.ipynb).\n",
    "- A great source to learn probability and Statistics with Python [is this website](https://ethanweed.github.io/pythonbook/landingpage.html) by Weed ands Navarro (translation of Navarro’s book [Learning Statistics with R](https://learningstatisticswithr.com/) in Python). For this Notebook, we borrow from Weed and Navarro's chapters on Statistical Theory. \n",
    "- For more theory in statistics and econometrics, we rely on\n",
    "    - J. Wooldridge, Econometric Analysis of Cross Section and Panel Data, MIT Press, 2002\n",
    "    - William H. Greene, Econometric Analysis, sixth edition, Pearson."
   ]
  },
  {
   "cell_type": "markdown",
   "id": "a7b958ce-d6a4-4ff3-80ff-66855cf271b4",
   "metadata": {},
   "source": [
    "# Content\n",
    "- [Probability: Exercises](#Probability:-Exercises)\n",
    "    - [Exercise 1: Generate data](#Exercise-1:-Generate-data)\n",
    "    - [Exercise 2: Density functions](#Exercise-2:-Density-functions)\n",
    "    - [Exercise 3: The one-sample z-test (unknown mean and known variance)](#Exercise-3:-The-one-sample-z-test-(unknown-mean-and-known-variance))\n",
    "    - [Exercise 4: The one-sample t-test (unknown mean and variance)](#Exercise-4:-The-one-sample-t-test-(unknown-mean-and-variance))"
   ]
  },
  {
   "cell_type": "markdown",
   "id": "17bdbbf4",
   "metadata": {},
   "source": [
    "## Exercise 1: Generate data\n",
    "- As done in in the resources' notebook, generate 100 observations of CO2 emissions per capita. This variable distributes like a Normal with mean 5 tonnes and variance 2  tonnes."
   ]
  },
  {
   "cell_type": "code",
   "execution_count": null,
   "id": "439b9e9b",
   "metadata": {},
   "outputs": [],
   "source": [
    "# Your code here ...\n",
    "\n",
    "# set seed\n",
    "np.random.seed(seed=12345)\n",
    "\n",
    "# set parameters\n",
    "beta = 5\n",
    "sigma = 2\n",
    "N = 100\n",
    "\n",
    "# generate observations\n",
    "draws_co2 = np.random.normal(loc = beta, scale = sigma, size=N)\n",
    "draws_co2"
   ]
  },
  {
   "cell_type": "markdown",
   "id": "1c790e33-1c97-4ec4-856b-1a9d8a8f06bb",
   "metadata": {},
   "source": [
    "## Exercise 2: Density functions"
   ]
  },
  {
   "cell_type": "markdown",
   "id": "558015d7",
   "metadata": {},
   "source": [
    "- Use a built-in function inside `stats.norm` to obtain the values of the density function (density values) for `draws_co2`, and comment what these values mean."
   ]
  },
  {
   "cell_type": "code",
   "execution_count": null,
   "id": "dd3f16b1",
   "metadata": {},
   "outputs": [],
   "source": [
    "# your code here ...\n",
    "# probability density function\n",
    "stats.norm.pdf(draws_co2, beta, sigma)"
   ]
  },
  {
   "cell_type": "markdown",
   "id": "0bac679a",
   "metadata": {},
   "source": [
    "Your answer here ..."
   ]
  },
  {
   "cell_type": "markdown",
   "id": "1cf2db52",
   "metadata": {},
   "source": [
    "- Use a built-in function inside `stats.norm` to obtain the values of the cumulative density function (cumulated probabilities) for `draws_co2`, and comment what these values mean."
   ]
  },
  {
   "cell_type": "code",
   "execution_count": null,
   "id": "a3052c35",
   "metadata": {},
   "outputs": [],
   "source": [
    "# your code here\n",
    "# cumulative density function\n",
    "stats.norm.cdf(draws_co2, beta, sigma)"
   ]
  },
  {
   "cell_type": "markdown",
   "id": "29237c60",
   "metadata": {},
   "source": [
    "Your answer here ..."
   ]
  },
  {
   "cell_type": "markdown",
   "id": "e5d47906",
   "metadata": {},
   "source": [
    "- Use a built-in function inside `stats.norm` to obtain the 95th quantile (or percentile) of the distribution of CO2 emissions per capita (conceptually, it's the inverse of the one above) and explain what is the 95th quantile / percentile."
   ]
  },
  {
   "cell_type": "code",
   "execution_count": null,
   "id": "6b6bbaac",
   "metadata": {},
   "outputs": [],
   "source": [
    "# your code here\n",
    "# Percent point function (percentiles)\n",
    "stats.norm.ppf(0.95, beta, sigma)"
   ]
  },
  {
   "cell_type": "markdown",
   "id": "6ed65842",
   "metadata": {},
   "source": [
    "Your answer here ..."
   ]
  },
  {
   "cell_type": "markdown",
   "id": "0e8b5f31",
   "metadata": {},
   "source": [
    "- Use a combination of the generated array of CO2 emissions per capita, the Cumulative Density Function, and the Percentage Point Function to re-obtain the array of CO2 emissions per capita (tip: the PPF is the inverse of the CDF)."
   ]
  },
  {
   "cell_type": "code",
   "execution_count": null,
   "id": "eb69ca16",
   "metadata": {},
   "outputs": [],
   "source": [
    "# your code here\n",
    "stats.norm.ppf(stats.norm.cdf(draws_co2, beta, sigma), beta, sigma)\n",
    "# np.testing.assert_array_almost_equal(stats.norm.ppf(stats.norm.cdf(draws_co2, beta, sigma), beta, sigma), draws_co2)"
   ]
  },
  {
   "cell_type": "markdown",
   "id": "08a72d8b",
   "metadata": {},
   "source": [
    "## Exercise 3: The one-sample z-test (unknown mean and known variance)"
   ]
  },
  {
   "cell_type": "markdown",
   "id": "b58af5eb",
   "metadata": {},
   "source": [
    "- In the resources' notebook we have run a one-sample z-test on the mean with known standard deviation $\\sigma=2$.\n",
    "- Specifically, we tested if, based on our result, the population mean equals 5 tonnes per capita ($H_0$) or if it's different than 5 tonnes per capita ($H_1$). We were not able to reject the null hypothesis that the population mean equals 5 tonnes per capita.\n",
    "- Here, use the code seen in the resources notebook to test if the population mean equals 0 tonnes per capita ($H_0$) or if it is different than 0 tonnes per capita.\n",
    "- First, compute the z-statistic and comment on whether you accept or reject the null hypothesis based on the z-statistic."
   ]
  },
  {
   "cell_type": "code",
   "execution_count": null,
   "id": "e75e16c2",
   "metadata": {},
   "outputs": [],
   "source": [
    "# your code here ...\n",
    "\n",
    "# set parameters\n",
    "beta_null = 5\n",
    "sd_true = 2\n",
    "\n",
    "# get sample mean and standard error\n",
    "beta_hat = st.mean(draws_co2)\n",
    "sem_true = sd_true / np.sqrt(N)\n",
    "\n",
    "# get z stat\n",
    "z = (beta_hat - beta_null) / sem_true\n",
    "z.round(4)"
   ]
  },
  {
   "cell_type": "markdown",
   "id": "f7fc6e66",
   "metadata": {},
   "source": [
    "Your answer here ..."
   ]
  },
  {
   "cell_type": "markdown",
   "id": "54135ea9",
   "metadata": {},
   "source": [
    "- Then, compute the p value and comment on whether you accept or reject the null hypothesis based on the p value."
   ]
  },
  {
   "cell_type": "code",
   "execution_count": null,
   "id": "2afc5176",
   "metadata": {},
   "outputs": [],
   "source": [
    "# your code here ...\n",
    "lower_area = st.NormalDist().cdf(-abs(z))\n",
    "upper_area = lower_area\n",
    "p = lower_area + upper_area\n",
    "round(p,6)"
   ]
  },
  {
   "cell_type": "markdown",
   "id": "9a0bd567",
   "metadata": {},
   "source": [
    "Your answer here: ..."
   ]
  },
  {
   "cell_type": "markdown",
   "id": "20a79d41",
   "metadata": {},
   "source": [
    "- Then, as explained in the resources notebook, write down the equation of the 95% confidence interval under $H_0$ with $\\beta_0=0$ tonnes per capita and known standard deviation $\\sigma=2$ tonnes per capita."
   ]
  },
  {
   "cell_type": "markdown",
   "id": "457fca19",
   "metadata": {},
   "source": [
    "Your anser here ...\n",
    "- Under $H_0$ with $\\beta_0=0$ and known standard deviation $\\sigma=2$:\n",
    "    <br><br>\n",
    "    $$\\hat{\\beta} - (1.96 \\times SEM) \\leq \\beta_0 \\leq \\hat{\\beta} + (1.96 \\times SEM)$$\n",
    "    <br>\n",
    "    $$\\Rightarrow \\hat{\\beta} - (1.96 \\times 2/\\sqrt{100}) \\leq 0 \\leq \\hat{\\beta} + (1.96 \\times 2/\\sqrt{100})$$\n",
    "    <br>"
   ]
  },
  {
   "cell_type": "markdown",
   "id": "b2a77851",
   "metadata": {},
   "source": [
    "- Finally, use python to compute this confidence interval and use it to either accept or reject the null hypothesis."
   ]
  },
  {
   "cell_type": "code",
   "execution_count": null,
   "id": "71749bad",
   "metadata": {},
   "outputs": [],
   "source": [
    "# your code here ...\n",
    "a = 1.96\n",
    "ci = (beta_hat-(a*sem_true), beta_hat+(a*sem_true))\n",
    "ci"
   ]
  },
  {
   "cell_type": "markdown",
   "id": "b14932fe",
   "metadata": {},
   "source": [
    "Your answer here ..."
   ]
  },
  {
   "cell_type": "markdown",
   "id": "0a155987",
   "metadata": {},
   "source": [
    "## Exercise 4: The one-sample t-test (unknown mean and variance)"
   ]
  },
  {
   "cell_type": "markdown",
   "id": "c9c46784",
   "metadata": {},
   "source": [
    "- If we do not know the variance, our test statistic will be as follows:\n",
    "$$z_{\\hat{\\beta}} = \\frac{\\hat{\\beta}-\\beta_0}{\\hat{\\sigma}/\\sqrt{N}}$$\n",
    "<br>\n",
    "- If this estimate has been constructed from $N$ observations, then the sampling distribution turns into a $t$-distribution with $N-1$ **_degrees of freedom_** (df). The $t$ distribution is very similar to the normal distribution, but has \"heavier\" tails.\n",
    "- Similarly to what has been shown in class for the one-sample z test, run a t test with the null hypothesis $\\beta = 5$. Specifically, compute the t statistic and comment on whether you accept or reject the null hypothesis."
   ]
  },
  {
   "cell_type": "code",
   "execution_count": null,
   "id": "44795585",
   "metadata": {},
   "outputs": [],
   "source": [
    "# your code here ...\n",
    "\n",
    "# set parameters\n",
    "sd_true = 2\n",
    "beta_null = 5\n",
    "degrees_freedom = N-1\n",
    "\n",
    "# get sample mean, sample variance and standard error\n",
    "beta_hat = st.mean(draws_co2)\n",
    "devs = (draws_co2 - beta_hat)\n",
    "devs2 = np.square(devs)\n",
    "sigma2_hat = np.sum(devs2)/degrees_freedom\n",
    "sigma_hat = np.sqrt(sigma2_hat)\n",
    "sem_hat = sigma_hat / np.sqrt(N)\n",
    "\n",
    "# get t stat\n",
    "t = (beta_hat - beta_null) / sem_hat\n",
    "t.round(4)"
   ]
  },
  {
   "cell_type": "markdown",
   "id": "ce7e12e7",
   "metadata": {},
   "source": [
    "Your answer here ..."
   ]
  },
  {
   "cell_type": "markdown",
   "id": "1abd6b20",
   "metadata": {},
   "source": [
    "- Use this test statistic to obtain the p value and comment on whether you accept or reject the null hypothesis based on the p value."
   ]
  },
  {
   "cell_type": "code",
   "execution_count": null,
   "id": "55eab919",
   "metadata": {},
   "outputs": [],
   "source": [
    "# your code here ...\n",
    "\n",
    "lower_area = stats.t.cdf(-abs(t), df = degrees_freedom)\n",
    "upper_area = lower_area\n",
    "p = lower_area + upper_area\n",
    "p.round(4)"
   ]
  },
  {
   "cell_type": "markdown",
   "id": "7638fe37",
   "metadata": {},
   "source": [
    "Your answer here ..."
   ]
  },
  {
   "cell_type": "markdown",
   "id": "37a08ce0",
   "metadata": {},
   "source": [
    "- Use a built-in function in `scipy.stats` to check that you computed correctly t stat and p value."
   ]
  },
  {
   "cell_type": "code",
   "execution_count": null,
   "id": "c2af741a",
   "metadata": {},
   "outputs": [],
   "source": [
    "# your code here ...\n",
    "t, p = stats.ttest_1samp(a = draws_co2, popmean = beta_null)\n",
    "t.round(4), p.round(4)"
   ]
  },
  {
   "cell_type": "markdown",
   "id": "66596dcf",
   "metadata": {},
   "source": [
    "- Now, use a built-in function inside `stats.t` to get the the critical values for the areas with cumulative probability $0.025$ and $0.975$ of your t-student distribution."
   ]
  },
  {
   "cell_type": "code",
   "execution_count": null,
   "id": "afb522be",
   "metadata": {},
   "outputs": [],
   "source": [
    "# your code here ...\n",
    "stats.t.ppf(0.975, degrees_freedom)"
   ]
  },
  {
   "cell_type": "markdown",
   "id": "cc4efcd8",
   "metadata": {},
   "source": [
    "- Use these critical values and the estimate for the standard error to write down the equation of the 95% confidence interval under $H_0$ with $\\beta_0=0$ tonnes per capita and unknown standard deviation."
   ]
  },
  {
   "cell_type": "markdown",
   "id": "c8dee80c",
   "metadata": {},
   "source": [
    "Your anser here ...\n",
    "- Under $H_0$ with $\\beta_0=0$ and unknown standard deviation:\n",
    "    <br><br>\n",
    "    $$\\hat{\\beta} - (1.98 \\times SEM) \\leq \\beta_0 \\leq \\hat{\\beta} + (1.98 \\times SEM)$$\n",
    "    <br>\n",
    "    $$\\Rightarrow \\hat{\\beta} - (1.98 \\times 2.08/\\sqrt{100}) \\leq 0 \\leq \\hat{\\beta} + (1.98 \\times 2.08/\\sqrt{100})$$\n",
    "    <br>"
   ]
  },
  {
   "cell_type": "markdown",
   "id": "fa4d39d2",
   "metadata": {},
   "source": [
    "- Compute this confidence interval via python and use it to either accept or reject the null hypothesis."
   ]
  },
  {
   "cell_type": "code",
   "execution_count": null,
   "id": "1111a834",
   "metadata": {},
   "outputs": [],
   "source": [
    "# your code here ...\n",
    "\n",
    "alpha = 0.05\n",
    "alpha_inv = (1.0-alpha)\n",
    "q1 = (1+alpha_inv)/2\n",
    "a = stats.t.ppf(q1, degrees_freedom)\n",
    "ci = (beta_hat-(a*sem_hat), beta_hat+(a*sem_hat))\n",
    "ci"
   ]
  },
  {
   "cell_type": "markdown",
   "id": "4f0c5608",
   "metadata": {},
   "source": [
    "- Use a built-in function in `scipy.stats` to check that you computed correctly the confidence interval."
   ]
  },
  {
   "cell_type": "code",
   "execution_count": null,
   "id": "ef0b6ab0",
   "metadata": {},
   "outputs": [],
   "source": [
    "# your code here ...\n",
    "\n",
    "stats.t.interval(alpha_inv, degrees_freedom, beta_hat, sem_hat)"
   ]
  },
  {
   "cell_type": "code",
   "execution_count": null,
   "id": "4aa72aef",
   "metadata": {},
   "outputs": [],
   "source": []
  }
 ],
 "metadata": {
  "kernelspec": {
   "display_name": "Python 3 (ipykernel)",
   "language": "python",
   "name": "python3"
  },
  "language_info": {
   "codemirror_mode": {
    "name": "ipython",
    "version": 3
   },
   "file_extension": ".py",
   "mimetype": "text/x-python",
   "name": "python",
   "nbconvert_exporter": "python",
   "pygments_lexer": "ipython3",
   "version": "3.9.13"
  }
 },
 "nbformat": 4,
 "nbformat_minor": 5
}
