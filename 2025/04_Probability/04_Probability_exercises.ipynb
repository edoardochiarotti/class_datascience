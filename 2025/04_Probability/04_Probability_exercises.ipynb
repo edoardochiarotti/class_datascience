{
 "cells": [
  {
   "cell_type": "markdown",
   "id": "4995b9a2",
   "metadata": {},
   "source": [
    "<a href=\"https://colab.research.google.com/github/edoardochiarotti/class_datascience/blob/main/2024/04_Probability/04_Probability_exercises.ipynb\" target=\"_blank\" rel=\"noopener\"><img src=\"https://colab.research.google.com/assets/colab-badge.svg\" alt=\"Open In Colab\"/></a>"
   ]
  },
  {
   "cell_type": "markdown",
   "id": "f331f3b2-fc36-46ed-96a8-66897b24749a",
   "metadata": {},
   "source": [
    "# Probability: Exercises"
   ]
  },
  {
   "cell_type": "code",
   "execution_count": 1,
   "id": "f0326aff",
   "metadata": {},
   "outputs": [],
   "source": [
    "# PACKAGES\n",
    "%matplotlib inline\n",
    "import numpy as np\n",
    "import scipy.stats as stats\n",
    "import matplotlib.pyplot as plt\n",
    "import seaborn as sns\n",
    "import random as rd\n",
    "import statistics as st\n",
    "import pandas as pd\n",
    "\n",
    "# SEABORN THEME\n",
    "scale = 0.4\n",
    "W = 16*scale\n",
    "H = 9*scale\n",
    "sns.set(rc = {'figure.figsize':(W,H)})\n",
    "sns.set_style(\"white\")"
   ]
  },
  {
   "cell_type": "markdown",
   "id": "db9db29f-29a3-4439-9c46-25618dc1fa86",
   "metadata": {},
   "source": [
    "Main References:\n",
    "- Resources' notebook [04_Probability.ipynb](https://github.com/edoardochiarotti/class_datascience/blob/main/2023/03_EDA-Visualization/Resources/03_EDA_Data-visualization.ipynb).\n",
    "- A great source to learn probability and Statistics with Python [is this website](https://ethanweed.github.io/pythonbook/landingpage.html) by Weed and Navarro (translation of Navarro’s book [Learning Statistics with R](https://learningstatisticswithr.com/) in Python). For this Notebook, we borrow from Weed and Navarro's chapters on Statistical Theory. \n",
    "- For more theory in statistics and econometrics, we rely on\n",
    "    - J. Wooldridge, Econometric Analysis of Cross Section and Panel Data, MIT Press, 2002\n",
    "    - William H. Greene, Econometric Analysis, sixth edition, Pearson."
   ]
  },
  {
   "cell_type": "markdown",
   "id": "a7b958ce-d6a4-4ff3-80ff-66855cf271b4",
   "metadata": {},
   "source": [
    "# Content\n",
    "- [Probability: Exercises](#Probability:-Exercises)\n",
    "    - [Exercise 1: Generate data](#Exercise-1:-Generate-data)\n",
    "    - [Exercise 2: Density functions](#Exercise-2:-Density-functions)\n",
    "    - [Exercise 3: The one-sample z-test (unknown mean and known variance)](#Exercise-3:-The-one-sample-z-test-(unknown-mean-and-known-variance))\n",
    "    - [Exercise 4: The one-sample t-test (unknown mean and variance)](#Exercise-4:-The-one-sample-t-test-(unknown-mean-and-variance))"
   ]
  },
  {
   "cell_type": "markdown",
   "id": "d0db93eb",
   "metadata": {},
   "source": [
    "## Exercise 1: Generate data <a name=\"Exercise-1:-Generate-data\"></a>\n",
    "- As done in in the resources' notebook, generate 100 observations of CO2 emissions per capita. This variable distributes like a Normal with mean 5 tonnes and variance 2  tonnes."
   ]
  },
  {
   "cell_type": "code",
   "execution_count": null,
   "id": "0764b27c",
   "metadata": {},
   "outputs": [],
   "source": [
    "# Your code here ..."
   ]
  },
  {
   "cell_type": "markdown",
   "id": "1c790e33-1c97-4ec4-856b-1a9d8a8f06bb",
   "metadata": {},
   "source": [
    "## Exercise 2: Density functions <a name=\"Exercise-2:-Density-functions\"></a>"
   ]
  },
  {
   "cell_type": "markdown",
   "id": "09d71d82",
   "metadata": {},
   "source": [
    "- Use a built-in function inside `stats.norm` to obtain the values of the density function (density values) for `draws_co2`, and comment what these values mean."
   ]
  },
  {
   "cell_type": "code",
   "execution_count": null,
   "id": "86044523",
   "metadata": {},
   "outputs": [],
   "source": [
    "# your code here ..."
   ]
  },
  {
   "cell_type": "markdown",
   "id": "cd63ffd9",
   "metadata": {},
   "source": [
    "Your answer here ..."
   ]
  },
  {
   "cell_type": "markdown",
   "id": "80825178",
   "metadata": {},
   "source": [
    "- Use a built-in function inside `stats.norm` to obtain the values of the cumulative density function (cumulated probabilities) for `draws_co2`, and comment what these values mean."
   ]
  },
  {
   "cell_type": "code",
   "execution_count": null,
   "id": "c33d602b",
   "metadata": {},
   "outputs": [],
   "source": [
    "# your code here"
   ]
  },
  {
   "cell_type": "markdown",
   "id": "51eae916",
   "metadata": {},
   "source": [
    "Your answer here ..."
   ]
  },
  {
   "cell_type": "markdown",
   "id": "db7abde6",
   "metadata": {},
   "source": [
    "- Use a built-in function inside `stats.norm` to obtain the 95th quantile (or percentile) of the distribution of CO2 emissions per capita (conceptually, it's the inverse of the one above) and explain what is the 95th quantile / percentile."
   ]
  },
  {
   "cell_type": "code",
   "execution_count": null,
   "id": "50466574",
   "metadata": {},
   "outputs": [],
   "source": [
    "# your code here"
   ]
  },
  {
   "cell_type": "markdown",
   "id": "0f11157d",
   "metadata": {},
   "source": [
    "Your answer here ..."
   ]
  },
  {
   "cell_type": "markdown",
   "id": "4c82463a",
   "metadata": {},
   "source": [
    "- Use a combination of the generated array of CO2 emissions per capita, the Cumulative Density Function, and the Percentage Point Function to re-obtain the array of CO2 emissions per capita (tip: the PPF is the inverse of the CDF)."
   ]
  },
  {
   "cell_type": "code",
   "execution_count": null,
   "id": "953bc20e",
   "metadata": {},
   "outputs": [],
   "source": [
    "# your code here ..."
   ]
  },
  {
   "cell_type": "markdown",
   "id": "c1986693",
   "metadata": {},
   "source": [
    "## Exercise 3: The one-sample z-test (unknown mean and known variance) <a name=\"Exercise-3:-The-one-sample-z-test-(unknown-mean-and-known-variance)\"></a>"
   ]
  },
  {
   "cell_type": "markdown",
   "id": "353d493c",
   "metadata": {},
   "source": [
    "- In the resources' notebook we have run a one-sample z-test on the mean with known standard deviation $\\sigma=2$.\n",
    "- Specifically, we tested if, based on our result, the population mean equals 5 tonnes per capita ($H_0$) or if it's different than 5 tonnes per capita ($H_1$). We were not able to reject the null hypothesis that the population mean equals 5 tonnes per capita.\n",
    "- Here, use the code seen in the resources notebook to test if the population mean equals 0 tonnes per capita ($H_0$) or if it is different than 0 tonnes per capita.\n",
    "- First, compute the z-statistic and comment on whether you accept or reject the null hypothesis based on the z-statistic."
   ]
  },
  {
   "cell_type": "code",
   "execution_count": null,
   "id": "6054c9cb",
   "metadata": {},
   "outputs": [],
   "source": [
    "# your code here ..."
   ]
  },
  {
   "cell_type": "markdown",
   "id": "cc8acd42",
   "metadata": {},
   "source": [
    "Your answer here ..."
   ]
  },
  {
   "cell_type": "markdown",
   "id": "2694f3ca",
   "metadata": {},
   "source": [
    "- Then, compute the p value and comment on whether you accept or reject the null hypothesis based on the p value."
   ]
  },
  {
   "cell_type": "code",
   "execution_count": null,
   "id": "de7b568c",
   "metadata": {},
   "outputs": [],
   "source": [
    "# your code here ..."
   ]
  },
  {
   "cell_type": "markdown",
   "id": "8ef88e18",
   "metadata": {},
   "source": [
    "Your answer here: ..."
   ]
  },
  {
   "cell_type": "markdown",
   "id": "80f11151",
   "metadata": {},
   "source": [
    "- Then, as explained in the resources notebook, write down the equation of the 95% confidence interval under $H_0$ with $\\beta_0=0$ tonnes per capita and known standard deviation $\\sigma=2$ tonnes per capita."
   ]
  },
  {
   "cell_type": "markdown",
   "id": "6f73657a",
   "metadata": {},
   "source": [
    "Your anser here ..."
   ]
  },
  {
   "cell_type": "markdown",
   "id": "ab1c4bef",
   "metadata": {},
   "source": [
    "- Finally, use python to compute this confidence interval and use it to either accept or reject the null hypothesis."
   ]
  },
  {
   "cell_type": "code",
   "execution_count": null,
   "id": "a3715dce",
   "metadata": {},
   "outputs": [],
   "source": [
    "# your code here ..."
   ]
  },
  {
   "cell_type": "markdown",
   "id": "d3762a42",
   "metadata": {},
   "source": [
    "Your answer here ..."
   ]
  },
  {
   "cell_type": "markdown",
   "id": "e997a296",
   "metadata": {},
   "source": [
    "## Exercise 4: The one-sample t-test (unknown mean and variance) <a name=\"Exercise-4:-The-one-sample-t-test-(unknown-mean-and-variance)\"></a>"
   ]
  },
  {
   "cell_type": "markdown",
   "id": "c9c46784",
   "metadata": {},
   "source": [
    "- If we do not know the variance, our test statistic will be as follows:\n",
    "$$z_{\\hat{\\beta}} = \\frac{\\hat{\\beta}-\\beta_0}{\\hat{\\sigma}/\\sqrt{N}}$$\n",
    "<br>\n",
    "- If this estimate has been constructed from $N$ observations, then the sampling distribution turns into a $t$-distribution with $N-1$ **_degrees of freedom_** (df). The $t$ distribution is very similar to the normal distribution, but has \"heavier\" tails.\n",
    "- Similarly to what has been shown in class for the one-sample z test, run a t test with the null hypothesis $\\beta = 5$. Specifically, compute the t statistic and comment on whether you accept or reject the null hypothesis."
   ]
  },
  {
   "cell_type": "code",
   "execution_count": null,
   "id": "44795585",
   "metadata": {},
   "outputs": [],
   "source": [
    "# your code here ..."
   ]
  },
  {
   "cell_type": "markdown",
   "id": "9de573c7",
   "metadata": {},
   "source": [
    "Your answer here ..."
   ]
  },
  {
   "cell_type": "markdown",
   "id": "45c027b9",
   "metadata": {},
   "source": [
    "- Use this test statistic to obtain the p value and comment on whether you accept or reject the null hypothesis based on the p value."
   ]
  },
  {
   "cell_type": "code",
   "execution_count": null,
   "id": "55eab919",
   "metadata": {},
   "outputs": [],
   "source": [
    "# your code here ..."
   ]
  },
  {
   "cell_type": "markdown",
   "id": "eb2f2f19",
   "metadata": {},
   "source": [
    "Your answer here ..."
   ]
  },
  {
   "cell_type": "markdown",
   "id": "90b87994",
   "metadata": {},
   "source": [
    "- Use a built-in function in `scipy.stats` to check that you computed correctly t stat and p value."
   ]
  },
  {
   "cell_type": "code",
   "execution_count": null,
   "id": "c2af741a",
   "metadata": {},
   "outputs": [],
   "source": [
    "# your code here ..."
   ]
  },
  {
   "cell_type": "markdown",
   "id": "f1b66280",
   "metadata": {},
   "source": [
    "- Now, use a built-in function inside `stats.t` to get the the critical values for the areas with cumulative probability $0.025$ and $0.975$ of your t-student distribution."
   ]
  },
  {
   "cell_type": "code",
   "execution_count": null,
   "id": "684f4f4f",
   "metadata": {},
   "outputs": [],
   "source": [
    "# your code here ..."
   ]
  },
  {
   "cell_type": "markdown",
   "id": "2ed5b627",
   "metadata": {},
   "source": [
    "- Use these critical values and the estimate for the standard error to write down the equation of the 95% confidence interval under $H_0$ with $\\beta_0=0$ tonnes per capita and unknown standard deviation."
   ]
  },
  {
   "cell_type": "markdown",
   "id": "8091a587",
   "metadata": {},
   "source": [
    "Your anser here ..."
   ]
  },
  {
   "cell_type": "markdown",
   "id": "600b5a11",
   "metadata": {},
   "source": [
    "- Compute this confidence interval via python and use it to either accept or reject the null hypothesis."
   ]
  },
  {
   "cell_type": "code",
   "execution_count": null,
   "id": "76ebdebd",
   "metadata": {},
   "outputs": [],
   "source": [
    "# your code here ..."
   ]
  },
  {
   "cell_type": "markdown",
   "id": "ee8a8140",
   "metadata": {},
   "source": [
    "- Use a built-in function in `scipy.stats` to check that you computed correctly the confidence interval."
   ]
  },
  {
   "cell_type": "code",
   "execution_count": null,
   "id": "75bab105",
   "metadata": {},
   "outputs": [],
   "source": [
    "# your code here ..."
   ]
  }
 ],
 "metadata": {
  "kernelspec": {
   "display_name": "Python 3 (ipykernel)",
   "language": "python",
   "name": "python3"
  },
  "language_info": {
   "codemirror_mode": {
    "name": "ipython",
    "version": 3
   },
   "file_extension": ".py",
   "mimetype": "text/x-python",
   "name": "python",
   "nbconvert_exporter": "python",
   "pygments_lexer": "ipython3",
   "version": "3.9.13"
  }
 },
 "nbformat": 4,
 "nbformat_minor": 5
}
