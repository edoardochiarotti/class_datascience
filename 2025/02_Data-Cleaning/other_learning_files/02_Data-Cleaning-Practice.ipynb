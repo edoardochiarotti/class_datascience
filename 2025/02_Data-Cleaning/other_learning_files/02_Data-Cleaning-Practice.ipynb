{
 "cells": [
  {
   "cell_type": "markdown",
   "id": "d750564c-2798-46ec-8cca-470a228347fa",
   "metadata": {},
   "source": [
    "<a href=\"https://colab.research.google.com/github/edoardochiarotti/class_datascience/blob/main/2024/02_Data-Cleaning/02_Data-Cleaning-Practice.ipynb\" target=\"_blank\" rel=\"noopener\"><img src=\"https://colab.research.google.com/assets/colab-badge.svg\" alt=\"Open In Colab\"/></a>"
   ]
  },
  {
   "cell_type": "code",
   "execution_count": null,
   "id": "e436a3dc-f906-401b-b2e5-c1d74c380867",
   "metadata": {
    "tags": []
   },
   "outputs": [],
   "source": [
    "# PACKAGES\n",
    "import numpy as np\n",
    "import pandas as pd\n",
    "import os\n",
    "import re\n",
    "import plotly.express as px"
   ]
  },
  {
   "cell_type": "markdown",
   "id": "342dcda5-9c6a-423e-862d-0e88571288a0",
   "metadata": {},
   "source": [
    "# Data Cleaning: Practice with Pandas\n",
    "\n",
    "<img src='https://miro.medium.com/v2/resize:fit:720/format:webp/1*noQ6RX4O_IAGmPOyUbEr9Q.jpeg' width=\"500\">\n",
    "\n",
    "Source: [Data Profiling — Having that First Date with your Data](https://medium.com/codex/data-profiling-having-that-first-date-with-your-data-2e05de50fca7), \n",
    "Kirk Borne"
   ]
  },
  {
   "cell_type": "markdown",
   "id": "777ec85b-d981-475e-bdcf-ed21cb172975",
   "metadata": {
    "tags": []
   },
   "source": [
    "## Content\n",
    "\n",
    ">  Data Scientists spend 80% of their time on data collecting and data cleaning operations. \n",
    ">\n",
    "> The remaining 20% , they complain about cleaning data! \n",
    "\n",
    "Start your complaining journey with this notebook! You will explore two datasets, namely Polity5 and Quality of Government (QOG) Environmental Indicators Dataset, which could be useful for your projects. \n",
    "\n",
    "You will use Pandas (derived from \"panel data\"), the go-to package for data analysis and manipulation. Its primary object, the `DataFrame` is extremely useful in wrangling data. You can read more about Pandas in the [documentation](https://pandas.pydata.org/docs/index.html), and should read the notebook \"02_Data-Cleaning-Panda-Introduction\" before starting this walkthrough. Since Pandas is one of the most used package, you can also find a ton of material online, answering any questions you might have. As always, there is no need to reinvent the wheel, and you should rely on the years of experience and knowledge of programmers who already faced similar issues you might encounter. \n",
    "\n",
    "**As good practice, we imported `pandas` and other packages at the top of this notebook, do not forget to run the top cell to import the necessary packages!**\n",
    "\n",
    "\n",
    "- [Polity5](#polity5)  \n",
    "    - [Discover Polity5](#discover-polity5)\n",
    "    - [Select some variables](#select-polity5)\n",
    "    - [Dealing with Missing Values](#missing-value-polity5)\n",
    "    - [Removing duplicates](#removing-polity5)\n",
    "    - [Exploring Polity2](#exploring-polity5)\n",
    "- [Quality of Government (QOG) Environmental Indicators Dataset](#qog)  \n",
    "    - [Discover QOG](#import-qog)\n",
    "    - [Merge QOG and Polity5](#merge-qog)\n",
    "    - [Further practise [optional]](#practising-qog)\n",
    "- [Other dataset to explore](#data)\n"
   ]
  },
  {
   "cell_type": "markdown",
   "id": "95fb4496-5968-4b65-b811-37a5e81a156d",
   "metadata": {
    "tags": []
   },
   "source": [
    "## Polity5 <a name=\"polity5\"></a>\n",
    "\n",
    "<img src='https://www.thinkpragati.com/wp-content/uploads/2017/03/democracy-comic.png' width=\"600\">\n",
    "\n",
    "Source: [Amit Varma](https://www.thinkpragati.com/think/brainstorm/802/democracy-vs-republic/attachment/democracy-comic/)\n"
   ]
  },
  {
   "cell_type": "markdown",
   "id": "3205535f-c0b6-4047-b924-6c5ba953a011",
   "metadata": {},
   "source": [
    "Polity5 is a widely used democracy scale. The raw data as well as the codebook are available [here](http://www.systemicpeace.org/inscrdata.html). \n",
    "\n",
    "For this walkthough, we have modified a bit the original version, for example adding iso3 code for countries. You can find the modified version [here](https://raw.githubusercontent.com/edoardochiarotti/class_datascience/main/2023/02_Data-Cleaning/data/polity2_iso3.csv)."
   ]
  },
  {
   "cell_type": "markdown",
   "id": "97c958c5-4f28-45ad-91ca-3ad1bdbac0f3",
   "metadata": {},
   "source": [
    "### Discover Polity5 <a name=\"discover-polity5\"></a>"
   ]
  },
  {
   "cell_type": "markdown",
   "id": "ba014697-8476-4f26-8d6b-d77966c1d71c",
   "metadata": {},
   "source": [
    "- Import the csv 'polity2_iso3.csv' (file provided in the link [here](https://raw.githubusercontent.com/thurmboris/Data-Science_4_Sustainability/main/data/polity2_iso3.csv)) as a panda dataframe (ignore the warning message)"
   ]
  },
  {
   "cell_type": "code",
   "execution_count": null,
   "id": "40d3984f-68c3-4e56-a8e8-b54c7ee2c04d",
   "metadata": {
    "tags": []
   },
   "outputs": [],
   "source": [
    "# Your code here...\n"
   ]
  },
  {
   "cell_type": "markdown",
   "id": "0dcbd8a7-3438-417a-9bcc-dc5ddeeda37a",
   "metadata": {},
   "source": [
    "- Display the first 10 rows to start exploring our dataset"
   ]
  },
  {
   "cell_type": "code",
   "execution_count": null,
   "id": "3cffea8a-6fc0-431f-9f5a-a82e1b2fc69f",
   "metadata": {
    "tags": []
   },
   "outputs": [],
   "source": [
    "# Your code here...\n"
   ]
  },
  {
   "cell_type": "markdown",
   "id": "969cc62d-fd05-4a59-a550-05e1df2fe5d7",
   "metadata": {},
   "source": [
    "- Display the data types of all the variables included in the data."
   ]
  },
  {
   "cell_type": "code",
   "execution_count": null,
   "id": "d659b830-879d-4d8e-beff-cef7255e4b2c",
   "metadata": {
    "tags": []
   },
   "outputs": [],
   "source": [
    "# Your code here...\n"
   ]
  },
  {
   "cell_type": "markdown",
   "id": "983ab0c1-df2e-4519-b87d-923081a936c1",
   "metadata": {},
   "source": [
    "Notice that Pandas is using different names for data types. Here is a description:\n",
    "\n",
    "|Pandas type|Native Python type|Description|\n",
    "|:-------|:-------|:----------|\n",
    "|`object` | `string` | The most general dtype. Will be assigned to your column if column has mixed types (numbers and strings). |\n",
    "|`int64` | `int` | Numeric characters. 64 refers to the memory allocated to hold this character. |\n",
    "|`float64` | `float` | Numeric characters with decimals. If a column contains numbers and NaNs (see below), pandas will default to float64, in case your missing value has a decimal.|\n",
    "\n",
    "When you need to convert one column to another type, one option is to rely on `astype`([Documentation](http://pandas.pydata.org/pandas-docs/stable/reference/api/pandas.Series.astype.html))."
   ]
  },
  {
   "cell_type": "markdown",
   "id": "55283e62-5c93-42e0-b579-7edea96b76dd",
   "metadata": {},
   "source": [
    "### Select some variables <a name=\"select-polity5\"></a>\n",
    "\n",
    "In the following, we will work with one of the variable included in the dataset, namely \"polity2\". \n",
    "\n",
    "- In the [user manual of Polity5](https://www.systemicpeace.org/inscrdata.html), go and read section 2 *Indicators of Democracy and Autocracy (Composite Indices)* to better understand our variable. What do the values in \"polity2\" represent?"
   ]
  },
  {
   "cell_type": "markdown",
   "id": "634f9c03-599d-4f31-8b5e-d2c7e9562294",
   "metadata": {},
   "source": [
    "- Using `loc` ([Documentation](https://pandas.pydata.org/docs/reference/api/pandas.DataFrame.loc.html)), create a subset dataframe that contains the variables 'iso3', 'country', 'year', 'polity2' and display it. How many observations (i.e., rows) do we have?"
   ]
  },
  {
   "cell_type": "code",
   "execution_count": null,
   "id": "42938620-59d3-4fd3-86e9-b83859fb22d1",
   "metadata": {
    "tags": []
   },
   "outputs": [],
   "source": [
    "# Your code here...\n"
   ]
  },
  {
   "cell_type": "markdown",
   "id": "7e1dee5e-bdaf-4b7e-9314-eeec8efad1bc",
   "metadata": {},
   "source": [
    "### Dealing with Missing Values <a name=\"missing-value-polity5\"></a>\n",
    "\n",
    "Ok, now that we have selected our first ingredients, we need to start cleaning our dataset.\n",
    "\n",
    "One of the first step is to identify and deal with missing values, `NaN`. `NaN` stands for **Not a Number**, and it can be interpreted as a value that is undefined or unrepresentable. When you import csv data, the following values will be interpreted as `NaN`: ‘’, ‘#N/A’, ‘#N/A N/A’, ‘#NA’, ‘-1.#IND’, ‘-1.#QNAN’, ‘-NaN’, ‘-nan’, ‘1.#IND’, ‘1.#QNAN’, ‘<NA>’, ‘N/A’, ‘NA’, ‘NULL’, ‘NaN’, ‘n/a’, ‘nan’, ‘null’. \n",
    "    \n",
    "The `isna()` method ([Documentation](https://pandas.pydata.org/docs/reference/api/pandas.DataFrame.isna.html)) allows to detect `NaN`. It returns a dataframe of the same size that indicates if a value is a `NaN` with `True`, or not with `False`."
   ]
  },
  {
   "cell_type": "markdown",
   "id": "f07ca2d0-784f-4d95-8693-60ebde88de9d",
   "metadata": {},
   "source": [
    "- How many missing values do we have for each variable?\n",
    "\n",
    "*Hints*: Remember that `True` is associated with the value `1` and `False` with the value `0`, so you can sum over a column of `True`/`False` to  count the number of `True` statement. You can sum over a dataframe column using the method `.sum()` ([Documentation](https://pandas.pydata.org/docs/reference/api/pandas.DataFrame.sum.html))."
   ]
  },
  {
   "cell_type": "code",
   "execution_count": null,
   "id": "335a77ea-e242-47bc-a3a0-aa84f024a4b9",
   "metadata": {
    "tags": []
   },
   "outputs": [],
   "source": [
    "# Your code here...\n"
   ]
  },
  {
   "cell_type": "markdown",
   "id": "e7aefd0b-0f50-4bcd-aa10-38c62d888618",
   "metadata": {},
   "source": [
    "What should we do with the missing missing values? There are several potential strategies:\n",
    "1. Delete the observations (rows) with missing values;\n",
    "2. Impute missing values based on our knowledge;\n",
    "3. Predict the missing values using, for instance, an algorithm. \n",
    "\n",
    "The strategy we decide to implement depends on the context! And **you should always justify and carefully document your assumptions.** "
   ]
  },
  {
   "cell_type": "markdown",
   "id": "73a9012d-6600-47b8-bfaa-2fce30447ebb",
   "metadata": {},
   "source": [
    "Ok let's try to gain further information on our missing values, starting with the variable \"iso3\".\n",
    "\n",
    "- Create a subset dataframe containing only the observations with missing \"iso3\" values. Note: you should use the `loc` method.\n",
    "- With the method `.sort_values()` ([Documentation](https://pandas.pydata.org/docs/reference/api/pandas.DataFrame.sort_values.html)), sort your subset dataframe by \"year\" and \"country\".\n",
    "- Display your subset dataframe. One option is to to print your dataframe as string, using the method `.to_string()` ([Documentation](https://pandas.pydata.org/docs/reference/api/pandas.DataFrame.to_string.html))"
   ]
  },
  {
   "cell_type": "code",
   "execution_count": null,
   "id": "c4d79e23-2ebf-4b8e-857b-2c0db20d5e95",
   "metadata": {
    "tags": []
   },
   "outputs": [],
   "source": [
    "# Your code here...\n"
   ]
  },
  {
   "cell_type": "markdown",
   "id": "8061d32a-89ae-4157-bee8-a46a99482a75",
   "metadata": {},
   "source": [
    "- What do you notice when looking at the list of countries? To make it easier, print the countries with missing \"iso3\". You can use the method `unique()` ([Documentation](https://pandas.pydata.org/docs/reference/api/pandas.unique.html)) to extract the unique values in a dataframe."
   ]
  },
  {
   "cell_type": "code",
   "execution_count": null,
   "id": "5055b7a5-82de-47d3-88b3-4fab1861663d",
   "metadata": {
    "tags": []
   },
   "outputs": [],
   "source": [
    "# Your code here...\n"
   ]
  },
  {
   "cell_type": "markdown",
   "id": "beed159b-5e8c-4542-a25b-5437c389fb03",
   "metadata": {},
   "source": [
    "It seems that some of these \"countries\" are states that ceased to exist, either because they split (e.g., Czechoslovakia, Yugoslavia) or merged (e.g., Bavaria, Saxony). However, some still exist today (e.g., Ethiopia). We are going to explore what is happening with these countries.\n",
    "\n",
    "The function `country_search` defines below will be useful. It takes as input a dataframe and a country name, and prints, independently of the casing, a dataframe with all the observations containing this country name: "
   ]
  },
  {
   "cell_type": "code",
   "execution_count": null,
   "id": "59dfcdca-29e3-4bef-996d-026499348ac2",
   "metadata": {
    "tags": []
   },
   "outputs": [],
   "source": [
    "def country_search(df, country):\n",
    "    df_out = df.loc[[bool(re.search(country, i, flags = re.IGNORECASE)) for i in df['country']],:]\n",
    "    df_out = df_out.sort_values(by=['year'])\n",
    "    print(df_out.to_string())"
   ]
  },
  {
   "cell_type": "markdown",
   "id": "0226a099-ae30-4c6f-a478-44a5e2655594",
   "metadata": {},
   "source": [
    "- Using the function `country_search` (do not forget to run the cell above), display the rows for which the column \"country\" contains the word \"Serbia\". By looking at the result, can you tell what happened to Serbia in 2006?"
   ]
  },
  {
   "cell_type": "code",
   "execution_count": null,
   "id": "e0a335d5-2b9e-48e9-951c-4bb07ef904ac",
   "metadata": {
    "tags": []
   },
   "outputs": [],
   "source": [
    "# Your code here...\n"
   ]
  },
  {
   "cell_type": "markdown",
   "id": "561e7171-6db4-412a-bc23-8d9d28ece33f",
   "metadata": {},
   "source": [
    "- Do the same for \"vietnam\""
   ]
  },
  {
   "cell_type": "code",
   "execution_count": null,
   "id": "8262a152-ee7f-4984-b675-bbbeca72b081",
   "metadata": {
    "tags": []
   },
   "outputs": [],
   "source": [
    "# Your code here...\n"
   ]
  },
  {
   "cell_type": "markdown",
   "id": "f57081e7-83d8-432e-9f7c-dfe6cb139c46",
   "metadata": {},
   "source": [
    "The countries with missing iso3 values from 2011 onwards still exist today and might be needed for our analysis. Hence, instead of just deleting the observations, we are going to replace the nan iso3 with proper values.\n",
    "\n",
    "- Create a list containing the (unique) countries with missing values from 2011 onwards "
   ]
  },
  {
   "cell_type": "code",
   "execution_count": null,
   "id": "4a074e0e-8027-4983-928f-1b60de95ec30",
   "metadata": {
    "tags": []
   },
   "outputs": [],
   "source": [
    "# Your code here...\n"
   ]
  },
  {
   "cell_type": "markdown",
   "id": "eff45295-9f03-44e1-b488-2888c206d277",
   "metadata": {},
   "source": [
    "The iso3 code of these countries are: Ethiopia: \"ETH\", Montenegro: \"MNE\", Serbia: \"SRB\", Sudan-North: \"SDN\" and Vietnam: \"VNM\"\n",
    "\n",
    "- For your \"polity2\" dataframe (dataframe obtained at the end of the previous section, , containing all the observations), replace `NaN` values in iso3 with correct iso3 for these 5 countries from 2011 onwards. Check that the substitution worked.\n",
    "\n",
    "*Hint*: You could use a for loop, and, for instance, the function `zip` ([Documentation](https://docs.python.org/3/library/functions.html#zip))"
   ]
  },
  {
   "cell_type": "code",
   "execution_count": null,
   "id": "1bb43864-64fc-4193-87a8-657891a0e5c9",
   "metadata": {
    "tags": []
   },
   "outputs": [],
   "source": [
    "# Your code here...\n"
   ]
  },
  {
   "cell_type": "markdown",
   "id": "638c3c69-0608-4916-ac05-6a2ee4cba906",
   "metadata": {},
   "source": [
    "- Drop the remaining rows which have `NaN` in \"iso3\" and display your new dataframe. How many obervations do we have?"
   ]
  },
  {
   "cell_type": "code",
   "execution_count": null,
   "id": "410e7e60-8390-4966-85c4-831855816982",
   "metadata": {
    "tags": []
   },
   "outputs": [],
   "source": [
    "# Your code here...\n"
   ]
  },
  {
   "cell_type": "markdown",
   "id": "936df216-30b6-43f1-9000-e0dc2d13b1f2",
   "metadata": {},
   "source": [
    "### Removing duplicates <a name=\"removing-polity5\"></a>\n",
    "\n",
    "Another common operation of data cleaning consists in removing duplicate obervarions. We should, for instance, only have one polity2 value for a given iso3 (country) and year. Let's check if we have duplicates rows. \n",
    "\n",
    "One option is to use the method `.duplicated()` ([Documentation](https://pandas.pydata.org/docs/reference/api/pandas.DataFrame.duplicated.html)), which returns `True` if the row has a duplicate and `False` otherwise.\n",
    "\n",
    "- Create a new dataframe extracting the duplicated rows from the dataframe previously obtained. To do so, you can create an intermediate Series of Boolean with `.duplicated()`, and you should use as options `subset=['iso3', 'year']` to identify rows with the same iso3-year values, and `keep=False` to keep all duplicates\n",
    "- Display your new dataframe"
   ]
  },
  {
   "cell_type": "code",
   "execution_count": null,
   "id": "de0246cb-ec54-4659-b616-cbbcbcfebeb8",
   "metadata": {
    "tags": []
   },
   "outputs": [],
   "source": [
    "# Your code here...\n"
   ]
  },
  {
   "cell_type": "markdown",
   "id": "11c72a87-b4dd-407b-aaba-38aa21337c3e",
   "metadata": {},
   "source": [
    "What should we do with these duplicates? It is worth looking at some obervations before and after the duplicates to get a better understanding.\n",
    "\n",
    "- Extract the rows with iso3 equal to \"MNE\" and \"SDN\" after 2000 from the \"polity2\" dataframe (dataframe obtained at the end of previous section, after removing rows with NaN values)"
   ]
  },
  {
   "cell_type": "code",
   "execution_count": null,
   "id": "8f36c6c5-a815-46c0-8c0a-d0ce1198cd07",
   "metadata": {
    "tags": []
   },
   "outputs": [],
   "source": [
    "# Your code here...\n"
   ]
  },
  {
   "cell_type": "markdown",
   "id": "a0f4baa3-82ea-4732-94f7-fe859a8fc137",
   "metadata": {},
   "source": [
    "South Sudan gained independence from Sudan in 2011. Hence, in our dataset, Sudan is called Sudan-North starting from 2011. We will drop the observation \"Sudan-2011\", and rename \"Sudan-North\" as \"Sudan\". Moreover, Kosovo does not have an official iso3 code and the state is only partially recognized. We could still make use of these observations, so we'll replace the Kosovo code with the unofficial \"XXK\".\n",
    "\n",
    "In our \"polity2\" dataframe (dataframe obtained at the end of previous section, after removing rows with NaN values):\n",
    "- Drop the observation with country \"Sudan\" and year 2011\n",
    "- Remame \"Sudan-North\" as \"Sudan\"\n",
    "- Replace the Kosovo iso3 code with \"XXK\"\n",
    "- Check that we do not have any duplicated rows left"
   ]
  },
  {
   "cell_type": "code",
   "execution_count": null,
   "id": "679dba3e-a64f-4c10-a42e-8846b5b6fd5c",
   "metadata": {
    "tags": []
   },
   "outputs": [],
   "source": [
    "# Your code here...\n"
   ]
  },
  {
   "cell_type": "markdown",
   "id": "23a8df57-c84c-474c-b5ca-126e62c28eb4",
   "metadata": {
    "tags": []
   },
   "source": [
    "### Exploring Polity2 <a name=\"exploring-polity5\"></a>\n",
    "\n",
    "We'll now explore a bit the Polity2 variable."
   ]
  },
  {
   "cell_type": "markdown",
   "id": "1ce9e5e6-086e-4175-bf05-7ae25f39bd2a",
   "metadata": {},
   "source": [
    "- Display the first and last year included in the dataset"
   ]
  },
  {
   "cell_type": "code",
   "execution_count": null,
   "id": "9137355e-c419-4050-a6b3-8889b2aeb2dc",
   "metadata": {
    "tags": []
   },
   "outputs": [],
   "source": [
    "# Your code here...\n"
   ]
  },
  {
   "cell_type": "markdown",
   "id": "a60709ed-50fb-4b16-b0ef-edbc49e90599",
   "metadata": {},
   "source": [
    "As mentioned in the documentation, Polity is a scale from -10 (complete autocracy) to 10 (\"perfect\" democracy). The index is computed as DEMOC-AUTOC, with DEMOC being a democracy score and AUTOC a autocracy score. More precisely each (DEMOC/AUTOC) is computed as sum of grades evaluating: \"Competitiveness of Executive Recruitment\", \"Openness of Executive Recruitment\", \"Constraints on Chief Executive\", \"Regulation of participation\", \"Competitiveness of Participation\".\n",
    "\n",
    "- Print a sorted list of the (unique) \"polity2\" values"
   ]
  },
  {
   "cell_type": "code",
   "execution_count": null,
   "id": "61c1941e-909a-4ab5-bfd6-f6c707f219da",
   "metadata": {
    "tags": []
   },
   "outputs": [],
   "source": [
    "# Your code here...\n"
   ]
  },
  {
   "cell_type": "markdown",
   "id": "57aa468b-7678-40b7-8032-19cd1e36b130",
   "metadata": {},
   "source": [
    "As you can see, there are values that are not between -10 and 10. As per the user manual: -66 and -88 corresponds respectively to \"interuption\" and \"transition\". What do you think we should do with these values?\n",
    "1. One option would be to replace these values with NaN, since they are missing. \n",
    "2. Another would be to check if we could replace these values with others, more meaningful ones. For example, we could check the countries/years where these values appear, and if the indicator is stable the years before and after the interuption, then replace -66/-88 with the value taken from the years before/after. In such case, we would need to carefully justify our assumptions!\n",
    "\n",
    "In this walkthrough, we'll go with option 1.\n",
    "\n",
    "- Replace with values -66 and -88 with NaN. Hint, you can use `np.nan`. Check that your replacement worked. "
   ]
  },
  {
   "cell_type": "code",
   "execution_count": null,
   "id": "0c0febf7-e3f5-4f31-a400-c105e6524d5f",
   "metadata": {
    "tags": []
   },
   "outputs": [],
   "source": [
    "# Your code here...\n"
   ]
  },
  {
   "cell_type": "markdown",
   "id": "93f8882c-290a-4971-8dc0-8828def76205",
   "metadata": {},
   "source": [
    "Finally, as a teaser for next week, let's do a map of the number of observations per countries. You can simply run the code below. It groups the observation by iso3 code, and then create a map using the [plotly express module](https://plotly.com/python/plotly-express/)."
   ]
  },
  {
   "cell_type": "code",
   "execution_count": null,
   "id": "2bb37c06-36b4-442a-bbf2-abc77a43bd28",
   "metadata": {
    "tags": []
   },
   "outputs": [],
   "source": [
    "# !!! Replace df_pol2 with your dataframe name !!!\n",
    "\n",
    "df_map = df_pol2.groupby(['iso3']).size().reset_index(name='counts')\n",
    "fig = px.choropleth(df_map, locations='iso3',\n",
    "                    locationmode='ISO-3',\n",
    "                    color='counts', \n",
    "                    hover_name='iso3',\n",
    "                    title = 'Number of polity2 observations per country',\n",
    "                    color_continuous_scale=px.colors.sequential.Plasma)\n",
    "fig.show()"
   ]
  },
  {
   "cell_type": "markdown",
   "id": "893678b3-725d-4c67-9753-78b9168d26e1",
   "metadata": {
    "tags": []
   },
   "source": [
    "## Quality of Government Environmental Indicators <a name=\"qog\"></a>\n",
    "\n",
    "<img src='https://www.economist.com/cdn-cgi/image/width=834,quality=80,format=auto/sites/default/files/images/2021/08/articles/main/20210814_wwd000.jpg' width=\"500\">\n",
    "\n",
    "Source: [Cartoon by Kevin KAL Kallaugher](https://www.kaltoons.com/about/), [The Economist](https://www.economist.com/the-world-this-week/2021/08/14/kals-cartoon)"
   ]
  },
  {
   "cell_type": "markdown",
   "id": "d8c860b3-3b60-413a-b192-db3c94512c31",
   "metadata": {},
   "source": [
    "The Quality of Government Environmental Indicators Dataset is a compilation of indicators measuring countries' environmental performance over time, including the presence and stringency of environmental policies, environmental outcomes (emissions, deforestation, etc.), and public opinion on the environment. Codebook and data are available [here](https://www.gu.se/en/quality-government/qog-data/data-downloads/environmental-indicators-dataset).\n",
    "\n",
    "*Reference: Povitkina, Marina, Natalia Alvarado Pachon & Cem Mert Dalli. 2021. The Quality of Government Environmental Indicators Dataset, version Sep21. University of Gothenburg: The Quality of Government Institute, https://www.gu.se/en/quality-government*"
   ]
  },
  {
   "cell_type": "markdown",
   "id": "0437072c-6a39-413b-b8f9-316d091ebf70",
   "metadata": {},
   "source": [
    "### Discover QoG <a name=\"import-qog\"></a>"
   ]
  },
  {
   "cell_type": "markdown",
   "id": "32965e6b-643a-4211-869e-53e9c4f523c8",
   "metadata": {},
   "source": [
    "- Import data from the Quality of Government Environmental Indicators Dataset and display the first 5 observations and shape. How many observations do we have? How many variables? \n",
    "\n",
    "*Hint*: When you go on the webpage of the Environmental Indicators Dataset, you can directly import from a URL by copying the link address of the dataset! "
   ]
  },
  {
   "cell_type": "code",
   "execution_count": null,
   "id": "f7ae7889-f4cf-47cb-bc06-b214aa63b8d6",
   "metadata": {
    "tags": []
   },
   "outputs": [],
   "source": [
    "# Your code here...\n"
   ]
  },
  {
   "cell_type": "markdown",
   "id": "12dfaed0-bee5-4389-8ad5-d801abeab98d",
   "metadata": {},
   "source": [
    "Check QoG codebook to discover all the available variables!"
   ]
  },
  {
   "cell_type": "markdown",
   "id": "369b4887-11a6-4017-9eaf-b6734ffb3c8c",
   "metadata": {
    "tags": []
   },
   "source": [
    "### Merge QoG and Polity5 <a name=\"merge-qog\"></a>\n",
    "\n",
    "We will try to merge the QoG and Polity5 dataset. To do so, we need to properly identify each observation, and the easiest in our case is to rely on the countries iso3 codes and year of observation. However, in QoG, there is not column \"iso3\". No worries, there is a column with \"iso3\" code, it is just called \"ccodealp\":\n",
    "\n",
    "- Rename the variable \"ccodealp\" to \"iso3\""
   ]
  },
  {
   "cell_type": "code",
   "execution_count": null,
   "id": "db75ffd6-7dab-4c33-ad11-260c3d5e5de2",
   "metadata": {
    "tags": []
   },
   "outputs": [],
   "source": [
    "# Your code here...\n"
   ]
  },
  {
   "cell_type": "markdown",
   "id": "48e62332-701b-49e3-a17e-f3c23fc163d5",
   "metadata": {},
   "source": [
    "For the merging to be successful, we need the columns to have the same name and data type.\n",
    "\n",
    "- Check that the variable \"year\" is of integer type, and \"iso3\" of string (object) type, if not convert them to the proper type."
   ]
  },
  {
   "cell_type": "code",
   "execution_count": null,
   "id": "ffee106d-b25e-40f1-a21d-211f04c7973d",
   "metadata": {
    "tags": []
   },
   "outputs": [],
   "source": [
    "# Your code here...\n"
   ]
  },
  {
   "cell_type": "markdown",
   "id": "49f9805c-cd86-4953-9796-32e0ae6d030f",
   "metadata": {},
   "source": [
    "Ok, let's try to merge the QoG and Polity5 dataframe\n",
    "\n",
    "- Merge the QoG and final polity2 dataframes using the `.merge()` method ([Documentation](https://pandas.pydata.org/docs/reference/api/pandas.DataFrame.merge.html)). As options, you should use: \n",
    "    - `on=[\"iso3\", \"year\"]` to merge on the iso3 and year columns; \n",
    "    - `how=\"left\"` to merge of QoG keys;\n",
    "    - `validate=\"one_to_one\"` to check if merge keys are unique in both left and right datasets.\n",
    "- Display your dataframe. How many observations do we have?"
   ]
  },
  {
   "cell_type": "code",
   "execution_count": null,
   "id": "7954b665-c724-4b2a-b5c0-0b9f05312dd8",
   "metadata": {
    "tags": []
   },
   "outputs": [],
   "source": [
    "# Your code here...\n"
   ]
  },
  {
   "cell_type": "markdown",
   "id": "e655c00c-92cf-43f2-a745-57ea578868b5",
   "metadata": {},
   "source": [
    "Our merge was successful. For instance, we have the same number of rows in the merged dataframe and in the QoG ones. However, most of the time, merging is a complex process and you will encounter some issues. For example, if we did not have removed duplicates in Polity5, then it would have failed! (You can check that by re-running all cells in this notebook except the section on removing duplicates) \n",
    "\n",
    "We made great progress but our cleaning is not over: for instance, for some countries like South Vietnam we do not have polity2 values. \n",
    "\n",
    "The next step would be to select some ingredients (variables) from QoG, deal with NaN and other potential issues, and then select a balanced dataset. However, for this walkthough, we'll be satisfied with what we have achieved so far, and export our result.\n",
    "\n",
    "- Save the clean merged dataframe as a csv"
   ]
  },
  {
   "cell_type": "code",
   "execution_count": null,
   "id": "23198099-98a6-41e3-b24a-625a1a45811b",
   "metadata": {},
   "outputs": [],
   "source": [
    "# Your code here...\n"
   ]
  },
  {
   "cell_type": "markdown",
   "id": "36f3be39-16ea-4fa1-9f92-8d37a922d5a9",
   "metadata": {},
   "source": [
    "### Further practice [optional] <a name=\"practising-qog\"></a>"
   ]
  },
  {
   "cell_type": "markdown",
   "id": "2081cd50-8921-4659-9176-2043f0f3484d",
   "metadata": {},
   "source": [
    "- Check [QoG codebook](https://www.qogdata.pol.gu.se/data/codebook_ei_sept21_august2023.pdf) and select 2 variables of your choice\n",
    "- Extract in a new dataframe the columns 'iso3', 'year', 'cname_qog', 'polity2', and the two variables you previously selected\n",
    "- Rename the column \"cname_qog\" as \"country\"\n",
    "- Deal with missing values and other issues\n",
    "- Plot a map of the number of observations per countries"
   ]
  },
  {
   "cell_type": "code",
   "execution_count": null,
   "id": "eea14fd2-8c4e-4a7f-bb3e-bdf01fe62976",
   "metadata": {
    "tags": []
   },
   "outputs": [],
   "source": [
    "# Your code here...\n"
   ]
  },
  {
   "cell_type": "markdown",
   "id": "378d689e-7903-4a5a-b4f7-aa24437bdc95",
   "metadata": {},
   "source": [
    "## Other dataset to explore <a name=\"data\"></a>\n",
    "\n",
    "Here are several other datasets that could be useful for your projects, feel free to explore them!\n",
    "- [World Values Survey: Cross-national](https://www.worldvaluessurvey.org/wvs.jsp), time series indicators of human beliefs and values\n",
    "- [Global Preference Survey](https://www.briq-institute.org/global-preferences/home): dataset on risk and time preferences, positive and negative reciprocity, altruism, and trust (country- and individual- level data)\n",
    "- [FAOSTAT](https://www.fao.org/faostat/en/#home) and [GAEZ Data Portal](https://gaez.fao.org/): Food and agriculture data\n",
    "- [IEA](https://www.iea.org/data-and-statistics/data-sets) data: Energy data\n",
    "- [Earth Data](https://www.earthdata.nasa.gov/), NASA Earth Observation Data\n",
    "- [Global Health Observatory](https://www.who.int/data/gho): Health data\n",
    "- [OECD Data](https://data.oecd.org/): indicators for OECD countries\n",
    "- [Eurostat](https://ec.europa.eu/eurostat/data/database): large set of datasets for European countries\n",
    "\n",
    "You can also search and access a large variety of dataset on [Google Dataset Search](https://datasetsearch.research.google.com/), [Kaggle](https://www.kaggle.com/datasets), [OpenML](https://www.openml.org/search?type=data&sort=runs&status=active), and [HuggingFace](https://huggingface.co/datasets).\n",
    "\n",
    "Whenever you use an existing dataset, **make sure to properly reference the authors!**\n",
    "\n",
    "Otherwise, have fun in your data science journey and always remember to complain about data cleaning... "
   ]
  }
 ],
 "metadata": {
  "kernelspec": {
   "display_name": "Python 3 (ipykernel)",
   "language": "python",
   "name": "python3"
  },
  "language_info": {
   "codemirror_mode": {
    "name": "ipython",
    "version": 3
   },
   "file_extension": ".py",
   "mimetype": "text/x-python",
   "name": "python",
   "nbconvert_exporter": "python",
   "pygments_lexer": "ipython3",
   "version": "3.11.3"
  }
 },
 "nbformat": 4,
 "nbformat_minor": 5
}
