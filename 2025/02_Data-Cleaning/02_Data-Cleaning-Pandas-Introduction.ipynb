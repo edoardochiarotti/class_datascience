{
 "cells": [
  {
   "cell_type": "code",
   "execution_count": 2,
   "id": "3442e11d-e0d6-45ff-b945-c067fdf27ac6",
   "metadata": {},
   "outputs": [],
   "source": [
    "import pandas as pd"
   ]
  },
  {
   "cell_type": "code",
   "execution_count": 6,
   "id": "b216c261-42b7-4a36-90a7-8eb970477502",
   "metadata": {},
   "outputs": [],
   "source": [
    "# Years of interest\n",
    "years = list(range(2017, 2025))"
   ]
  },
  {
   "cell_type": "code",
   "execution_count": 4,
   "id": "be6d3fda-547b-4199-a87c-9d0d6de1f67b",
   "metadata": {},
   "outputs": [],
   "source": [
    "# Example CO₂ emissions data (million metric tons) – replace with real values if needed\n",
    "emissions_data = {\n",
    "    \"France\": [320, 315, 310, 305, 300, 295, 290, 285],\n",
    "    \"Switzerland\": [45, 44, 43, 42, 41, 40, 39, 38],\n",
    "    \"Germany\": [750, 740, 730, 720, 710, 700, 690, 680]\n",
    "}"
   ]
  },
  {
   "cell_type": "code",
   "execution_count": 5,
   "id": "b96a2845-9bd7-4dc9-9b74-07d25d7a2912",
   "metadata": {},
   "outputs": [
    {
     "name": "stdout",
     "output_type": "stream",
     "text": [
      "        Country  Year  CO2_Emissions\n",
      "0        France  2017            320\n",
      "1        France  2018            315\n",
      "2        France  2019            310\n",
      "3        France  2020            305\n",
      "4        France  2021            300\n",
      "5        France  2022            295\n",
      "6        France  2023            290\n",
      "7        France  2024            285\n",
      "8   Switzerland  2017             45\n",
      "9   Switzerland  2018             44\n",
      "10  Switzerland  2019             43\n",
      "11  Switzerland  2020             42\n",
      "12  Switzerland  2021             41\n",
      "13  Switzerland  2022             40\n",
      "14  Switzerland  2023             39\n",
      "15  Switzerland  2024             38\n",
      "16      Germany  2017            750\n",
      "17      Germany  2018            740\n",
      "18      Germany  2019            730\n",
      "19      Germany  2020            720\n",
      "20      Germany  2021            710\n",
      "21      Germany  2022            700\n",
      "22      Germany  2023            690\n",
      "23      Germany  2024            680\n"
     ]
    }
   ],
   "source": [
    "# Build the long-format dataset\n",
    "rows = []\n",
    "for country, values in emissions_data.items():\n",
    "    for year, value in zip(years, values):\n",
    "        rows.append({\"Country\": country, \"Year\": year, \"CO2_Emissions\": value})\n",
    "\n",
    "df = pd.DataFrame(rows)\n",
    "\n",
    "print(df)"
   ]
  },
  {
   "cell_type": "code",
   "execution_count": null,
   "id": "ae598edf-6d2d-45ab-8b66-784a8e94631c",
   "metadata": {},
   "outputs": [],
   "source": []
  }
 ],
 "metadata": {
  "kernelspec": {
   "display_name": "Python 3 (ipykernel)",
   "language": "python",
   "name": "python3"
  },
  "language_info": {
   "codemirror_mode": {
    "name": "ipython",
    "version": 3
   },
   "file_extension": ".py",
   "mimetype": "text/x-python",
   "name": "python",
   "nbconvert_exporter": "python",
   "pygments_lexer": "ipython3",
   "version": "3.12.11"
  }
 },
 "nbformat": 4,
 "nbformat_minor": 5
}
