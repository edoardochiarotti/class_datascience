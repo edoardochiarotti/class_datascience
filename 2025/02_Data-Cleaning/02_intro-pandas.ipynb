{
 "cells": [
  {
   "cell_type": "code",
   "execution_count": 1,
   "id": "3442e11d-e0d6-45ff-b945-c067fdf27ac6",
   "metadata": {},
   "outputs": [],
   "source": [
    "import pandas as pd\n",
    "import numpy as np"
   ]
  },
  {
   "cell_type": "markdown",
   "id": "79f8b50a-d37f-41bf-abe9-2814b5fb5a7a",
   "metadata": {},
   "source": [
    "## Generate emissions data:"
   ]
  },
  {
   "cell_type": "code",
   "execution_count": 2,
   "id": "806f01c4-5ca6-4c84-9073-fbce6857f790",
   "metadata": {},
   "outputs": [
    {
     "name": "stdout",
     "output_type": "stream",
     "text": [
      "Generated emissions data:\n",
      "{'France': [332, 322, 319, 316, 300, 293, 295, 284], 'Switzerland': [48, 51, 43, 41, 43, 30, 29, 32], 'Germany': [775, 763, 738, 717, 713, 686, 669, 643]}\n"
     ]
    }
   ],
   "source": [
    "np.random.seed(42)  # for reproducibility\n",
    "years = list(range(2017, 2025))\n",
    "\n",
    "# Starting and ending values for each country\n",
    "trends = {\n",
    "    \"France\": (330, 280),\n",
    "    \"Switzerland\": (50, 35),\n",
    "    \"Germany\": (780, 650)\n",
    "}\n",
    "\n",
    "emissions_dict = {}\n",
    "\n",
    "for country, (start, end) in trends.items():\n",
    "    # Create a linear decreasing trend\n",
    "    base = np.linspace(start, end, len(years))\n",
    "    # Add small random noise\n",
    "    noise = np.random.normal(0, 5, len(years))\n",
    "    emissions = np.round(base + noise).astype(int)\n",
    "    \n",
    "    # Store results in dictionary\n",
    "    emissions_dict[country] = emissions.tolist()\n",
    "\n",
    "print(\"Generated emissions data:\")\n",
    "print(emissions_dict)"
   ]
  },
  {
   "cell_type": "markdown",
   "id": "cbfc0871-ae23-442f-8e07-74704db3a90e",
   "metadata": {},
   "source": [
    "## Build the dataframe:"
   ]
  },
  {
   "cell_type": "code",
   "execution_count": 3,
   "id": "041d2f3c-723a-4c04-ada2-6595070eed13",
   "metadata": {},
   "outputs": [
    {
     "name": "stdout",
     "output_type": "stream",
     "text": [
      "\n",
      "Final DataFrame:\n",
      "        Country  Year  CO2_Emissions[tCO2]\n",
      "0        France  2017                  332\n",
      "1        France  2018                  322\n",
      "2        France  2019                  319\n",
      "3        France  2020                  316\n",
      "4        France  2021                  300\n",
      "5        France  2022                  293\n",
      "6        France  2023                  295\n",
      "7        France  2024                  284\n",
      "8   Switzerland  2017                   48\n",
      "9   Switzerland  2018                   51\n",
      "10  Switzerland  2019                   43\n",
      "11  Switzerland  2020                   41\n",
      "12  Switzerland  2021                   43\n",
      "13  Switzerland  2022                   30\n",
      "14  Switzerland  2023                   29\n",
      "15  Switzerland  2024                   32\n",
      "16      Germany  2017                  775\n",
      "17      Germany  2018                  763\n",
      "18      Germany  2019                  738\n",
      "19      Germany  2020                  717\n",
      "20      Germany  2021                  713\n",
      "21      Germany  2022                  686\n",
      "22      Germany  2023                  669\n",
      "23      Germany  2024                  643\n"
     ]
    }
   ],
   "source": [
    "rows = []\n",
    "for country, values in emissions_dict.items():\n",
    "    for year, value in zip(years, values):\n",
    "        rows.append({\"Country\": country, \"Year\": year, \"CO2_Emissions[tCO2]\": value})\n",
    "\n",
    "df = pd.DataFrame(rows)\n",
    "\n",
    "print(\"\\nFinal DataFrame:\")\n",
    "print(df)"
   ]
  },
  {
   "cell_type": "markdown",
   "id": "deabbae5-586e-427b-8509-5cd2843d56a0",
   "metadata": {},
   "source": [
    "## Do the same for population"
   ]
  },
  {
   "cell_type": "code",
   "execution_count": 6,
   "id": "6625a501-8948-4e53-80bf-9315f9db7306",
   "metadata": {},
   "outputs": [],
   "source": [
    "def generate_df(years, trends, variable_name, add_noise = True):\n",
    "    \n",
    "    np.random.seed(42)  # for reproducibility\n",
    "    \n",
    "    # generate values and put them in dictionary\n",
    "    dict_temp = {}\n",
    "    for country, (start, end) in trends.items():\n",
    "        \n",
    "        # Create a linear trend\n",
    "        base = np.linspace(start, end, len(years))\n",
    "        \n",
    "        # Add small random noise\n",
    "        if add_noise == True:\n",
    "            noise = np.random.normal(0, 5, len(years))\n",
    "            values = np.round(base + noise, 2)\n",
    "        else:\n",
    "            values = np.round(base, 2)\n",
    "        \n",
    "        # Store results in dictionary\n",
    "        dict_temp[country] = values.tolist()\n",
    "        \n",
    "    # make the df\n",
    "    rows = []\n",
    "    for country, values in dict_temp.items():\n",
    "        for year, value in zip(years, values):\n",
    "            rows.append({\"Country\": country, \"Year\": year, variable_name: value})\n",
    "    df = pd.DataFrame(rows)\n",
    "    \n",
    "    # return\n",
    "    return df\n",
    "\n",
    "\n",
    "years = list(range(2017, 2025))\n",
    "\n",
    "# remake emissions\n",
    "trends_emission = {\"France\": (330, 280), \"Switzerland\": (50, 35), \"Germany\": (780, 650)}\n",
    "df_emissions = generate_df(years = years, trends = trends_emission, variable_name = \"CO2_emissions[MtCO2]\")\n",
    "\n",
    "# make poulation\n",
    "trends_population = {\"France\": (67.0, 68.0), \"Switzerland\": (8.4, 8.9), \"Germany\": (82.8, 83.5)}\n",
    "df_population = generate_df(years = years, trends = trends_population, variable_name = \"population[milpeople]\", add_noise = False)"
   ]
  },
  {
   "cell_type": "markdown",
   "id": "1e75dd54-ced4-43d3-9b32-036536694a80",
   "metadata": {},
   "source": [
    "## Merge two dataframes"
   ]
  },
  {
   "cell_type": "code",
   "execution_count": 7,
   "id": "5a88f8ab-71c8-41f0-b15d-cfab5147d190",
   "metadata": {},
   "outputs": [],
   "source": [
    "# merge two dfs together\n",
    "df = pd.merge(df_emissions, df_population, \"left\", [\"Country\",\"Year\"])"
   ]
  },
  {
   "cell_type": "markdown",
   "id": "4c6f39c4-8a75-4e66-a7e0-5c264e959e47",
   "metadata": {},
   "source": [
    "## Create variables / do operations"
   ]
  },
  {
   "cell_type": "code",
   "execution_count": 8,
   "id": "eea13adb-1f6a-4d6f-a365-8e8d25c8e8b2",
   "metadata": {},
   "outputs": [],
   "source": [
    "# add emissions per capita\n",
    "df[\"CO2_emissions_per_capita[tCO2/person]\"] = (df[\"CO2_emissions[MtCO2]\"] * 1e6) / (df[\"population[milpeople]\"] * 1e6)\n",
    "\n",
    "# subset\n",
    "df_sub = df.loc[df[\"Country\"] == \"France\",:]\n",
    "df_sub = df.loc[(df[\"Country\"] == \"France\") & (df[\"Year\"].isin([2017,2018])),:]\n",
    "df_sub = df.loc[df[\"Country\"] == \"France\",\"population[milpeople]\"]"
   ]
  },
  {
   "cell_type": "markdown",
   "id": "30347d16-b8ac-4536-ab6e-11c905465338",
   "metadata": {},
   "source": [
    "## Wide vs long format"
   ]
  },
  {
   "cell_type": "code",
   "execution_count": 9,
   "id": "69acae5a-f819-49e4-adce-f764dadd8a24",
   "metadata": {},
   "outputs": [],
   "source": [
    "# melt\n",
    "df_melted = pd.melt(df, id_vars = [\"Country\",\"Year\"])\n",
    "\n",
    "# pivot\n",
    "df_back = df_melted.pivot(index=[\"Country\",\"Year\"], columns='variable', values='value').reset_index()"
   ]
  },
  {
   "cell_type": "markdown",
   "id": "c246a72e-0038-48da-92ca-7bd8b3af19d3",
   "metadata": {},
   "source": [
    "## Group by"
   ]
  },
  {
   "cell_type": "code",
   "execution_count": 10,
   "id": "a70bba73-3610-472a-9288-941b48db4d06",
   "metadata": {},
   "outputs": [],
   "source": [
    "# make ts\n",
    "df_agg = df_melted.groupby([\"Year\",\"variable\"], as_index=False)['value'].agg(\"sum\")\n",
    "\n",
    "# sort\n",
    "df_agg.sort_values([\"variable\",\"Year\"], inplace=True)\n",
    "\n",
    "# pivot back in case\n",
    "df_agg_pivoted = df_agg.pivot(index=[\"Year\"], columns='variable', values='value').reset_index()"
   ]
  },
  {
   "cell_type": "code",
   "execution_count": null,
   "id": "f13ef9d1-60c3-45b1-89bc-db01ef2c3341",
   "metadata": {},
   "outputs": [],
   "source": []
  }
 ],
 "metadata": {
  "kernelspec": {
   "display_name": "Python 3 (ipykernel)",
   "language": "python",
   "name": "python3"
  },
  "language_info": {
   "codemirror_mode": {
    "name": "ipython",
    "version": 3
   },
   "file_extension": ".py",
   "mimetype": "text/x-python",
   "name": "python",
   "nbconvert_exporter": "python",
   "pygments_lexer": "ipython3",
   "version": "3.12.11"
  }
 },
 "nbformat": 4,
 "nbformat_minor": 5
}
