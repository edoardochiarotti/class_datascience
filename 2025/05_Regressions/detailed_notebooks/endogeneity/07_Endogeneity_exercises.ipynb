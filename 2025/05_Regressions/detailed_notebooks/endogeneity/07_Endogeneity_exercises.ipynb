{
 "cells": [
  {
   "cell_type": "markdown",
   "id": "5d3011f9",
   "metadata": {},
   "source": [
    "<a href=\"https://colab.research.google.com/github/edoardochiarotti/class_datascience/blob/main/2024/07_Endogeneity/07_Endogeneity_exercises.ipynb\"\n",
    "   target=\"_blank\" rel=\"noopener\"><img src=\"https://colab.research.google.com/assets/colab-badge.svg\" alt=\"Open In Colab\"/></a>"
   ]
  },
  {
   "cell_type": "markdown",
   "id": "58b51f57",
   "metadata": {},
   "source": [
    "# Endogeneity"
   ]
  },
  {
   "cell_type": "markdown",
   "id": "d486ef7a",
   "metadata": {},
   "source": [
    "<img src=\"https://i.imgflip.com/84g5gd.jpg\" width=\"500\">"
   ]
  },
  {
   "cell_type": "code",
   "execution_count": null,
   "id": "388c0f9f",
   "metadata": {},
   "outputs": [],
   "source": [
    "# PACKAGES\n",
    "%matplotlib inline\n",
    "import numpy as np\n",
    "import scipy.stats as stats\n",
    "import matplotlib.pyplot as plt\n",
    "import seaborn as sns\n",
    "import random as rd\n",
    "import statistics as st\n",
    "import pandas as pd\n",
    "import os\n",
    "import statsmodels.api as sm\n",
    "import re\n",
    "!pip install stargazer\n",
    "from stargazer.stargazer import Stargazer\n",
    "!pip install linearmodels\n",
    "from linearmodels.panel import PanelOLS # conda install -c conda-forge linearmodels\n",
    "\n",
    "# FUNCTIONS FROM PACKAGES\n",
    "from numpy.linalg import inv\n",
    "from sklearn.linear_model import LinearRegression\n",
    "\n",
    "# SEABORN THEME\n",
    "scale = 0.4\n",
    "W = 16*scale\n",
    "H = 9*scale\n",
    "sns.set(rc = {'figure.figsize':(W,H)})\n",
    "sns.set_style(\"white\")"
   ]
  },
  {
   "cell_type": "markdown",
   "id": "6f66d42b",
   "metadata": {},
   "source": [
    "## Outline\n",
    "- [Exercise 1: Multivariate Linear Regression Model](#Exercise-1:-Multivariate-Linear-Regression-Model)\n",
    "- [Exercise 2: Interaction Terms](#Exercise-2:-Interaction-Terms)\n",
    "- [Exercise 3: Fixed Effects](#Exercise-3:-Fixed-Effects)"
   ]
  },
  {
   "cell_type": "markdown",
   "id": "c142cf6b",
   "metadata": {},
   "source": [
    "## Exercise 1: Multivariate Linear Regression Model <a name=\"Exercise-1:-Multivariate-Linear-Regression-Model\"></a>"
   ]
  },
  {
   "cell_type": "markdown",
   "id": "686b94d7",
   "metadata": {},
   "source": [
    "- Get data on CO2 emissions per capita, income per capita and climate-related tax revenues as done in class:"
   ]
  },
  {
   "cell_type": "code",
   "execution_count": null,
   "id": "8b341592",
   "metadata": {},
   "outputs": [],
   "source": [
    "# get data\n",
    "link = \"https://www.qogdata.pol.gu.se/data/qog_ei_sept21.xlsx\"\n",
    "df_qog = pd.read_excel(link)"
   ]
  },
  {
   "cell_type": "code",
   "execution_count": null,
   "id": "0a42738f",
   "metadata": {},
   "outputs": [],
   "source": [
    "# get variables\n",
    "indexes = [\"ccodealp\",\"year\"]\n",
    "variabs_co2 = [\"edgar_co2gdp\",\"edgar_co2t\",\"edgar_co2pc\"]\n",
    "variabs_control = [\"oecd_cctr_gdp\"]\n",
    "variabs = variabs_co2 + variabs_control\n",
    "df = df_qog.loc[:,np.append(indexes,variabs)]\n",
    "\n",
    "# make gdp per capita\n",
    "df[\"gdp\"] = (df[\"edgar_co2gdp\"]/df[\"edgar_co2t\"])**(-1) # billions US dollars\n",
    "df[\"pop\"] = (df[\"edgar_co2pc\"]/df[\"edgar_co2t\"])**(-1) # millions\n",
    "df[\"gdp_pc\"] = df[\"gdp\"]/df[\"pop\"] # thousands of US dollars\n",
    "variabs = np.append(variabs, [\"gdp\",\"pop\",\"gdp_pc\"])"
   ]
  },
  {
   "cell_type": "code",
   "execution_count": null,
   "id": "62451750",
   "metadata": {},
   "outputs": [],
   "source": [
    "# make cross section\n",
    "df_cross = df.groupby(\"ccodealp\")[variabs].mean().reset_index().dropna()\n",
    "\n",
    "# put ones into data\n",
    "df_cross[\"ones\"] = 1\n",
    "\n",
    "# drop outliers quick and dirty\n",
    "df_cross = df_cross.loc[df_cross[\"gdp_pc\"] < 80,:]\n",
    "\n",
    "# maybe logs?\n",
    "df_cross[\"ln_gdp_pc\"] = np.log(df_cross[\"gdp_pc\"])\n",
    "df_cross[\"ln_edgar_co2pc\"] = np.log(df_cross[\"edgar_co2pc\"])"
   ]
  },
  {
   "cell_type": "code",
   "execution_count": null,
   "id": "0052b98f",
   "metadata": {},
   "outputs": [],
   "source": [
    "# canned ols\n",
    "ols_canned_results = sm.OLS.from_formula('ln_edgar_co2pc ~ ln_gdp_pc + oecd_cctr_gdp', df_cross).fit()\n",
    "ols_canned_results_table = ols_canned_results.summary().tables[1]\n",
    "ols_canned_results_table"
   ]
  },
  {
   "cell_type": "markdown",
   "id": "f217f3ea",
   "metadata": {},
   "source": [
    "- Use the functions you have written in the exercise Notebook of week 6, called `data_to_matrix` and `OLS_estimator`, to estimate this table by hand:"
   ]
  },
  {
   "cell_type": "code",
   "execution_count": null,
   "id": "5e263f38",
   "metadata": {},
   "outputs": [],
   "source": [
    "# your code here ..."
   ]
  },
  {
   "cell_type": "markdown",
   "id": "33ec3105",
   "metadata": {},
   "source": [
    "- Our functions should work as we've been good! Note that usually the routines in Stata (and Python I think) for multivariate regressions use the Frisch-Waugh-Lovell Theorem to estimate the single regressors' coefficients. This is much more efficient when the number of regressors become high, or when we have fixed effects. We will not cover it in this class, but you should check the material on [Partitioned Regression](https://static1.squarespace.com/static/558eff8ce4b023b6b855320a/t/573162b320c6478f4961c5bb/1462854326527/ARE_212_Section_4.pdf) by Fiona Burlig, who shows how to do this in R in details and explains why this theorem is so important. We have used it in the class of fixed effects."
   ]
  },
  {
   "cell_type": "markdown",
   "id": "b1d41643",
   "metadata": {},
   "source": [
    "## Exercise 2: Interaction Terms <a name=\"Exercise-2:-Interaction-Terms\"></a>"
   ]
  },
  {
   "cell_type": "markdown",
   "id": "2dde9b65",
   "metadata": {},
   "source": [
    "- Use the functions written above (not canned routines) to estimate the log-log model with the interaction term between log of income per capita (`ln_gdp_pc`) and climate change-related tax revenue (`oecd_cctr_gdp`)."
   ]
  },
  {
   "cell_type": "code",
   "execution_count": null,
   "id": "300930b6",
   "metadata": {},
   "outputs": [],
   "source": [
    "# your code here ..."
   ]
  },
  {
   "cell_type": "markdown",
   "id": "f9e0edf9",
   "metadata": {},
   "source": [
    "- Use the functions written above to estimate the level-level model with the interaction term between income per capita (`gdp_pc`) and a dummy variable which equals 1 for countries with high climate change-related tax revenues."
   ]
  },
  {
   "cell_type": "code",
   "execution_count": null,
   "id": "e3304c85",
   "metadata": {},
   "outputs": [],
   "source": [
    "# your code here\n"
   ]
  },
  {
   "cell_type": "markdown",
   "id": "1b9ba630",
   "metadata": {},
   "source": [
    "- Comment the results:"
   ]
  },
  {
   "cell_type": "markdown",
   "id": "3f6ad2d9",
   "metadata": {},
   "source": [
    "- Your answer here: ... "
   ]
  },
  {
   "cell_type": "markdown",
   "id": "519dbe17",
   "metadata": {},
   "source": [
    "## Exercise 3: Fixed Effects <a name=\"Exercise-3:-Fixed-Effects\"></a>"
   ]
  },
  {
   "cell_type": "markdown",
   "id": "6d91bb69",
   "metadata": {},
   "source": [
    "- Let's take a subset of the full panel data loaded above, as done in class:"
   ]
  },
  {
   "cell_type": "code",
   "execution_count": null,
   "id": "171fa748",
   "metadata": {},
   "outputs": [],
   "source": [
    "# drop nas\n",
    "df_panel = df.dropna()\n",
    "\n",
    "# from 2010 to 2016\n",
    "df_panel = df_panel.loc[(df_panel[\"year\"] >= 2010) & (df_panel[\"year\"] <= 2017),:]\n",
    "\n",
    "# drop outliers quick and dirty\n",
    "df_panel = df_panel.loc[(df_panel[\"gdp_pc\"] < 65) & (df_panel[\"edgar_co2pc\"] < 20),:]\n",
    "\n",
    "# lets make it balanced for simplicity\n",
    "df_panel_agg = df_panel.groupby(['year']).size().reset_index(name='counts')\n",
    "year_min = df_panel_agg.loc[df_panel_agg.counts == min(df_panel_agg.counts),\"year\"].values\n",
    "ccodealp_sub = np.unique(df_panel.loc[df_panel.year == int(year_min),\"ccodealp\"].values)\n",
    "df_panel = df_panel.loc[np.isin(df_panel.ccodealp, ccodealp_sub),:]\n",
    "\n",
    "df_panel_agg = df_panel.groupby(['ccodealp']).size().reset_index(name='counts')\n",
    "cou_drop = df_panel_agg.loc[df_panel_agg.counts == min(np.unique(df_panel_agg[\"counts\"])),\"ccodealp\"].values\n",
    "df_panel = df_panel.loc[~np.isin(df_panel.ccodealp, cou_drop),:]\n",
    "\n",
    "# maybe logs?\n",
    "df_panel[\"ln_gdp_pc\"] = np.log(df_panel[\"gdp_pc\"])\n",
    "df_panel[\"ln_edgar_co2pc\"] = np.log(df_panel[\"edgar_co2pc\"])\n",
    "\n",
    "# plot\n",
    "sns.scatterplot(x='ln_gdp_pc', y='ln_edgar_co2pc', data=df_panel, color = \"r\", s = 20)"
   ]
  },
  {
   "cell_type": "markdown",
   "id": "ea9f02bd",
   "metadata": {},
   "source": [
    "- Create a function called `FE_estimator` by updating the function used above (called `OLS_estimator`) with the equations seen in class to estimate the model parameters with the fixed-effect estimator. Some tips:\n",
    "    - Instead of the usual expression for the OLS estimator, you should have something like this: `beta_hat_FE = (inv(xdata_dem.T @ xdata_dem)) @ (xdata_dem.T @ ydata_dem)`\n",
    "    - To demean the data, you need to define the matrixes $\\iota_T$, $P_{NT}$, etc\n",
    "    - Note that we you need to add an extra $N$ in the degrees of freedom correction, because all of this is as if we were estimating also $N$ country dummies (even if we don't effectively do it, we can't cheat statistics)."
   ]
  },
  {
   "cell_type": "code",
   "execution_count": null,
   "id": "1002f51d",
   "metadata": {},
   "outputs": [],
   "source": [
    "# your code here ...\n"
   ]
  },
  {
   "cell_type": "markdown",
   "id": "707249cb",
   "metadata": {},
   "source": [
    "- Test this function by estimating the log-log fixed-effect model that regresses the log of CO2 emissions per capita on the log of GDP per capita and the climate change-related tax revenues, using the panel database built above, and comment the coefficient estimates."
   ]
  },
  {
   "cell_type": "code",
   "execution_count": null,
   "id": "23af9b31",
   "metadata": {},
   "outputs": [],
   "source": [
    "# your code here ...\n"
   ]
  },
  {
   "cell_type": "markdown",
   "id": "ac61fff7",
   "metadata": {},
   "source": [
    "- Your answer here ..."
   ]
  },
  {
   "cell_type": "markdown",
   "id": "9e96f631",
   "metadata": {},
   "source": [
    "- Test that the output is the same of the one obtained in class with the canned routine `PanelOLS.from_formula`:"
   ]
  },
  {
   "cell_type": "code",
   "execution_count": null,
   "id": "08853bd2",
   "metadata": {},
   "outputs": [],
   "source": [
    "# your code here ...\n"
   ]
  },
  {
   "cell_type": "markdown",
   "id": "5946fdf8",
   "metadata": {},
   "source": [
    "- As done in class, compute the demeaned panel database (we called it `demeaned_df`) and use the OLS canned routine `sm.OLS.from_formula` on this database to test if it gives you the same results of your function `FE_estimator` (careful about the intercept). Are the results the same or different? And if they differ, why?"
   ]
  },
  {
   "cell_type": "code",
   "execution_count": null,
   "id": "71f89a04",
   "metadata": {},
   "outputs": [],
   "source": [
    "# your code here ...\n"
   ]
  }
 ],
 "metadata": {
  "kernelspec": {
   "display_name": "Python 3 (ipykernel)",
   "language": "python",
   "name": "python3"
  },
  "language_info": {
   "codemirror_mode": {
    "name": "ipython",
    "version": 3
   },
   "file_extension": ".py",
   "mimetype": "text/x-python",
   "name": "python",
   "nbconvert_exporter": "python",
   "pygments_lexer": "ipython3",
   "version": "3.9.13"
  }
 },
 "nbformat": 4,
 "nbformat_minor": 5
}
