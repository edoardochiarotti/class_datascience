{
 "cells": [
  {
   "cell_type": "markdown",
   "id": "5a09fecc",
   "metadata": {},
   "source": [
    "<a href=\"https://colab.research.google.com/github/edoardochiarotti/class_datascience/blob/main/2024/05_Mean-Model/05_Mean_model_exercises.ipynb\" target=\"_blank\" rel=\"noopener\"><img src=\"https://colab.research.google.com/assets/colab-badge.svg\" alt=\"Open In Colab\"/></a>"
   ]
  },
  {
   "cell_type": "markdown",
   "id": "31d71e29",
   "metadata": {},
   "source": [
    "# The Mean Model - Exercises"
   ]
  },
  {
   "cell_type": "code",
   "execution_count": null,
   "id": "4413cca1",
   "metadata": {
    "slideshow": {
     "slide_type": "notes"
    }
   },
   "outputs": [],
   "source": [
    "# PACKAGES\n",
    "import numpy as np\n",
    "import pandas as pd\n",
    "%matplotlib inline\n",
    "import matplotlib.pyplot as plt\n",
    "import seaborn as sns\n",
    "import scipy.stats as stats\n",
    "import statistics as st\n",
    "import statsmodels.api as sm\n",
    "\n",
    "# FUNCTIONS FROM PACKAGES\n",
    "from numpy.linalg import inv\n",
    "\n",
    "# SEABORN THEME\n",
    "scale = 0.4\n",
    "W = 16*scale\n",
    "H = 9*scale\n",
    "sns.set(rc = {'figure.figsize':(W,H)})\n",
    "sns.set_style(\"white\")"
   ]
  },
  {
   "cell_type": "markdown",
   "id": "510f6c3f",
   "metadata": {},
   "source": [
    "Main references:\n",
    "- For the part on the functions for the sample mean and variance, we took inspiration from the amazing class on [Multiple Equation Estimation](https://www.fionaburlig.com/teaching/are212) by Fiona Burlig (with R) at UC Berkeley.\n",
    "- For a refresher on matrixes and matrixes in Python, see the [Notebook on matrixes](https://github.com/edoardochiarotti/class_datascience/blob/main/2023/05_Mean-Model/Resources/05_Matrixes.ipynb)."
   ]
  },
  {
   "cell_type": "markdown",
   "id": "9037ff81",
   "metadata": {
    "slideshow": {
     "slide_type": "slide"
    }
   },
   "source": [
    "## Content\n",
    "- [Exercise 1: Load data](#Exercise-1:-Load-data)\n",
    "- [Exercise 2: Debugging the Mean Estimator](#Exercise-2:-Debugging-the-Mean-Estimator)\n",
    "- [Exercise 3: Write Nice Functions for your Estimators](#Exercise-3:-Write-Nice-Functions-for-your-Estimators)\n",
    "- [Exercise 4: Statistical Test with the Sample Mean](#Exercise-4:-Statistical-Test-with-the-Sample-Mean)"
   ]
  },
  {
   "cell_type": "markdown",
   "id": "f8742e38",
   "metadata": {},
   "source": [
    "## Exercise 1: Load data <a name=\"Exercise-1:-Load-data\"></a>\n",
    "- Let's now use **Python** to write down the functions for the sample-mean and sample-variance estimators using matrix notation.\n",
    "- We'll test these functions on data from the **QoG Environmental Indicators dataset (QoG-EI)** (Povitkina, Marina, Natalia Alvarado Pachon & Cem Mert Dalli. 2021). The Quality of Government Environmental Indicators Dataset, version Sep21 (University of Gothenburg: [The Quality of Government Institute](https://www.gu.se/en/quality-government)), is a compilation of indicators measuring countries' environmental performance over time, including the presence and stringency of environmental policies, environmental outcomes (emissions, deforestation, etc.), and public opinion on the environment. Codebook and data are available [here](https://www.gu.se/en/quality-government/qog-data/data-downloads/environmental-indicators-dataset).\n",
    "- Note that we could test theste functions also on generated data, but it's nicer to test them on real-life data.\n",
    "- Get the QoG dataset using this link `https://www.qogdata.pol.gu.se/data/qog_ei_sept21.xlsx`"
   ]
  },
  {
   "cell_type": "code",
   "execution_count": null,
   "id": "b3f83da2",
   "metadata": {},
   "outputs": [],
   "source": [
    "# your code here ..."
   ]
  },
  {
   "cell_type": "markdown",
   "id": "bf91a053",
   "metadata": {},
   "source": [
    "- For this exercise we'll use the sample mean to estimate the mean of **CO2 emissions per capita**. In QoG, the variable for total CO2 emissions per capita is `edgar_co2pc`.\n",
    "- Create a subset of the dataset you have downloaded with only the variables `ccodealp`, `year` and `edgar_co2pc`, and display it. "
   ]
  },
  {
   "cell_type": "code",
   "execution_count": null,
   "id": "08b523ef",
   "metadata": {},
   "outputs": [],
   "source": [
    "# your code here ..."
   ]
  },
  {
   "cell_type": "markdown",
   "id": "8567358f",
   "metadata": {},
   "source": [
    "- As this is a panel dataset and we want to start simple\n",
    "    - Collapse the subset database into **cross section** of countries by taking the mean of all variables by country. When you do this, keep the variable `ccodealp` as a variable, and not as an index of the dataframe.\n",
    "    - Drop all missing values, as our sample mean estimator will work only on a clean dataset."
   ]
  },
  {
   "cell_type": "code",
   "execution_count": null,
   "id": "4637c0ce",
   "metadata": {},
   "outputs": [],
   "source": [
    "# your code here ..."
   ]
  },
  {
   "cell_type": "markdown",
   "id": "8a82e43f",
   "metadata": {},
   "source": [
    "- You should have obtained a dataframe with 178 rows, i.e., 178 countries.\n",
    "- Now we want to estimate the mean of our variable of interest emissions per capita `edgar_co2pc`. Let's do the **usual reasoning** shall we? Our unit for this analysis are the countries. There is a population of countries in the world with their emissions per capita, represented by a normal probability distribution of emissions with mean $\\beta$ and variance $\\sigma^2$ . We cannot work with the population, but we can work only with a sample of emissions for 178 countries we have at hand (which is the realization of a random sample). This sample is just a representation of the population of all countries in the world, which amounts to 196 countries (yeah, in this case our sample is very close to the full population, but still it's not the full population).\n",
    "- The sample-mean estimator is a good estimator for the average emission $\\beta$. As mentioned, if we define a N-dimensional vector of 1s $\\boldsymbol{x}=(1,...,1)'$, the sample-mean estimator can be expressed as $\\hat{\\beta}= (\\boldsymbol{x}'\\boldsymbol{x})^{-1}(\\boldsymbol{x}'\\boldsymbol{y})$. \n",
    "- So let's add this **vector of ones** to our dataset. Consider the collapsed dataframe you have obtained in the former question and add a column of ones, and display the data."
   ]
  },
  {
   "cell_type": "code",
   "execution_count": null,
   "id": "ca98585b",
   "metadata": {},
   "outputs": [],
   "source": [
    "# your code here ..."
   ]
  },
  {
   "cell_type": "markdown",
   "id": "fc11cc78",
   "metadata": {},
   "source": [
    "## Exercise 2: Debugging the Mean Estimator <a name=\"Exercise-2:-Debugging-the-Mean-Estimator\"></a>\n",
    "- We can now write our **function for the sample mean estimator**. As we need to work with matrixes, the first thing to do is to convert panda data into numpy arrays (what Python uses for matrixes). Once the conversion is done, we can write the formula of our estimator by using the functions for matrix operations (multiplication, transpose, inverse) that we have learned in Python.\n",
    "- Let's give it a first try with a function that takes as arguments the dataframe, the name of our variable of interest (y) and the name of our single regressor, which is the vector of ones (x).\n",
    "- I report here below an example of this function. By reading the lines you should be able to understand what this does."
   ]
  },
  {
   "cell_type": "code",
   "execution_count": null,
   "id": "d317463e",
   "metadata": {},
   "outputs": [],
   "source": [
    "# define sample mean function\n",
    "def sample_mean_estimator(data, y, x):\n",
    "    \n",
    "    \"\"\" My Sample Mean Function \"\"\"\n",
    "    \n",
    "    # store in matrixes\n",
    "    ydata = data.loc[:,y].to_numpy()\n",
    "    xdata = data.loc[:,x].to_numpy()\n",
    "\n",
    "    # get sample mean\n",
    "    beta_hat = (inv(xdata.T @ xdata)) @ (xdata.T @ ydata)\n",
    "\n",
    "    # return\n",
    "    return float(beta_hat)"
   ]
  },
  {
   "cell_type": "markdown",
   "id": "d1aae52d",
   "metadata": {},
   "source": [
    "- Use this function to obtain the sample mean of the variable `edgar_co2pc` (remember you also have the argument `x` to fill in ...)."
   ]
  },
  {
   "cell_type": "code",
   "execution_count": null,
   "id": "de0cf0c5",
   "metadata": {},
   "outputs": [],
   "source": [
    "# your code here ..."
   ]
  },
  {
   "cell_type": "markdown",
   "id": "4c41a1c0",
   "metadata": {},
   "source": [
    "- The function should give you the error \"LinAlgError\", so there must be something wrong with our linear algebra? In addition, the error says `0-dimensional array given. Array must be at least two-dimensional`. Possibly we are feeding a function with a 0-dimensional array, though this function wants an array that is at least two-dimensional. \n",
    "- Debug the `sample_mean_estimator(data, y, x)` function, i.e. find the bug (find the line of code that gives the error). Tips:\n",
    "    - Use as many cells as you need (here below I have just put one, you can add more)\n",
    "    - As first step, you should store the arguments you have used for the function as objects in the general environment in which you are working. Translated, that means store `df` as `data`, `\"edgar_co2pc\"` as `y` and `\"ones\"` as `x`. Then, copy the body of your function and re-run.\n",
    "    - The bug has something to do with how Python applies certain operations to scalars."
   ]
  },
  {
   "cell_type": "code",
   "execution_count": null,
   "id": "8e70fd10",
   "metadata": {},
   "outputs": [],
   "source": [
    "# your code here ..."
   ]
  },
  {
   "cell_type": "markdown",
   "id": "e0b70cfe",
   "metadata": {},
   "source": [
    "- Find a solution for this bug and update the function `sample_mean_estimator` with this solution. Tips:\n",
    "    - There are more solutions, for example one has to do with the syntax `[[]]`, and another one has to do with the function `np.atleast_2d`. \n",
    "    - The second one is the more general one and the one to focus on.\n",
    "    - The update should be a chunk of code between the chunks `# store in matrixes` and `# get sample mean`.\n",
    "    - Feel free to use as many cells as you need."
   ]
  },
  {
   "cell_type": "code",
   "execution_count": null,
   "id": "c074a71d",
   "metadata": {},
   "outputs": [],
   "source": [
    "# your code here ..."
   ]
  },
  {
   "cell_type": "markdown",
   "id": "6b8c73ee",
   "metadata": {},
   "source": [
    "- Run the function and compute the sample average of CO2 emissions per capita. How much is it?"
   ]
  },
  {
   "cell_type": "code",
   "execution_count": null,
   "id": "43141d85",
   "metadata": {},
   "outputs": [],
   "source": [
    "# your code here ..."
   ]
  },
  {
   "cell_type": "markdown",
   "id": "ddd6fcae",
   "metadata": {},
   "source": [
    "## Exercise 3: Write Nice Functions for your Estimators <a name=\"Exercise-3:-Write-Nice-Functions-for-your-Estimators\"></a>\n",
    "- Now we have one function for the sample mean estimator (with the fix). True Python coders would tell you that an efficient function should not have more than 5 lines max. So to have a **clean and efficient code**, what you should do is split this single function in multiple functions. \n",
    "- There are many ways to do this, but let's follow the logic of the function at hand:\n",
    "    - The first chunk of your function `sample_mean_estimator(data, y, x)` reads data and transforms it into matrixes. Take that chunk out and write a stand-alone function that transforms data into matrixes, which you can call `data_to_matrix(data, variab_name)` (your function has 2 arguments).\n",
    "    - Tips: you can also look at the code of the updated function `sample_mean_estimator(data, y, x)` below as a hint on what you are supposed to do here."
   ]
  },
  {
   "cell_type": "code",
   "execution_count": null,
   "id": "afee95c8",
   "metadata": {},
   "outputs": [],
   "source": [
    "# your code here ..."
   ]
  },
  {
   "cell_type": "markdown",
   "id": "63c8441b",
   "metadata": {},
   "source": [
    "- Now your function `sample_mean_estimator(data, y, x)` only has the second chunk of code. We should re-define it so that it uses the function `data_to_matrix`. I give you the solution here:"
   ]
  },
  {
   "cell_type": "code",
   "execution_count": null,
   "id": "8431a41d",
   "metadata": {},
   "outputs": [],
   "source": [
    "# define sample mean function\n",
    "def sample_mean_estimator(data, y, x):\n",
    "    \n",
    "    \"\"\" My Sample Mean Function \"\"\"\n",
    "    \n",
    "    # store in matrixes\n",
    "    ydata = data_to_matrix(data, variab_name = y)\n",
    "    xdata = data_to_matrix(data, variab_name = x)\n",
    "\n",
    "    # get sample mean\n",
    "    beta_hat = (inv(xdata.T @ xdata)) @ (xdata.T @ ydata)\n",
    "\n",
    "    # return\n",
    "    return float(beta_hat)"
   ]
  },
  {
   "cell_type": "markdown",
   "id": "febf6812",
   "metadata": {},
   "source": [
    "- Run this updated function to get the sample mean estimate of CO2 emissions per capita, and compare the results with a built in (\"canned\") function called `st.mean` using a logical operator (such as `np.allclose`). Tips:\n",
    "    - The formulas inside the function `st.mean` can be a bit different than our matrix formulas (you should look inside by using `??`). For this reason, the output might come out some decimals different, so the operator `==` will not work."
   ]
  },
  {
   "cell_type": "code",
   "execution_count": null,
   "id": "e686046d",
   "metadata": {},
   "outputs": [],
   "source": [
    "# your code here ..."
   ]
  },
  {
   "cell_type": "markdown",
   "id": "4c6a1912",
   "metadata": {},
   "source": [
    "- Write a function for the sample variance estimator and use it to obtain the sample variance estimate for CO2 emissions per capita. Tips:\n",
    "    - you should call this function `sample_variance_estimator(data, y, x, sample_mean)` (it has 4 arguments, where the 4th one is the outcome of your sample-mean function). \n",
    "    - This function should have a similar structure than the function `sample_mean_estimator`, for example, the first part should use the function `data_to_matrix`, and the second part should apply the matrix formulas of the sample-variance estimator.\n",
    "    - As an intermediate step to get the sample variance, you can get the residuals like this `resid = (ydata - np.dot(sample_mean, xdata))`, and then use them to get the sample variance (all from the matrix formulas)."
   ]
  },
  {
   "cell_type": "code",
   "execution_count": null,
   "id": "85878da6",
   "metadata": {},
   "outputs": [],
   "source": [
    "# your code here ..."
   ]
  },
  {
   "cell_type": "markdown",
   "id": "8ba570de",
   "metadata": {},
   "source": [
    "- Write a stand-alone function for the estimator Standard Error of the Mean (SEM) and obtain the SEM estimate for CO2 emissions per capita. Tips:\n",
    "    - you should call this function `sem_estimator(data, y, x, sample_mean)` (it has 4 arguments, where the 4th one is the outcome of your sample-mean function). \n",
    "    - It should have a similar structure than the function `sample_variance_estimator`"
   ]
  },
  {
   "cell_type": "code",
   "execution_count": null,
   "id": "58e634c0",
   "metadata": {},
   "outputs": [],
   "source": [
    "# your code here ..."
   ]
  },
  {
   "cell_type": "markdown",
   "id": "41b1675c",
   "metadata": {},
   "source": [
    "## Exercise 4: Statistical Test with the Sample Mean <a name=\"Exercise-4:-Statistical-Test-with-the-Sample-Mean\"></a>\n"
   ]
  },
  {
   "cell_type": "markdown",
   "id": "7d19b95b",
   "metadata": {},
   "source": [
    "- Let's now rely on the knowledge we have on **statistical tests** from the exercises of last class to write a function that does a one sample z-test on whether the estimate of the mean is significantly different from zero at the 5% level.\n",
    "- Remember? In the exercises, we have done (i) z-test with known variance, with z-score following a standard normal distribution, (ii) t-test with unknown variance, with t-statistic following a T-student distribution with $N-1$ degrees of freedom. \n",
    "- Thanks to the Central Limit Theorem (which we saw last time), we know that, as the sample size increases, the sample-mean estimator $\\hat{\\beta}$ always follows a normal distribution. It turns out that, thanks to the same theorem, as the sample size increases, the t-statistic also follows a standard normal distribution. Therefore, we can do a test with unknown variance using the functions and critical values of the normal distribution, such as `st.NormalDist()` and `stats.norm.ppf()`, rather than the functions and critical values of the t-student distribution (i.e. `stats.t.cdf()` and `stats.t.ppf()`).\n",
    "- Write a function that computes the z-score, p value, and the confidence interval for the sample mean and use it to test if the population mean of CO2 emissions per capita is different than zero, considering the estimate of the sample mean obtained above. Tips:\n",
    "    - Most of the code is in the exercises of last class\n",
    "    - You can call your function `one_sample_z_test(sample_mean, sem, beta_null = 0, significance_level = 0.05)` (4 arguments, with the first two being the obtained estimate for the sample mean and the obtained estimate for the standard error of the mean).\n"
   ]
  },
  {
   "cell_type": "code",
   "execution_count": null,
   "id": "da6564bc",
   "metadata": {},
   "outputs": [],
   "source": [
    "# your code here ..."
   ]
  },
  {
   "cell_type": "markdown",
   "id": "d09d6f21",
   "metadata": {},
   "source": [
    "- Use the function to test if the mean of the population of CO2 emissions per capita is different from zero and compare the results with a built-in (\"canned\") function `stats.weightstats.ztest` from the `statsmodels` package, using a logical operator. Tips:\n",
    "    - Again you should be using `np.allclose` and not `==`."
   ]
  },
  {
   "cell_type": "code",
   "execution_count": null,
   "id": "31562de4",
   "metadata": {},
   "outputs": [],
   "source": [
    "# your code here ..."
   ]
  },
  {
   "cell_type": "markdown",
   "id": "19a94634",
   "metadata": {},
   "source": [
    "- OK so to **recap** you have written functions for sample-mean, variance and standar-error estimators, and you have obtained estimates from all of these on a sample of CO2 emissions per capita at the country level. You have also run a statistical test to test whether the sample-mean estimate is significantly different than 0 at the 5% confidence level, using both t statistic / p value and confidence interval. \n",
    "- Use the functions developed above to display the results all together here below and comment them using the statistical \"phrasing\" you have learned. Tips:\n",
    "    - This should not take you more than 5 lines of code.\n",
    "    - The phrasing should be something along the lines of \"The sample mean for CO2 emissions per capita is ... and based on this estimate and our statistical test we can tell that the mean of the population is ...\"."
   ]
  },
  {
   "cell_type": "code",
   "execution_count": null,
   "id": "ab0f1850",
   "metadata": {},
   "outputs": [],
   "source": [
    "# your code here ..."
   ]
  },
  {
   "cell_type": "markdown",
   "id": "e2ec2e69",
   "metadata": {},
   "source": [
    "Your answer here ..."
   ]
  },
  {
   "cell_type": "code",
   "execution_count": null,
   "id": "4074d93d",
   "metadata": {},
   "outputs": [],
   "source": []
  }
 ],
 "metadata": {
  "kernelspec": {
   "display_name": "Python 3 (ipykernel)",
   "language": "python",
   "name": "python3"
  },
  "language_info": {
   "codemirror_mode": {
    "name": "ipython",
    "version": 3
   },
   "file_extension": ".py",
   "mimetype": "text/x-python",
   "name": "python",
   "nbconvert_exporter": "python",
   "pygments_lexer": "ipython3",
   "version": "3.9.13"
  }
 },
 "nbformat": 4,
 "nbformat_minor": 5
}
