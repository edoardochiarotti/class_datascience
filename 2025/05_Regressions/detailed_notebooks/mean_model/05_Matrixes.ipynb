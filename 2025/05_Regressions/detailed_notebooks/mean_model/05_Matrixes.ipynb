{
 "cells": [
  {
   "cell_type": "markdown",
   "id": "e83070a5",
   "metadata": {},
   "source": [
    "<a href=\"https://colab.research.google.com/github/edoardochiarotti/class_datascience/blob/main/2024/05_Mean-Model/05_Matrixes.ipynb\" target=\"_blank\" rel=\"noopener\"><img src=\"https://colab.research.google.com/assets/colab-badge.svg\" alt=\"Open In Colab\"/></a>"
   ]
  },
  {
   "cell_type": "markdown",
   "id": "29366f04",
   "metadata": {},
   "source": [
    "# Matrix Operations in Python"
   ]
  },
  {
   "cell_type": "code",
   "execution_count": null,
   "id": "57a605a2",
   "metadata": {},
   "outputs": [],
   "source": [
    "# PACKAGES\n",
    "import numpy as np\n",
    "import pandas as pd\n",
    "%matplotlib inline\n",
    "import matplotlib.pyplot as plt\n",
    "import seaborn as sns\n",
    "import scipy.stats as stats\n",
    "import statistics as st\n",
    "import statsmodels.api as sm\n",
    "\n",
    "# FUNCTIONS FROM PACKAGES\n",
    "from numpy.linalg import inv\n",
    "\n",
    "# SEABORN THEME\n",
    "scale = 0.4\n",
    "W = 16*scale\n",
    "H = 9*scale\n",
    "sns.set(rc = {'figure.figsize':(W,H)})\n",
    "sns.set_style(\"white\")"
   ]
  },
  {
   "cell_type": "markdown",
   "id": "86257088",
   "metadata": {
    "slideshow": {
     "slide_type": "slide"
    }
   },
   "source": [
    "- In this section we will quickly cover basic matrix operations in Python. For a review of matrix algebra using Python, you can read this [QuantEcon article](https://datascience.quantecon.org/scientific/applied_linalg.html) on applied linear algebra, until \"Inverse\" included. A more advanced introduction to linear algebra by QuantEcon is [here](https://python.quantecon.org/linear_algebra.html).\n",
    "- The **Python** package to work with vectors and matrixes is `Numpy`. Let's start creating some vectors and matrixes using numpy arrays:"
   ]
  },
  {
   "cell_type": "code",
   "execution_count": null,
   "id": "45ad0d63",
   "metadata": {
    "slideshow": {
     "slide_type": "slide"
    }
   },
   "outputs": [],
   "source": [
    "# matrixes\n",
    "X1 = np.reshape(np.arange(6), (3, 2))\n",
    "X2 = np.array([[1, 2], [3, 4], [5, 6], [7, 8]])\n",
    "X3 = np.array([[2, 5, 2], [1, 2, 1]])\n",
    "X4 = np.ones((2, 3))\n",
    "\n",
    "# vectors\n",
    "Y1 = np.array([1, 2, 3])\n",
    "Y2 = np.array([0.5, 0.5])"
   ]
  },
  {
   "cell_type": "markdown",
   "id": "cee4332a",
   "metadata": {
    "slideshow": {
     "slide_type": "skip"
    }
   },
   "source": [
    "- Let's now multiply 2 matrixes. For a refresher on **matrix multiplication**, you can check the page [Wikipedia, Matrix Multiplication](https://en.wikipedia.org/wiki/Matrix_multiplication).\n",
    "- For matrix multiplication, the number of columns in the first matrix must be equal to the number of rows in the second matrix. The resulting matrix, known as the matrix product, has the number of rows of the first and the number of columns of the second matrix. The product of matrices $\\bf{A}$ and $\\bf{B}$ is denoted as $\\bf{AB}$.\n",
    "- At the beginning, it's a good practice to always (always) write down the matrix dimensions as we write them down and we do operations with them. In python, you can display this information with `np.shape`:"
   ]
  },
  {
   "cell_type": "code",
   "execution_count": null,
   "id": "0bb744dc",
   "metadata": {
    "slideshow": {
     "slide_type": "slide"
    }
   },
   "outputs": [],
   "source": [
    "print(np.shape(X1)) # 3x2\n",
    "print(np.shape(X4)) # 2x3"
   ]
  },
  {
   "cell_type": "markdown",
   "id": "7ccb8d5b",
   "metadata": {
    "slideshow": {
     "slide_type": "skip"
    }
   },
   "source": [
    "- OK it looks these two matrixes can be multiplied (the number of columns in the first matrix, i.e. 2, equals the number of rows in the second matrix, i.e. 2). Let's use the command `@` to multiply them, which is the same of `np.dot`:"
   ]
  },
  {
   "cell_type": "code",
   "execution_count": null,
   "id": "d1aed88c",
   "metadata": {
    "slideshow": {
     "slide_type": "fragment"
    }
   },
   "outputs": [],
   "source": [
    "X1 @ X4"
   ]
  },
  {
   "cell_type": "markdown",
   "id": "cbc4a058",
   "metadata": {
    "slideshow": {
     "slide_type": "slide"
    }
   },
   "source": [
    "- The resulting matrix (np.array) is a 3-by-3 matrix, or matrix of size $3\\times3$.\n",
    "- We can also multiply a vector with a matrix:"
   ]
  },
  {
   "cell_type": "code",
   "execution_count": null,
   "id": "d839f2ac",
   "metadata": {},
   "outputs": [],
   "source": [
    "np.shape(Y1) # 1x3\n",
    "np.shape(X1) # 3x2\n",
    "Y1 @ X1"
   ]
  },
  {
   "cell_type": "markdown",
   "id": "a4d275c4",
   "metadata": {},
   "source": [
    "- Great. Let's now do the transpose of a matrix. In linear algebra, the **transpose** of a matrix is an operator which flips a matrix over its diagonal ([Wikipedia, Transpose](https://en.wikipedia.org/wiki/Transpose)).\n",
    "- We can use the `.T` method of a `numpy.array`:"
   ]
  },
  {
   "cell_type": "code",
   "execution_count": null,
   "id": "41395eda",
   "metadata": {},
   "outputs": [],
   "source": [
    "X = np.array([[1, 2, 3], [4, 5, 6], [7, 8, 9]])\n",
    "print(X)\n",
    "print(X.T)"
   ]
  },
  {
   "cell_type": "markdown",
   "id": "74f2d343",
   "metadata": {},
   "source": [
    "- A matrix that we'll use a lot is the **identity matrix**. In linear algebra, the identity matrix of size $N$ is the $N\\times N$ square matrix with ones on the main diagonal and zeros elsewhere ([Wikipedia, Identity Matrix](https://en.wikipedia.org/wiki/Identity_matrix)).\n",
    "- When $\\bf{A}$ is an $m\\times n$ matrix, it is a property of matrix multiplication that $I_m\\bf{A}=\\bf{A}I_n=A$.\n",
    "- In Python we can create identity matrixes with `np.eye`:"
   ]
  },
  {
   "cell_type": "code",
   "execution_count": null,
   "id": "ab10a41a",
   "metadata": {},
   "outputs": [],
   "source": [
    "I = np.eye(3)\n",
    "X = np.reshape(np.arange(9), (3, 3))\n",
    "Y = np.array([1, 2, 3])\n",
    "\n",
    "print(\"I @ x\", \"\\n\", I @ X)\n",
    "print(\"x @ I\", \"\\n\", X @ I)\n",
    "print(\"I @ y\", \"\\n\", I @ Y)\n",
    "print(\"y @ I\", \"\\n\", Y @ I)"
   ]
  },
  {
   "cell_type": "markdown",
   "id": "2804845e",
   "metadata": {},
   "source": [
    "- We'll also use a lot **matrix inversion**. An $N \\times N$ square matrix $\\bf{A}$ is called invertible (or nonsingular) if there exist an $N \\times N$ square matrix $\\bf{B}$ such that $\\bf{A}B=BA=I$ ([Wikipedia, Invertible Matrix](https://en.wikipedia.org/wiki/Invertible_matrix)).\n",
    "- In the theory of vector spaces, a set of vectors is said to be linearly dependent if there is a nontrivial linear combination of the vectors that equals the zero vector. If no such linear combination exists, then the vectors are said to be linearly independent ([Wikipedia, Linear Indipendence](https://en.wikipedia.org/wiki/Linear_independence)). In linear algebra, the rank of a matrix $\\bf{A}$ is the maximal number of linearly independent columns of $\\bf{A}$ ([Wikipedia, Rank](https://en.wikipedia.org/wiki/Rank_(linear_algebra))). If $\\bf{A}$ is a $N \\times N$ square matrix, then A is invertible if and only if A has rank $N$ (that is, A has full rank).\n",
    "- The determinant is a scalar value that is a function of the entries of a square matrix. It allows characterizing some properties of the matrix and the linear map represented by the matrix ([Wikipedia, Determinant](https://en.wikipedia.org/wiki/Determinant)).\n",
    "- Here is the formula for inverting a $2 \\times 2$ square matrix $\\bf{A}$:\n",
    "<br><br>\n",
    "$$\n",
    "\\boldsymbol{A}^{-1}=\n",
    "\\begin{bmatrix}\n",
    "a & b \\\\\n",
    "c & d \n",
    "\\end{bmatrix}^{-1} = \n",
    "\\frac{1}{det(\\boldsymbol{A})}\n",
    "\\begin{bmatrix}\n",
    "d & -b \\\\\n",
    "-c & a \n",
    "\\end{bmatrix} = \n",
    "\\frac{1}{ad-bc}\n",
    "\\begin{bmatrix}\n",
    "d & -b \\\\\n",
    "-c & a \n",
    "\\end{bmatrix}\n",
    "$$"
   ]
  },
  {
   "cell_type": "markdown",
   "id": "9b53fe87",
   "metadata": {},
   "source": [
    "- In Python we can use the `numpy` function `linalg.inv`, which is here imported as `inv`:"
   ]
  },
  {
   "cell_type": "code",
   "execution_count": null,
   "id": "7bbd330e",
   "metadata": {},
   "outputs": [],
   "source": [
    "A = np.array([[2, 0], [3, 1]])\n",
    "\n",
    "print(\"This is A inverse\")\n",
    "print(inv(A))\n",
    "\n",
    "print(\"Check that A @ A inverse is I\")\n",
    "print(inv(A) @ A)"
   ]
  }
 ],
 "metadata": {
  "kernelspec": {
   "display_name": "Python 3 (ipykernel)",
   "language": "python",
   "name": "python3"
  },
  "language_info": {
   "codemirror_mode": {
    "name": "ipython",
    "version": 3
   },
   "file_extension": ".py",
   "mimetype": "text/x-python",
   "name": "python",
   "nbconvert_exporter": "python",
   "pygments_lexer": "ipython3",
   "version": "3.9.13"
  }
 },
 "nbformat": 4,
 "nbformat_minor": 5
}
