{
 "cells": [
  {
   "cell_type": "markdown",
   "id": "d750564c-2798-46ec-8cca-470a228347fa",
   "metadata": {},
   "source": [
    "<a href=\"https://colab.research.google.com/github/edoardochiarotti/class_datascience/blob/main/2024/03_EDA-Visualization/03_EDA_Practice.ipynb\" target=\"_blank\" rel=\"noopener\"><img src=\"https://colab.research.google.com/assets/colab-badge.svg\" alt=\"Open In Colab\"/></a>"
   ]
  },
  {
   "cell_type": "code",
   "execution_count": null,
   "id": "e436a3dc-f906-401b-b2e5-c1d74c380867",
   "metadata": {
    "tags": []
   },
   "outputs": [],
   "source": [
    "# PACKAGES\n",
    "import numpy as np\n",
    "import pandas as pd\n",
    "import matplotlib.pyplot as plt \n",
    "import seaborn as sns\n",
    "import plotly.express as px"
   ]
  },
  {
   "cell_type": "markdown",
   "id": "342dcda5-9c6a-423e-862d-0e88571288a0",
   "metadata": {},
   "source": [
    "# EDA Practice\n",
    "\n",
    "<img src='https://miro.medium.com/v2/resize:fit:750/format:webp/1*bNSd-pm4XjkOV7uSTNAfnA.jpeg' width=\"450\">\n",
    "\n",
    "Source: [EDA, Data Preprocessing, Feature Engineering: We are different!](https://medium.com/@ndleah/eda-data-preprocessing-feature-engineering-we-are-different-d2a5fa09f527), Leah Nguyen"
   ]
  },
  {
   "cell_type": "markdown",
   "id": "777ec85b-d981-475e-bdcf-ed21cb172975",
   "metadata": {
    "tags": []
   },
   "source": [
    "## Content\n",
    "\n",
    ">  More than anything, EDA is a state of mind ([Grolemund & Wickham, 2016](https://r4ds.had.co.nz/exploratory-data-analysis.html))\n",
    "\n",
    "Exploratory Data Analysis (EDA) is the very first step before developing a statistical or ML model to answer business problems. Our goal is to get acquainted with the important traits of our data set by using descriptive statistics and visualization tools. To learn more about descriptive statistics, graphs and graph libraries in Python, you should read the notebook \"03_EDA_Data-visualization\". \n",
    "\n",
    "In this notebook, we will explore some indicators from [The Quality of Government Environmental Indicators Dataset](https://www.gu.se/en/quality-government/qog-data/data-downloads/environmental-indicators-dataset). Instead on importing the raw data, we will pick it up from where we left off in our previous practice on data cleaning, importing the dataset we created in that notebook. \n",
    "\n",
    "*Reference: Povitkina, Marina, Natalia Alvarado Pachon & Cem Mert Dalli. 2021. The Quality of Government Environmental Indicators Dataset, version Sep21. University of Gothenburg: The Quality of Government Institute, https://www.gu.se/en/quality-government*\n",
    "\n",
    "We will apply the [recipe to empirically answer any question quickly](https://medium.com/towards-data-science/a-recipe-to-empirically-answer-any-question-quickly-22e48c867dd5) by Quentin Gallea, exploring how climate change and consumption patterns affect biodiversity, and more precisely, fishing biocapacity. We will follow these steps:\n",
    "\n",
    "- [Select our ingredients](#select-ingredients)\n",
    "- [Pick the right quantity of each ingredient](#pick-ingredients)\n",
    "- [Tasting and preparing the ingredients (univariate analysis)](#taste-ingredients)\n",
    "- [Cooking the ingredients together (bivariate analysis)](#cooking-ingredients)\n",
    "- [Tasting the new recipe](#tasting-ingredients)\n",
    "\n",
    "\n",
    "\n",
    "**We imported packages at the top of this notebook, do not forget to run the top cell to import the necessary packages!** Feel free to import other libraries if needed.\n"
   ]
  },
  {
   "cell_type": "markdown",
   "id": "95fb4496-5968-4b65-b811-37a5e81a156d",
   "metadata": {
    "tags": []
   },
   "source": [
    "## Select our ingredients <a name=\"select-ingredients\"></a>\n",
    "\n",
    "<img src='https://i.imgflip.com/815iqf.jpg' width=\"500\">\n"
   ]
  },
  {
   "cell_type": "markdown",
   "id": "3205535f-c0b6-4047-b924-6c5ba953a011",
   "metadata": {},
   "source": [
    "Let's import the CSV file \"df_qog_polity\", obtained from our last practice."
   ]
  },
  {
   "cell_type": "code",
   "execution_count": null,
   "id": "a87e42cf-fbb6-4938-8629-5e21489440c3",
   "metadata": {
    "tags": []
   },
   "outputs": [],
   "source": [
    "url = 'https://raw.githubusercontent.com/thurmboris/Data-Science_4_Sustainability/main/data/df_qog_polity.csv'\n",
    "df = pd.read_csv(url)"
   ]
  },
  {
   "cell_type": "markdown",
   "id": "44a704ca-64d2-41aa-b134-9c79b48516b7",
   "metadata": {},
   "source": [
    "Our first step is to select our ingredients, i.e., the variables we are interested in. \n",
    "\n",
    "In this notebook we will explore the following question:\n",
    "\n",
    "*How do sea surface temperature (SST) anomalies affect fishing ground biocapacity?*\n",
    "\n",
    "We could think that SST anomalies is reducing the biosphere's ability to produce seafood. Indeed, since most marine animals live in the upper layers of the water body, excess temperature could diminish the livability of these layers, forcing fishes to migrate, for example, to deeper zones, in turn affecting their ability to reproduce because:\n",
    "- eggs may properly develop only at given temperature,\n",
    "- changes in natural characteristics (e.g., terrain) may make breeding impossible, \n",
    "- changes in local food chain could make breeding more difficult.\n",
    "\n",
    "In addition, a high fish consumption could exert additional pressure on the biosphere, while more stringent environmental regulation could lower this pressure. Hence we should also consider these factors in our analysis. \n",
    "\n",
    "Is our assumption correct? Let's explore! \n",
    "\n",
    "Here are the variables that we selected to answer our research question:\n",
    "- **outcome variable**: Fishing ground biocapacity per capita (ef_fg_bc), which is the ability of a biosphere to produce seafood (the amount of fishing grounds available, weighted by the productivity of fishing grounds) per capita;\n",
    "- **main explanatory variable**: SST anomalies (ohi_csst), which is the number of positive temperature deviations (anomalies) that exceed the natural range of variation for a given location, i.e., the frequency with which a location experiences unnaturally warm temperature;\n",
    "- **additional explanatory variable**: Fish footprint of consumption (gha per person) (ef_fg), calculated based on estimates of the maximum sustainable catch for a variety of fish species.\n",
    "- **additional explanatory variable**:  Number of climate change laws and policies (ccl_nlp), which is the cumulative sum of laws (legislative acts) and policies (executive provisions) related to climate change\n",
    "\n",
    "You can learn more about these variables in the [QoG codebook](https://www.qogdata.pol.gu.se/data/codebook_ei_sept21_august2023.pdf). \n",
    "\n",
    "Ok, let's extract these variables:\n",
    "\n",
    "- Extract in a new dataframe the columns 'iso3', 'year', 'cname_qog', 'ef_fg_bc', 'ohi_csst', 'ef_fg', and 'ccl_nlp'.\n",
    "- Rename the column 'cname_qog' as 'country'\n",
    "- Display your dataframe"
   ]
  },
  {
   "cell_type": "code",
   "execution_count": null,
   "id": "a7418848-eb67-485e-9658-21e50559be19",
   "metadata": {
    "tags": []
   },
   "outputs": [],
   "source": [
    "# Your code here...\n"
   ]
  },
  {
   "cell_type": "markdown",
   "id": "e257cbd0-b049-48b4-afa8-005f0cf20672",
   "metadata": {},
   "source": [
    "## Pick the right quantity of each ingredient <a name=\"pick-ingredients\"></a>\n",
    "\n",
    "<img src='https://i.imgflip.com/81615v.jpg' width=\"400\">"
   ]
  },
  {
   "cell_type": "markdown",
   "id": "d78e805f-135c-40ee-8c59-aae139e77a39",
   "metadata": {},
   "source": [
    "Our objective is to explore the data availability of our variables and select a clean sample for the analysis.\n",
    "\n",
    "- First, use the `.describe()` method ([Documentation](https://pandas.pydata.org/docs/reference/api/pandas.DataFrame.describe.html)) to generate descriptive statistics of our variables\n",
    "- What do you notice regarding the number of observations?"
   ]
  },
  {
   "cell_type": "code",
   "execution_count": null,
   "id": "376cb406-9c01-402f-8f98-677a673cfc97",
   "metadata": {
    "tags": []
   },
   "outputs": [],
   "source": [
    "# Your code here...\n"
   ]
  },
  {
   "cell_type": "markdown",
   "id": "966eea1c-7c64-4186-9192-5904f80e63dd",
   "metadata": {},
   "source": [
    "Although we have 11'722 observations overall, we only have 148 non missing SST anomalies values, and 6'201 non missing ecological footprint values. Let's try to better understand where those missing values are coming from.\n",
    "\n",
    "- Create a new dataframe grouping the observations by year and counting the number of non missing values for the variables 'ef_fg_bc', 'ohi_csst', and 'ef_fg'. You can use the methods `.groupby()` ([Documentation](https://pandas.pydata.org/pandas-docs/stable/reference/api/pandas.DataFrame.groupby.html)) and `.count()` ([Documentation](https://pandas.pydata.org/docs/reference/api/pandas.DataFrame.count.html))\n",
    "- In this new dataframe, remove the rows that have zero non missing observations for our 3 variables\n",
    "- Display your new dataframe, what do you observe?"
   ]
  },
  {
   "cell_type": "code",
   "execution_count": null,
   "id": "c0ecf66e-cb08-4ca0-9bb3-d2144a30e1f3",
   "metadata": {
    "tags": []
   },
   "outputs": [],
   "source": [
    "# Your code here...\n"
   ]
  },
  {
   "cell_type": "markdown",
   "id": "431b348a-3021-4f67-9e72-070d29d713d4",
   "metadata": {},
   "source": [
    "Unfortunately, we only have SST anomalies for the year 2015... It will significantly limit our analysis as it prevents to exploit the time dimension. For the ecological footprint variables, our number of observations is increasing through time. To have a relatively constant sample size, we will restrict to years from 1993 to 2015. We will also only keep countries for which we have observations for our outcome variable, namely fishing ground biocapacity per capita:\n",
    "\n",
    "- Create a new dataframe keeping only the observations between 1993 to 2015 and for which the variable 'ef_fg_bc' is not missing"
   ]
  },
  {
   "cell_type": "code",
   "execution_count": null,
   "id": "67a49767-d4aa-47a3-91df-2d4df85b3361",
   "metadata": {
    "tags": []
   },
   "outputs": [],
   "source": [
    "# Your code here...\n"
   ]
  },
  {
   "cell_type": "markdown",
   "id": "806f07a9-82dc-499f-b029-33053d1795d7",
   "metadata": {},
   "source": [
    "Let's visualize our geographical coverage!\n",
    "\n",
    "- Create a new dataframe counting the number of observations for each iso 3 code\n",
    "- Create an interactive map displaying the number of observations for each country. Do not forget to add a title to your graph. You can also use different [color theme](https://plotly.com/python/builtin-colorscales/). What do you think?"
   ]
  },
  {
   "cell_type": "code",
   "execution_count": null,
   "id": "defe2585-5720-4fb0-ab01-3980310d44ab",
   "metadata": {
    "tags": []
   },
   "outputs": [],
   "source": [
    "# Your code here...\n"
   ]
  },
  {
   "cell_type": "markdown",
   "id": "5551d288-a078-4ca9-8d57-c952571db66a",
   "metadata": {},
   "source": [
    "We have a nice geographical coverage, covering all continents, and most countries have +20 observations. Cool!"
   ]
  },
  {
   "cell_type": "markdown",
   "id": "4def8575-0598-4548-a99f-acaa9d98702e",
   "metadata": {
    "tags": []
   },
   "source": [
    "## Tasting and preparing the ingredients (univariate analysis) <a name=\"taste-ingredients\"></a>\n",
    "\n",
    "<img src='https://i.imgflip.com/81630v.jpg' width=\"500\">"
   ]
  },
  {
   "cell_type": "markdown",
   "id": "216db01a-0b30-4de3-acb6-d3f9b3132b05",
   "metadata": {},
   "source": [
    "Our objectives are threefold:\n",
    "- Prepare the data: by studying the distribution of the variables, we will decide if we should transform the data (e.g., log-transform, define a categorical variable, deal with outliers, etc.)\n",
    "- Choose the right statistical tools: knowing the nature of each variable (continuous, categorical, binary, etc.) will allows us to choose the right statistical tools (correlation, bar/line graphs, scatter plot, etc).\n",
    "- Get an idea of the underlying variation: looking at how the variable varies over time (line graph) and space (map), will help us better understand the data and potentially spot some anomalies or interesting shocks to exploit for a natural experiment.\n",
    "\n",
    "Ok, before digging more carefully into each variable, let's have an overview of how our variables are distributed:\n",
    "\n",
    "- Display descriptive statistics for our selected sample"
   ]
  },
  {
   "cell_type": "code",
   "execution_count": null,
   "id": "432d7db6-276a-4876-97bb-44a1e4b32165",
   "metadata": {
    "tags": []
   },
   "outputs": [],
   "source": [
    "# Your code here...\n"
   ]
  },
  {
   "cell_type": "markdown",
   "id": "dc725230-79b7-4280-abc6-fae74a38c55c",
   "metadata": {},
   "source": [
    "- Create box plots of the variables 'ef_fg_bc', 'ohi_csst', and 'ef_fg'. What do you observe?\n",
    "\n",
    "*Note: you can create several plots next to each other by using `fig, ax = plt.subplots(1, 3, figsize=(10, 5))`. In `plt.subplots(1,3,figsize=(10,5))`, 1 refers to the number of rows, and 3 to the number of columns: here we would have 3 plots next to each other. You specify the location of each plot thanks to `ax`: here `ax[0]` would be the left plot, `ax[1]` the middle one, and `ax[2]` the right one.*"
   ]
  },
  {
   "cell_type": "code",
   "execution_count": null,
   "id": "31e7aa63-ab05-4bbc-aa53-ddd0c81321b6",
   "metadata": {
    "tags": []
   },
   "outputs": [],
   "source": [
    "# Your code here...\n"
   ]
  },
  {
   "cell_type": "markdown",
   "id": "499daba4-3d8b-432c-8543-51cdf978c806",
   "metadata": {},
   "source": [
    "It seems that our ecological footprint variables have a lot of outliers. In other words, they are highly-skewed. Let's continue the exploration."
   ]
  },
  {
   "cell_type": "markdown",
   "id": "d776a093-41ab-4bd3-9be3-1a5bd7196960",
   "metadata": {},
   "source": [
    "### Fishing ground biocapacity per capita\n",
    "\n",
    "Let's explore our first variable, namely the fishing ground biocapacity per capita\n",
    "\n",
    "- Plot a histogram of the column 'ef_fg_bc'"
   ]
  },
  {
   "cell_type": "code",
   "execution_count": null,
   "id": "d1b87c72-aa49-4f57-b380-3923cb291bd7",
   "metadata": {
    "tags": []
   },
   "outputs": [],
   "source": [
    "# Your code here\n"
   ]
  },
  {
   "cell_type": "markdown",
   "id": "8506ef39-ae83-4377-bc08-32f81eeefc7b",
   "metadata": {},
   "source": [
    "The histogram confirms that our variable is highly skewed.\n",
    "\n",
    "- Print the skewness of the variable 'ef_fg_bc'"
   ]
  },
  {
   "cell_type": "code",
   "execution_count": null,
   "id": "3433b7b9-8981-4b7a-9476-cf746b91574c",
   "metadata": {
    "tags": []
   },
   "outputs": [],
   "source": [
    "# Your code here...\n"
   ]
  },
  {
   "cell_type": "markdown",
   "id": "fe5cf641-51ee-4443-ae5c-16693b671119",
   "metadata": {},
   "source": [
    "The skewness is very high. As a rule of thumb, when the skewness is larger than 3, it is a good idea to do a log transformation. However, we have another issue here: it seems that many observations may be equal to zero. To better understand what is happening, let's check for which countries we have values equal to 0.\n",
    "\n",
    "- Print the countries that have at least one observation equal to zero for the column 'ef_fg_bc'"
   ]
  },
  {
   "cell_type": "code",
   "execution_count": null,
   "id": "85b90ffc-b47d-4318-8f49-1806ced32274",
   "metadata": {
    "tags": []
   },
   "outputs": [],
   "source": [
    "# Your code here...\n"
   ]
  },
  {
   "cell_type": "markdown",
   "id": "74115aa2-1e2e-4551-a647-b7d814ced4e4",
   "metadata": {},
   "source": [
    "We could have assumed that the fishing group biocapacity was zero for countries without access to the sea. However, this is not the case (probably because our variable also includes freshwater fishing ground). Hence, the observations equal to zero may simply be missing values. We will remove them, which will simplify our analysis.\n",
    "\n",
    "- For our \"selected sample\" dataframe, remove the observations for which 'ef_fg_bc' is equal to zero.\n",
    "- Display the new descriptive statistics"
   ]
  },
  {
   "cell_type": "code",
   "execution_count": null,
   "id": "1e433253-e9fe-47f9-80cb-b320e15d0ccd",
   "metadata": {
    "tags": []
   },
   "outputs": [],
   "source": [
    "# Your code here...\n"
   ]
  },
  {
   "cell_type": "markdown",
   "id": "5a353e42-f8fa-4e86-9daa-0f861906b3c4",
   "metadata": {},
   "source": [
    "Alright, now we can transform our data.\n",
    "\n",
    "- Log transform the column 'ef_fg_bc'. You can for instance use the `log` function of the `numpy` library ([Documentation](https://numpy.org/doc/stable/reference/generated/numpy.log.html)), and create a new column 'ef_fg_bc_log' in our dataframe.\n",
    "- Plot a histogram of your log transformed data\n",
    "- Check the skewness of your log transformed data"
   ]
  },
  {
   "cell_type": "code",
   "execution_count": null,
   "id": "b5ae6be6-9987-4924-ae80-55699c120498",
   "metadata": {
    "tags": []
   },
   "outputs": [],
   "source": [
    "# Your code here...\n"
   ]
  },
  {
   "cell_type": "markdown",
   "id": "370af159-b541-4724-98ae-7a7906014d5f",
   "metadata": {},
   "source": [
    "Alright, much better! Let's finalize our exploration of the fishing ground biocapacity per capita by checking the geographical patterns and the evolution through time of the variable\n",
    "\n",
    "- Plot a map of the average 'ef_fg_bc_log' for each country (average of all years). *Note: you can group rows by iso 3 codes, and then use the `.mean()` method*.\n",
    "- Do you observe any geographical patterns?"
   ]
  },
  {
   "cell_type": "code",
   "execution_count": null,
   "id": "29bdf42f-fcbf-425e-b364-de9753b61f5b",
   "metadata": {
    "tags": []
   },
   "outputs": [],
   "source": [
    "# Your code here...\n"
   ]
  },
  {
   "cell_type": "markdown",
   "id": "3c143d29-7d39-4251-a00f-7a6044a4b894",
   "metadata": {},
   "source": [
    "- Plot the evolution of the average 'ef_fg_bc_log' (average of all countries). Do not forget labels and title! What do you observe?"
   ]
  },
  {
   "cell_type": "code",
   "execution_count": null,
   "id": "5a7b90d3-a8b6-4e8a-8406-e392e7f93436",
   "metadata": {
    "tags": []
   },
   "outputs": [],
   "source": [
    "# Your code here...\n"
   ]
  },
  {
   "cell_type": "markdown",
   "id": "d5fb6d25-20ad-474d-9b97-bd4e3b997e92",
   "metadata": {},
   "source": [
    "### Sea surface temperature (SST) anomalies\n",
    "\n",
    "Let's now explore our second variable 'ohi_csst'\n",
    "\n",
    "- Plot a histogram of 'ohi_csst' and check the skewness. Do we need to transform our variable? If yes, transform accordingly, else, continue.\n",
    "- Plot a map of the SST anomalies in 2015. What do you think? \n",
    "\n",
    "*Note: to avoid repeating the same lines of code, it is always a good idea to define functions! We could have done so already in the previous section, but feel free to train how to define functions here, for instance defining a function to create histograms and another one to create a map.*\n"
   ]
  },
  {
   "cell_type": "code",
   "execution_count": null,
   "id": "7f563bf3-9d50-435d-86cb-f20818424ff3",
   "metadata": {
    "tags": []
   },
   "outputs": [],
   "source": [
    "# Your code here...\n"
   ]
  },
  {
   "cell_type": "markdown",
   "id": "36c65504-26d8-4a61-b479-d45711bfb5a8",
   "metadata": {},
   "source": [
    "### Fish footprint of consumption\n",
    "\n",
    "Let's now dive into the fish footprint of consumption.\n",
    "\n",
    "- Plot a histogram of 'ef_fg' and check the skewness. Do we need to transform our variable? If yes, transform accordingly, else, continue.\n",
    "- Plot a map of the average fish footprint of consumption per country. What do you observe? \n",
    "- Plot the evolution of the average fish footprint of consumption in the world. What do you observe?"
   ]
  },
  {
   "cell_type": "code",
   "execution_count": null,
   "id": "e55e6336-5a8b-43ca-bb8d-111666e1be9a",
   "metadata": {
    "tags": []
   },
   "outputs": [],
   "source": [
    "# Your code here...\n"
   ]
  },
  {
   "cell_type": "markdown",
   "id": "d4955196-99c4-43be-96aa-a7ce23e575a5",
   "metadata": {},
   "source": [
    "### Number of climate change laws and policies\n",
    "\n",
    "You may have noticed, we did not discuss much the number of climate change regulations until now. Indeed, we should save it in the fridge to keep it fresh and use at the right moment! Joke aside, it is true that we will manipulate and transform this variable later - data science is not a linear process after all. For now, it is important to note that this variable is discrete, not continuous like the other variables. \n",
    "\n",
    "- Plot a histogram of 'ccl_nlp'.\n",
    "- Plot a map of the number of climate change regulations in 2015"
   ]
  },
  {
   "cell_type": "code",
   "execution_count": null,
   "id": "0e1349b5-920b-40a3-8b30-51a9facfb883",
   "metadata": {
    "tags": []
   },
   "outputs": [],
   "source": [
    "# Your code here...\n"
   ]
  },
  {
   "cell_type": "markdown",
   "id": "ba1a95d6-aa26-4665-a695-863207c8f874",
   "metadata": {},
   "source": [
    "## Cooking the ingredients together (bivariate analysis) <a name=\"cooking-ingredients\"></a>\n",
    "\n",
    "<img src='https://i.imgflip.com/1e0h17.jpg' width=\"400\">"
   ]
  },
  {
   "cell_type": "markdown",
   "id": "c871fa17-f59b-4fe3-b4ba-1031e423b203",
   "metadata": {},
   "source": [
    "Let's now put our ingredients together! Our goal is to detect potential associations between our variables, which will later guide our statistical analysis.\n",
    "\n",
    "First, remember that for SST anomalies, we only had values for 2015. It is not ideal, and if we were to actually perform a statistical analysis, it would be wise to look for more data (maybe from another database?) or to use another variable (maybe temperature anomalies instead of SST anomalies?). But for now, let's proceed with the data at hand.\n",
    "\n",
    "- Extract observations for which the variables 'ohi_csst' and 'ccl_nlp' are not missing"
   ]
  },
  {
   "cell_type": "code",
   "execution_count": null,
   "id": "b60c4554-635b-4c39-9825-d0008f486d5d",
   "metadata": {
    "tags": []
   },
   "outputs": [],
   "source": [
    "# You code here...\n"
   ]
  },
  {
   "cell_type": "markdown",
   "id": "99d02f3e-2889-4237-9956-72fea8675356",
   "metadata": {},
   "source": [
    "We'll first check the correlations between our variables. Even though correlation does not imply causation, it's never a bad idea to check how our variables correlate.\n",
    "\n",
    "- Display the correlation between the variables 'ef_fg_bc_log' (log transformed), 'ohi_csst', and 'ef_fg_log' (log transformed). *Note: you can use the `pandas` method `.corr()` ([Documentation](https://pandas.pydata.org/docs/reference/api/pandas.DataFrame.corr.html))*\n",
    "- For a more visual representation, plot a heat map of your correlation matrix. *Note: you can for instance use the `seaborn` function `heatmap()` ([Documentation](https://seaborn.pydata.org/generated/seaborn.heatmap.html))*"
   ]
  },
  {
   "cell_type": "code",
   "execution_count": null,
   "id": "a8533222-a87a-47f3-bd0a-980f2c89943c",
   "metadata": {
    "tags": []
   },
   "outputs": [],
   "source": [
    "# Your code here...\n"
   ]
  },
  {
   "cell_type": "markdown",
   "id": "e7c6febc-ec1c-4492-b1a0-ea1102a87a6f",
   "metadata": {},
   "source": [
    "Note that the absence of (Pearson)-correlation does not indicate an absence of causation. Indeed, there could be a non-linear association between our variables! A scatter plot provides a visual tool to check the relation between our variables.\n",
    "\n",
    "- Plot two scatter plots:\n",
    "    - 'ef_fg_bc' (log transformed) vs 'ohi_csst'\n",
    "    - 'ef_fg_bc' vs 'ef_fg' (both log transformed)\n",
    "- What do you observe?    "
   ]
  },
  {
   "cell_type": "code",
   "execution_count": null,
   "id": "736cb761-18a5-49a1-bfdb-b27024e87e19",
   "metadata": {
    "tags": []
   },
   "outputs": [],
   "source": [
    "# Your code here...\n",
    "\n"
   ]
  },
  {
   "cell_type": "markdown",
   "id": "9dc159fe-0771-4790-8590-dd2a085fb162",
   "metadata": {},
   "source": [
    "The relation between the fishing ground biocapacity and SST anomalies is not obvious... As for fishing ground biocapacity and fish footprint of consumption, we do have a trend! But wait, it seems that the biocapacity is increasing with the consumption?! When we checked the evolution through time of our variables, they were evolving in the opposite direction, which seemed more in line with our intuition, but here we observe a positive correlation. How is that possible? \n",
    "\n",
    "Well it may be an instance of [Simpson's paradox](https://en.wikipedia.org/wiki/Simpson%27s_paradox). This paradox describes phenomena in which a trend appears in several groups of data but disappears or reverses when the groups are combined. Here, it may be a good idea to group our countries by their GDP level and see if there is a relation between our variables within groups of countries. Indeed, richer countries may have both a greater fish consumption and stricter environmental norms protecting fishing biocapacity (what we observe in our scatter plot). However, for the same level of development, a higher fish footprint of consumption could lead to a lower fishing ground biocapacity (what we observe in our previous line plot). \n",
    "\n",
    "We did not select GDP as a variable - what a shame, however, we could still do a heterogeneity analysis using... the number of climate change regulations! Yes, it is time to take it out of the fridge! Remember that the number of climate change regulation is a discrete variable. In such case, instead of directly using the variable, it may be interesting to create clusters, e.g., countries with value above the median vs countries with value below the mean.\n",
    "\n",
    "- Create a new column 'cluster' with values 0 for countries with 'ccl_nlp' below the median, and 1 for countries with 'ccl_nlp' above the median"
   ]
  },
  {
   "cell_type": "code",
   "execution_count": null,
   "id": "998b9795-ed7d-4327-8ca4-0631f8195ba0",
   "metadata": {
    "tags": []
   },
   "outputs": [],
   "source": [
    "# Your code here...\n"
   ]
  },
  {
   "cell_type": "markdown",
   "id": "7bf8de38-a304-4a9c-a807-336de26ba58b",
   "metadata": {},
   "source": [
    "Ok, let's see how grouping our countries by clusters depending on their number of policies affect the relationship between our variables:\n",
    "\n",
    "- Create a scatter plot of 'ef_fg_bc_log' vs 'ef_fg_log', colored by the country 'cluster'. What do you observe?"
   ]
  },
  {
   "cell_type": "code",
   "execution_count": null,
   "id": "0c89c81a-640b-41b0-8f35-32f0e10e32bf",
   "metadata": {
    "tags": []
   },
   "outputs": [],
   "source": [
    "# Your code here...\n"
   ]
  },
  {
   "cell_type": "markdown",
   "id": "8b137c4f-073e-4129-8e5f-91f8260df86a",
   "metadata": {},
   "source": [
    "Well... It does not seem like we uncovered some secret relationships... That's a pity, but it does not mean we should give up now! As previously discussed, we may need more data, e.g., GDP, temperature anomalies instead of SST anomalies, to take into consideration the time dimension... Hence, now would be a good time to reflect on what we accomplished so far, check again the documentation to make sure we properly understood our variables, and question if our choices were appropriate."
   ]
  },
  {
   "cell_type": "markdown",
   "id": "4d04fd36-3fe1-4b93-bb63-0268ef174743",
   "metadata": {
    "tags": []
   },
   "source": [
    "## Tasting the new recipe <a name=\"tasting-ingredients\"></a>\n",
    "\n",
    "<img src='https://i.postimg.cc/13xSdFjc/naruto-ramen.jpg' width=\"250\">"
   ]
  },
  {
   "cell_type": "markdown",
   "id": "d18e2534-e9f8-484d-b161-0acb3e26f3f6",
   "metadata": {},
   "source": [
    "It is time to reflect on our cooking experience and evaluate if our research question is worth further investigation:\n",
    "- What did we learn?\n",
    "- Did we identify some interesting patterns in our data (geographic clusters, sudden change in values)?\n",
    "- Did we identify some interesting relationships between our variables?\n",
    "- Would we have all the data we need to pursue?\n",
    "- What would be problematic for a proper causal analysis? We don't need fancy statistical model yet! Remember Quentin's *First Aid Statistics* to question the causal link between variables: \n",
    "    - Is there something else? \n",
    "    - Is it the reverse? \n",
    "    - Can we extrapolate?\n",
    "\n",
    "If you completed this notebook, your deserve to enjoy a bowl of ramen while watching Quentin Gallea's Ted Talk on [How to question numbers and prevent manipulation](https://www.youtube.com/watch?v=bD1Jq6YwPk8)..."
   ]
  }
 ],
 "metadata": {
  "kernelspec": {
   "display_name": "Python 3 (ipykernel)",
   "language": "python",
   "name": "python3"
  },
  "language_info": {
   "codemirror_mode": {
    "name": "ipython",
    "version": 3
   },
   "file_extension": ".py",
   "mimetype": "text/x-python",
   "name": "python",
   "nbconvert_exporter": "python",
   "pygments_lexer": "ipython3",
   "version": "3.11.3"
  }
 },
 "nbformat": 4,
 "nbformat_minor": 5
}
